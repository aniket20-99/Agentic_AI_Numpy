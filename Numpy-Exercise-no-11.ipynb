{
 "cells": [
  {
   "cell_type": "markdown",
   "id": "a9605a2c-c89e-4c20-b2a6-cb3a332539a3",
   "metadata": {},
   "source": [
    "# Set routines"
   ]
  },
  {
   "cell_type": "code",
   "execution_count": 1,
   "id": "cfbd196e-92df-44ca-b386-047c2a6c8e67",
   "metadata": {},
   "outputs": [],
   "source": [
    "import numpy as np"
   ]
  },
  {
   "cell_type": "code",
   "execution_count": 2,
   "id": "1c346ac3-1480-463f-919c-1264a39b0c89",
   "metadata": {},
   "outputs": [
    {
     "data": {
      "text/plain": [
       "'2.2.5'"
      ]
     },
     "execution_count": 2,
     "metadata": {},
     "output_type": "execute_result"
    }
   ],
   "source": [
    "np.__version__"
   ]
  },
  {
   "cell_type": "markdown",
   "id": "5d4bae41-ab27-4ccb-9379-643b2a0fd7c3",
   "metadata": {},
   "source": [
    "# Making Proper sets"
   ]
  },
  {
   "cell_type": "markdown",
   "id": "4256fa66-3cfb-445c-bf02-3d016dc39b82",
   "metadata": {},
   "source": [
    "### Q1. Get unique elements and reconstruction indices from x. And reconstruct x."
   ]
  },
  {
   "cell_type": "code",
   "execution_count": 4,
   "id": "a3b995d7-fe63-498b-b931-3f872cafdb9c",
   "metadata": {},
   "outputs": [
    {
     "name": "stdout",
     "output_type": "stream",
     "text": [
      "unique Elements: [1 2 3 6]\n",
      "Reconstruction indices: [0 1 3 1 2 1]\n",
      "reconstructed: [1 2 6 2 3 2]\n"
     ]
    }
   ],
   "source": [
    "x = np.array([1,2,6,2,3,2])\n",
    "uniq, indices = np.unique(x,return_inverse=True)\n",
    "print(\"unique Elements:\",uniq)\n",
    "print(\"Reconstruction indices:\",indices)\n",
    "print(\"reconstructed:\",uniq[indices])"
   ]
  },
  {
   "cell_type": "markdown",
   "id": "7b13baf0-9124-439c-a398-12a8e177101c",
   "metadata": {},
   "source": [
    "# Boolean operations"
   ]
  },
  {
   "cell_type": "markdown",
   "id": "cb1ba2b7-4dad-4e70-a849-c0cce4bcd289",
   "metadata": {},
   "source": [
    "### Q2. Create a boolean array of the same shape as x. If each element of x is present in y, the result will be True, otherwise False."
   ]
  },
  {
   "cell_type": "code",
   "execution_count": 7,
   "id": "d965f8d9-75b7-4975-918e-f10ce87d5424",
   "metadata": {},
   "outputs": [
    {
     "name": "stdout",
     "output_type": "stream",
     "text": [
      "[ True  True False False  True]\n"
     ]
    }
   ],
   "source": [
    "x = np.array([0,1,2,5,0])\n",
    "y = np.array([0,1])\n",
    "print(np.isin(x,y))"
   ]
  },
  {
   "cell_type": "markdown",
   "id": "c9a2166e-16ac-44d6-aaa9-05dc8fddb75a",
   "metadata": {},
   "source": [
    "### Q3. Find the unique intersection of x and y."
   ]
  },
  {
   "cell_type": "code",
   "execution_count": 8,
   "id": "c8c9d76e-b3bc-4116-ab93-e29c7b35a28b",
   "metadata": {},
   "outputs": [
    {
     "name": "stdout",
     "output_type": "stream",
     "text": [
      "[0 1]\n"
     ]
    }
   ],
   "source": [
    "x = np.array([0,1,2,5,0])\n",
    "y = np.array([0,1,4])\n",
    "\n",
    "print(np.intersect1d(x,y))"
   ]
  },
  {
   "cell_type": "markdown",
   "id": "12cf2e22-63b9-4198-ae10-94b77bc85851",
   "metadata": {},
   "source": [
    "### Q4. Find the unique elements of x that are not present in y."
   ]
  },
  {
   "cell_type": "code",
   "execution_count": 9,
   "id": "54b9edd9-b1b9-46a1-a978-8e98471e86fd",
   "metadata": {},
   "outputs": [
    {
     "name": "stdout",
     "output_type": "stream",
     "text": [
      "[2 5]\n"
     ]
    }
   ],
   "source": [
    "x = np.array([0,1,2,5,0])\n",
    "y = np.array([0,1,4])\n",
    "\n",
    "print(np.setdiff1d(x,y))"
   ]
  },
  {
   "cell_type": "markdown",
   "id": "9bde343c-9a4d-438e-b894-afa816d704fa",
   "metadata": {},
   "source": [
    "### Q5. Find the xor elements of x and y."
   ]
  },
  {
   "cell_type": "code",
   "execution_count": 11,
   "id": "7cc9fe8b-ba22-4817-8254-1acffebb71fe",
   "metadata": {},
   "outputs": [
    {
     "name": "stdout",
     "output_type": "stream",
     "text": [
      "[2 4 5]\n",
      "[2 4 5]\n"
     ]
    }
   ],
   "source": [
    "x = np.array([0,1,2,5,0])\n",
    "y = np.array([0,1,4])\n",
    "\n",
    "mthd1 = np.setxor1d(x,y)\n",
    "mthd2 = np.sort(np.concatenate((np.setdiff1d(x,y),np.setdiff1d(y,x))))\n",
    "assert np.allclose(mthd1,mthd2)\n",
    "\n",
    "print(mthd1)\n",
    "print(mthd2)"
   ]
  },
  {
   "cell_type": "markdown",
   "id": "ed6300e5-ffed-4ae9-bc3a-f8422a57adfe",
   "metadata": {},
   "source": [
    "### Q6. Find the union of x and y."
   ]
  },
  {
   "cell_type": "code",
   "execution_count": 12,
   "id": "232da806-3364-4852-aebf-b686f3b1499c",
   "metadata": {},
   "outputs": [
    {
     "name": "stdout",
     "output_type": "stream",
     "text": [
      "[0 1 2 4 5]\n",
      "[0 1 2 4 5]\n"
     ]
    }
   ],
   "source": [
    "x = np.array([0,1,2,5,0])\n",
    "y = np.array([0,1,4])\n",
    "\n",
    "mthd1 = np.union1d(x,y)\n",
    "mthd2 = np.sort(np.unique(np.concatenate((x,y))))\n",
    "assert np.allclose(mthd1,mthd2)\n",
    "\n",
    "print(mthd1)\n",
    "print(mthd2)"
   ]
  },
  {
   "cell_type": "code",
   "execution_count": null,
   "id": "a07e7c38-43d8-4ace-a993-90823ed68dbb",
   "metadata": {},
   "outputs": [],
   "source": []
  }
 ],
 "metadata": {
  "kernelspec": {
   "display_name": "Python 3 (ipykernel)",
   "language": "python",
   "name": "python3"
  },
  "language_info": {
   "codemirror_mode": {
    "name": "ipython",
    "version": 3
   },
   "file_extension": ".py",
   "mimetype": "text/x-python",
   "name": "python",
   "nbconvert_exporter": "python",
   "pygments_lexer": "ipython3",
   "version": "3.13.3"
  }
 },
 "nbformat": 4,
 "nbformat_minor": 5
}

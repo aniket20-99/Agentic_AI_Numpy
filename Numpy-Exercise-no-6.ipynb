{
 "cells": [
  {
   "cell_type": "code",
   "execution_count": 1,
   "id": "5a8be6c0-c243-43e1-9bd9-5abc85133fda",
   "metadata": {},
   "outputs": [],
   "source": [
    "import numpy as np"
   ]
  },
  {
   "cell_type": "code",
   "execution_count": 2,
   "id": "370a7fbf-4b52-45f4-b14f-af73085dfd33",
   "metadata": {},
   "outputs": [
    {
     "data": {
      "text/plain": [
       "'1.26.3'"
      ]
     },
     "execution_count": 2,
     "metadata": {},
     "output_type": "execute_result"
    }
   ],
   "source": [
    "np.__version__"
   ]
  },
  {
   "cell_type": "markdown",
   "id": "e34d106b-42a6-4182-8d42-8b3a969f9703",
   "metadata": {},
   "source": [
    "# Matrix and vector products"
   ]
  },
  {
   "cell_type": "markdown",
   "id": "aa311c40-ae83-44e0-91dc-57453b9fb028",
   "metadata": {},
   "source": [
    "### Q1. Predict the results of the following code."
   ]
  },
  {
   "cell_type": "code",
   "execution_count": 6,
   "id": "17ba74ad-79a0-42e2-a561-2fca49cb0966",
   "metadata": {},
   "outputs": [
    {
     "name": "stdout",
     "output_type": "stream",
     "text": [
      "[8 5]\n",
      "[6 6]\n",
      "[8 5]\n",
      "[6 6]\n",
      "[6 6]\n"
     ]
    }
   ],
   "source": [
    "x = [1,2]\n",
    "y = [[4,1],[2,2]]\n",
    "print(np.dot(x,y))\n",
    "print(np.dot(y,x))\n",
    "print(np.matmul(x,y))\n",
    "print(np.inner(x,y))\n",
    "print(np.inner(y,x))"
   ]
  },
  {
   "cell_type": "markdown",
   "id": "2367d4f1-f013-4779-871f-afbb69366e90",
   "metadata": {},
   "source": [
    "### Q2. Predict the results of the following code."
   ]
  },
  {
   "cell_type": "code",
   "execution_count": 7,
   "id": "67f19597-248e-4f80-946a-a4fd4bb0b4b8",
   "metadata": {},
   "outputs": [
    {
     "name": "stdout",
     "output_type": "stream",
     "text": [
      "[[4 1]\n",
      " [2 2]\n",
      " [1 1]]\n",
      "[[4 1]\n",
      " [2 2]\n",
      " [1 1]]\n"
     ]
    }
   ],
   "source": [
    "x = [[1,0],[0,1]]\n",
    "y = [[4,1],[2,2],[1,1]]\n",
    "\n",
    "print(np.dot(y,x))\n",
    "print(np.matmul(y,x))"
   ]
  },
  {
   "cell_type": "markdown",
   "id": "91b704ed-64eb-4296-866f-358f13ac7359",
   "metadata": {},
   "source": [
    "### Q3. Predict the results of the following code."
   ]
  },
  {
   "cell_type": "code",
   "execution_count": 11,
   "id": "dc37c0e4-73ef-485e-be84-23d450704517",
   "metadata": {},
   "outputs": [
    {
     "name": "stdout",
     "output_type": "stream",
     "text": [
      "30\n",
      "30\n",
      "30\n",
      "30\n",
      "30\n"
     ]
    }
   ],
   "source": [
    "x = np.array([[1,4],[5,6]])\n",
    "y = np.array([[4,1],[2,2]])\n",
    "\n",
    "print(np.vdot(x,y))\n",
    "print(np.vdot(y,x))\n",
    "print(np.dot(x.flatten(),y.flatten()))\n",
    "print(np.inner(x.flatten(),y.flatten()))\n",
    "print((x * y).sum())"
   ]
  },
  {
   "cell_type": "markdown",
   "id": "85dbec55-6993-49e7-8672-737420919c8e",
   "metadata": {},
   "source": [
    "### Q4. Predict the results of the following code."
   ]
  },
  {
   "cell_type": "code",
   "execution_count": 12,
   "id": "342c9259-8d7f-4b48-9f36-4db94efcb25b",
   "metadata": {},
   "outputs": [
    {
     "name": "stdout",
     "output_type": "stream",
     "text": [
      "abb\n",
      "abb\n",
      "[['a' 'aa']\n",
      " ['b' 'bb']]\n",
      "[['a' 'b']\n",
      " ['aa' 'bb']]\n"
     ]
    }
   ],
   "source": [
    "x = np.array(['a','b'],dtype = object)\n",
    "y = np.array([1,2])\n",
    "\n",
    "print(np.inner(x,y))\n",
    "print(np.inner(y,x))\n",
    "print(np.outer(x,y))\n",
    "print(np.outer(y,x))"
   ]
  },
  {
   "cell_type": "markdown",
   "id": "7d3e43fc-df3c-43a2-87cc-37bf7a69214b",
   "metadata": {},
   "source": [
    "# Decompositions"
   ]
  },
  {
   "cell_type": "markdown",
   "id": "92cade28-4339-4e72-b6b4-a34b8f3d94d8",
   "metadata": {},
   "source": [
    "### Q5. Get the lower-trianglular L in the Cholesky decomposition of x and verify it.\r\n",
    "\r\n"
   ]
  },
  {
   "cell_type": "code",
   "execution_count": 13,
   "id": "1f1a91b6-ad2c-4ed3-a2ef-9732d249fbbc",
   "metadata": {},
   "outputs": [
    {
     "name": "stdout",
     "output_type": "stream",
     "text": [
      "[[ 2.  0.  0.]\n",
      " [ 6.  1.  0.]\n",
      " [-8.  5.  3.]]\n"
     ]
    }
   ],
   "source": [
    "x = np.array([[4,12,-16],[12,37,-43],[-16,-43,98]],dtype = np.int32)\n",
    "L = np.linalg.cholesky(x)\n",
    "print(L)\n",
    "\n",
    "assert np.array_equal(np.dot(L,L.T.conjugate()),x)"
   ]
  },
  {
   "cell_type": "markdown",
   "id": "1543a75e-eb52-49d2-9b0e-6c7bbf552d9e",
   "metadata": {},
   "source": [
    "### Q6. Compute the qr factorization of x and verify it."
   ]
  },
  {
   "cell_type": "code",
   "execution_count": 15,
   "id": "be449ce8-81d2-4601-bdb1-5a9d153bd83c",
   "metadata": {},
   "outputs": [
    {
     "name": "stdout",
     "output_type": "stream",
     "text": [
      "q = \n",
      " [[-0.19611613 -0.16947544  0.9658243 ]\n",
      " [-0.5883484  -0.767624   -0.25416428]\n",
      " [ 0.78446454 -0.6180869   0.05083286]] \n",
      "r=\n",
      " [[-20.396078   -57.85426    105.31436   ]\n",
      " [  0.          -3.8580585  -24.853075  ]\n",
      " [  0.           0.           0.45749572]]\n"
     ]
    }
   ],
   "source": [
    "x = np.array([[4,12,-16],[12,37,-43],[-16,-43,98]],dtype = np.float32)\n",
    "q,r = np.linalg.qr(x)\n",
    "print(\"q = \\n\",q,\"\\nr=\\n\",r)\n",
    "assert np.allclose(np.dot(q,r),x)"
   ]
  },
  {
   "cell_type": "markdown",
   "id": "cba34b77-9aca-4184-b114-387d6c3acf4d",
   "metadata": {},
   "source": [
    "### Q7. Factor x by Singular Value Decomposition and verify it."
   ]
  },
  {
   "cell_type": "code",
   "execution_count": 20,
   "id": "fff39acf-a85c-49bd-93cd-7879f105256a",
   "metadata": {},
   "outputs": [
    {
     "name": "stdout",
     "output_type": "stream",
     "text": [
      "U=\n",
      " [[ 0.  1.  0.  0.]\n",
      " [ 1.  0.  0.  0.]\n",
      " [ 0.  0.  0. -1.]\n",
      " [ 0.  0.  1.  0.]] \n",
      "s=\n",
      " [3.       2.236068 2.       0.      ] \n",
      "V=\n",
      " [[-0.         0.         1.         0.         0.       ]\n",
      " [ 0.4472136  0.         0.         0.         0.8944272]\n",
      " [-0.         1.         0.         0.         0.       ]\n",
      " [ 0.         0.         0.         1.         0.       ]]\n"
     ]
    }
   ],
   "source": [
    "x = np.array([[1, 0, 0, 0, 2], [0, 0, 3, 0, 0], [0, 0, 0, 0, 0], [0, 2, 0, 0, 0]], dtype=np.float32)\n",
    "U, s, V = np.linalg.svd(x,full_matrices = False)\n",
    "print(\"U=\\n\", U, \"\\ns=\\n\", s, \"\\nV=\\n\", V)\n",
    "assert np.allclose(np.dot(U,np.dot(np.diag(s),V)),x)"
   ]
  },
  {
   "cell_type": "code",
   "execution_count": null,
   "id": "0d304620-3b08-48cb-8ba0-a5038a8719ac",
   "metadata": {},
   "outputs": [],
   "source": []
  }
 ],
 "metadata": {
  "kernelspec": {
   "display_name": "Python 3 (ipykernel)",
   "language": "python",
   "name": "python3"
  },
  "language_info": {
   "codemirror_mode": {
    "name": "ipython",
    "version": 3
   },
   "file_extension": ".py",
   "mimetype": "text/x-python",
   "name": "python",
   "nbconvert_exporter": "python",
   "pygments_lexer": "ipython3",
   "version": "3.11.5"
  }
 },
 "nbformat": 4,
 "nbformat_minor": 5
}

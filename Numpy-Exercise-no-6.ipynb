{
 "cells": [
  {
   "cell_type": "code",
   "execution_count": 1,
   "id": "5a8be6c0-c243-43e1-9bd9-5abc85133fda",
   "metadata": {},
   "outputs": [],
   "source": [
    "import numpy as np"
   ]
  },
  {
   "cell_type": "code",
   "execution_count": 2,
   "id": "370a7fbf-4b52-45f4-b14f-af73085dfd33",
   "metadata": {},
   "outputs": [
    {
     "data": {
      "text/plain": [
       "'1.26.3'"
      ]
     },
     "execution_count": 2,
     "metadata": {},
     "output_type": "execute_result"
    }
   ],
   "source": [
    "np.__version__"
   ]
  },
  {
   "cell_type": "markdown",
   "id": "e34d106b-42a6-4182-8d42-8b3a969f9703",
   "metadata": {},
   "source": [
    "# Matrix and vector products"
   ]
  },
  {
   "cell_type": "markdown",
   "id": "aa311c40-ae83-44e0-91dc-57453b9fb028",
   "metadata": {},
   "source": [
    "### Q1. Predict the results of the following code."
   ]
  },
  {
   "cell_type": "code",
   "execution_count": 6,
   "id": "17ba74ad-79a0-42e2-a561-2fca49cb0966",
   "metadata": {},
   "outputs": [
    {
     "name": "stdout",
     "output_type": "stream",
     "text": [
      "[8 5]\n",
      "[6 6]\n",
      "[8 5]\n",
      "[6 6]\n",
      "[6 6]\n"
     ]
    }
   ],
   "source": [
    "x = [1,2]\n",
    "y = [[4,1],[2,2]]\n",
    "print(np.dot(x,y))\n",
    "print(np.dot(y,x))\n",
    "print(np.matmul(x,y))\n",
    "print(np.inner(x,y))\n",
    "print(np.inner(y,x))"
   ]
  },
  {
   "cell_type": "markdown",
   "id": "2367d4f1-f013-4779-871f-afbb69366e90",
   "metadata": {},
   "source": [
    "### Q2. Predict the results of the following code."
   ]
  },
  {
   "cell_type": "code",
   "execution_count": 7,
   "id": "67f19597-248e-4f80-946a-a4fd4bb0b4b8",
   "metadata": {},
   "outputs": [
    {
     "name": "stdout",
     "output_type": "stream",
     "text": [
      "[[4 1]\n",
      " [2 2]\n",
      " [1 1]]\n",
      "[[4 1]\n",
      " [2 2]\n",
      " [1 1]]\n"
     ]
    }
   ],
   "source": [
    "x = [[1,0],[0,1]]\n",
    "y = [[4,1],[2,2],[1,1]]\n",
    "\n",
    "print(np.dot(y,x))\n",
    "print(np.matmul(y,x))"
   ]
  },
  {
   "cell_type": "markdown",
   "id": "91b704ed-64eb-4296-866f-358f13ac7359",
   "metadata": {},
   "source": [
    "### Q3. Predict the results of the following code."
   ]
  },
  {
   "cell_type": "code",
   "execution_count": 11,
   "id": "dc37c0e4-73ef-485e-be84-23d450704517",
   "metadata": {},
   "outputs": [
    {
     "name": "stdout",
     "output_type": "stream",
     "text": [
      "30\n",
      "30\n",
      "30\n",
      "30\n",
      "30\n"
     ]
    }
   ],
   "source": [
    "x = np.array([[1,4],[5,6]])\n",
    "y = np.array([[4,1],[2,2]])\n",
    "\n",
    "print(np.vdot(x,y))\n",
    "print(np.vdot(y,x))\n",
    "print(np.dot(x.flatten(),y.flatten()))\n",
    "print(np.inner(x.flatten(),y.flatten()))\n",
    "print((x * y).sum())"
   ]
  },
  {
   "cell_type": "markdown",
   "id": "85dbec55-6993-49e7-8672-737420919c8e",
   "metadata": {},
   "source": [
    "### Q4. Predict the results of the following code."
   ]
  },
  {
   "cell_type": "code",
   "execution_count": 12,
   "id": "342c9259-8d7f-4b48-9f36-4db94efcb25b",
   "metadata": {},
   "outputs": [
    {
     "name": "stdout",
     "output_type": "stream",
     "text": [
      "abb\n",
      "abb\n",
      "[['a' 'aa']\n",
      " ['b' 'bb']]\n",
      "[['a' 'b']\n",
      " ['aa' 'bb']]\n"
     ]
    }
   ],
   "source": [
    "x = np.array(['a','b'],dtype = object)\n",
    "y = np.array([1,2])\n",
    "\n",
    "print(np.inner(x,y))\n",
    "print(np.inner(y,x))\n",
    "print(np.outer(x,y))\n",
    "print(np.outer(y,x))"
   ]
  },
  {
   "cell_type": "markdown",
   "id": "7d3e43fc-df3c-43a2-87cc-37bf7a69214b",
   "metadata": {},
   "source": [
    "# Decompositions"
   ]
  },
  {
   "cell_type": "markdown",
   "id": "92cade28-4339-4e72-b6b4-a34b8f3d94d8",
   "metadata": {},
   "source": [
    "### Q5. Get the lower-trianglular L in the Cholesky decomposition of x and verify it.\r\n",
    "\r\n"
   ]
  },
  {
   "cell_type": "code",
   "execution_count": 13,
   "id": "1f1a91b6-ad2c-4ed3-a2ef-9732d249fbbc",
   "metadata": {},
   "outputs": [
    {
     "name": "stdout",
     "output_type": "stream",
     "text": [
      "[[ 2.  0.  0.]\n",
      " [ 6.  1.  0.]\n",
      " [-8.  5.  3.]]\n"
     ]
    }
   ],
   "source": [
    "x = np.array([[4,12,-16],[12,37,-43],[-16,-43,98]],dtype = np.int32)\n",
    "L = np.linalg.cholesky(x)\n",
    "print(L)\n",
    "\n",
    "assert np.array_equal(np.dot(L,L.T.conjugate()),x)"
   ]
  },
  {
   "cell_type": "markdown",
   "id": "1543a75e-eb52-49d2-9b0e-6c7bbf552d9e",
   "metadata": {},
   "source": [
    "### Q6. Compute the qr factorization of x and verify it."
   ]
  },
  {
   "cell_type": "code",
   "execution_count": 15,
   "id": "be449ce8-81d2-4601-bdb1-5a9d153bd83c",
   "metadata": {},
   "outputs": [
    {
     "name": "stdout",
     "output_type": "stream",
     "text": [
      "q = \n",
      " [[-0.19611613 -0.16947544  0.9658243 ]\n",
      " [-0.5883484  -0.767624   -0.25416428]\n",
      " [ 0.78446454 -0.6180869   0.05083286]] \n",
      "r=\n",
      " [[-20.396078   -57.85426    105.31436   ]\n",
      " [  0.          -3.8580585  -24.853075  ]\n",
      " [  0.           0.           0.45749572]]\n"
     ]
    }
   ],
   "source": [
    "x = np.array([[4,12,-16],[12,37,-43],[-16,-43,98]],dtype = np.float32)\n",
    "q,r = np.linalg.qr(x)\n",
    "print(\"q = \\n\",q,\"\\nr=\\n\",r)\n",
    "assert np.allclose(np.dot(q,r),x)"
   ]
  },
  {
   "cell_type": "markdown",
   "id": "cba34b77-9aca-4184-b114-387d6c3acf4d",
   "metadata": {},
   "source": [
    "### Q7. Factor x by Singular Value Decomposition and verify it."
   ]
  },
  {
   "cell_type": "code",
   "execution_count": 20,
   "id": "fff39acf-a85c-49bd-93cd-7879f105256a",
   "metadata": {},
   "outputs": [
    {
     "name": "stdout",
     "output_type": "stream",
     "text": [
      "U=\n",
      " [[ 0.  1.  0.  0.]\n",
      " [ 1.  0.  0.  0.]\n",
      " [ 0.  0.  0. -1.]\n",
      " [ 0.  0.  1.  0.]] \n",
      "s=\n",
      " [3.       2.236068 2.       0.      ] \n",
      "V=\n",
      " [[-0.         0.         1.         0.         0.       ]\n",
      " [ 0.4472136  0.         0.         0.         0.8944272]\n",
      " [-0.         1.         0.         0.         0.       ]\n",
      " [ 0.         0.         0.         1.         0.       ]]\n"
     ]
    }
   ],
   "source": [
    "x = np.array([[1, 0, 0, 0, 2], [0, 0, 3, 0, 0], [0, 0, 0, 0, 0], [0, 2, 0, 0, 0]], dtype=np.float32)\n",
    "U, s, V = np.linalg.svd(x,full_matrices = False)\n",
    "print(\"U=\\n\", U, \"\\ns=\\n\", s, \"\\nV=\\n\", V)\n",
    "assert np.allclose(np.dot(U,np.dot(np.diag(s),V)),x)"
   ]
  },
  {
   "cell_type": "markdown",
   "id": "bff53b41-68f5-4d38-9e44-8a4a3acf8937",
   "metadata": {},
   "source": [
    "# Matrix eigenvalues"
   ]
  },
  {
   "cell_type": "markdown",
   "id": "8586096a-3947-4f9d-b4dd-22323461e13e",
   "metadata": {},
   "source": [
    "### Q8. Compute the eigenvalues and right eigenvectors of x. (Name them eigenvals and eigenvecs, respectively)"
   ]
  },
  {
   "cell_type": "code",
   "execution_count": 21,
   "id": "3341353c-ff9f-42da-aa71-f0f4a559a464",
   "metadata": {},
   "outputs": [
    {
     "name": "stdout",
     "output_type": "stream",
     "text": [
      "eigenvalues are\n",
      " [1. 2. 3.]\n",
      "eigenvectors are\n",
      " [[1. 0. 0.]\n",
      " [0. 1. 0.]\n",
      " [0. 0. 1.]]\n"
     ]
    }
   ],
   "source": [
    "x = np.diag((1,2,3))\n",
    "eigenvals = np.linalg.eig(x)[0]\n",
    "eigenvals_ = np.linalg.eigvals(x)\n",
    "assert np.array_equal(eigenvals,eigenvals_)\n",
    "print(\"eigenvalues are\\n\",eigenvals)\n",
    "\n",
    "eigenvecs = np.linalg.eig(x)[1]\n",
    "print(\"eigenvectors are\\n\",eigenvecs)"
   ]
  },
  {
   "cell_type": "markdown",
   "id": "99f034a7-09cf-4649-bbfd-b709a126e65c",
   "metadata": {},
   "source": [
    "### Q9. Predict the results of the following code.\n",
    "\n"
   ]
  },
  {
   "cell_type": "code",
   "execution_count": 23,
   "id": "76946865-f67e-4bd1-b342-cfca6a30eafa",
   "metadata": {},
   "outputs": [
    {
     "name": "stdout",
     "output_type": "stream",
     "text": [
      "True\n"
     ]
    }
   ],
   "source": [
    "print(np.array_equal(np.dot(x, eigenvecs), eigenvals * eigenvecs))"
   ]
  },
  {
   "cell_type": "markdown",
   "id": "d9eb3384-eeef-4615-9259-eb5bdcc5727f",
   "metadata": {},
   "source": [
    "# Norms and other numbers"
   ]
  },
  {
   "cell_type": "markdown",
   "id": "7515c52b-d5c1-474f-a019-551cd5c784b3",
   "metadata": {},
   "source": [
    "### Q10. Calculate the Frobenius norm and the condition number of x."
   ]
  },
  {
   "cell_type": "code",
   "execution_count": 24,
   "id": "2e47e802-0bcc-470a-bcf2-594854497b74",
   "metadata": {},
   "outputs": [
    {
     "name": "stdout",
     "output_type": "stream",
     "text": [
      "16.881943016134134\n",
      "3.193239515623568e+17\n"
     ]
    }
   ],
   "source": [
    "x = np.arange(1,10).reshape((3,3))\n",
    "print(np.linalg.norm(x,'fro'))\n",
    "print(np.linalg.cond(x,'fro'))"
   ]
  },
  {
   "cell_type": "markdown",
   "id": "4589dd34-34d4-48a8-a825-4c7d0d3b75c1",
   "metadata": {},
   "source": [
    "### Q11. Calculate the determinant of x."
   ]
  },
  {
   "cell_type": "code",
   "execution_count": 27,
   "id": "432285a0-2ec4-4b7d-9bfb-5e7728327dc2",
   "metadata": {},
   "outputs": [
    {
     "name": "stdout",
     "output_type": "stream",
     "text": [
      "-2.0000000000000004\n",
      "-2\n"
     ]
    }
   ],
   "source": [
    "x = np.arange(1,5).reshape((2,2))\n",
    "det1 = np.linalg.det(x)\n",
    "det2 = x[0,0] * x[1,1] - x[0,1] * x[1,0]\n",
    "\n",
    "assert np.allclose(det1,det2)\n",
    "print(det1)\n",
    "print(det2)"
   ]
  },
  {
   "cell_type": "markdown",
   "id": "6482d7f6-cfc4-4b5b-98be-580be3e08116",
   "metadata": {},
   "source": [
    "### Q12. Calculate the rank of x."
   ]
  },
  {
   "cell_type": "code",
   "execution_count": 29,
   "id": "05bd2e82-a973-4df2-9a47-d256ad07467e",
   "metadata": {},
   "outputs": [
    {
     "name": "stdout",
     "output_type": "stream",
     "text": [
      "4\n",
      "4\n"
     ]
    }
   ],
   "source": [
    "x = np.eye(4)\n",
    "rank1 = np.linalg.matrix_rank(x)\n",
    "rank2 = np.linalg.svd(x)[1].size\n",
    "\n",
    "assert rank1 == rank2\n",
    "print(rank1)\n",
    "print(rank2)"
   ]
  },
  {
   "cell_type": "markdown",
   "id": "366b9625-4ee7-44eb-9caa-274717e7d9bd",
   "metadata": {},
   "source": [
    "### Q13. Compute the sign and natural logarithm of the determinant of x."
   ]
  },
  {
   "cell_type": "code",
   "execution_count": 33,
   "id": "eadbe14a-8ae4-4fb6-be7b-a1bbd52f2de8",
   "metadata": {},
   "outputs": [
    {
     "name": "stdout",
     "output_type": "stream",
     "text": [
      "-1.0 \n",
      " 0.6931471805599455\n"
     ]
    }
   ],
   "source": [
    "x = np.arange(1,5).reshape((2,2))\n",
    "sign,logdet = np.linalg.slogdet(x)\n",
    "det = np.linalg.det(x)\n",
    "assert sign == np.sign(det)\n",
    "assert logdet == np.log(np.abs(det))\n",
    "print(sign,\"\\n\",logdet)"
   ]
  },
  {
   "cell_type": "markdown",
   "id": "adb7f26f-e6fa-46c0-affe-e15c58598ec9",
   "metadata": {},
   "source": [
    "### Q14. Return the sum along the diagonal of x."
   ]
  },
  {
   "cell_type": "code",
   "execution_count": 35,
   "id": "569c2bd6-3a4c-4116-b0ca-dbda940ccc87",
   "metadata": {},
   "outputs": [
    {
     "name": "stdout",
     "output_type": "stream",
     "text": [
      "4.0 \n",
      " 4.0\n"
     ]
    }
   ],
   "source": [
    "x = np.eye(4)\n",
    "diag1 = np.trace(x)\n",
    "diag2 = x.diagonal().sum()\n",
    "\n",
    "assert diag1 == diag2\n",
    "print(diag1,\"\\n\",diag2)"
   ]
  },
  {
   "cell_type": "markdown",
   "id": "02e3aa8f-07f6-4a48-b617-19fdb4527fa7",
   "metadata": {},
   "source": [
    "# Solving equations and inverting matrices"
   ]
  },
  {
   "cell_type": "markdown",
   "id": "ca6128ea-b9cf-462d-9f57-a3cf0e6bcd4d",
   "metadata": {},
   "source": [
    "### Q15. Compute the inverse of x."
   ]
  },
  {
   "cell_type": "code",
   "execution_count": 37,
   "id": "0ca0c7cb-6ad6-4d23-bf1c-a99a9dfff466",
   "metadata": {},
   "outputs": [
    {
     "name": "stdout",
     "output_type": "stream",
     "text": [
      "[[-2.   1. ]\n",
      " [ 1.5 -0.5]]\n"
     ]
    }
   ],
   "source": [
    "x = np.array([[1.,2.],[3.,4.]])\n",
    "inv1 = np.linalg.inv(x)\n",
    "assert np.allclose(np.dot(x,inv1),np.eye(2))\n",
    "print(inv1)"
   ]
  },
  {
   "cell_type": "code",
   "execution_count": null,
   "id": "ea1973d7-cb05-4d8e-a2a1-2b9a623fc6b8",
   "metadata": {},
   "outputs": [],
   "source": []
  }
 ],
 "metadata": {
  "kernelspec": {
   "display_name": "Python 3 (ipykernel)",
   "language": "python",
   "name": "python3"
  },
  "language_info": {
   "codemirror_mode": {
    "name": "ipython",
    "version": 3
   },
   "file_extension": ".py",
   "mimetype": "text/x-python",
   "name": "python",
   "nbconvert_exporter": "python",
   "pygments_lexer": "ipython3",
   "version": "3.11.5"
  }
 },
 "nbformat": 4,
 "nbformat_minor": 5
}

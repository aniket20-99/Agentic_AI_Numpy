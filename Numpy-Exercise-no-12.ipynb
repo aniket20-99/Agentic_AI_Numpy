{
 "cells": [
  {
   "cell_type": "markdown",
   "id": "2e15125b-9b29-4ab8-8e33-cb4463b7f250",
   "metadata": {},
   "source": [
    "# Sorting, searching, and counting"
   ]
  },
  {
   "cell_type": "code",
   "execution_count": 1,
   "id": "25ffd970-4b70-453d-a73c-5ad932d44a1d",
   "metadata": {},
   "outputs": [],
   "source": [
    "import numpy as np"
   ]
  },
  {
   "cell_type": "code",
   "execution_count": 2,
   "id": "d6656fdf-48f8-41c0-bfec-302fa4caa5df",
   "metadata": {},
   "outputs": [
    {
     "data": {
      "text/plain": [
       "'2.2.5'"
      ]
     },
     "execution_count": 2,
     "metadata": {},
     "output_type": "execute_result"
    }
   ],
   "source": [
    "np.__version__"
   ]
  },
  {
   "cell_type": "markdown",
   "id": "d9ce8e91-f21e-492e-ae2e-63fb6ba527b3",
   "metadata": {},
   "source": [
    "# Sorting"
   ]
  },
  {
   "cell_type": "markdown",
   "id": "fbb480ae-1469-4e4e-b60d-0d322929437c",
   "metadata": {},
   "source": [
    "### Q1. Sort x along the second axis."
   ]
  },
  {
   "cell_type": "code",
   "execution_count": 3,
   "id": "5121fc6a-eb2d-4a12-b2a1-9c5f4580ce00",
   "metadata": {},
   "outputs": [
    {
     "name": "stdout",
     "output_type": "stream",
     "text": [
      "[[1 4]\n",
      " [1 3]]\n"
     ]
    }
   ],
   "source": [
    "x = np.array([[1,4],[3,1]])\n",
    "Sort = np.sort(x,axis = 1)\n",
    "x.sort(axis = 1)\n",
    "\n",
    "assert np.array_equal(Sort,x)\n",
    "\n",
    "print(Sort)"
   ]
  },
  {
   "cell_type": "markdown",
   "id": "5ca8e965-19f5-4880-ac42-56cef4c36608",
   "metadata": {},
   "source": [
    "### Q2. Sort pairs of surnames and first names and return their indices. (first by surname, then by name)."
   ]
  },
  {
   "cell_type": "code",
   "execution_count": 4,
   "id": "36767f2f-b00d-4d3f-978c-be64e7960abd",
   "metadata": {},
   "outputs": [
    {
     "name": "stdout",
     "output_type": "stream",
     "text": [
      "[2 0 1]\n"
     ]
    }
   ],
   "source": [
    "surname = ('Kohli','sharma','Bumrah')\n",
    "first_name = ('Virat','Rohit','Jasprit')\n",
    "\n",
    "print(np.lexsort((first_name,surname)))"
   ]
  },
  {
   "cell_type": "markdown",
   "id": "332b47e0-ab01-4f27-89a8-afccdef2b548",
   "metadata": {},
   "source": [
    "### Q3. Get the indices that would sort x along the second axis."
   ]
  },
  {
   "cell_type": "code",
   "execution_count": 6,
   "id": "a8e9272e-dcb7-4929-9a9e-3940b2f6cf46",
   "metadata": {},
   "outputs": [
    {
     "name": "stdout",
     "output_type": "stream",
     "text": [
      "[[0 1]\n",
      " [1 0]]\n"
     ]
    }
   ],
   "source": [
    "x = np.array([[1,4],[3,1]])\n",
    "Sort = np.argsort(x,axis = 1)\n",
    "\n",
    "print(Sort)"
   ]
  },
  {
   "cell_type": "markdown",
   "id": "8a6f285b-074a-4267-b996-a0faaee72610",
   "metadata": {},
   "source": [
    "### Q4. Create an array such that its fifth element would be the same as the element of sorted x, and it divide other elements by their value."
   ]
  },
  {
   "cell_type": "code",
   "execution_count": 11,
   "id": "9b558d7b-572c-4c2d-8605-aa51c751aecf",
   "metadata": {},
   "outputs": [
    {
     "name": "stdout",
     "output_type": "stream",
     "text": [
      "x: [8 9 1 7 2 0 4 3 5 6]\n",
      "[0 1 2 3 4 5 6 7 8 9]\n"
     ]
    }
   ],
   "source": [
    "x = np.random.permutation(10)\n",
    "print(\"x:\",x)\n",
    "part = np.partition(x,5)\n",
    "\n",
    "x.partition(5)\n",
    "\n",
    "assert np.array_equal(x,part)\n",
    "print(part)"
   ]
  },
  {
   "cell_type": "markdown",
   "id": "4a3fe176-213a-4aa1-921f-01ed09b3770c",
   "metadata": {},
   "source": [
    "### Q5. Create the indices of an array such that its third element would be the same as the element of sorted x, and it divide other elements by their value."
   ]
  },
  {
   "cell_type": "code",
   "execution_count": 16,
   "id": "9a75cfff-c8ec-42ae-a2d9-6e4cf0f6e93c",
   "metadata": {},
   "outputs": [
    {
     "name": "stdout",
     "output_type": "stream",
     "text": [
      "x: [7 6 1 5 8 9 4 0 2 3]\n",
      "partitioned [0 1 2 3 4 5 6 7 8 9]\n",
      "Indices: [7 2 8 9 6 3 1 0 4 5]\n"
     ]
    }
   ],
   "source": [
    "x = np.random.permutation(10)\n",
    "print(\"x:\",x)\n",
    "\n",
    "part = np.partition(x,3)\n",
    "indices = np.argpartition(x,3)\n",
    "print(\"partitioned\",part)\n",
    "print(\"Indices:\",indices)\n"
   ]
  },
  {
   "cell_type": "markdown",
   "id": "897c5bcf-791c-4f47-99aa-b7a9d25fc49d",
   "metadata": {},
   "source": [
    "# Searching "
   ]
  },
  {
   "cell_type": "markdown",
   "id": "73b9b9e9-1911-45b3-9ff3-f72a8e343449",
   "metadata": {},
   "source": [
    "### Q6. Get the maximum and minimum values and their indices of x along the second axis."
   ]
  },
  {
   "cell_type": "code",
   "execution_count": 17,
   "id": "bdcaf7f9-7e81-4622-a094-ecd8011344e6",
   "metadata": {},
   "outputs": [
    {
     "name": "stdout",
     "output_type": "stream",
     "text": [
      "x: [[8 7 5 6 4]\n",
      " [0 3 2 1 9]]\n",
      "Maximum value: [8 9]\n",
      "Max indices: [0 4]\n",
      "Minimum value [4 0]\n",
      "Min indices: [4 0]\n"
     ]
    }
   ],
   "source": [
    "x = np.random.permutation(10).reshape(2,5)\n",
    "print(\"x:\",x)\n",
    "print(\"Maximum value:\",np.max(x,1))\n",
    "print(\"Max indices:\",np.argmax(x,1))\n",
    "\n",
    "print(\"Minimum value\",np.min(x,1))\n",
    "print(\"Min indices:\",np.argmin(x,1))"
   ]
  },
  {
   "cell_type": "markdown",
   "id": "5dd80f88-213c-480a-a517-46bfdf029858",
   "metadata": {},
   "source": [
    "### Q7. Get the maximum and minimum values and their indices of x along the second axis, ignoring NaNs.\n",
    "\n"
   ]
  },
  {
   "cell_type": "code",
   "execution_count": 18,
   "id": "ecf7a7bc-a30f-41a1-87f1-aaf5bcbd7a66",
   "metadata": {},
   "outputs": [
    {
     "name": "stdout",
     "output_type": "stream",
     "text": [
      "max_values ignoring NaNs : [4. 3.]\n",
      "max indices: [1 0]\n",
      "min_values ignoring NaNs: [4. 2.]\n",
      "min_indices [1 1]\n"
     ]
    }
   ],
   "source": [
    "x = np.array([[np.nan,4],[3,2]])\n",
    "print(\"max_values ignoring NaNs :\", np.nanmax(x,1))\n",
    "print(\"max indices:\",np.nanargmax(x,1))\n",
    "print(\"min_values ignoring NaNs:\",np.nanmin(x,1))\n",
    "print(\"min_indices\",np.nanargmin(x,1))"
   ]
  },
  {
   "cell_type": "markdown",
   "id": "a3baad76-4ded-4208-bd3a-b72c630040f1",
   "metadata": {},
   "source": [
    "### Q8. Get the values and indices of the elements that are bigger than 2 in x."
   ]
  },
  {
   "cell_type": "code",
   "execution_count": 19,
   "id": "2bba4092-88dc-46b0-a390-5fddf6da08bc",
   "metadata": {},
   "outputs": [
    {
     "name": "stdout",
     "output_type": "stream",
     "text": [
      "Values bigger than 2: [3 3 5]\n",
      "Indices: (array([0, 1, 1]), array([2, 1, 2]))\n"
     ]
    }
   ],
   "source": [
    "x = np.array([[1,2,3],[1,3,5]])\n",
    "print(\"Values bigger than 2:\",x[x>2])\n",
    "print(\"Indices:\",np.nonzero(x>2))"
   ]
  },
  {
   "cell_type": "markdown",
   "id": "c6b672b8-f312-4e35-b5e0-8f0b97dc46f7",
   "metadata": {},
   "source": [
    "### Q9. Get the indices of the elements that are bigger than 2 in the flattend x."
   ]
  },
  {
   "cell_type": "code",
   "execution_count": 20,
   "id": "5c02a7fd-4742-44aa-bdbf-dbd0f6acd5f3",
   "metadata": {},
   "outputs": [
    {
     "name": "stdout",
     "output_type": "stream",
     "text": [
      "[2 4 5]\n"
     ]
    }
   ],
   "source": [
    "x = np.array([[1,2,3],[1,3,5]])\n",
    "print(np.flatnonzero(x>2))\n"
   ]
  },
  {
   "cell_type": "markdown",
   "id": "409807fb-3e59-4c90-914b-88c9aa9e6fe9",
   "metadata": {},
   "source": [
    "### Q10. Check the elements of x and return 0 if it is less than 0, otherwise the element itself."
   ]
  },
  {
   "cell_type": "code",
   "execution_count": 22,
   "id": "ab023483-3711-43d4-bf34-7bf46866a937",
   "metadata": {},
   "outputs": [
    {
     "name": "stdout",
     "output_type": "stream",
     "text": [
      "x: [[-5 -4 -3]\n",
      " [-2 -1  0]\n",
      " [ 1  2  3]]\n",
      "[[0 0 0]\n",
      " [0 0 0]\n",
      " [1 2 3]]\n"
     ]
    }
   ],
   "source": [
    "x = np.arange(-5,4).reshape(3,3)\n",
    "print(\"x:\",x)\n",
    "print(np.where(x < 0,0,x))"
   ]
  },
  {
   "cell_type": "markdown",
   "id": "4285d52b-6c4d-4ffa-88d8-3201287bba70",
   "metadata": {},
   "source": [
    "### Q11. Get the indices where elements of y should be inserted to x to maintain order.\n"
   ]
  },
  {
   "cell_type": "code",
   "execution_count": 23,
   "id": "bcab0953-222a-4b7e-96d1-b1e0a6c2b6cf",
   "metadata": {},
   "outputs": [
    {
     "data": {
      "text/plain": [
       "array([0, 2, 1, 3])"
      ]
     },
     "execution_count": 23,
     "metadata": {},
     "output_type": "execute_result"
    }
   ],
   "source": [
    "x = [1,3,5,7,9]\n",
    "y = [0,4,2,6]\n",
    "np.searchsorted(x,y)"
   ]
  },
  {
   "cell_type": "markdown",
   "id": "10367be0-33e9-49d9-91ec-3eabc414ee5a",
   "metadata": {},
   "source": [
    "# Counting "
   ]
  },
  {
   "cell_type": "markdown",
   "id": "13af3a1c-e739-4ce9-aa0b-2a085a2c824e",
   "metadata": {},
   "source": [
    "### Q12. Get the number of nonzero elements in x."
   ]
  },
  {
   "cell_type": "code",
   "execution_count": 29,
   "id": "7d5ac165-75f8-44d2-9160-08d7dc601c89",
   "metadata": {},
   "outputs": [
    {
     "name": "stdout",
     "output_type": "stream",
     "text": [
      "5\n"
     ]
    }
   ],
   "source": [
    "x = [[0,1,7,0,0],[3,0,0,2,19]]\n",
    "print(np.count_nonzero(x))\n",
    "assert np.count_nonzero(x) == len(x[x!=0])"
   ]
  },
  {
   "cell_type": "code",
   "execution_count": null,
   "id": "78b25b11-c178-432d-b9d3-67d03dd58ba5",
   "metadata": {},
   "outputs": [],
   "source": []
  },
  {
   "cell_type": "code",
   "execution_count": null,
   "id": "63d19842-80f8-4302-b8f6-e516565fb2b1",
   "metadata": {},
   "outputs": [],
   "source": []
  }
 ],
 "metadata": {
  "kernelspec": {
   "display_name": "Python 3 (ipykernel)",
   "language": "python",
   "name": "python3"
  },
  "language_info": {
   "codemirror_mode": {
    "name": "ipython",
    "version": 3
   },
   "file_extension": ".py",
   "mimetype": "text/x-python",
   "name": "python",
   "nbconvert_exporter": "python",
   "pygments_lexer": "ipython3",
   "version": "3.13.3"
  }
 },
 "nbformat": 4,
 "nbformat_minor": 5
}

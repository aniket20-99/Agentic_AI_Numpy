{
 "cells": [
  {
   "cell_type": "markdown",
   "id": "45a8f02f-68a4-408b-ad23-3c38d91c86e5",
   "metadata": {},
   "source": [
    "# String Operations"
   ]
  },
  {
   "cell_type": "code",
   "execution_count": 2,
   "id": "74437d7a-7954-4874-8b44-4b766d940761",
   "metadata": {},
   "outputs": [],
   "source": [
    "from __future__ import print_function\n",
    "import numpy as np"
   ]
  },
  {
   "cell_type": "code",
   "execution_count": 3,
   "id": "f0c9e7e4-9280-4329-96d3-1fa9dc9b43fa",
   "metadata": {},
   "outputs": [],
   "source": [
    "author = \"https://github.com/aniket20-99/Agentic_AI_Numpy\""
   ]
  },
  {
   "cell_type": "code",
   "execution_count": 4,
   "id": "9c0e3a5e-06a1-41fb-8a4d-c081d7ebd90e",
   "metadata": {},
   "outputs": [
    {
     "data": {
      "text/plain": [
       "'1.26.3'"
      ]
     },
     "execution_count": 4,
     "metadata": {},
     "output_type": "execute_result"
    }
   ],
   "source": [
    "np.__version__"
   ]
  },
  {
   "cell_type": "markdown",
   "id": "fa446255-4050-4dd3-9e50-af15fea4237d",
   "metadata": {},
   "source": [
    "### Q1.Concatenate x1 and x2."
   ]
  },
  {
   "cell_type": "code",
   "execution_count": 18,
   "id": "898607d6-7a1a-4eec-9fd8-9ec4007bf685",
   "metadata": {},
   "outputs": [],
   "source": [
    "x1 = np.array([\"Hello\",\"Welcome\"],dtype = str)\n",
    "x2 = np.array([\" Aniket\",\" Programming\"],dtype = str)"
   ]
  },
  {
   "cell_type": "code",
   "execution_count": 19,
   "id": "7079b0ec-fd0d-4a61-94d8-a0bcf69981c1",
   "metadata": {},
   "outputs": [
    {
     "name": "stdout",
     "output_type": "stream",
     "text": [
      "['Hello Aniket' 'Welcome Programming']\n"
     ]
    }
   ],
   "source": [
    "Add = np.char.add(x1,x2)\n",
    "print(Add)"
   ]
  },
  {
   "cell_type": "markdown",
   "id": "a6c79b8e-2a75-40d5-bca0-bb56fde5817c",
   "metadata": {},
   "source": [
    "### Q2. Repeat x three time element-wise."
   ]
  },
  {
   "cell_type": "code",
   "execution_count": 21,
   "id": "f19ba7c5-142f-4397-8786-c1022bb8aafa",
   "metadata": {},
   "outputs": [
    {
     "name": "stdout",
     "output_type": "stream",
     "text": [
      "['Hello' 'Hello' 'Hello' 'Aniket' 'Aniket' 'Aniket']\n"
     ]
    }
   ],
   "source": [
    "x = np.array([\"Hello\",\"Aniket\"],dtype = str)\n",
    "repeats = np.repeat(x,3)\n",
    "print(repeats)"
   ]
  },
  {
   "cell_type": "markdown",
   "id": "66935dc3-fd8d-45c6-be95-bf1d1542666e",
   "metadata": {},
   "source": [
    "# Q3\n",
    "* 1. Capitalize the first letter of x element-wise.\n",
    "* 2. Lowercase x element-wise.\n",
    "* 3. Uppercase x element-wise.\n",
    "* 4. Swapcase x element-wise.\n",
    "* 5. Title-case x element-wise."
   ]
  },
  {
   "cell_type": "code",
   "execution_count": 32,
   "id": "f6396911-9f21-47d8-95e8-ebdac7dd6e1e",
   "metadata": {},
   "outputs": [
    {
     "name": "stdout",
     "output_type": "stream",
     "text": [
      "capitalize :- Capitalize the first letter of x element-wise.\n"
     ]
    }
   ],
   "source": [
    "str1 = \"Capitalize The First Letter of x Element-wise.\"\n",
    "print(\"Capitalize :-\",str1.capitalize())\n"
   ]
  },
  {
   "cell_type": "code",
   "execution_count": 34,
   "id": "31c5dd41-132d-410e-b666-bd9d26a6ff8d",
   "metadata": {},
   "outputs": [
    {
     "name": "stdout",
     "output_type": "stream",
     "text": [
      "lower :- lowercase x element-wise.\n"
     ]
    }
   ],
   "source": [
    "str2 = \"LowerCase X Element-Wise.\"\n",
    "print(\"lower :-\",str2.lower())"
   ]
  },
  {
   "cell_type": "code",
   "execution_count": 35,
   "id": "721e7cde-85c1-4f79-a72c-11626ad1cdc1",
   "metadata": {},
   "outputs": [
    {
     "name": "stdout",
     "output_type": "stream",
     "text": [
      "UPPER :- UPPERCASE X ELEMENT-WISE.\n"
     ]
    }
   ],
   "source": [
    "str3 = \"Uppercase x element-wise.\"\n",
    "print(\"UPPER :-\",str3.upper())"
   ]
  },
  {
   "cell_type": "code",
   "execution_count": 26,
   "id": "c108e9f7-3f13-499a-9d3d-901b939eaab5",
   "metadata": {},
   "outputs": [
    {
     "name": "stdout",
     "output_type": "stream",
     "text": [
      "sWAPCASE X ELEMENT-WISE.\n"
     ]
    }
   ],
   "source": [
    "str4 = \"Swapcase x element-wise.\"\n",
    "print(\"swapcase :-\",str4.swapcase())"
   ]
  },
  {
   "cell_type": "code",
   "execution_count": 37,
   "id": "14247792-064a-4911-9a9c-f2d184e29414",
   "metadata": {},
   "outputs": [
    {
     "name": "stdout",
     "output_type": "stream",
     "text": [
      "Title :- Title-Case X Element-Wise.\n"
     ]
    }
   ],
   "source": [
    "str5 = \"Title-case x element-wise.\"\n",
    "print(\"Title :-\",str5.title())"
   ]
  },
  {
   "cell_type": "markdown",
   "id": "570f06fb-ade5-40b8-ba0a-1f98da5d7e1b",
   "metadata": {},
   "source": [
    "### Q4. Make the length of each element 20 and the string centered / left-justified / right-justified with paddings of _."
   ]
  },
  {
   "cell_type": "code",
   "execution_count": 42,
   "id": "5bfbddbd-5a8d-46cf-925f-6f553969672e",
   "metadata": {},
   "outputs": [
    {
     "name": "stdout",
     "output_type": "stream",
     "text": [
      "Centered :- ['____Hello world_____' '___Say something____']\n",
      "Left :- ['Hello world_________' 'Say something_______']\n",
      "Right :- ['_________Hello world' '_______Say something']\n"
     ]
    }
   ],
   "source": [
    "x = np.array([\"Hello world\", \"Say something\"],dtype = str)\n",
    "centered = np.char.center(x,20,fillchar = '_')\n",
    "left = np.char.ljust(x,20,fillchar = \"_\")\n",
    "right = np.char.rjust(x,20,fillchar = \"_\")\n",
    "\n",
    "print(\"Centered :-\",centered)\n",
    "print(\"Left :-\",left)\n",
    "print(\"Right :-\",right)"
   ]
  },
  {
   "cell_type": "markdown",
   "id": "f5a215a3-48a9-400b-a50c-a04d5e0e2a99",
   "metadata": {},
   "source": [
    "### Q5. Encode x in cp500 and decode it again."
   ]
  },
  {
   "cell_type": "code",
   "execution_count": 45,
   "id": "4ef06f5e-cb5b-4bab-8bfb-8c2c4a1d025d",
   "metadata": {},
   "outputs": [
    {
     "name": "stdout",
     "output_type": "stream",
     "text": [
      "Encode :- [b'\\xc8\\x85\\x93\\x93\\x96@\\x81\\x95\\x89\\x92\\x85\\xa3'\n",
      " b'\\xe2\\x81\\xa8@\\xa2\\x96\\x94\\x85\\xa3\\x88\\x89\\x95\\x87']\n",
      "Decode :- ['Hello aniket' 'Say something']\n"
     ]
    }
   ],
   "source": [
    "x = np.array(['Hello aniket','Say something'],dtype = str)\n",
    "encoded = np.char.encode(x, 'cp500')\n",
    "decoded = np.char.decode(encoded,'cp500')\n",
    "print(\"Encode :-\",encoded)\n",
    "print(\"Decode :-\",decoded)"
   ]
  },
  {
   "cell_type": "markdown",
   "id": "df2f6681-d326-4d28-9a32-916781611235",
   "metadata": {},
   "source": [
    "### Q6. Insert a space between characters of x."
   ]
  },
  {
   "cell_type": "code",
   "execution_count": 53,
   "id": "5c64c9e6-0ac1-4e62-939f-b1008462e82a",
   "metadata": {},
   "outputs": [
    {
     "name": "stdout",
     "output_type": "stream",
     "text": [
      "Spaced :- ['H e l l o   a n i k e t' 'S a y   s o m e t h i n g']\n"
     ]
    }
   ],
   "source": [
    "x = np.array(['Hello aniket','Say something'],dtype = str)\n",
    "space = np.char.join(\" \",x)\n",
    "print(\"Spaced :-\",space)"
   ]
  },
  {
   "cell_type": "markdown",
   "id": "ef111f1d-6c38-4c15-bb3f-0b498253075c",
   "metadata": {},
   "source": [
    "# Q7\n",
    "- 1. Remove the leading and trailing whitespaces of x element-wise.\n",
    "- 2. Remove the leading whitespaces of x element-wise.\n",
    "- 3. Remove the trailing whitespaces of x element-wise."
   ]
  },
  {
   "cell_type": "code",
   "execution_count": 62,
   "id": "16787ef4-7120-4f6f-85cd-7c4a8b579f5e",
   "metadata": {},
   "outputs": [
    {
     "name": "stdout",
     "output_type": "stream",
     "text": [
      "Stripped :- ['hello world' 'say something']\n",
      "Left Stripped :- ['hello world   ' 'say something\\n']\n",
      "Right Stripped :- ['   hello world' '\\tsay something']\n"
     ]
    }
   ],
   "source": [
    "x = np.array(['   hello world   ', '\\tsay something\\n'], dtype=str)\n",
    "stripped = np.char.strip(x)\n",
    "lstripped = np.char.lstrip(x)\n",
    "rstripped = np.char.rstrip(x)\n",
    "print(\"Stripped :-\",stripped)\n",
    "print(\"Left Stripped :-\",lstripped)\n",
    "print(\"Right Stripped :-\",rstripped)"
   ]
  },
  {
   "cell_type": "markdown",
   "id": "e84dcadb-7517-47de-b871-915ac2fb07f2",
   "metadata": {},
   "source": [
    "### Q8. Split the element of x with spaces."
   ]
  },
  {
   "cell_type": "code",
   "execution_count": 63,
   "id": "23414229-5935-4569-928c-5d4606adf062",
   "metadata": {},
   "outputs": [
    {
     "name": "stdout",
     "output_type": "stream",
     "text": [
      "Splitted :- [list(['Hello', 'my', 'name', 'is', 'Aniket'])]\n"
     ]
    }
   ],
   "source": [
    "x = np.array(['Hello my name is Aniket'], dtype = str)\n",
    "splitted = np.char.split(x,sep = ' ')\n",
    "print(\"Splitted :-\",splitted)"
   ]
  },
  {
   "cell_type": "markdown",
   "id": "b8918884-5729-4dff-91e2-e8e641cc3df7",
   "metadata": {},
   "source": [
    "### Q9. Split the element of x to multiple lines."
   ]
  },
  {
   "cell_type": "code",
   "execution_count": 67,
   "id": "1247327a-3d28-4830-beff-6f8afaa293b0",
   "metadata": {},
   "outputs": [
    {
     "name": "stdout",
     "output_type": "stream",
     "text": [
      "Splittted :- [list(['Hello', 'my name is Aniket'])]\n"
     ]
    }
   ],
   "source": [
    "x = np.array(['Hello\\nmy name is Aniket'], dtype = str)\n",
    "splitted = np.char.splitlines(x)\n",
    "print(\"Splittted :-\",splitted)"
   ]
  },
  {
   "cell_type": "markdown",
   "id": "1c07a3b7-e927-4e0d-8d6d-acef9f2d05db",
   "metadata": {},
   "source": [
    "### Q10. Make x a numeric string of 4 digits with zeros on its left."
   ]
  },
  {
   "cell_type": "code",
   "execution_count": 70,
   "id": "eee006d9-2baa-4213-83b4-ed874cbf13de",
   "metadata": {},
   "outputs": [
    {
     "name": "stdout",
     "output_type": "stream",
     "text": [
      "['0085']\n"
     ]
    }
   ],
   "source": [
    "x = np.array(['85'],dtype = str)\n",
    "fill_zero = np.char.zfill(x,4)\n",
    "print(fill_zero)"
   ]
  },
  {
   "cell_type": "markdown",
   "id": "14435755-f307-4863-9839-98787b544857",
   "metadata": {},
   "source": [
    "# Comparison"
   ]
  },
  {
   "cell_type": "markdown",
   "id": "567c9a67-2bff-402b-a72c-bb6e414eb776",
   "metadata": {},
   "source": [
    "### Q12. Return x1 == x2, element-wise."
   ]
  },
  {
   "cell_type": "code",
   "execution_count": 71,
   "id": "8feb324b-258d-491f-a277-042117abf822",
   "metadata": {},
   "outputs": [
    {
     "name": "stdout",
     "output_type": "stream",
     "text": [
      "Equals(==) :- [ True  True  True  True False]\n"
     ]
    }
   ],
   "source": [
    "x1 = np.array(['Hello', 'my', 'name', 'is', 'Aniket'],dtype = str)\n",
    "x2 = np.array(['Hello', 'my', 'name', 'is', 'Rohit'],dtype = str)\n",
    "\n",
    "equals = np.char.equal(x1,x2)\n",
    "print(\"Equals(==) :-\",equals)"
   ]
  },
  {
   "cell_type": "markdown",
   "id": "de457973-69a4-41ce-961a-773435142e89",
   "metadata": {},
   "source": [
    "### Q13. Return x1 != x2, element-wise."
   ]
  },
  {
   "cell_type": "code",
   "execution_count": 72,
   "id": "12f1444c-c2d6-45c3-b417-c17edb0fd238",
   "metadata": {},
   "outputs": [
    {
     "name": "stdout",
     "output_type": "stream",
     "text": [
      "not_equal(!=) :- [False False False False  True]\n"
     ]
    }
   ],
   "source": [
    "x1 = np.array(['Hello', 'my', 'name', 'is', 'Aniket'],dtype = str)\n",
    "x2 = np.array(['Hello', 'my', 'name', 'is', 'Rohit'],dtype = str)\n",
    "\n",
    "notequal = np.char.not_equal(x1,x2)\n",
    "print('not_equal(!=) :-',notequal)"
   ]
  },
  {
   "cell_type": "markdown",
   "id": "b9e43c79-abfd-41c4-913d-9c23bf81915f",
   "metadata": {},
   "source": [
    "# String information"
   ]
  },
  {
   "cell_type": "markdown",
   "id": "b70452c5-75bf-4288-a989-0dc2e15ccee8",
   "metadata": {},
   "source": [
    "### Q14. Count the number of \"i\" in x, element-wise."
   ]
  },
  {
   "cell_type": "code",
   "execution_count": 77,
   "id": "eb7f8598-eb9e-4189-8669-05ffd2030833",
   "metadata": {},
   "outputs": [
    {
     "name": "stdout",
     "output_type": "stream",
     "text": [
      "Count i :- [0 0 0 1 1]\n"
     ]
    }
   ],
   "source": [
    "x = np.array(['Hello', 'my', 'name', 'is', 'Aniket'],dtype = str)\n",
    "\n",
    "Count = np.char.count(x,'i', 0)\n",
    "print(\"Count i :-\",Count)"
   ]
  },
  {
   "cell_type": "markdown",
   "id": "994fc25e-c86e-4ae9-8f82-f454fd04f13e",
   "metadata": {},
   "source": [
    "### Q15. Count the lowest index of \"l\" in x, element-wise."
   ]
  },
  {
   "cell_type": "code",
   "execution_count": 84,
   "id": "99cbb3fd-9678-46cc-9b68-3b0b95c4ce3d",
   "metadata": {},
   "outputs": [
    {
     "name": "stdout",
     "output_type": "stream",
     "text": [
      "lowest_index :-  [ 2 -1 -1 -1 -1]\n"
     ]
    }
   ],
   "source": [
    "x = np.array(['Hello', 'my', 'name', 'is', 'Aniket'],dtype = str)\n",
    "lowest_index = np.char.find(x,\"l\")\n",
    "print(\"lowest_index :- \",lowest_index)\n",
    "\n",
    "# lowest_index = np.char.index(x,\"l\")\n",
    "# --> It will occur error"
   ]
  },
  {
   "cell_type": "markdown",
   "id": "1c717c2e-89ef-40b0-870e-ad2a5393f84e",
   "metadata": {},
   "source": [
    "### Q16.\n",
    "- 1. Check if each element of x is composed of digits only.\n",
    "- 2. Check if each element of x is composed of lower case letters only.\n",
    "- 3. Check if each element of x is composed of upper case letters only."
   ]
  },
  {
   "cell_type": "code",
   "execution_count": 86,
   "id": "74b7b224-664c-4d30-8a1f-8be62532ee53",
   "metadata": {},
   "outputs": [
    {
     "name": "stdout",
     "output_type": "stream",
     "text": [
      "only digit :- [False False False  True False False]\n",
      "Lower_case :- [False False  True False  True  True]\n",
      "Upper_case :- [False  True False False False False]\n"
     ]
    }
   ],
   "source": [
    "x = np.array(['Hello', 'I', 'am', '20', 'years', 'old'], dtype = str)\n",
    "digits_only = np.char.isdigit(x)\n",
    "lower_case = np.char.islower(x)\n",
    "upper_case = np.char.isupper(x)\n",
    "print('only digit :-',digits_only)\n",
    "print('Lower_case :-',lower_case)\n",
    "print('Upper_case :-',upper_case)"
   ]
  },
  {
   "cell_type": "markdown",
   "id": "8c816382-1f5e-4a31-b08d-a67203c04072",
   "metadata": {},
   "source": [
    "### Q17. Check if each element of x starts with \"hi\""
   ]
  },
  {
   "cell_type": "code",
   "execution_count": 88,
   "id": "391749e1-c4c3-40f0-ad79-491d718e8dbc",
   "metadata": {},
   "outputs": [
    {
     "name": "stdout",
     "output_type": "stream",
     "text": [
      "Starts with :- [False  True  True  True]\n"
     ]
    }
   ],
   "source": [
    "x = np.array(['he', 'his', 'him', 'his'], dtype = str)\n",
    "starts_with = np.char.startswith(x,'hi')\n",
    "print(\"Starts with :-\",starts_with)"
   ]
  },
  {
   "cell_type": "code",
   "execution_count": null,
   "id": "db995920-08ad-4ad6-88c8-b352efa09413",
   "metadata": {},
   "outputs": [],
   "source": []
  }
 ],
 "metadata": {
  "kernelspec": {
   "display_name": "Python 3 (ipykernel)",
   "language": "python",
   "name": "python3"
  },
  "language_info": {
   "codemirror_mode": {
    "name": "ipython",
    "version": 3
   },
   "file_extension": ".py",
   "mimetype": "text/x-python",
   "name": "python",
   "nbconvert_exporter": "python",
   "pygments_lexer": "ipython3",
   "version": "3.11.5"
  }
 },
 "nbformat": 4,
 "nbformat_minor": 5
}

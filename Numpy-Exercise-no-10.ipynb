{
 "cells": [
  {
   "cell_type": "markdown",
   "id": "a3daf1a8-2439-4ff0-a81f-d011142a62b2",
   "metadata": {},
   "source": [
    "# Random Sampling"
   ]
  },
  {
   "cell_type": "code",
   "execution_count": 1,
   "id": "8711368e-1a8f-4e01-984c-1f82fafc3b47",
   "metadata": {},
   "outputs": [],
   "source": [
    "import numpy as np"
   ]
  },
  {
   "cell_type": "code",
   "execution_count": 2,
   "id": "8e1561fc-b1f4-4883-b4eb-aecbebf08ff6",
   "metadata": {},
   "outputs": [
    {
     "data": {
      "text/plain": [
       "'1.24.4'"
      ]
     },
     "execution_count": 2,
     "metadata": {},
     "output_type": "execute_result"
    }
   ],
   "source": [
    "np.__version__"
   ]
  },
  {
   "cell_type": "code",
   "execution_count": 3,
   "id": "c2f3f6c3-eff1-4f6f-91a0-6d58d03e4102",
   "metadata": {},
   "outputs": [],
   "source": [
    "author = \"https://github.com/aniket20-99/Agentic_AI_Numpy\""
   ]
  },
  {
   "cell_type": "markdown",
   "id": "91f755f6-ee64-4119-8a2a-f199417b702e",
   "metadata": {},
   "source": [
    "# Simple random data"
   ]
  },
  {
   "cell_type": "markdown",
   "id": "2c2dc425-83ee-4c42-9c85-6b0b39428688",
   "metadata": {},
   "source": [
    "### Q1. Create an array of shape (3, 2) and populate it with random samples from a uniform distribution over [0, 1)."
   ]
  },
  {
   "cell_type": "code",
   "execution_count": 4,
   "id": "48098322-5857-4d5e-95e4-ecd11bc3a7fa",
   "metadata": {},
   "outputs": [
    {
     "data": {
      "text/plain": [
       "array([[0.92762757, 0.90945785],\n",
       "       [0.85860622, 0.71807889],\n",
       "       [0.12186453, 0.13096941]])"
      ]
     },
     "execution_count": 4,
     "metadata": {},
     "output_type": "execute_result"
    }
   ],
   "source": [
    "np.random.rand(3,2)"
   ]
  },
  {
   "cell_type": "code",
   "execution_count": 5,
   "id": "ed98bbdd-e227-4b5a-86c1-2bcd5292a374",
   "metadata": {},
   "outputs": [
    {
     "data": {
      "text/plain": [
       "array([[0.59428001, 0.1438881 ],\n",
       "       [0.25933678, 0.78398373],\n",
       "       [0.67260164, 0.64605866]])"
      ]
     },
     "execution_count": 5,
     "metadata": {},
     "output_type": "execute_result"
    }
   ],
   "source": [
    "np.random.random((3,2))"
   ]
  },
  {
   "cell_type": "markdown",
   "id": "e333717a-d5e7-4833-8bd9-b019377fa804",
   "metadata": {},
   "source": [
    "### Q2. Create an array of shape (1000, 1000) and populate it with random samples from a standard normal distribution. And verify that the mean and standard deviation is close enough to 0 and 1 repectively."
   ]
  },
  {
   "cell_type": "code",
   "execution_count": 7,
   "id": "3d2edc82-3183-4549-8099-676d0232c74a",
   "metadata": {},
   "outputs": [
    {
     "name": "stdout",
     "output_type": "stream",
     "text": [
      "-0.0013311060299470694\n",
      "0.9997274446826393\n"
     ]
    }
   ],
   "source": [
    "arr1 = np.random.randn(1000,1000)\n",
    "arr2 = np.random.standard_normal((1000,1000))\n",
    "arr3 = np.random.normal(loc = 0.0,scale = 1.0,size = (1000,1000))\n",
    "\n",
    "assert np.allclose(np.mean(arr1),np.mean(arr2),atol = 0.1)\n",
    "assert np.allclose(np.mean(arr1),np.mean(arr3),atol = 0.1)\n",
    "assert np.allclose(np.std(arr1),np.std(arr2),atol = 0.1)\n",
    "assert np.allclose(np.std(arr1),np.std(arr2),atol = 0.1)\n",
    "\n",
    "print(np.mean(arr3))\n",
    "print(np.std(arr1))"
   ]
  },
  {
   "cell_type": "markdown",
   "id": "01534133-1971-4455-9422-887331b34a77",
   "metadata": {},
   "source": [
    "### Q3. Create an array of shape (3, 2) and populate it with random integers ranging from 0 to 3 (inclusive) from a discrete uniform distribution."
   ]
  },
  {
   "cell_type": "code",
   "execution_count": 8,
   "id": "e96fdef9-4307-493a-8e3c-5fe7fefbc2bd",
   "metadata": {},
   "outputs": [
    {
     "data": {
      "text/plain": [
       "array([[3, 0],\n",
       "       [2, 1],\n",
       "       [1, 3]])"
      ]
     },
     "execution_count": 8,
     "metadata": {},
     "output_type": "execute_result"
    }
   ],
   "source": [
    "np.random.randint(0,4,(3,2))"
   ]
  },
  {
   "cell_type": "markdown",
   "id": "b56521e3-80da-4282-b2e0-2ca55f44653f",
   "metadata": {},
   "source": [
    "### Q4. Extract 1 elements from x randomly such that each of them would be associated with probabilities .3, .5, .2. Then print the result 10 times."
   ]
  },
  {
   "cell_type": "code",
   "execution_count": 9,
   "id": "ae430693-70f9-465f-aebc-e22bcdb074e0",
   "metadata": {},
   "outputs": [],
   "source": [
    "x = [b'3 out of 10', b'5 out of 10', b'2 out of 10']"
   ]
  },
  {
   "cell_type": "code",
   "execution_count": 10,
   "id": "dff78e45-df2c-4f6c-b19e-1163c96ce1ce",
   "metadata": {},
   "outputs": [
    {
     "name": "stdout",
     "output_type": "stream",
     "text": [
      "b'2 out of 10'\n",
      "b'5 out of 10'\n",
      "b'3 out of 10'\n",
      "b'5 out of 10'\n",
      "b'5 out of 10'\n",
      "b'5 out of 10'\n",
      "b'2 out of 10'\n",
      "b'3 out of 10'\n",
      "b'3 out of 10'\n",
      "b'5 out of 10'\n"
     ]
    }
   ],
   "source": [
    "for i in range(10):\n",
    "    print(np.random.choice(x,p = [.3,.5,.2]))"
   ]
  },
  {
   "cell_type": "markdown",
   "id": "3c8b40ff-d3d9-40fb-86c2-8cc7e654acc2",
   "metadata": {},
   "source": [
    "### Q5. Extract 3 different integers from 0 to 9 randomly with the same probabilities."
   ]
  },
  {
   "cell_type": "code",
   "execution_count": 11,
   "id": "c6caf63f-1250-47ab-ad49-059c866b7acc",
   "metadata": {},
   "outputs": [
    {
     "data": {
      "text/plain": [
       "array([9, 2, 3])"
      ]
     },
     "execution_count": 11,
     "metadata": {},
     "output_type": "execute_result"
    }
   ],
   "source": [
    "np.random.choice(10,3,replace = False)"
   ]
  },
  {
   "cell_type": "markdown",
   "id": "8e26a68c-0fe6-4329-a882-b78afa914602",
   "metadata": {},
   "source": [
    "# Permutations"
   ]
  },
  {
   "cell_type": "markdown",
   "id": "116eb594-543a-437e-9397-53b57e55bb01",
   "metadata": {},
   "source": [
    "### Q6. Shuffle numbers between 0 and 9 (inclusive)."
   ]
  },
  {
   "cell_type": "code",
   "execution_count": 16,
   "id": "606e056f-2240-48cb-a9a9-a20fde4404a3",
   "metadata": {},
   "outputs": [
    {
     "name": "stdout",
     "output_type": "stream",
     "text": [
      "[8 2 3 4 7 9 1 0 6 5]\n",
      "[5 6 7 4 3 8 9 2 0 1]\n"
     ]
    }
   ],
   "source": [
    "x = np.arange(10)\n",
    "np.random.shuffle(x)\n",
    "print(x)\n",
    "\n",
    "## or\n",
    "print(np.random.permutation(10))\n"
   ]
  },
  {
   "cell_type": "markdown",
   "id": "4a1ab50a-d829-4188-9c63-2eabadc91702",
   "metadata": {},
   "source": [
    "# Random generator"
   ]
  },
  {
   "cell_type": "markdown",
   "id": "3fc91f9b-b4f0-4e49-84ee-5202588b0342",
   "metadata": {},
   "source": [
    "### Q7. Assign number 10 to the seed of the random generator so that you can get the same value next time."
   ]
  },
  {
   "cell_type": "code",
   "execution_count": 18,
   "id": "bfd8a092-0aa8-45d6-96b7-4f87e40084b7",
   "metadata": {},
   "outputs": [],
   "source": [
    "np.random.seed(10)"
   ]
  },
  {
   "cell_type": "code",
   "execution_count": null,
   "id": "43a6db93-8f2c-4852-8c8e-7a0431766c17",
   "metadata": {},
   "outputs": [],
   "source": []
  }
 ],
 "metadata": {
  "kernelspec": {
   "display_name": "Python [conda env:env-3]",
   "language": "python",
   "name": "conda-env-env-3-py"
  },
  "language_info": {
   "codemirror_mode": {
    "name": "ipython",
    "version": 3
   },
   "file_extension": ".py",
   "mimetype": "text/x-python",
   "name": "python",
   "nbconvert_exporter": "python",
   "pygments_lexer": "ipython3",
   "version": "3.8.18"
  }
 },
 "nbformat": 4,
 "nbformat_minor": 5
}

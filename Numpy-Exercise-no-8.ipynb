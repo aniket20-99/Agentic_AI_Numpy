{
 "cells": [
  {
   "cell_type": "markdown",
   "id": "bddb2e82-28dc-4cca-9b07-890748483b66",
   "metadata": {},
   "source": [
    "# Logic functions"
   ]
  },
  {
   "cell_type": "code",
   "execution_count": 1,
   "id": "438db098-6c40-4cab-b730-43a8df65f7cb",
   "metadata": {},
   "outputs": [],
   "source": [
    "import numpy as np"
   ]
  },
  {
   "cell_type": "code",
   "execution_count": 2,
   "id": "2173d4cb-53ac-4262-a83a-afea4d7b7b29",
   "metadata": {},
   "outputs": [
    {
     "data": {
      "text/plain": [
       "'1.24.4'"
      ]
     },
     "execution_count": 2,
     "metadata": {},
     "output_type": "execute_result"
    }
   ],
   "source": [
    "np.__version__"
   ]
  },
  {
   "cell_type": "markdown",
   "id": "c1b58d26-d794-4302-a47a-2d14e172c27b",
   "metadata": {},
   "source": [
    "# Truth value testing"
   ]
  },
  {
   "cell_type": "markdown",
   "id": "53e785ae-21f3-47cc-8136-beb575ed0ea6",
   "metadata": {},
   "source": [
    "### Q1. Let x be an arbitrary array. Return True if none of the elements of x is zero. Remind that 0 evaluates to False in python."
   ]
  },
  {
   "cell_type": "code",
   "execution_count": 4,
   "id": "f1ddd56b-2ee8-4cc3-b9ae-b9ef0bd9c98c",
   "metadata": {},
   "outputs": [
    {
     "name": "stdout",
     "output_type": "stream",
     "text": [
      "True\n",
      "False\n"
     ]
    }
   ],
   "source": [
    "x = np.array([1,2,3])\n",
    "print(np.all(x))\n",
    "\n",
    "x1 = np.array([1,0,3])\n",
    "print(np.all(x1))"
   ]
  },
  {
   "cell_type": "markdown",
   "id": "957afd61-288b-4251-893b-ffd34a4ac3dc",
   "metadata": {},
   "source": [
    "### Q2. Let x be an arbitrary array. Return True if any of the elements of x is non-zero."
   ]
  },
  {
   "cell_type": "code",
   "execution_count": 7,
   "id": "1af71f97-29fc-42b4-8072-cda3b8f9baa5",
   "metadata": {},
   "outputs": [
    {
     "name": "stdout",
     "output_type": "stream",
     "text": [
      "True\n",
      "False\n"
     ]
    }
   ],
   "source": [
    "x = np.array([1,0,0])\n",
    "print(np.any(x))\n",
    "\n",
    "x1 = np.array([0,0,0])\n",
    "print(np.any(x1))"
   ]
  },
  {
   "cell_type": "markdown",
   "id": "96e62dac-89c5-4d1e-947d-eca297ffbc8e",
   "metadata": {},
   "source": [
    "# Array contents"
   ]
  },
  {
   "cell_type": "markdown",
   "id": "89cf568d-4a92-4cdc-b0fc-72447c3a70ca",
   "metadata": {},
   "source": [
    "### Q3. Predict the result of the following code."
   ]
  },
  {
   "cell_type": "code",
   "execution_count": 9,
   "id": "b6c1863d-da2e-4e4f-8578-b871e0650fb4",
   "metadata": {},
   "outputs": [
    {
     "name": "stdout",
     "output_type": "stream",
     "text": [
      "[ True  True False False]\n"
     ]
    }
   ],
   "source": [
    "x = np.array([1,0,np.nan,np.inf])\n",
    "print(np.isfinite(x)) # Checking if the number in x is fininte"
   ]
  },
  {
   "cell_type": "markdown",
   "id": "bd0965ef-5a16-4c51-8421-019ecf43c0db",
   "metadata": {},
   "source": [
    "### Q4. Predict the result of the following code."
   ]
  },
  {
   "cell_type": "code",
   "execution_count": 11,
   "id": "1200711e-fca5-43ca-9f9f-c8bae53cd5c8",
   "metadata": {},
   "outputs": [
    {
     "name": "stdout",
     "output_type": "stream",
     "text": [
      "[False False False  True]\n"
     ]
    }
   ],
   "source": [
    "x = np.array([1,0,np.nan,np.inf])\n",
    "print(np.isinf(x)) # Checking if the number in x is infininte"
   ]
  },
  {
   "cell_type": "markdown",
   "id": "aca766ef-3946-4943-b917-dbd23350335a",
   "metadata": {},
   "source": [
    "# Array type testing"
   ]
  },
  {
   "cell_type": "markdown",
   "id": "c367c8e4-9226-4f8f-bcd1-36859268c203",
   "metadata": {},
   "source": [
    "### Q6. Predict the result of the following code."
   ]
  },
  {
   "cell_type": "code",
   "execution_count": 13,
   "id": "5e5a4155-ebdd-43c6-921d-d164c2607fb8",
   "metadata": {},
   "outputs": [
    {
     "name": "stdout",
     "output_type": "stream",
     "text": [
      "[ True False False False False  True]\n"
     ]
    }
   ],
   "source": [
    "x = np.array([1+1j,1+0j,4.5,3,2,2j])\n",
    "print(np.iscomplex(x))"
   ]
  },
  {
   "cell_type": "markdown",
   "id": "b23504c2-c129-421e-81b3-15cc783a018e",
   "metadata": {},
   "source": [
    "### Q7. Predict the result of the following code."
   ]
  },
  {
   "cell_type": "code",
   "execution_count": 15,
   "id": "19353d52-89a7-4a54-8ac7-9a9c81c70588",
   "metadata": {},
   "outputs": [
    {
     "name": "stdout",
     "output_type": "stream",
     "text": [
      "[False  True  True  True  True False]\n"
     ]
    }
   ],
   "source": [
    "x = np.array([1+1j,1+0j,4.5,3,2,2j])\n",
    "print(np.isreal(x))"
   ]
  },
  {
   "cell_type": "markdown",
   "id": "10169c3e-34f1-4223-856e-09f4264ecba0",
   "metadata": {},
   "source": [
    "### Q8. Predict the result of the following code."
   ]
  },
  {
   "cell_type": "code",
   "execution_count": 17,
   "id": "cd652acd-76c5-40f6-92b6-d4b077fa7fd2",
   "metadata": {},
   "outputs": [
    {
     "name": "stdout",
     "output_type": "stream",
     "text": [
      "True\n",
      "False\n",
      "True\n"
     ]
    }
   ],
   "source": [
    "print(np.isscalar(3))\n",
    "print(np.isscalar([3]))\n",
    "print(np.isscalar(True))"
   ]
  },
  {
   "cell_type": "markdown",
   "id": "ef5c19fc-e58c-4724-a4e5-292f6a2b22e1",
   "metadata": {},
   "source": [
    "# Logical operations"
   ]
  },
  {
   "cell_type": "markdown",
   "id": "1c690097-8f11-4f57-ad4e-1e8f436921e4",
   "metadata": {},
   "source": [
    "### Q9. Predict the result of the following code."
   ]
  },
  {
   "cell_type": "code",
   "execution_count": 19,
   "id": "440131c7-4157-4da3-8a2a-d654296d912b",
   "metadata": {},
   "outputs": [
    {
     "name": "stdout",
     "output_type": "stream",
     "text": [
      "[False False]\n",
      "[ True False  True]\n",
      "[False False  True]\n",
      "[False  True  True False]\n"
     ]
    }
   ],
   "source": [
    "print(np.logical_and([True,False],[False,False]))\n",
    "print(np.logical_or([True,False,True],[True,False,False]))\n",
    "print(np.logical_xor([True,False,True],[True,False,False]))\n",
    "print(np.logical_not([True,False,0,1]))"
   ]
  },
  {
   "cell_type": "markdown",
   "id": "9ec11ea0-1fb5-44fb-83ac-9e248f0e292a",
   "metadata": {},
   "source": [
    "# Comparison"
   ]
  },
  {
   "cell_type": "markdown",
   "id": "4d85fecb-8760-4b8b-81b1-9fcea212f596",
   "metadata": {},
   "source": [
    "### Q10. Predict the result of the following code."
   ]
  },
  {
   "cell_type": "code",
   "execution_count": 20,
   "id": "7502d00d-0e76-4912-a8f7-c5d5f0d2ac5d",
   "metadata": {},
   "outputs": [
    {
     "name": "stdout",
     "output_type": "stream",
     "text": [
      "True\n",
      "False\n"
     ]
    }
   ],
   "source": [
    "print(np.allclose([3],[2.99999]))\n",
    "print(np.array_equal([5],[4.9999]))"
   ]
  },
  {
   "cell_type": "markdown",
   "id": "f22ddbc4-47c2-46e9-a230-524785344a5c",
   "metadata": {},
   "source": [
    "### Q11. Write numpy comparison functions such that they return the results as you see."
   ]
  },
  {
   "cell_type": "code",
   "execution_count": 21,
   "id": "1f28474f-aa3e-42cc-9c81-5c7fe42e9a4d",
   "metadata": {},
   "outputs": [
    {
     "name": "stdout",
     "output_type": "stream",
     "text": [
      "[ True False]\n",
      "[ True  True]\n",
      "[False False]\n",
      "[False  True]\n"
     ]
    }
   ],
   "source": [
    "x = np.array([4,5])\n",
    "y = np.array([2,5])\n",
    "print(np.greater(x,y))\n",
    "print(np.greater_equal(x,y))\n",
    "print(np.less(x,y))\n",
    "print(np.less_equal(x,y))"
   ]
  },
  {
   "cell_type": "markdown",
   "id": "b18a8aff-d743-432b-aaa7-0d4579c28d4a",
   "metadata": {},
   "source": [
    "### Q12. Predict the result of the following code."
   ]
  },
  {
   "cell_type": "code",
   "execution_count": 22,
   "id": "2c14fe67-38d6-477c-bd22-6cf5ccc627dd",
   "metadata": {},
   "outputs": [
    {
     "name": "stdout",
     "output_type": "stream",
     "text": [
      "[ True False]\n",
      "False [1, 2.000001]\n"
     ]
    }
   ],
   "source": [
    "print(np.equal([1,2],[1,2.00001]))\n",
    "print(np.isclose(1,2),[1,2.000001])"
   ]
  },
  {
   "cell_type": "code",
   "execution_count": null,
   "id": "e4d8543a-2ff1-4ce2-ac3c-89c3a3cbdb48",
   "metadata": {},
   "outputs": [],
   "source": []
  }
 ],
 "metadata": {
  "kernelspec": {
   "display_name": "Python [conda env:env-3]",
   "language": "python",
   "name": "conda-env-env-3-py"
  },
  "language_info": {
   "codemirror_mode": {
    "name": "ipython",
    "version": 3
   },
   "file_extension": ".py",
   "mimetype": "text/x-python",
   "name": "python",
   "nbconvert_exporter": "python",
   "pygments_lexer": "ipython3",
   "version": "3.8.18"
  }
 },
 "nbformat": 4,
 "nbformat_minor": 5
}

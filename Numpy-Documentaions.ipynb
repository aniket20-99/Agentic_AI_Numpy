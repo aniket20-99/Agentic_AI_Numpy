{
 "cells": [
  {
   "cell_type": "code",
   "execution_count": 1,
   "id": "81e3cba8-f5bb-4231-91e4-dc48a86eef12",
   "metadata": {},
   "outputs": [],
   "source": [
    "import numpy as np"
   ]
  },
  {
   "cell_type": "code",
   "execution_count": 2,
   "id": "1bc3ffb2-709f-4f52-a468-aaa32da329b8",
   "metadata": {},
   "outputs": [
    {
     "data": {
      "text/plain": [
       "array([ 1, 23, 45, 66, 74, 34])"
      ]
     },
     "execution_count": 2,
     "metadata": {},
     "output_type": "execute_result"
    }
   ],
   "source": [
    "# 1D Array\n",
    "a = np.array([1,23,45,66,74,34])\n",
    "a"
   ]
  },
  {
   "cell_type": "code",
   "execution_count": 3,
   "id": "21c160ad-035d-41f6-8848-f5f2ce7594ea",
   "metadata": {},
   "outputs": [
    {
     "data": {
      "text/plain": [
       "numpy.ndarray"
      ]
     },
     "execution_count": 3,
     "metadata": {},
     "output_type": "execute_result"
    }
   ],
   "source": [
    "type(a)"
   ]
  },
  {
   "cell_type": "code",
   "execution_count": 4,
   "id": "def7d634-8198-4bc3-af82-a8527e411743",
   "metadata": {},
   "outputs": [
    {
     "data": {
      "text/plain": [
       "array([ 3,  4,  5, 66, 77, 35])"
      ]
     },
     "execution_count": 4,
     "metadata": {},
     "output_type": "execute_result"
    }
   ],
   "source": [
    "np.array([3,4,5,66,77,35])"
   ]
  },
  {
   "cell_type": "code",
   "execution_count": 5,
   "id": "2e84f368-d725-4c6a-b0b7-f8d1022e73ed",
   "metadata": {},
   "outputs": [
    {
     "data": {
      "text/plain": [
       "array([[10, 20, 30],\n",
       "       [40, 50, 60],\n",
       "       [70, 80, 90]])"
      ]
     },
     "execution_count": 5,
     "metadata": {},
     "output_type": "execute_result"
    }
   ],
   "source": [
    "# 2D array\n",
    "a2 = np.array([[10,20,30],[40,50,60],[70,80,90]])\n",
    "a2"
   ]
  },
  {
   "cell_type": "code",
   "execution_count": 6,
   "id": "9fdd1bc2-ef51-4b16-9bd4-500568ebec06",
   "metadata": {},
   "outputs": [
    {
     "data": {
      "text/plain": [
       "numpy.ndarray"
      ]
     },
     "execution_count": 6,
     "metadata": {},
     "output_type": "execute_result"
    }
   ],
   "source": [
    "type(a2)"
   ]
  },
  {
   "cell_type": "code",
   "execution_count": 7,
   "id": "f9ffa537-3d1b-42ed-8179-1b1f9cda87e8",
   "metadata": {},
   "outputs": [
    {
     "name": "stdout",
     "output_type": "stream",
     "text": [
      "Shape: [[[  2   3  33   4  45]\n",
      "  [ 23  45  56  66   2]]\n",
      "\n",
      " [[357 523  32  24   2]\n",
      "  [ 32  32  44  33 234]]]\n"
     ]
    }
   ],
   "source": [
    "a3 = np.array([[2,3,33,4,45],[23,45,56,66,2],[357,523,32,24,2],[32,32,44,33,234]]).reshape(2,2,5)\n",
    "\n",
    "print(\"Shape:\", a3)\n"
   ]
  },
  {
   "cell_type": "markdown",
   "id": "f93d0344-ae6c-40e3-8ae9-18577bbb79c8",
   "metadata": {},
   "source": [
    "# Data type\n",
    "* The desired data-type for the array. If not given, then the type will be determined as the \n",
    "minimum type required to hold the objects in thesequence."
   ]
  },
  {
   "cell_type": "code",
   "execution_count": 8,
   "id": "993fec04-0d30-43b3-9287-9ad6bc8c0472",
   "metadata": {},
   "outputs": [
    {
     "data": {
      "text/plain": [
       "array([11., 24., 56.])"
      ]
     },
     "execution_count": 8,
     "metadata": {},
     "output_type": "execute_result"
    }
   ],
   "source": [
    "np.array([11,24,56],dtype = float)"
   ]
  },
  {
   "cell_type": "code",
   "execution_count": 9,
   "id": "e4a3bac3-82d3-496d-84d0-397181ed11be",
   "metadata": {},
   "outputs": [
    {
     "data": {
      "text/plain": [
       "array([ True, False,  True])"
      ]
     },
     "execution_count": 9,
     "metadata": {},
     "output_type": "execute_result"
    }
   ],
   "source": [
    "np.array([20,0,49],dtype = bool)"
   ]
  },
  {
   "cell_type": "code",
   "execution_count": 10,
   "id": "e83b2665-b407-416f-a852-34e2e51f3de5",
   "metadata": {},
   "outputs": [
    {
     "data": {
      "text/plain": [
       "array([12.+0.j, 40.+0.j, 80.+0.j])"
      ]
     },
     "execution_count": 10,
     "metadata": {},
     "output_type": "execute_result"
    }
   ],
   "source": [
    "np.array([12,40,80],dtype = complex)"
   ]
  },
  {
   "cell_type": "markdown",
   "id": "d1472f07-c553-4b58-91a0-fe42dcc1f4e2",
   "metadata": {},
   "source": [
    "# Numpy Arrays Vs Python Sequences \n",
    "* NumPy arrays have a fixed size at creation, unlike Python lists (which can grow dynamically). \n",
    "Changing the size of an ndarray will create a new array and delete the original. \n",
    "* The elements in a NumPy array are all required to be of the same data type, and thus will be \n",
    "the same size in memory. \n",
    "* NumPy arrays facilitate advanced mathematical and other types of operations on large \n",
    "numbers of data. Typically, such operations are executed more efficiently and with less code \n",
    "than is possible using Python’s built-in sequences. \n",
    "* A growing plethora of scientific and mathematical Python-based packages are using NumPy \n",
    "arrays; though these typically support Python-sequence input, they convert such input to \n",
    "NumPy arrays prior to processing, and they often output NumPy arrays. "
   ]
  },
  {
   "cell_type": "markdown",
   "id": "cf0802b9-ae78-4966-aae7-6487eeba798e",
   "metadata": {},
   "source": [
    "# arange \n",
    "* arange can be called with a varying number of positional arguments"
   ]
  },
  {
   "cell_type": "code",
   "execution_count": 11,
   "id": "22b92b6e-8365-4351-b191-75a7b6cf95c5",
   "metadata": {},
   "outputs": [
    {
     "data": {
      "text/plain": [
       "array([1, 2, 3, 4, 5, 6, 7, 8, 9])"
      ]
     },
     "execution_count": 11,
     "metadata": {},
     "output_type": "execute_result"
    }
   ],
   "source": [
    "x = np.arange(1,10)\n",
    "x"
   ]
  },
  {
   "cell_type": "code",
   "execution_count": 12,
   "id": "77560b93-a725-467b-890e-71aafea75172",
   "metadata": {},
   "outputs": [
    {
     "data": {
      "text/plain": [
       "array([ 1,  6, 11, 16, 21, 26, 31, 36, 41, 46])"
      ]
     },
     "execution_count": 12,
     "metadata": {},
     "output_type": "execute_result"
    }
   ],
   "source": [
    "np.arange(1,50,5)"
   ]
  },
  {
   "cell_type": "markdown",
   "id": "0701306f-cb9d-4aae-a893-67074c528fab",
   "metadata": {},
   "source": [
    "# Reshape\n",
    "* Both of number products should be equal to number of Items present inside the array."
   ]
  },
  {
   "cell_type": "code",
   "execution_count": 13,
   "id": "5b42e5a7-7162-4016-9971-384e9adec7c7",
   "metadata": {},
   "outputs": [
    {
     "data": {
      "text/plain": [
       "array([[ 1,  2,  3,  4,  5],\n",
       "       [ 6,  7,  8,  9, 10],\n",
       "       [11, 12, 13, 14, 15]])"
      ]
     },
     "execution_count": 13,
     "metadata": {},
     "output_type": "execute_result"
    }
   ],
   "source": [
    "np.arange(1,16).reshape(3,5)"
   ]
  },
  {
   "cell_type": "code",
   "execution_count": 14,
   "id": "e906edfe-f980-4751-b2b5-cf33d4dd4e50",
   "metadata": {},
   "outputs": [
    {
     "data": {
      "text/plain": [
       "array([[ 1,  2,  3],\n",
       "       [ 4,  5,  6],\n",
       "       [ 7,  8,  9],\n",
       "       [10, 11, 12],\n",
       "       [13, 14, 15]])"
      ]
     },
     "execution_count": 14,
     "metadata": {},
     "output_type": "execute_result"
    }
   ],
   "source": [
    "np.arange(1,16).reshape(5,3)"
   ]
  },
  {
   "cell_type": "code",
   "execution_count": 15,
   "id": "ecb047bd-73f3-458c-939f-ccffb92254e1",
   "metadata": {},
   "outputs": [
    {
     "data": {
      "text/plain": [
       "array([[10, 11, 12, 13, 14, 15],\n",
       "       [16, 17, 18, 19, 20, 21],\n",
       "       [22, 23, 24, 25, 26, 27],\n",
       "       [28, 29, 30, 31, 32, 33],\n",
       "       [34, 35, 36, 37, 38, 39]])"
      ]
     },
     "execution_count": 15,
     "metadata": {},
     "output_type": "execute_result"
    }
   ],
   "source": [
    "np.arange(10,40).reshape(5,6)"
   ]
  },
  {
   "cell_type": "code",
   "execution_count": 16,
   "id": "129d1826-2428-4523-adcd-4dfb36013fe3",
   "metadata": {},
   "outputs": [
    {
     "data": {
      "text/plain": [
       "array([[10, 11, 12],\n",
       "       [13, 14, 15],\n",
       "       [16, 17, 18],\n",
       "       [19, 20, 21],\n",
       "       [22, 23, 24],\n",
       "       [25, 26, 27],\n",
       "       [28, 29, 30],\n",
       "       [31, 32, 33],\n",
       "       [34, 35, 36],\n",
       "       [37, 38, 39]])"
      ]
     },
     "execution_count": 16,
     "metadata": {},
     "output_type": "execute_result"
    }
   ],
   "source": [
    "np.arange(10,40).reshape(10,3)"
   ]
  },
  {
   "cell_type": "markdown",
   "id": "f79c8fc4-b717-4a8f-86d2-9b9862fff409",
   "metadata": {},
   "source": [
    "# ones and zeros\n",
    "* we can initialize the values and create values . ex: in deep learning weight shape "
   ]
  },
  {
   "cell_type": "code",
   "execution_count": 17,
   "id": "4d83b6cc-0576-4cea-a6a4-5bd95265d3a7",
   "metadata": {},
   "outputs": [
    {
     "data": {
      "text/plain": [
       "array([[1, 1, 1, 1],\n",
       "       [1, 1, 1, 1],\n",
       "       [1, 1, 1, 1],\n",
       "       [1, 1, 1, 1],\n",
       "       [1, 1, 1, 1]])"
      ]
     },
     "execution_count": 17,
     "metadata": {},
     "output_type": "execute_result"
    }
   ],
   "source": [
    "np.ones((5,4),dtype = int)"
   ]
  },
  {
   "cell_type": "code",
   "execution_count": 18,
   "id": "2eedb98d-e4e1-4751-8e5e-da1e3d558e30",
   "metadata": {},
   "outputs": [
    {
     "data": {
      "text/plain": [
       "array([[0, 0, 0, 0, 0, 0, 0, 0, 0, 0],\n",
       "       [0, 0, 0, 0, 0, 0, 0, 0, 0, 0],\n",
       "       [0, 0, 0, 0, 0, 0, 0, 0, 0, 0],\n",
       "       [0, 0, 0, 0, 0, 0, 0, 0, 0, 0],\n",
       "       [0, 0, 0, 0, 0, 0, 0, 0, 0, 0]])"
      ]
     },
     "execution_count": 18,
     "metadata": {},
     "output_type": "execute_result"
    }
   ],
   "source": [
    "np.zeros((5,10),dtype = int)"
   ]
  },
  {
   "cell_type": "code",
   "execution_count": 19,
   "id": "82985b94-5261-4ff0-8654-eb77aa2d1232",
   "metadata": {},
   "outputs": [
    {
     "data": {
      "text/plain": [
       "array([[0.18151056, 0.31431088, 0.0725668 , 0.68008221, 0.09596327],\n",
       "       [0.0653852 , 0.81247778, 0.4571    , 0.19612486, 0.22403803]])"
      ]
     },
     "execution_count": 19,
     "metadata": {},
     "output_type": "execute_result"
    }
   ],
   "source": [
    "np.random.rand(2,5)"
   ]
  },
  {
   "cell_type": "markdown",
   "id": "44bb8f16-e39a-4050-b05f-3353e3a7db6f",
   "metadata": {},
   "source": [
    "# Linspace\n",
    "* It is also called as Linearly space , Linearly separable,in a given range at equal distance it \n",
    "creates points."
   ]
  },
  {
   "cell_type": "code",
   "execution_count": 20,
   "id": "6f57d45f-f1fd-4ddb-878c-fbb20eea4a8c",
   "metadata": {},
   "outputs": [
    {
     "data": {
      "text/plain": [
       "(array([-10.        ,  -7.22222222,  -4.44444444,  -1.66666667,\n",
       "          1.11111111,   3.88888889,   6.66666667,   9.44444444,\n",
       "         12.22222222,  15.        ]),\n",
       " 2.7777777777777777)"
      ]
     },
     "execution_count": 20,
     "metadata": {},
     "output_type": "execute_result"
    }
   ],
   "source": [
    "np.linspace(-10,15,num = 10,endpoint = True,retstep = True)"
   ]
  },
  {
   "cell_type": "code",
   "execution_count": 21,
   "id": "42fd2d9c-f412-4269-b480-7372eb22fc31",
   "metadata": {},
   "outputs": [
    {
     "data": {
      "text/plain": [
       "array([[1, 0, 0, 0, 0],\n",
       "       [0, 1, 0, 0, 0],\n",
       "       [0, 0, 1, 0, 0],\n",
       "       [0, 0, 0, 1, 0],\n",
       "       [0, 0, 0, 0, 1]])"
      ]
     },
     "execution_count": 21,
     "metadata": {},
     "output_type": "execute_result"
    }
   ],
   "source": [
    "# Identity\n",
    "np.eye(5,5,dtype = int)"
   ]
  },
  {
   "cell_type": "code",
   "execution_count": 22,
   "id": "65e694c5-fef7-444a-8a12-e8832a3b65eb",
   "metadata": {},
   "outputs": [
    {
     "data": {
      "text/plain": [
       "array([[1, 0, 0, 0, 0, 0],\n",
       "       [0, 1, 0, 0, 0, 0],\n",
       "       [0, 0, 1, 0, 0, 0],\n",
       "       [0, 0, 0, 1, 0, 0],\n",
       "       [0, 0, 0, 0, 1, 0],\n",
       "       [0, 0, 0, 0, 0, 1]])"
      ]
     },
     "execution_count": 22,
     "metadata": {},
     "output_type": "execute_result"
    }
   ],
   "source": [
    "np.identity(6,dtype = int)"
   ]
  },
  {
   "cell_type": "code",
   "execution_count": 23,
   "id": "5314d370-a9f9-457a-9975-9620d69f800f",
   "metadata": {},
   "outputs": [
    {
     "data": {
      "text/plain": [
       "array([0, 1, 2, 3, 4, 5, 6, 7, 8, 9])"
      ]
     },
     "execution_count": 23,
     "metadata": {},
     "output_type": "execute_result"
    }
   ],
   "source": [
    "# Array Attributes\n",
    "a1 = np.arange(10)\n",
    "a1"
   ]
  },
  {
   "cell_type": "code",
   "execution_count": 24,
   "id": "40d0936b-8048-4487-b14b-36dbe27108ff",
   "metadata": {},
   "outputs": [
    {
     "data": {
      "text/plain": [
       "array([[ 0.,  1.,  2.,  3.,  4.],\n",
       "       [ 5.,  6.,  7.,  8.,  9.],\n",
       "       [10., 11., 12., 13., 14.]])"
      ]
     },
     "execution_count": 24,
     "metadata": {},
     "output_type": "execute_result"
    }
   ],
   "source": [
    "a2 = np.arange(15,dtype = float).reshape(3,5)\n",
    "a2"
   ]
  },
  {
   "cell_type": "code",
   "execution_count": 25,
   "id": "cc7419d7-179d-4bc0-a763-6406bd518e2e",
   "metadata": {},
   "outputs": [
    {
     "data": {
      "text/plain": [
       "array([[[0, 1],\n",
       "        [2, 3]],\n",
       "\n",
       "       [[4, 5],\n",
       "        [6, 7]]])"
      ]
     },
     "execution_count": 25,
     "metadata": {},
     "output_type": "execute_result"
    }
   ],
   "source": [
    "a3 = np.arange(8).reshape(2,2,2)\n",
    "a3"
   ]
  },
  {
   "cell_type": "markdown",
   "id": "4104fb1c-d4c6-4238-bfa8-5a4053865147",
   "metadata": {},
   "source": [
    "# ndim\n",
    "* To find the given array dimenstions"
   ]
  },
  {
   "cell_type": "code",
   "execution_count": 26,
   "id": "61da57a8-a37d-42f0-b953-4f0a94859f4e",
   "metadata": {},
   "outputs": [
    {
     "data": {
      "text/plain": [
       "1"
      ]
     },
     "execution_count": 26,
     "metadata": {},
     "output_type": "execute_result"
    }
   ],
   "source": [
    "a1.ndim"
   ]
  },
  {
   "cell_type": "code",
   "execution_count": 27,
   "id": "4a51952c-2e97-43da-95d4-e9aec149ec79",
   "metadata": {},
   "outputs": [
    {
     "data": {
      "text/plain": [
       "2"
      ]
     },
     "execution_count": 27,
     "metadata": {},
     "output_type": "execute_result"
    }
   ],
   "source": [
    "a2.ndim"
   ]
  },
  {
   "cell_type": "code",
   "execution_count": 28,
   "id": "c1d19f61-fd14-49e2-996e-591981f9a783",
   "metadata": {},
   "outputs": [
    {
     "data": {
      "text/plain": [
       "3"
      ]
     },
     "execution_count": 28,
     "metadata": {},
     "output_type": "execute_result"
    }
   ],
   "source": [
    "a3.ndim"
   ]
  },
  {
   "cell_type": "markdown",
   "id": "a4ce6db3-5be5-40e5-a86e-8f9e4e38af1e",
   "metadata": {},
   "source": [
    "# Shape\n",
    "* Gives each item consist of no of rows and no of columns"
   ]
  },
  {
   "cell_type": "code",
   "execution_count": 29,
   "id": "a7b146bc-4f11-4806-8a15-98cb04f592b9",
   "metadata": {},
   "outputs": [
    {
     "data": {
      "text/plain": [
       "array([0, 1, 2, 3, 4, 5, 6, 7, 8, 9])"
      ]
     },
     "execution_count": 29,
     "metadata": {},
     "output_type": "execute_result"
    }
   ],
   "source": [
    "a1"
   ]
  },
  {
   "cell_type": "code",
   "execution_count": 30,
   "id": "249b8c99-528e-476a-86aa-1b8589bee36a",
   "metadata": {},
   "outputs": [
    {
     "data": {
      "text/plain": [
       "(10,)"
      ]
     },
     "execution_count": 30,
     "metadata": {},
     "output_type": "execute_result"
    }
   ],
   "source": [
    "a1.shape"
   ]
  },
  {
   "cell_type": "code",
   "execution_count": 31,
   "id": "f35fc5b9-2b36-480f-9fb2-27c1993363de",
   "metadata": {},
   "outputs": [
    {
     "data": {
      "text/plain": [
       "array([[ 0.,  1.,  2.,  3.,  4.],\n",
       "       [ 5.,  6.,  7.,  8.,  9.],\n",
       "       [10., 11., 12., 13., 14.]])"
      ]
     },
     "execution_count": 31,
     "metadata": {},
     "output_type": "execute_result"
    }
   ],
   "source": [
    "a2"
   ]
  },
  {
   "cell_type": "code",
   "execution_count": 32,
   "id": "ba1b133e-e50c-43ce-87f2-723043853f48",
   "metadata": {},
   "outputs": [
    {
     "data": {
      "text/plain": [
       "(3, 5)"
      ]
     },
     "execution_count": 32,
     "metadata": {},
     "output_type": "execute_result"
    }
   ],
   "source": [
    "a2.shape"
   ]
  },
  {
   "cell_type": "code",
   "execution_count": 33,
   "id": "ecf345bb-ff50-4f15-89e5-a2bd63d7fd1e",
   "metadata": {},
   "outputs": [
    {
     "data": {
      "text/plain": [
       "array([[[0, 1],\n",
       "        [2, 3]],\n",
       "\n",
       "       [[4, 5],\n",
       "        [6, 7]]])"
      ]
     },
     "execution_count": 33,
     "metadata": {},
     "output_type": "execute_result"
    }
   ],
   "source": [
    "a3"
   ]
  },
  {
   "cell_type": "code",
   "execution_count": 34,
   "id": "770d0ab5-1b8b-41c3-b334-5c791e5987a3",
   "metadata": {},
   "outputs": [
    {
     "data": {
      "text/plain": [
       "(2, 2, 2)"
      ]
     },
     "execution_count": 34,
     "metadata": {},
     "output_type": "execute_result"
    }
   ],
   "source": [
    "a3.shape"
   ]
  },
  {
   "cell_type": "markdown",
   "id": "0692950b-2291-4e1f-a79f-21c1506dccca",
   "metadata": {},
   "source": [
    "# Sizes\n",
    "* Gives number of elements present in the array"
   ]
  },
  {
   "cell_type": "code",
   "execution_count": 35,
   "id": "962038e8-a93c-4222-87a8-a5cf6359bb6f",
   "metadata": {},
   "outputs": [
    {
     "data": {
      "text/plain": [
       "array([[[0, 1],\n",
       "        [2, 3]],\n",
       "\n",
       "       [[4, 5],\n",
       "        [6, 7]]])"
      ]
     },
     "execution_count": 35,
     "metadata": {},
     "output_type": "execute_result"
    }
   ],
   "source": [
    "a3"
   ]
  },
  {
   "cell_type": "code",
   "execution_count": 36,
   "id": "8dc7f1a2-0afe-4280-9f26-57645089bd36",
   "metadata": {},
   "outputs": [
    {
     "data": {
      "text/plain": [
       "8"
      ]
     },
     "execution_count": 36,
     "metadata": {},
     "output_type": "execute_result"
    }
   ],
   "source": [
    "a3.size"
   ]
  },
  {
   "cell_type": "code",
   "execution_count": 37,
   "id": "be6d054e-137c-4016-bc0f-48d1feceef3a",
   "metadata": {},
   "outputs": [
    {
     "data": {
      "text/plain": [
       "array([[ 0.,  1.,  2.,  3.,  4.],\n",
       "       [ 5.,  6.,  7.,  8.,  9.],\n",
       "       [10., 11., 12., 13., 14.]])"
      ]
     },
     "execution_count": 37,
     "metadata": {},
     "output_type": "execute_result"
    }
   ],
   "source": [
    "a2"
   ]
  },
  {
   "cell_type": "code",
   "execution_count": 38,
   "id": "3089ac90-ff08-4cdf-a318-0ec113dc0a14",
   "metadata": {},
   "outputs": [
    {
     "data": {
      "text/plain": [
       "15"
      ]
     },
     "execution_count": 38,
     "metadata": {},
     "output_type": "execute_result"
    }
   ],
   "source": [
    "a2.size"
   ]
  },
  {
   "cell_type": "code",
   "execution_count": 39,
   "id": "318bf26f-8923-4249-80d5-d0b5d1f22b68",
   "metadata": {},
   "outputs": [
    {
     "data": {
      "text/plain": [
       "array([0, 1, 2, 3, 4, 5, 6, 7, 8, 9])"
      ]
     },
     "execution_count": 39,
     "metadata": {},
     "output_type": "execute_result"
    }
   ],
   "source": [
    "a1"
   ]
  },
  {
   "cell_type": "code",
   "execution_count": 40,
   "id": "6f8bbfa7-698d-4c68-a713-be8833d44dae",
   "metadata": {},
   "outputs": [
    {
     "data": {
      "text/plain": [
       "10"
      ]
     },
     "execution_count": 40,
     "metadata": {},
     "output_type": "execute_result"
    }
   ],
   "source": [
    "a1.size"
   ]
  },
  {
   "cell_type": "markdown",
   "id": "c0764538-64e0-4f74-99cf-0a7d8fb596bd",
   "metadata": {},
   "source": [
    "# Item size\n",
    "* Memory occupied by the items"
   ]
  },
  {
   "cell_type": "code",
   "execution_count": 41,
   "id": "a5fe85f5-bf4d-40bb-b126-fdab363240c9",
   "metadata": {},
   "outputs": [
    {
     "data": {
      "text/plain": [
       "array([0, 1, 2, 3, 4, 5, 6, 7, 8, 9])"
      ]
     },
     "execution_count": 41,
     "metadata": {},
     "output_type": "execute_result"
    }
   ],
   "source": [
    "a1"
   ]
  },
  {
   "cell_type": "code",
   "execution_count": 42,
   "id": "c43e89b5-467f-4a8a-b97f-fb4615954c77",
   "metadata": {},
   "outputs": [
    {
     "data": {
      "text/plain": [
       "4"
      ]
     },
     "execution_count": 42,
     "metadata": {},
     "output_type": "execute_result"
    }
   ],
   "source": [
    "a1.itemsize # bytes"
   ]
  },
  {
   "cell_type": "code",
   "execution_count": 43,
   "id": "bf4ca482-4d2d-4e69-86d7-33563ca0746e",
   "metadata": {},
   "outputs": [
    {
     "data": {
      "text/plain": [
       "array([[ 0.,  1.,  2.,  3.,  4.],\n",
       "       [ 5.,  6.,  7.,  8.,  9.],\n",
       "       [10., 11., 12., 13., 14.]])"
      ]
     },
     "execution_count": 43,
     "metadata": {},
     "output_type": "execute_result"
    }
   ],
   "source": [
    "a2"
   ]
  },
  {
   "cell_type": "code",
   "execution_count": 44,
   "id": "38531655-df80-4f39-8af2-ca9bf3b3c9cd",
   "metadata": {},
   "outputs": [
    {
     "data": {
      "text/plain": [
       "8"
      ]
     },
     "execution_count": 44,
     "metadata": {},
     "output_type": "execute_result"
    }
   ],
   "source": [
    "a2.itemsize"
   ]
  },
  {
   "cell_type": "code",
   "execution_count": 45,
   "id": "55c3d397-6932-4de1-8d6f-0ad7d67feaa6",
   "metadata": {},
   "outputs": [
    {
     "data": {
      "text/plain": [
       "array([[[0, 1],\n",
       "        [2, 3]],\n",
       "\n",
       "       [[4, 5],\n",
       "        [6, 7]]])"
      ]
     },
     "execution_count": 45,
     "metadata": {},
     "output_type": "execute_result"
    }
   ],
   "source": [
    "a3"
   ]
  },
  {
   "cell_type": "code",
   "execution_count": 46,
   "id": "fc32e474-5937-4ff2-9800-daa09b65a226",
   "metadata": {},
   "outputs": [
    {
     "data": {
      "text/plain": [
       "4"
      ]
     },
     "execution_count": 46,
     "metadata": {},
     "output_type": "execute_result"
    }
   ],
   "source": [
    "a3.itemsize"
   ]
  },
  {
   "cell_type": "code",
   "execution_count": 47,
   "id": "7a12d625-3bd8-4b0a-81fe-74c6ba862290",
   "metadata": {},
   "outputs": [
    {
     "name": "stdout",
     "output_type": "stream",
     "text": [
      "int32\n",
      "float64\n",
      "int32\n"
     ]
    }
   ],
   "source": [
    "print(a1.dtype)\n",
    "print(a2.dtype)\n",
    "print(a3.dtype)"
   ]
  },
  {
   "cell_type": "code",
   "execution_count": 48,
   "id": "5d2c7482-3413-4afa-bc35-d510f4cce578",
   "metadata": {},
   "outputs": [
    {
     "data": {
      "text/plain": [
       "array([20. , 40. ,  5.7])"
      ]
     },
     "execution_count": 48,
     "metadata": {},
     "output_type": "execute_result"
    }
   ],
   "source": [
    "# Changing Data Type\n",
    "x = np.array([20,40,5.7])\n",
    "x"
   ]
  },
  {
   "cell_type": "code",
   "execution_count": 49,
   "id": "3bde7cd2-753f-4863-9274-3b5c51c78504",
   "metadata": {},
   "outputs": [
    {
     "data": {
      "text/plain": [
       "array([20, 40,  5])"
      ]
     },
     "execution_count": 49,
     "metadata": {},
     "output_type": "execute_result"
    }
   ],
   "source": [
    "x.astype(int)"
   ]
  },
  {
   "cell_type": "code",
   "execution_count": 50,
   "id": "b5ee3c76-9014-43b1-bd96-29838d8664c3",
   "metadata": {},
   "outputs": [
    {
     "data": {
      "text/plain": [
       "array([20. , 40. ,  5.7])"
      ]
     },
     "execution_count": 50,
     "metadata": {},
     "output_type": "execute_result"
    }
   ],
   "source": [
    "x.astype(float)"
   ]
  },
  {
   "cell_type": "markdown",
   "id": "c7bf879d-a69d-4653-8247-5c47adb20375",
   "metadata": {},
   "source": [
    "# Array operation"
   ]
  },
  {
   "cell_type": "code",
   "execution_count": 51,
   "id": "23a3f259-a035-4e33-815d-8c45ebdd1679",
   "metadata": {},
   "outputs": [
    {
     "name": "stdout",
     "output_type": "stream",
     "text": [
      "[[ 0  1  2  3  4]\n",
      " [ 5  6  7  8  9]\n",
      " [10 11 12 13 14]]\n"
     ]
    }
   ],
   "source": [
    "ar = np.arange(15).reshape(3,5)\n",
    "ar1 = np.arange(15,30).reshape(3,5)\n",
    "print(ar)"
   ]
  },
  {
   "cell_type": "code",
   "execution_count": 52,
   "id": "c36cbd26-490e-4a50-80d2-07f5811246dd",
   "metadata": {},
   "outputs": [
    {
     "name": "stdout",
     "output_type": "stream",
     "text": [
      "[[15 16 17 18 19]\n",
      " [20 21 22 23 24]\n",
      " [25 26 27 28 29]]\n"
     ]
    }
   ],
   "source": [
    "print(ar1)"
   ]
  },
  {
   "cell_type": "markdown",
   "id": "3b7f0d98-d719-4732-bdd9-56c18182179e",
   "metadata": {},
   "source": [
    "# Scalar operation\n",
    "* Scalar operations on Numpy arrays include performing addition or subtraction, or multiplication \r\n",
    "on each element of a Numpy array. "
   ]
  },
  {
   "cell_type": "code",
   "execution_count": 53,
   "id": "3092abb6-d338-4955-a211-b3c5e7cf58b7",
   "metadata": {},
   "outputs": [
    {
     "data": {
      "text/plain": [
       "array([[ 1,  2,  3,  4],\n",
       "       [ 5,  6,  7,  8],\n",
       "       [ 9, 10, 11, 12],\n",
       "       [13, 14, 15, 16],\n",
       "       [17, 18, 19, 20]])"
      ]
     },
     "execution_count": 53,
     "metadata": {},
     "output_type": "execute_result"
    }
   ],
   "source": [
    "# Arithmatic\n",
    "a1 = np.arange(1,21).reshape(5,4)\n",
    "a1"
   ]
  },
  {
   "cell_type": "code",
   "execution_count": 54,
   "id": "187f4578-a2c5-4292-9cc7-661b67d30804",
   "metadata": {},
   "outputs": [
    {
     "data": {
      "text/plain": [
       "array([[ 3,  4,  5,  6],\n",
       "       [ 7,  8,  9, 10],\n",
       "       [11, 12, 13, 14],\n",
       "       [15, 16, 17, 18],\n",
       "       [19, 20, 21, 22]])"
      ]
     },
     "execution_count": 54,
     "metadata": {},
     "output_type": "execute_result"
    }
   ],
   "source": [
    "a1 + 2"
   ]
  },
  {
   "cell_type": "code",
   "execution_count": 55,
   "id": "1e2818b0-50ef-4eae-99da-5b2557b0a266",
   "metadata": {},
   "outputs": [
    {
     "data": {
      "text/plain": [
       "array([[-1,  0,  1,  2],\n",
       "       [ 3,  4,  5,  6],\n",
       "       [ 7,  8,  9, 10],\n",
       "       [11, 12, 13, 14],\n",
       "       [15, 16, 17, 18]])"
      ]
     },
     "execution_count": 55,
     "metadata": {},
     "output_type": "execute_result"
    }
   ],
   "source": [
    "# Subtraction\n",
    "a1 - 2"
   ]
  },
  {
   "cell_type": "code",
   "execution_count": 56,
   "id": "ca0b409f-55db-4614-935c-ad0d0960c0c6",
   "metadata": {},
   "outputs": [
    {
     "data": {
      "text/plain": [
       "array([[ 2,  4,  6,  8],\n",
       "       [10, 12, 14, 16],\n",
       "       [18, 20, 22, 24],\n",
       "       [26, 28, 30, 32],\n",
       "       [34, 36, 38, 40]])"
      ]
     },
     "execution_count": 56,
     "metadata": {},
     "output_type": "execute_result"
    }
   ],
   "source": [
    "a1 * 2"
   ]
  },
  {
   "cell_type": "code",
   "execution_count": 57,
   "id": "3ca33ec8-5dd8-4024-bc38-a08969c5c4b4",
   "metadata": {},
   "outputs": [
    {
     "data": {
      "text/plain": [
       "array([[ 0.5,  1. ,  1.5,  2. ],\n",
       "       [ 2.5,  3. ,  3.5,  4. ],\n",
       "       [ 4.5,  5. ,  5.5,  6. ],\n",
       "       [ 6.5,  7. ,  7.5,  8. ],\n",
       "       [ 8.5,  9. ,  9.5, 10. ]])"
      ]
     },
     "execution_count": 57,
     "metadata": {},
     "output_type": "execute_result"
    }
   ],
   "source": [
    "a1 / 2"
   ]
  },
  {
   "cell_type": "code",
   "execution_count": 58,
   "id": "074d89bd-7e54-47a4-bac0-b2333653c224",
   "metadata": {},
   "outputs": [
    {
     "data": {
      "text/plain": [
       "array([[  1,   4,   9,  16],\n",
       "       [ 25,  36,  49,  64],\n",
       "       [ 81, 100, 121, 144],\n",
       "       [169, 196, 225, 256],\n",
       "       [289, 324, 361, 400]])"
      ]
     },
     "execution_count": 58,
     "metadata": {},
     "output_type": "execute_result"
    }
   ],
   "source": [
    "a1 ** 2"
   ]
  },
  {
   "cell_type": "code",
   "execution_count": 59,
   "id": "9d94b437-e02d-495a-803f-3cb0363e1269",
   "metadata": {},
   "outputs": [
    {
     "data": {
      "text/plain": [
       "array([[1, 0, 1, 0],\n",
       "       [1, 0, 1, 0],\n",
       "       [1, 0, 1, 0],\n",
       "       [1, 0, 1, 0],\n",
       "       [1, 0, 1, 0]], dtype=int32)"
      ]
     },
     "execution_count": 59,
     "metadata": {},
     "output_type": "execute_result"
    }
   ],
   "source": [
    "# Modulus\n",
    "a1 % 2"
   ]
  },
  {
   "cell_type": "markdown",
   "id": "bc77b02f-c2a7-4d98-acaf-557ab0e5970b",
   "metadata": {},
   "source": [
    "# Relational Operators \n",
    "* The **relational operators** are also known as comparison operators, their main function is to \n",
    "return either a true or false based on the value of operands."
   ]
  },
  {
   "cell_type": "code",
   "execution_count": 60,
   "id": "4cc70b9d-eb67-4556-8045-226897cf5f92",
   "metadata": {},
   "outputs": [
    {
     "data": {
      "text/plain": [
       "array([[ 1,  2,  3,  4],\n",
       "       [ 5,  6,  7,  8],\n",
       "       [ 9, 10, 11, 12],\n",
       "       [13, 14, 15, 16],\n",
       "       [17, 18, 19, 20]])"
      ]
     },
     "execution_count": 60,
     "metadata": {},
     "output_type": "execute_result"
    }
   ],
   "source": [
    "a1"
   ]
  },
  {
   "cell_type": "code",
   "execution_count": 61,
   "id": "15698fc8-6f33-49c6-8674-bfc4c34e4cd1",
   "metadata": {},
   "outputs": [
    {
     "data": {
      "text/plain": [
       "array([[False, False,  True,  True],\n",
       "       [ True,  True,  True,  True],\n",
       "       [ True,  True,  True,  True],\n",
       "       [ True,  True,  True,  True],\n",
       "       [ True,  True,  True,  True]])"
      ]
     },
     "execution_count": 61,
     "metadata": {},
     "output_type": "execute_result"
    }
   ],
   "source": [
    "a1 > 2"
   ]
  },
  {
   "cell_type": "code",
   "execution_count": 62,
   "id": "283fcf04-5813-4b41-ad70-ef871625c63e",
   "metadata": {},
   "outputs": [
    {
     "data": {
      "text/plain": [
       "array([[False, False, False, False],\n",
       "       [False, False, False, False],\n",
       "       [False, False, False, False],\n",
       "       [False, False, False,  True],\n",
       "       [ True,  True,  True,  True]])"
      ]
     },
     "execution_count": 62,
     "metadata": {},
     "output_type": "execute_result"
    }
   ],
   "source": [
    "a1 > 15"
   ]
  },
  {
   "cell_type": "code",
   "execution_count": 63,
   "id": "81c5cc09-7703-45e6-8525-51d2a4e3f36d",
   "metadata": {},
   "outputs": [
    {
     "data": {
      "text/plain": [
       "array([[ True,  True,  True,  True],\n",
       "       [ True,  True,  True,  True],\n",
       "       [ True,  True,  True,  True],\n",
       "       [ True,  True, False, False],\n",
       "       [False, False, False, False]])"
      ]
     },
     "execution_count": 63,
     "metadata": {},
     "output_type": "execute_result"
    }
   ],
   "source": [
    "a1 < 15"
   ]
  },
  {
   "cell_type": "markdown",
   "id": "8203e49a-2de0-4483-b901-ac6acc8feb54",
   "metadata": {},
   "source": [
    "# Vector Operation \n",
    "* We can apply on two or more numpy array "
   ]
  },
  {
   "cell_type": "code",
   "execution_count": 64,
   "id": "d714b525-4652-408b-be52-d6b7eb28a1d2",
   "metadata": {},
   "outputs": [
    {
     "data": {
      "text/plain": [
       "array([[ 1,  2,  3,  4],\n",
       "       [ 5,  6,  7,  8],\n",
       "       [ 9, 10, 11, 12],\n",
       "       [13, 14, 15, 16],\n",
       "       [17, 18, 19, 20]])"
      ]
     },
     "execution_count": 64,
     "metadata": {},
     "output_type": "execute_result"
    }
   ],
   "source": [
    "a1"
   ]
  },
  {
   "cell_type": "code",
   "execution_count": 65,
   "id": "57b2f1e0-47ed-463a-9926-ab889022b53f",
   "metadata": {},
   "outputs": [
    {
     "data": {
      "text/plain": [
       "array([[20, 21, 22, 23],\n",
       "       [24, 25, 26, 27],\n",
       "       [28, 29, 30, 31],\n",
       "       [32, 33, 34, 35],\n",
       "       [36, 37, 38, 39]])"
      ]
     },
     "execution_count": 65,
     "metadata": {},
     "output_type": "execute_result"
    }
   ],
   "source": [
    "a2 = np.arange(20,40).reshape(5,4)\n",
    "a2"
   ]
  },
  {
   "cell_type": "code",
   "execution_count": 66,
   "id": "00b7bb62-6c7f-4528-bdbd-37804680687a",
   "metadata": {},
   "outputs": [
    {
     "data": {
      "text/plain": [
       "array([[21, 23, 25, 27],\n",
       "       [29, 31, 33, 35],\n",
       "       [37, 39, 41, 43],\n",
       "       [45, 47, 49, 51],\n",
       "       [53, 55, 57, 59]])"
      ]
     },
     "execution_count": 66,
     "metadata": {},
     "output_type": "execute_result"
    }
   ],
   "source": [
    "# Arithmatic\n",
    "a1 + a2"
   ]
  },
  {
   "cell_type": "code",
   "execution_count": 67,
   "id": "fcfd0d83-faa2-4de5-a8bd-950b42bdb127",
   "metadata": {},
   "outputs": [
    {
     "data": {
      "text/plain": [
       "array([[ 20,  42,  66,  92],\n",
       "       [120, 150, 182, 216],\n",
       "       [252, 290, 330, 372],\n",
       "       [416, 462, 510, 560],\n",
       "       [612, 666, 722, 780]])"
      ]
     },
     "execution_count": 67,
     "metadata": {},
     "output_type": "execute_result"
    }
   ],
   "source": [
    "\n",
    "a1 * a2"
   ]
  },
  {
   "cell_type": "code",
   "execution_count": 68,
   "id": "0ce9da4c-1bb8-4b8b-b372-5f855647be33",
   "metadata": {},
   "outputs": [
    {
     "data": {
      "text/plain": [
       "array([[-19, -19, -19, -19],\n",
       "       [-19, -19, -19, -19],\n",
       "       [-19, -19, -19, -19],\n",
       "       [-19, -19, -19, -19],\n",
       "       [-19, -19, -19, -19]])"
      ]
     },
     "execution_count": 68,
     "metadata": {},
     "output_type": "execute_result"
    }
   ],
   "source": [
    "a1 - a2"
   ]
  },
  {
   "cell_type": "code",
   "execution_count": 69,
   "id": "12ff2cde-80fc-4a06-8102-b5060b3090b6",
   "metadata": {},
   "outputs": [
    {
     "data": {
      "text/plain": [
       "array([[0.05      , 0.0952381 , 0.13636364, 0.17391304],\n",
       "       [0.20833333, 0.24      , 0.26923077, 0.2962963 ],\n",
       "       [0.32142857, 0.34482759, 0.36666667, 0.38709677],\n",
       "       [0.40625   , 0.42424242, 0.44117647, 0.45714286],\n",
       "       [0.47222222, 0.48648649, 0.5       , 0.51282051]])"
      ]
     },
     "execution_count": 69,
     "metadata": {},
     "output_type": "execute_result"
    }
   ],
   "source": [
    "a1 / a2"
   ]
  },
  {
   "cell_type": "code",
   "execution_count": 70,
   "id": "5f9b608d-4e7d-4c0b-9daa-e0b5dfded1e4",
   "metadata": {},
   "outputs": [
    {
     "data": {
      "text/plain": [
       "array([[0.9348069 , 0.52723049, 0.51177172, 0.2277941 ],\n",
       "       [0.06461028, 0.75656887, 0.58034075, 0.35953237],\n",
       "       [0.76922011, 0.67206498, 0.45759241, 0.58384286],\n",
       "       [0.12597637, 0.27223015, 0.05503561, 0.4756487 ]])"
      ]
     },
     "execution_count": 70,
     "metadata": {},
     "output_type": "execute_result"
    }
   ],
   "source": [
    "# Array Functions\n",
    "b1 = np.random.rand(4,4)\n",
    "b1"
   ]
  },
  {
   "cell_type": "code",
   "execution_count": 71,
   "id": "b82b5cd0-3613-4c17-af96-dab5f67b3406",
   "metadata": {},
   "outputs": [
    {
     "data": {
      "text/plain": [
       "array([[93., 53., 51., 23.],\n",
       "       [ 6., 76., 58., 36.],\n",
       "       [77., 67., 46., 58.],\n",
       "       [13., 27.,  6., 48.]])"
      ]
     },
     "execution_count": 71,
     "metadata": {},
     "output_type": "execute_result"
    }
   ],
   "source": [
    "b1 = np.round(b1 * 100)\n",
    "b1"
   ]
  },
  {
   "cell_type": "code",
   "execution_count": 72,
   "id": "09339842-3b42-4a7a-9e3a-0a95c4699028",
   "metadata": {},
   "outputs": [
    {
     "data": {
      "text/plain": [
       "93.0"
      ]
     },
     "execution_count": 72,
     "metadata": {},
     "output_type": "execute_result"
    }
   ],
   "source": [
    "# max\n",
    "np.max(b1)"
   ]
  },
  {
   "cell_type": "code",
   "execution_count": 73,
   "id": "82446dfb-c220-46cc-aa0e-c64422dbe7a2",
   "metadata": {},
   "outputs": [
    {
     "data": {
      "text/plain": [
       "6.0"
      ]
     },
     "execution_count": 73,
     "metadata": {},
     "output_type": "execute_result"
    }
   ],
   "source": [
    "np.min(b1)"
   ]
  },
  {
   "cell_type": "code",
   "execution_count": 74,
   "id": "4ea613b3-b298-403c-9158-8df1f5b8021f",
   "metadata": {},
   "outputs": [
    {
     "data": {
      "text/plain": [
       "738.0"
      ]
     },
     "execution_count": 74,
     "metadata": {},
     "output_type": "execute_result"
    }
   ],
   "source": [
    "np.sum(b1)"
   ]
  },
  {
   "cell_type": "code",
   "execution_count": 75,
   "id": "e95249fb-2884-4e84-b1d2-a7f0cdbce46a",
   "metadata": {},
   "outputs": [
    {
     "data": {
      "text/plain": [
       "7.659547691489321e+24"
      ]
     },
     "execution_count": 75,
     "metadata": {},
     "output_type": "execute_result"
    }
   ],
   "source": [
    "np.prod(b1)"
   ]
  },
  {
   "cell_type": "markdown",
   "id": "03c19d8f-ad44-4e5a-9b62-7fdbfcde1ec7",
   "metadata": {},
   "source": [
    "# In Numpy Column = 0 and Rows = 1"
   ]
  },
  {
   "cell_type": "code",
   "execution_count": 76,
   "id": "05707494-ef81-4a29-9a8b-2190015400c5",
   "metadata": {},
   "outputs": [
    {
     "data": {
      "text/plain": [
       "array([93., 76., 77., 48.])"
      ]
     },
     "execution_count": 76,
     "metadata": {},
     "output_type": "execute_result"
    }
   ],
   "source": [
    "# If we want maximum of every row\n",
    "np.max(b1,axis = 1)"
   ]
  },
  {
   "cell_type": "code",
   "execution_count": 77,
   "id": "50e09d39-20cd-4913-9f80-265250b74dda",
   "metadata": {},
   "outputs": [
    {
     "data": {
      "text/plain": [
       "array([23.,  6., 46.,  6.])"
      ]
     },
     "execution_count": 77,
     "metadata": {},
     "output_type": "execute_result"
    }
   ],
   "source": [
    "np.min(b1,axis = 1)"
   ]
  },
  {
   "cell_type": "code",
   "execution_count": 78,
   "id": "265b5293-3a87-4586-a081-4e0829fc40a7",
   "metadata": {},
   "outputs": [
    {
     "data": {
      "text/plain": [
       "array([93., 76., 58., 58.])"
      ]
     },
     "execution_count": 78,
     "metadata": {},
     "output_type": "execute_result"
    }
   ],
   "source": [
    "np.max(b1,axis = 0)"
   ]
  },
  {
   "cell_type": "code",
   "execution_count": 79,
   "id": "0d95dd9f-9cb1-4c20-a5c4-3d5798e7f20c",
   "metadata": {},
   "outputs": [
    {
     "data": {
      "text/plain": [
       "array([ 6., 27.,  6., 23.])"
      ]
     },
     "execution_count": 79,
     "metadata": {},
     "output_type": "execute_result"
    }
   ],
   "source": [
    "np.min(b1,axis = 0)"
   ]
  },
  {
   "cell_type": "markdown",
   "id": "ec0a5c04-ceae-4fbe-bf78-fc6cabecd597",
   "metadata": {},
   "source": [
    "# Statistics related fuctions "
   ]
  },
  {
   "cell_type": "code",
   "execution_count": 80,
   "id": "3b69d185-fa55-41a4-a1a9-92452db92ab3",
   "metadata": {},
   "outputs": [
    {
     "data": {
      "text/plain": [
       "array([[93., 53., 51., 23.],\n",
       "       [ 6., 76., 58., 36.],\n",
       "       [77., 67., 46., 58.],\n",
       "       [13., 27.,  6., 48.]])"
      ]
     },
     "execution_count": 80,
     "metadata": {},
     "output_type": "execute_result"
    }
   ],
   "source": [
    "# Mean\n",
    "b1"
   ]
  },
  {
   "cell_type": "code",
   "execution_count": 81,
   "id": "3855a63c-03a2-40d7-8ac4-19423c84d9df",
   "metadata": {},
   "outputs": [
    {
     "data": {
      "text/plain": [
       "46.125"
      ]
     },
     "execution_count": 81,
     "metadata": {},
     "output_type": "execute_result"
    }
   ],
   "source": [
    "np.mean(b1)"
   ]
  },
  {
   "cell_type": "code",
   "execution_count": 82,
   "id": "d23c6570-9ffe-4380-b71e-a3975917c1a3",
   "metadata": {},
   "outputs": [
    {
     "data": {
      "text/plain": [
       "array([47.25, 55.75, 40.25, 41.25])"
      ]
     },
     "execution_count": 82,
     "metadata": {},
     "output_type": "execute_result"
    }
   ],
   "source": [
    "b1.mean(axis = 0)"
   ]
  },
  {
   "cell_type": "code",
   "execution_count": 83,
   "id": "7c085505-7355-48f3-92d7-7d7c5d2fdeba",
   "metadata": {},
   "outputs": [
    {
     "data": {
      "text/plain": [
       "array([45. , 60. , 48.5, 42. ])"
      ]
     },
     "execution_count": 83,
     "metadata": {},
     "output_type": "execute_result"
    }
   ],
   "source": [
    "np.median(b1,axis = 0)"
   ]
  },
  {
   "cell_type": "code",
   "execution_count": 84,
   "id": "36240021-5025-433e-a2aa-bc846cbe00d3",
   "metadata": {},
   "outputs": [
    {
     "data": {
      "text/plain": [
       "array([52. , 47. , 62.5, 20. ])"
      ]
     },
     "execution_count": 84,
     "metadata": {},
     "output_type": "execute_result"
    }
   ],
   "source": [
    "np.median(b1,axis = 1)"
   ]
  },
  {
   "cell_type": "code",
   "execution_count": 85,
   "id": "81b4e65f-4e52-45b5-82ef-90c2cb86043c",
   "metadata": {},
   "outputs": [
    {
     "data": {
      "text/plain": [
       "25.193935282126926"
      ]
     },
     "execution_count": 85,
     "metadata": {},
     "output_type": "execute_result"
    }
   ],
   "source": [
    "# Standard deviation\n",
    "np.std(b1)"
   ]
  },
  {
   "cell_type": "code",
   "execution_count": 86,
   "id": "f7b720c2-b9c1-48a3-b77a-67eab35529c8",
   "metadata": {},
   "outputs": [
    {
     "data": {
      "text/plain": [
       "array([38.25163395, 18.51182055, 20.22838352, 13.10295768])"
      ]
     },
     "execution_count": 86,
     "metadata": {},
     "output_type": "execute_result"
    }
   ],
   "source": [
    "np.std(b1,axis = 0) # Column wise"
   ]
  },
  {
   "cell_type": "code",
   "execution_count": 87,
   "id": "8fa50980-9043-4030-8fbb-dbbb9c30fbbb",
   "metadata": {},
   "outputs": [
    {
     "data": {
      "text/plain": [
       "array([24.93992783, 26.11512971, 11.42365966, 16.03901493])"
      ]
     },
     "execution_count": 87,
     "metadata": {},
     "output_type": "execute_result"
    }
   ],
   "source": [
    "np.std(b1,axis = 1) # Row wise"
   ]
  },
  {
   "cell_type": "code",
   "execution_count": 88,
   "id": "f701a25d-0bef-4e48-b17f-dcf73f96df36",
   "metadata": {},
   "outputs": [
    {
     "data": {
      "text/plain": [
       "634.734375"
      ]
     },
     "execution_count": 88,
     "metadata": {},
     "output_type": "execute_result"
    }
   ],
   "source": [
    "np.var(b1)"
   ]
  },
  {
   "cell_type": "code",
   "execution_count": 89,
   "id": "5c9f448e-9507-4064-9cd2-862deccb4a2d",
   "metadata": {},
   "outputs": [
    {
     "data": {
      "text/plain": [
       "array([622.  , 682.  , 130.5 , 257.25])"
      ]
     },
     "execution_count": 89,
     "metadata": {},
     "output_type": "execute_result"
    }
   ],
   "source": [
    "np.var(b1,axis = 1) # Columns"
   ]
  },
  {
   "cell_type": "code",
   "execution_count": 90,
   "id": "97a9eb8c-f7aa-42ad-9fcc-96a400e407c8",
   "metadata": {},
   "outputs": [
    {
     "data": {
      "text/plain": [
       "array([1463.1875,  342.6875,  409.1875,  171.6875])"
      ]
     },
     "execution_count": 90,
     "metadata": {},
     "output_type": "execute_result"
    }
   ],
   "source": [
    "np.var(b1,axis = 0) # Rows"
   ]
  },
  {
   "cell_type": "markdown",
   "id": "326b3651-5cb2-4219-90f9-dcc3cf81103e",
   "metadata": {},
   "source": [
    "# Trigonometry Functions"
   ]
  },
  {
   "cell_type": "code",
   "execution_count": 91,
   "id": "df57f67d-78cd-435d-91be-c79606335def",
   "metadata": {},
   "outputs": [
    {
     "data": {
      "text/plain": [
       "array([[-0.94828214,  0.39592515,  0.67022918, -0.8462204 ],\n",
       "       [-0.2794155 ,  0.56610764,  0.99287265, -0.99177885],\n",
       "       [ 0.99952016, -0.85551998,  0.90178835,  0.99287265],\n",
       "       [ 0.42016704,  0.95637593, -0.2794155 , -0.76825466]])"
      ]
     },
     "execution_count": 91,
     "metadata": {},
     "output_type": "execute_result"
    }
   ],
   "source": [
    "np.sin(b1)"
   ]
  },
  {
   "cell_type": "code",
   "execution_count": 92,
   "id": "256ab2cd-84e5-4790-8d12-13a712c98615",
   "metadata": {},
   "outputs": [
    {
     "data": {
      "text/plain": [
       "array([[ 0.3174287 , -0.91828279,  0.7421542 , -0.53283302],\n",
       "       [ 0.96017029,  0.82433133,  0.11918014, -0.12796369],\n",
       "       [-0.03097503, -0.5177698 , -0.43217794,  0.11918014],\n",
       "       [ 0.90744678, -0.29213881,  0.96017029, -0.64014434]])"
      ]
     },
     "execution_count": 92,
     "metadata": {},
     "output_type": "execute_result"
    }
   ],
   "source": [
    "np.cos(b1)"
   ]
  },
  {
   "cell_type": "code",
   "execution_count": 93,
   "id": "c584675e-420f-4f53-989c-dafb5b6796e5",
   "metadata": {},
   "outputs": [
    {
     "data": {
      "text/plain": [
       "array([[ -2.98738626,  -0.4311582 ,   0.90308615,   1.58815308],\n",
       "       [ -0.29100619,   0.68674769,   8.33085685,   7.75047091],\n",
       "       [-32.26857578,   1.65231726,  -2.08661353,   8.33085685],\n",
       "       [  0.46302113,  -3.2737038 ,  -0.29100619,   1.20012724]])"
      ]
     },
     "execution_count": 93,
     "metadata": {},
     "output_type": "execute_result"
    }
   ],
   "source": [
    "np.tan(b1)"
   ]
  },
  {
   "cell_type": "markdown",
   "id": "964e2ccd-e0dc-4741-a8d4-98d970882416",
   "metadata": {},
   "source": [
    "# Dot Product\n",
    "* The numpy module of Python provides a function to perform the dot product of two arrays. "
   ]
  },
  {
   "cell_type": "code",
   "execution_count": 94,
   "id": "8a5050a1-d9e4-42fa-80ab-346b4eb3a264",
   "metadata": {},
   "outputs": [],
   "source": [
    "d = np.arange(10).reshape(2,5)\n",
    "d1 = np.arange(10).reshape(5,2)"
   ]
  },
  {
   "cell_type": "code",
   "execution_count": 95,
   "id": "5cb23bf0-3b85-4f59-adee-a659ff0acd65",
   "metadata": {},
   "outputs": [
    {
     "data": {
      "text/plain": [
       "array([[0, 1, 2, 3, 4],\n",
       "       [5, 6, 7, 8, 9]])"
      ]
     },
     "execution_count": 95,
     "metadata": {},
     "output_type": "execute_result"
    }
   ],
   "source": [
    "d"
   ]
  },
  {
   "cell_type": "code",
   "execution_count": 96,
   "id": "b4d4f251-58e4-4174-a5cd-342c3f9c4955",
   "metadata": {},
   "outputs": [
    {
     "data": {
      "text/plain": [
       "array([[0, 1],\n",
       "       [2, 3],\n",
       "       [4, 5],\n",
       "       [6, 7],\n",
       "       [8, 9]])"
      ]
     },
     "execution_count": 96,
     "metadata": {},
     "output_type": "execute_result"
    }
   ],
   "source": [
    "d1"
   ]
  },
  {
   "cell_type": "code",
   "execution_count": 97,
   "id": "3d5fa087-45b0-4937-b254-de57e3929576",
   "metadata": {},
   "outputs": [
    {
     "data": {
      "text/plain": [
       "array([[ 60,  70],\n",
       "       [160, 195]])"
      ]
     },
     "execution_count": 97,
     "metadata": {},
     "output_type": "execute_result"
    }
   ],
   "source": [
    "np.dot(d,d1)"
   ]
  },
  {
   "cell_type": "code",
   "execution_count": 98,
   "id": "fd9b54e9-0ce0-4fcd-a083-08aedea777dd",
   "metadata": {},
   "outputs": [],
   "source": [
    "d = np.arange(8).reshape(2,4)\n",
    "d1 = np.arange(8).reshape(4,2)"
   ]
  },
  {
   "cell_type": "code",
   "execution_count": 99,
   "id": "f9a1da39-e114-44e1-bd0d-0e50c552747e",
   "metadata": {},
   "outputs": [
    {
     "data": {
      "text/plain": [
       "array([[28, 34],\n",
       "       [76, 98]])"
      ]
     },
     "execution_count": 99,
     "metadata": {},
     "output_type": "execute_result"
    }
   ],
   "source": [
    "np.dot(d,d1)"
   ]
  },
  {
   "cell_type": "markdown",
   "id": "4facbcb8-5025-4d9b-beee-5ca7470f2b61",
   "metadata": {},
   "source": [
    "# Log and Exponents"
   ]
  },
  {
   "cell_type": "code",
   "execution_count": 100,
   "id": "0c3738d9-21ab-4a00-98d2-98833afe463f",
   "metadata": {},
   "outputs": [
    {
     "data": {
      "text/plain": [
       "array([[1.00000000e+00, 2.71828183e+00],\n",
       "       [7.38905610e+00, 2.00855369e+01],\n",
       "       [5.45981500e+01, 1.48413159e+02],\n",
       "       [4.03428793e+02, 1.09663316e+03]])"
      ]
     },
     "execution_count": 100,
     "metadata": {},
     "output_type": "execute_result"
    }
   ],
   "source": [
    "np.exp(d1)"
   ]
  },
  {
   "cell_type": "markdown",
   "id": "2ed253bf-4269-4733-9169-81b553218b19",
   "metadata": {},
   "source": [
    "### Round / floor / ceil\n",
    "* **1.Round** \r",
    "* \n",
    "The numpy.round() function rounds the elements of an array to the nearest integer or to the \r\n",
    "specified number of decimals."
   ]
  },
  {
   "cell_type": "code",
   "execution_count": 101,
   "id": "1007357b-4bbd-48e0-b51f-0eca6e1d7c98",
   "metadata": {},
   "outputs": [
    {
     "name": "stdout",
     "output_type": "stream",
     "text": [
      "[2. 6. 9. 9. 7.]\n"
     ]
    }
   ],
   "source": [
    "# Round to the nearest integer\n",
    "arr = np.array([2.5,5.9,8.6,9.3,6.7])\n",
    "rounded_arr = np.round(arr)\n",
    "print(rounded_arr)"
   ]
  },
  {
   "cell_type": "code",
   "execution_count": 102,
   "id": "bf6100fb-919a-4e31-915b-475c5be17c21",
   "metadata": {},
   "outputs": [
    {
     "name": "stdout",
     "output_type": "stream",
     "text": [
      "[2.51 5.88 8.85 9.4  6.58]\n"
     ]
    }
   ],
   "source": [
    "# Round to two decimal\n",
    "arr = np.array([2.5123,5.879,8.846,9.395,6.577])\n",
    "rounded_arr = np.round(arr,decimals = 2)\n",
    "print(rounded_arr)"
   ]
  },
  {
   "cell_type": "code",
   "execution_count": 103,
   "id": "45c8dbc9-c43d-49f1-9bf4-662b56dee978",
   "metadata": {},
   "outputs": [],
   "source": [
    "# Randomly\n",
    "ar = np.round(np.random.rand(2,3)*100)"
   ]
  },
  {
   "cell_type": "code",
   "execution_count": 104,
   "id": "17d1a1d1-2925-4315-b48b-0f0054194399",
   "metadata": {},
   "outputs": [
    {
     "data": {
      "text/plain": [
       "array([[93., 97.,  8.],\n",
       "       [45., 64., 24.]])"
      ]
     },
     "execution_count": 104,
     "metadata": {},
     "output_type": "execute_result"
    }
   ],
   "source": [
    "ar"
   ]
  },
  {
   "cell_type": "markdown",
   "id": "cb25c702-5873-46e8-bfbc-9c1245316b97",
   "metadata": {},
   "source": [
    "* **2. Floor**\n",
    "* The numpy.floor() function returns the largest integer less than or equal to each element of an \r\n",
    "array."
   ]
  },
  {
   "cell_type": "code",
   "execution_count": 105,
   "id": "4d2b3ccd-0703-419f-8dee-78e59189787e",
   "metadata": {},
   "outputs": [
    {
     "name": "stdout",
     "output_type": "stream",
     "text": [
      "[2. 5. 8. 9. 6.]\n"
     ]
    }
   ],
   "source": [
    "arr = np.array([2.5,5.9,8.6,9.3,6.7])\n",
    "floored_arr = np.floor(arr)\n",
    "print(floored_arr)"
   ]
  },
  {
   "cell_type": "code",
   "execution_count": 106,
   "id": "1af4a93f-cd4f-449a-9995-ad961b12659b",
   "metadata": {},
   "outputs": [
    {
     "name": "stdout",
     "output_type": "stream",
     "text": [
      "[[65. 65. 72.]\n",
      " [96.  6. 40.]]\n"
     ]
    }
   ],
   "source": [
    "ar = np.floor(np.random.rand(2,3)*100)\n",
    "print(ar)"
   ]
  },
  {
   "cell_type": "markdown",
   "id": "4e89acb8-2a88-43f3-b6d3-b897d506123f",
   "metadata": {},
   "source": [
    "* **3. Ciel**\n",
    "* The numpy.ceil() function returns the smallest integer greater than or equal to each element of \r\n",
    "an array."
   ]
  },
  {
   "cell_type": "code",
   "execution_count": 107,
   "id": "db916979-f593-4849-935e-2de6a4a353ce",
   "metadata": {},
   "outputs": [
    {
     "name": "stdout",
     "output_type": "stream",
     "text": [
      "[ 3.  6.  9. 10.  7.]\n"
     ]
    }
   ],
   "source": [
    "arr = np.array([2.5,5.9,8.6,9.3,6.7])\n",
    "cieled_Arr = np.ceil(arr)\n",
    "print(cieled_Arr)"
   ]
  },
  {
   "cell_type": "markdown",
   "id": "287e07b2-db1b-4cc3-9e49-a1e2720f1808",
   "metadata": {},
   "source": [
    "# Indexing & Slicing"
   ]
  },
  {
   "cell_type": "code",
   "execution_count": 108,
   "id": "ed52648f-4a6f-4c5d-af55-2bca9faa5d11",
   "metadata": {},
   "outputs": [],
   "source": [
    "s = np.arange(10)\n",
    "s1 = np.arange(15).reshape(3,5)\n",
    "s2 = np.arange(8).reshape(2,2,2)"
   ]
  },
  {
   "cell_type": "code",
   "execution_count": 109,
   "id": "2efaa46f-7878-4290-8041-3a2d1e865453",
   "metadata": {},
   "outputs": [
    {
     "data": {
      "text/plain": [
       "array([0, 1, 2, 3, 4, 5, 6, 7, 8, 9])"
      ]
     },
     "execution_count": 109,
     "metadata": {},
     "output_type": "execute_result"
    }
   ],
   "source": [
    "s"
   ]
  },
  {
   "cell_type": "code",
   "execution_count": 110,
   "id": "fffa3364-5d53-42f1-9133-b6e8493aeaed",
   "metadata": {},
   "outputs": [
    {
     "data": {
      "text/plain": [
       "array([[ 0,  1,  2,  3,  4],\n",
       "       [ 5,  6,  7,  8,  9],\n",
       "       [10, 11, 12, 13, 14]])"
      ]
     },
     "execution_count": 110,
     "metadata": {},
     "output_type": "execute_result"
    }
   ],
   "source": [
    "s1"
   ]
  },
  {
   "cell_type": "code",
   "execution_count": 111,
   "id": "5dff2eff-4ea2-4889-a8f9-fc28a9304b72",
   "metadata": {},
   "outputs": [
    {
     "data": {
      "text/plain": [
       "array([[[0, 1],\n",
       "        [2, 3]],\n",
       "\n",
       "       [[4, 5],\n",
       "        [6, 7]]])"
      ]
     },
     "execution_count": 111,
     "metadata": {},
     "output_type": "execute_result"
    }
   ],
   "source": [
    "s2"
   ]
  },
  {
   "cell_type": "code",
   "execution_count": 112,
   "id": "8132a775-5b83-4598-80bd-a4a6e7038199",
   "metadata": {},
   "outputs": [
    {
     "data": {
      "text/plain": [
       "array([0, 1, 2, 3, 4, 5, 6, 7, 8, 9])"
      ]
     },
     "execution_count": 112,
     "metadata": {},
     "output_type": "execute_result"
    }
   ],
   "source": [
    "# Indexing on 1D array\n",
    "s"
   ]
  },
  {
   "cell_type": "code",
   "execution_count": 113,
   "id": "275a8f7e-2c7d-441e-a14a-f165af8c5016",
   "metadata": {},
   "outputs": [
    {
     "data": {
      "text/plain": [
       "9"
      ]
     },
     "execution_count": 113,
     "metadata": {},
     "output_type": "execute_result"
    }
   ],
   "source": [
    "s[-1]"
   ]
  },
  {
   "cell_type": "code",
   "execution_count": 114,
   "id": "3dd78461-5875-4ec3-a3a6-d01b127912c6",
   "metadata": {},
   "outputs": [
    {
     "data": {
      "text/plain": [
       "array([0, 1, 2, 3, 4, 5])"
      ]
     },
     "execution_count": 114,
     "metadata": {},
     "output_type": "execute_result"
    }
   ],
   "source": [
    "s[:6]"
   ]
  },
  {
   "cell_type": "code",
   "execution_count": 115,
   "id": "b6bff12e-fc7e-499f-afc4-a2042aadb859",
   "metadata": {},
   "outputs": [
    {
     "data": {
      "text/plain": [
       "1"
      ]
     },
     "execution_count": 115,
     "metadata": {},
     "output_type": "execute_result"
    }
   ],
   "source": [
    "s[1]"
   ]
  },
  {
   "cell_type": "markdown",
   "id": "a26fd8bc-fa42-455e-8a07-8f7f05bfefe0",
   "metadata": {},
   "source": [
    "# Indexing on 2D array"
   ]
  },
  {
   "cell_type": "code",
   "execution_count": 116,
   "id": "c9ce3a1a-ba6e-40fd-9bce-73e600df6a50",
   "metadata": {},
   "outputs": [
    {
     "data": {
      "text/plain": [
       "array([[ 0,  1,  2,  3,  4],\n",
       "       [ 5,  6,  7,  8,  9],\n",
       "       [10, 11, 12, 13, 14]])"
      ]
     },
     "execution_count": 116,
     "metadata": {},
     "output_type": "execute_result"
    }
   ],
   "source": [
    "s1"
   ]
  },
  {
   "cell_type": "code",
   "execution_count": 117,
   "id": "75c8721e-066c-4b0a-aa99-c752fb235fc3",
   "metadata": {},
   "outputs": [
    {
     "data": {
      "text/plain": [
       "8"
      ]
     },
     "execution_count": 117,
     "metadata": {},
     "output_type": "execute_result"
    }
   ],
   "source": [
    "s1[1,3]"
   ]
  },
  {
   "cell_type": "code",
   "execution_count": 118,
   "id": "a0abe2fe-74f9-48e3-bba7-8b43bb21176a",
   "metadata": {},
   "outputs": [
    {
     "data": {
      "text/plain": [
       "array([[1, 2],\n",
       "       [6, 7]])"
      ]
     },
     "execution_count": 118,
     "metadata": {},
     "output_type": "execute_result"
    }
   ],
   "source": [
    "s1[0:2,1:3]"
   ]
  },
  {
   "cell_type": "markdown",
   "id": "e76325b4-258e-4729-ad94-5387e2a662ec",
   "metadata": {},
   "source": [
    "# Indexing on 3D array"
   ]
  },
  {
   "cell_type": "code",
   "execution_count": 119,
   "id": "7255fd18-60f1-499e-8e40-9f8f77dc816e",
   "metadata": {},
   "outputs": [
    {
     "data": {
      "text/plain": [
       "array([[[0, 1],\n",
       "        [2, 3]],\n",
       "\n",
       "       [[4, 5],\n",
       "        [6, 7]]])"
      ]
     },
     "execution_count": 119,
     "metadata": {},
     "output_type": "execute_result"
    }
   ],
   "source": [
    "s2"
   ]
  },
  {
   "cell_type": "code",
   "execution_count": 120,
   "id": "2ccf1621-bc6b-4997-b745-6a035e4f9a26",
   "metadata": {},
   "outputs": [
    {
     "data": {
      "text/plain": [
       "6"
      ]
     },
     "execution_count": 120,
     "metadata": {},
     "output_type": "execute_result"
    }
   ],
   "source": [
    "s2[1,1,0]"
   ]
  },
  {
   "cell_type": "code",
   "execution_count": 121,
   "id": "4aeb7186-ce5b-4a2e-a378-3bf269be3afc",
   "metadata": {},
   "outputs": [
    {
     "data": {
      "text/plain": [
       "2"
      ]
     },
     "execution_count": 121,
     "metadata": {},
     "output_type": "execute_result"
    }
   ],
   "source": [
    "s2[0,1,0]"
   ]
  },
  {
   "cell_type": "markdown",
   "id": "dac4e0b1-24fe-43ac-a24a-04ac5299258e",
   "metadata": {},
   "source": [
    "# Fetching multiple items"
   ]
  },
  {
   "cell_type": "markdown",
   "id": "2eb3cdd6-be2f-4335-93a1-0d51bffb75f9",
   "metadata": {},
   "source": [
    "**Slicing on 1D**"
   ]
  },
  {
   "cell_type": "code",
   "execution_count": 122,
   "id": "f71bcc87-1090-4cdf-9dd0-74f056b23035",
   "metadata": {},
   "outputs": [
    {
     "data": {
      "text/plain": [
       "array([0, 1, 2, 3, 4, 5, 6, 7, 8, 9])"
      ]
     },
     "execution_count": 122,
     "metadata": {},
     "output_type": "execute_result"
    }
   ],
   "source": [
    "s"
   ]
  },
  {
   "cell_type": "code",
   "execution_count": 123,
   "id": "c9f60fe7-2ca9-45d6-a569-af9716de481f",
   "metadata": {},
   "outputs": [
    {
     "data": {
      "text/plain": [
       "array([1, 2, 3, 4, 5, 6])"
      ]
     },
     "execution_count": 123,
     "metadata": {},
     "output_type": "execute_result"
    }
   ],
   "source": [
    "s[1:7]"
   ]
  },
  {
   "cell_type": "code",
   "execution_count": 124,
   "id": "488d00e8-b92c-4f53-9ff0-ab6e681e1a0b",
   "metadata": {},
   "outputs": [
    {
     "data": {
      "text/plain": [
       "array([2, 4])"
      ]
     },
     "execution_count": 124,
     "metadata": {},
     "output_type": "execute_result"
    }
   ],
   "source": [
    "s[2:5:2]"
   ]
  },
  {
   "cell_type": "markdown",
   "id": "370edd49-fb0a-4753-b40f-f8311c7440fb",
   "metadata": {},
   "source": [
    "**Slicing on 2D**"
   ]
  },
  {
   "cell_type": "code",
   "execution_count": 125,
   "id": "b22accbb-a8ae-4e17-9caa-ee893382fddb",
   "metadata": {},
   "outputs": [
    {
     "data": {
      "text/plain": [
       "array([[ 0,  1,  2,  3,  4],\n",
       "       [ 5,  6,  7,  8,  9],\n",
       "       [10, 11, 12, 13, 14]])"
      ]
     },
     "execution_count": 125,
     "metadata": {},
     "output_type": "execute_result"
    }
   ],
   "source": [
    "s1"
   ]
  },
  {
   "cell_type": "code",
   "execution_count": 126,
   "id": "4133609a-88d2-41fd-bc3c-e86e2193172a",
   "metadata": {},
   "outputs": [
    {
     "data": {
      "text/plain": [
       "array([0, 1, 2, 3, 4])"
      ]
     },
     "execution_count": 126,
     "metadata": {},
     "output_type": "execute_result"
    }
   ],
   "source": [
    "# fetching total first row\n",
    "s1[0,:]"
   ]
  },
  {
   "cell_type": "code",
   "execution_count": 127,
   "id": "bad91afe-92b4-4eaf-b164-4ee4a19fcbd6",
   "metadata": {},
   "outputs": [
    {
     "data": {
      "text/plain": [
       "array([10, 11, 12, 13, 14])"
      ]
     },
     "execution_count": 127,
     "metadata": {},
     "output_type": "execute_result"
    }
   ],
   "source": [
    "s1[2,:]"
   ]
  },
  {
   "cell_type": "code",
   "execution_count": 128,
   "id": "08ee6604-6ed2-4500-a3ff-a5aa661cd90a",
   "metadata": {},
   "outputs": [
    {
     "data": {
      "text/plain": [
       "array([ 2,  7, 12])"
      ]
     },
     "execution_count": 128,
     "metadata": {},
     "output_type": "execute_result"
    }
   ],
   "source": [
    "s1[:,2]"
   ]
  },
  {
   "cell_type": "code",
   "execution_count": 129,
   "id": "59ca1c08-d3ae-4ceb-94be-93dfe7ae8e95",
   "metadata": {},
   "outputs": [
    {
     "data": {
      "text/plain": [
       "array([[ 0,  1,  2,  3,  4],\n",
       "       [ 5,  6,  7,  8,  9],\n",
       "       [10, 11, 12, 13, 14]])"
      ]
     },
     "execution_count": 129,
     "metadata": {},
     "output_type": "execute_result"
    }
   ],
   "source": [
    "# Fetch 6,7 & 11,12\n",
    "s1"
   ]
  },
  {
   "cell_type": "code",
   "execution_count": 130,
   "id": "ee350d12-29a6-4509-a323-234fe1576156",
   "metadata": {},
   "outputs": [
    {
     "data": {
      "text/plain": [
       "array([[ 6,  7],\n",
       "       [11, 12]])"
      ]
     },
     "execution_count": 130,
     "metadata": {},
     "output_type": "execute_result"
    }
   ],
   "source": [
    "s1[1:,1:3]"
   ]
  },
  {
   "cell_type": "code",
   "execution_count": 131,
   "id": "1254167c-41af-420c-b547-97ac6aacf493",
   "metadata": {},
   "outputs": [
    {
     "data": {
      "text/plain": [
       "array([[ 5,  6,  7,  8,  9],\n",
       "       [10, 11, 12, 13, 14]])"
      ]
     },
     "execution_count": 131,
     "metadata": {},
     "output_type": "execute_result"
    }
   ],
   "source": [
    "s1[1:3]"
   ]
  },
  {
   "cell_type": "code",
   "execution_count": 132,
   "id": "e5d8986d-e229-469e-bd11-6e16b7fcec81",
   "metadata": {},
   "outputs": [
    {
     "data": {
      "text/plain": [
       "array([[ 0,  1,  2,  3,  4],\n",
       "       [ 5,  6,  7,  8,  9],\n",
       "       [10, 11, 12, 13, 14]])"
      ]
     },
     "execution_count": 132,
     "metadata": {},
     "output_type": "execute_result"
    }
   ],
   "source": [
    "s1"
   ]
  },
  {
   "cell_type": "code",
   "execution_count": 133,
   "id": "e0a67b59-374f-43db-a090-733bb5558584",
   "metadata": {},
   "outputs": [
    {
     "data": {
      "text/plain": [
       "array([[ 0,  4],\n",
       "       [10, 14]])"
      ]
     },
     "execution_count": 133,
     "metadata": {},
     "output_type": "execute_result"
    }
   ],
   "source": [
    "# Fetch 0,4 & 10,14\n",
    "s1[::2,::4]"
   ]
  },
  {
   "cell_type": "code",
   "execution_count": 134,
   "id": "29f2fa8b-4046-4a33-80e1-755728d03d08",
   "metadata": {},
   "outputs": [
    {
     "data": {
      "text/plain": [
       "array([[ 6,  9],\n",
       "       [11, 14]])"
      ]
     },
     "execution_count": 134,
     "metadata": {},
     "output_type": "execute_result"
    }
   ],
   "source": [
    "# Fetch 6,9 & 11,14\n",
    "s1[1:3,[1,4]]"
   ]
  },
  {
   "cell_type": "code",
   "execution_count": 135,
   "id": "57a8414a-2f6a-4dbd-824c-36a88c9346f2",
   "metadata": {},
   "outputs": [
    {
     "data": {
      "text/plain": [
       "array([[ 0,  1,  2,  3,  4],\n",
       "       [ 5,  6,  7,  8,  9],\n",
       "       [10, 11, 12, 13, 14]])"
      ]
     },
     "execution_count": 135,
     "metadata": {},
     "output_type": "execute_result"
    }
   ],
   "source": [
    "s1"
   ]
  },
  {
   "cell_type": "code",
   "execution_count": 136,
   "id": "6c1faee4-bf08-4ec1-abde-f360d856af06",
   "metadata": {},
   "outputs": [
    {
     "data": {
      "text/plain": [
       "array([[ 1,  3],\n",
       "       [11, 13]])"
      ]
     },
     "execution_count": 136,
     "metadata": {},
     "output_type": "execute_result"
    }
   ],
   "source": [
    "# fetch 1,3 & 11,13\n",
    "s1[::2,[1,3]]"
   ]
  },
  {
   "cell_type": "code",
   "execution_count": 137,
   "id": "312a95c8-49ef-4dde-b3f2-2ba990a8746a",
   "metadata": {},
   "outputs": [
    {
     "data": {
      "text/plain": [
       "array([[ 0,  1,  2,  3,  4],\n",
       "       [ 5,  6,  7,  8,  9],\n",
       "       [10, 11, 12, 13, 14]])"
      ]
     },
     "execution_count": 137,
     "metadata": {},
     "output_type": "execute_result"
    }
   ],
   "source": [
    "s1"
   ]
  },
  {
   "cell_type": "code",
   "execution_count": 138,
   "id": "639c8bf5-ed91-4893-a5f9-6609f4dba068",
   "metadata": {},
   "outputs": [
    {
     "data": {
      "text/plain": [
       "array([[ 1,  2],\n",
       "       [ 6,  7],\n",
       "       [11, 12]])"
      ]
     },
     "execution_count": 138,
     "metadata": {},
     "output_type": "execute_result"
    }
   ],
   "source": [
    "s1[0:3,1:3]"
   ]
  },
  {
   "cell_type": "code",
   "execution_count": 139,
   "id": "d660260e-374f-46f1-9d06-b2f2b036eeec",
   "metadata": {},
   "outputs": [
    {
     "data": {
      "text/plain": [
       "array([[ 0,  1,  2,  3,  4],\n",
       "       [ 5,  6,  7,  8,  9],\n",
       "       [10, 11, 12, 13, 14]])"
      ]
     },
     "execution_count": 139,
     "metadata": {},
     "output_type": "execute_result"
    }
   ],
   "source": [
    "s1\n"
   ]
  },
  {
   "cell_type": "code",
   "execution_count": 140,
   "id": "4191f462-afd8-469b-8f70-838d83472733",
   "metadata": {},
   "outputs": [
    {
     "data": {
      "text/plain": [
       "array([5, 9])"
      ]
     },
     "execution_count": 140,
     "metadata": {},
     "output_type": "execute_result"
    }
   ],
   "source": [
    "# fetch only 5 & 9\n",
    "s1[1,[0,4]]"
   ]
  },
  {
   "cell_type": "code",
   "execution_count": 141,
   "id": "e47dc471-2eca-49ca-9555-6a2c56467bb0",
   "metadata": {},
   "outputs": [
    {
     "data": {
      "text/plain": [
       "array([5, 9])"
      ]
     },
     "execution_count": 141,
     "metadata": {},
     "output_type": "execute_result"
    }
   ],
   "source": [
    "s1[1,::4]"
   ]
  },
  {
   "cell_type": "code",
   "execution_count": 142,
   "id": "c048f1d9-3c90-472c-a365-18a6f8655e93",
   "metadata": {},
   "outputs": [
    {
     "data": {
      "text/plain": [
       "array([[ 0,  1,  2,  3,  4],\n",
       "       [ 5,  6,  7,  8,  9],\n",
       "       [10, 11, 12, 13, 14]])"
      ]
     },
     "execution_count": 142,
     "metadata": {},
     "output_type": "execute_result"
    }
   ],
   "source": [
    "# fetch 2,3,4 & 7,8,9\n",
    "s1"
   ]
  },
  {
   "cell_type": "code",
   "execution_count": 143,
   "id": "486ca675-2862-452e-8243-3d83620b8ff4",
   "metadata": {},
   "outputs": [
    {
     "data": {
      "text/plain": [
       "array([[2, 3, 4],\n",
       "       [7, 8, 9]])"
      ]
     },
     "execution_count": 143,
     "metadata": {},
     "output_type": "execute_result"
    }
   ],
   "source": [
    "s1[0:2,[2,3,4]]"
   ]
  },
  {
   "cell_type": "code",
   "execution_count": 144,
   "id": "a639abb8-121c-440b-b8eb-e9f8129ab6a3",
   "metadata": {},
   "outputs": [
    {
     "data": {
      "text/plain": [
       "array([[2, 3, 4],\n",
       "       [7, 8, 9]])"
      ]
     },
     "execution_count": 144,
     "metadata": {},
     "output_type": "execute_result"
    }
   ],
   "source": [
    "s1[0:2,2:]"
   ]
  },
  {
   "cell_type": "code",
   "execution_count": 145,
   "id": "c05af30f-5145-4f77-8ba6-de67694b1bca",
   "metadata": {},
   "outputs": [
    {
     "data": {
      "text/plain": [
       "array([[ 0,  1,  2,  3,  4],\n",
       "       [ 5,  6,  7,  8,  9],\n",
       "       [10, 11, 12, 13, 14]])"
      ]
     },
     "execution_count": 145,
     "metadata": {},
     "output_type": "execute_result"
    }
   ],
   "source": [
    "# fetch 1,4 & 6,9\n",
    "s1"
   ]
  },
  {
   "cell_type": "code",
   "execution_count": 146,
   "id": "b86a60ab-2fe1-4037-a60a-1edbe2ff8bff",
   "metadata": {},
   "outputs": [
    {
     "data": {
      "text/plain": [
       "array([[1, 4],\n",
       "       [6, 9]])"
      ]
     },
     "execution_count": 146,
     "metadata": {},
     "output_type": "execute_result"
    }
   ],
   "source": [
    "s1[0:2,[1,4]]"
   ]
  },
  {
   "cell_type": "code",
   "execution_count": 147,
   "id": "ee8ab8b5-6edd-4571-a1f0-f4c9b755556f",
   "metadata": {},
   "outputs": [
    {
     "data": {
      "text/plain": [
       "array([[1, 4],\n",
       "       [6, 9]])"
      ]
     },
     "execution_count": 147,
     "metadata": {},
     "output_type": "execute_result"
    }
   ],
   "source": [
    "s1[0:2,1::3]"
   ]
  },
  {
   "cell_type": "markdown",
   "id": "69282a18-f102-407d-9053-12bc8bcb82dd",
   "metadata": {},
   "source": [
    "# Slicing in 3D"
   ]
  },
  {
   "cell_type": "code",
   "execution_count": 148,
   "id": "7ef5c8af-9490-4270-8722-1d809df419e1",
   "metadata": {},
   "outputs": [],
   "source": [
    "s3 = np.arange(27).reshape(3,3,3)"
   ]
  },
  {
   "cell_type": "code",
   "execution_count": 149,
   "id": "9dd8a95e-3670-44bf-aa07-f61f1636d687",
   "metadata": {},
   "outputs": [
    {
     "data": {
      "text/plain": [
       "array([[[ 0,  1,  2],\n",
       "        [ 3,  4,  5],\n",
       "        [ 6,  7,  8]],\n",
       "\n",
       "       [[ 9, 10, 11],\n",
       "        [12, 13, 14],\n",
       "        [15, 16, 17]],\n",
       "\n",
       "       [[18, 19, 20],\n",
       "        [21, 22, 23],\n",
       "        [24, 25, 26]]])"
      ]
     },
     "execution_count": 149,
     "metadata": {},
     "output_type": "execute_result"
    }
   ],
   "source": [
    "s3"
   ]
  },
  {
   "cell_type": "code",
   "execution_count": 150,
   "id": "81e7e7ee-c7f3-4edd-aec3-28dc4ca28567",
   "metadata": {},
   "outputs": [
    {
     "data": {
      "text/plain": [
       "array([[ 9, 10, 11],\n",
       "       [12, 13, 14],\n",
       "       [15, 16, 17]])"
      ]
     },
     "execution_count": 150,
     "metadata": {},
     "output_type": "execute_result"
    }
   ],
   "source": [
    "# Fetch second matrix\n",
    "s3[1]"
   ]
  },
  {
   "cell_type": "code",
   "execution_count": 151,
   "id": "29f1f60e-f3e9-4189-a427-f81040157ca3",
   "metadata": {},
   "outputs": [
    {
     "data": {
      "text/plain": [
       "array([[[ 0,  1,  2],\n",
       "        [ 3,  4,  5],\n",
       "        [ 6,  7,  8]],\n",
       "\n",
       "       [[18, 19, 20],\n",
       "        [21, 22, 23],\n",
       "        [24, 25, 26]]])"
      ]
     },
     "execution_count": 151,
     "metadata": {},
     "output_type": "execute_result"
    }
   ],
   "source": [
    "# fetch 1st & last matrix\n",
    "s3[0:3:2]"
   ]
  },
  {
   "cell_type": "code",
   "execution_count": 152,
   "id": "45cba493-49dd-4af8-89fe-13289aa24c31",
   "metadata": {},
   "outputs": [
    {
     "data": {
      "text/plain": [
       "array([[[ 0,  1,  2],\n",
       "        [ 3,  4,  5],\n",
       "        [ 6,  7,  8]],\n",
       "\n",
       "       [[ 9, 10, 11],\n",
       "        [12, 13, 14],\n",
       "        [15, 16, 17]],\n",
       "\n",
       "       [[18, 19, 20],\n",
       "        [21, 22, 23],\n",
       "        [24, 25, 26]]])"
      ]
     },
     "execution_count": 152,
     "metadata": {},
     "output_type": "execute_result"
    }
   ],
   "source": [
    "#  Fetch 1st numpy array's 2 row ---> 3,4,5 \n",
    "s3"
   ]
  },
  {
   "cell_type": "code",
   "execution_count": 153,
   "id": "859c764a-5437-4b6a-a741-94cd07cd7761",
   "metadata": {},
   "outputs": [
    {
     "data": {
      "text/plain": [
       "array([3, 4, 5])"
      ]
     },
     "execution_count": 153,
     "metadata": {},
     "output_type": "execute_result"
    }
   ],
   "source": [
    "s3[0,1,:]"
   ]
  },
  {
   "cell_type": "code",
   "execution_count": 154,
   "id": "346ade9c-511b-4e62-beaf-addfaa600eb4",
   "metadata": {},
   "outputs": [
    {
     "data": {
      "text/plain": [
       "array([[[ 0,  1,  2],\n",
       "        [ 3,  4,  5],\n",
       "        [ 6,  7,  8]],\n",
       "\n",
       "       [[ 9, 10, 11],\n",
       "        [12, 13, 14],\n",
       "        [15, 16, 17]],\n",
       "\n",
       "       [[18, 19, 20],\n",
       "        [21, 22, 23],\n",
       "        [24, 25, 26]]])"
      ]
     },
     "execution_count": 154,
     "metadata": {},
     "output_type": "execute_result"
    }
   ],
   "source": [
    "# Fetch 2nd numpy array ,middle column ---> 10,13,16\n",
    "s3"
   ]
  },
  {
   "cell_type": "code",
   "execution_count": 155,
   "id": "5dd09bbf-2dc1-4834-8f74-3d3392bb6ebe",
   "metadata": {},
   "outputs": [
    {
     "data": {
      "text/plain": [
       "array([10, 13, 16])"
      ]
     },
     "execution_count": 155,
     "metadata": {},
     "output_type": "execute_result"
    }
   ],
   "source": [
    "s3[1,:,1]"
   ]
  },
  {
   "cell_type": "code",
   "execution_count": 156,
   "id": "5c6bff35-e561-4154-bc3c-9845696cb0af",
   "metadata": {},
   "outputs": [
    {
     "data": {
      "text/plain": [
       "array([[[ 0,  1,  2],\n",
       "        [ 3,  4,  5],\n",
       "        [ 6,  7,  8]],\n",
       "\n",
       "       [[ 9, 10, 11],\n",
       "        [12, 13, 14],\n",
       "        [15, 16, 17]],\n",
       "\n",
       "       [[18, 19, 20],\n",
       "        [21, 22, 23],\n",
       "        [24, 25, 26]]])"
      ]
     },
     "execution_count": 156,
     "metadata": {},
     "output_type": "execute_result"
    }
   ],
   "source": [
    "#  Fetch 3rd array--->22,23,25,26 \n",
    "s3"
   ]
  },
  {
   "cell_type": "code",
   "execution_count": 157,
   "id": "460dd0b1-4fc7-402c-8128-01a885e071dd",
   "metadata": {},
   "outputs": [
    {
     "data": {
      "text/plain": [
       "array([[22, 23],\n",
       "       [25, 26]])"
      ]
     },
     "execution_count": 157,
     "metadata": {},
     "output_type": "execute_result"
    }
   ],
   "source": [
    "s3[2,1:,1:]"
   ]
  },
  {
   "cell_type": "code",
   "execution_count": 158,
   "id": "9539a59b-6345-4137-8917-a61f9fbe1dcd",
   "metadata": {},
   "outputs": [
    {
     "data": {
      "text/plain": [
       "array([[[ 0,  1,  2],\n",
       "        [ 3,  4,  5],\n",
       "        [ 6,  7,  8]],\n",
       "\n",
       "       [[ 9, 10, 11],\n",
       "        [12, 13, 14],\n",
       "        [15, 16, 17]],\n",
       "\n",
       "       [[18, 19, 20],\n",
       "        [21, 22, 23],\n",
       "        [24, 25, 26]]])"
      ]
     },
     "execution_count": 158,
     "metadata": {},
     "output_type": "execute_result"
    }
   ],
   "source": [
    "# Fetch 0, 2, 18 , 20 \n",
    "s3"
   ]
  },
  {
   "cell_type": "code",
   "execution_count": 159,
   "id": "cd8b1ec6-278a-4f00-ada1-fb8e901da03d",
   "metadata": {},
   "outputs": [
    {
     "data": {
      "text/plain": [
       "array([[ 0,  2],\n",
       "       [18, 20]])"
      ]
     },
     "execution_count": 159,
     "metadata": {},
     "output_type": "execute_result"
    }
   ],
   "source": [
    "s3[0:3:2,0,::2]"
   ]
  },
  {
   "cell_type": "code",
   "execution_count": 160,
   "id": "a9c7ee10-9860-469e-a9b1-a10aabef1752",
   "metadata": {},
   "outputs": [
    {
     "data": {
      "text/plain": [
       "array([[ 0,  2],\n",
       "       [18, 20]])"
      ]
     },
     "execution_count": 160,
     "metadata": {},
     "output_type": "execute_result"
    }
   ],
   "source": [
    "s3[0:3:2,0,[0,2]]"
   ]
  },
  {
   "cell_type": "markdown",
   "id": "86a6c0c3-ad80-4e0e-8cbb-0971ed245dbe",
   "metadata": {},
   "source": [
    "# Itrating"
   ]
  },
  {
   "cell_type": "code",
   "execution_count": 161,
   "id": "db1de967-11f5-4213-af23-f5304971f66c",
   "metadata": {},
   "outputs": [
    {
     "data": {
      "text/plain": [
       "array([0, 1, 2, 3, 4, 5, 6, 7, 8, 9])"
      ]
     },
     "execution_count": 161,
     "metadata": {},
     "output_type": "execute_result"
    }
   ],
   "source": [
    "s"
   ]
  },
  {
   "cell_type": "code",
   "execution_count": 162,
   "id": "b17c6146-c6ee-4cc6-838b-73162d07da85",
   "metadata": {},
   "outputs": [
    {
     "name": "stdout",
     "output_type": "stream",
     "text": [
      "0\n",
      "1\n",
      "2\n",
      "3\n",
      "4\n",
      "5\n",
      "6\n",
      "7\n",
      "8\n",
      "9\n"
     ]
    }
   ],
   "source": [
    "# looping on 1D array\n",
    "for i in s:\n",
    "    print(i)"
   ]
  },
  {
   "cell_type": "code",
   "execution_count": 163,
   "id": "47036b59-6efa-47a5-9ffc-27ffd51d66f0",
   "metadata": {},
   "outputs": [
    {
     "data": {
      "text/plain": [
       "array([[ 0,  1,  2,  3,  4],\n",
       "       [ 5,  6,  7,  8,  9],\n",
       "       [10, 11, 12, 13, 14]])"
      ]
     },
     "execution_count": 163,
     "metadata": {},
     "output_type": "execute_result"
    }
   ],
   "source": [
    "s1"
   ]
  },
  {
   "cell_type": "code",
   "execution_count": 164,
   "id": "c50c1d12-2243-4dd1-8c48-f8e7462fff6c",
   "metadata": {},
   "outputs": [
    {
     "name": "stdout",
     "output_type": "stream",
     "text": [
      "[0 1 2 3 4]\n",
      "[5 6 7 8 9]\n",
      "[10 11 12 13 14]\n"
     ]
    }
   ],
   "source": [
    "# Looping on 2D array\n",
    "for i in s1:\n",
    "    print(i)"
   ]
  },
  {
   "cell_type": "code",
   "execution_count": 165,
   "id": "e13f4930-aae1-4610-a5b2-cd4306674f3d",
   "metadata": {},
   "outputs": [
    {
     "data": {
      "text/plain": [
       "array([[[ 0,  1,  2],\n",
       "        [ 3,  4,  5],\n",
       "        [ 6,  7,  8]],\n",
       "\n",
       "       [[ 9, 10, 11],\n",
       "        [12, 13, 14],\n",
       "        [15, 16, 17]],\n",
       "\n",
       "       [[18, 19, 20],\n",
       "        [21, 22, 23],\n",
       "        [24, 25, 26]]])"
      ]
     },
     "execution_count": 165,
     "metadata": {},
     "output_type": "execute_result"
    }
   ],
   "source": [
    "s3"
   ]
  },
  {
   "cell_type": "code",
   "execution_count": 166,
   "id": "b80a7cf8-3b32-401a-9a27-a59e6ea699fc",
   "metadata": {},
   "outputs": [
    {
     "name": "stdout",
     "output_type": "stream",
     "text": [
      "[[0 1 2]\n",
      " [3 4 5]\n",
      " [6 7 8]]\n",
      "[[ 9 10 11]\n",
      " [12 13 14]\n",
      " [15 16 17]]\n",
      "[[18 19 20]\n",
      " [21 22 23]\n",
      " [24 25 26]]\n"
     ]
    }
   ],
   "source": [
    "# Looping on 3D array\n",
    "for i in s3:\n",
    "    print(i)"
   ]
  },
  {
   "cell_type": "code",
   "execution_count": 167,
   "id": "25a21ed3-4a59-46e1-988c-892276e29f6b",
   "metadata": {},
   "outputs": [
    {
     "name": "stdout",
     "output_type": "stream",
     "text": [
      "0\n",
      "1\n",
      "2\n",
      "3\n",
      "4\n",
      "5\n",
      "6\n",
      "7\n",
      "8\n",
      "9\n",
      "10\n",
      "11\n",
      "12\n",
      "13\n",
      "14\n",
      "15\n",
      "16\n",
      "17\n",
      "18\n",
      "19\n",
      "20\n",
      "21\n",
      "22\n",
      "23\n",
      "24\n",
      "25\n",
      "26\n"
     ]
    }
   ],
   "source": [
    "# print all items in 3D using nditer ---- > first convert in to 1D and applying Loop\n",
    "for i in np.nditer(s3):\n",
    "    print(i)\n"
   ]
  },
  {
   "cell_type": "code",
   "execution_count": 168,
   "id": "e7c3417d-1901-49b3-a7af-009185713c91",
   "metadata": {},
   "outputs": [
    {
     "data": {
      "text/plain": [
       "array([[ 0,  1,  2,  3,  4],\n",
       "       [ 5,  6,  7,  8,  9],\n",
       "       [10, 11, 12, 13, 14]])"
      ]
     },
     "execution_count": 168,
     "metadata": {},
     "output_type": "execute_result"
    }
   ],
   "source": [
    "s1"
   ]
  },
  {
   "cell_type": "markdown",
   "id": "5056972d-2c40-42af-acee-d905c55abfa4",
   "metadata": {},
   "source": [
    "# Transpose"
   ]
  },
  {
   "cell_type": "code",
   "execution_count": 169,
   "id": "a01891cb-8274-4f9c-b7f8-03978bc9e769",
   "metadata": {},
   "outputs": [
    {
     "data": {
      "text/plain": [
       "array([[ 0,  5, 10],\n",
       "       [ 1,  6, 11],\n",
       "       [ 2,  7, 12],\n",
       "       [ 3,  8, 13],\n",
       "       [ 4,  9, 14]])"
      ]
     },
     "execution_count": 169,
     "metadata": {},
     "output_type": "execute_result"
    }
   ],
   "source": [
    "np.transpose(s1)"
   ]
  },
  {
   "cell_type": "code",
   "execution_count": 170,
   "id": "f5a2ab9e-a32e-4838-96c2-af5683babac6",
   "metadata": {},
   "outputs": [
    {
     "data": {
      "text/plain": [
       "array([[ 0,  5, 10],\n",
       "       [ 1,  6, 11],\n",
       "       [ 2,  7, 12],\n",
       "       [ 3,  8, 13],\n",
       "       [ 4,  9, 14]])"
      ]
     },
     "execution_count": 170,
     "metadata": {},
     "output_type": "execute_result"
    }
   ],
   "source": [
    "s1.T"
   ]
  },
  {
   "cell_type": "code",
   "execution_count": 171,
   "id": "a5d209ad-4abf-4a52-a8f6-3e8542e4974c",
   "metadata": {},
   "outputs": [
    {
     "data": {
      "text/plain": [
       "array([[[ 0,  1,  2],\n",
       "        [ 3,  4,  5],\n",
       "        [ 6,  7,  8]],\n",
       "\n",
       "       [[ 9, 10, 11],\n",
       "        [12, 13, 14],\n",
       "        [15, 16, 17]],\n",
       "\n",
       "       [[18, 19, 20],\n",
       "        [21, 22, 23],\n",
       "        [24, 25, 26]]])"
      ]
     },
     "execution_count": 171,
     "metadata": {},
     "output_type": "execute_result"
    }
   ],
   "source": [
    "s3"
   ]
  },
  {
   "cell_type": "code",
   "execution_count": 172,
   "id": "667d8649-fb86-498d-96de-05910c899afb",
   "metadata": {},
   "outputs": [
    {
     "data": {
      "text/plain": [
       "array([[[ 0,  9, 18],\n",
       "        [ 3, 12, 21],\n",
       "        [ 6, 15, 24]],\n",
       "\n",
       "       [[ 1, 10, 19],\n",
       "        [ 4, 13, 22],\n",
       "        [ 7, 16, 25]],\n",
       "\n",
       "       [[ 2, 11, 20],\n",
       "        [ 5, 14, 23],\n",
       "        [ 8, 17, 26]]])"
      ]
     },
     "execution_count": 172,
     "metadata": {},
     "output_type": "execute_result"
    }
   ],
   "source": [
    "s3.T"
   ]
  },
  {
   "cell_type": "markdown",
   "id": "6abc7eb1-3466-4ccf-b1e7-30a92b114046",
   "metadata": {},
   "source": [
    "# Ravel\n",
    "* Converting any dimensions to 1D"
   ]
  },
  {
   "cell_type": "code",
   "execution_count": 173,
   "id": "f769d42b-f0ed-42ac-9b68-492d81d0d1d9",
   "metadata": {},
   "outputs": [
    {
     "data": {
      "text/plain": [
       "array([[[ 0,  1,  2],\n",
       "        [ 3,  4,  5],\n",
       "        [ 6,  7,  8]],\n",
       "\n",
       "       [[ 9, 10, 11],\n",
       "        [12, 13, 14],\n",
       "        [15, 16, 17]],\n",
       "\n",
       "       [[18, 19, 20],\n",
       "        [21, 22, 23],\n",
       "        [24, 25, 26]]])"
      ]
     },
     "execution_count": 173,
     "metadata": {},
     "output_type": "execute_result"
    }
   ],
   "source": [
    "s3"
   ]
  },
  {
   "cell_type": "code",
   "execution_count": 174,
   "id": "b192de14-73c6-44c5-ab2a-21880f7264d5",
   "metadata": {},
   "outputs": [
    {
     "data": {
      "text/plain": [
       "array([ 0,  1,  2,  3,  4,  5,  6,  7,  8,  9, 10, 11, 12, 13, 14, 15, 16,\n",
       "       17, 18, 19, 20, 21, 22, 23, 24, 25, 26])"
      ]
     },
     "execution_count": 174,
     "metadata": {},
     "output_type": "execute_result"
    }
   ],
   "source": [
    "s3.ravel()"
   ]
  },
  {
   "cell_type": "code",
   "execution_count": 175,
   "id": "8aef1775-d585-4792-bcd8-fc3d25b5e220",
   "metadata": {},
   "outputs": [
    {
     "data": {
      "text/plain": [
       "array([ 0,  1,  2,  3,  4,  5,  6,  7,  8,  9, 10, 11, 12, 13, 14])"
      ]
     },
     "execution_count": 175,
     "metadata": {},
     "output_type": "execute_result"
    }
   ],
   "source": [
    "s1.ravel()"
   ]
  },
  {
   "cell_type": "markdown",
   "id": "3f7a54be-ea74-4bd5-a875-7bb1fc724eea",
   "metadata": {},
   "source": [
    "# Stacking\n",
    "* Stacking is the concept of joining arrays in NumPy. Arrays having the same dimensions can be stacked."
   ]
  },
  {
   "cell_type": "markdown",
   "id": "c69db780-7965-4f4f-8096-6de90de035a8",
   "metadata": {},
   "source": [
    "### Horizontal stacking"
   ]
  },
  {
   "cell_type": "code",
   "execution_count": 176,
   "id": "6adcec0c-f25d-40e5-9370-af7dc92e3880",
   "metadata": {},
   "outputs": [],
   "source": [
    "w1 = np.arange(15).reshape(3,5)\n",
    "w2 = np.arange(15,30).reshape(3,5)"
   ]
  },
  {
   "cell_type": "code",
   "execution_count": 177,
   "id": "8727ac54-de6e-4238-bb5f-f483dfca559e",
   "metadata": {},
   "outputs": [
    {
     "data": {
      "text/plain": [
       "array([[ 0,  1,  2,  3,  4],\n",
       "       [ 5,  6,  7,  8,  9],\n",
       "       [10, 11, 12, 13, 14]])"
      ]
     },
     "execution_count": 177,
     "metadata": {},
     "output_type": "execute_result"
    }
   ],
   "source": [
    "w1"
   ]
  },
  {
   "cell_type": "code",
   "execution_count": 178,
   "id": "fd8dddd8-1cbf-48e7-bc4c-9e2e2bc736d9",
   "metadata": {},
   "outputs": [
    {
     "data": {
      "text/plain": [
       "array([[15, 16, 17, 18, 19],\n",
       "       [20, 21, 22, 23, 24],\n",
       "       [25, 26, 27, 28, 29]])"
      ]
     },
     "execution_count": 178,
     "metadata": {},
     "output_type": "execute_result"
    }
   ],
   "source": [
    "w2"
   ]
  },
  {
   "cell_type": "code",
   "execution_count": 179,
   "id": "0b055b71-0b64-48fd-818a-0149b51e92d4",
   "metadata": {},
   "outputs": [
    {
     "data": {
      "text/plain": [
       "array([[ 0,  1,  2,  3,  4, 15, 16, 17, 18, 19],\n",
       "       [ 5,  6,  7,  8,  9, 20, 21, 22, 23, 24],\n",
       "       [10, 11, 12, 13, 14, 25, 26, 27, 28, 29]])"
      ]
     },
     "execution_count": 179,
     "metadata": {},
     "output_type": "execute_result"
    }
   ],
   "source": [
    "np.hstack((w1,w2))"
   ]
  },
  {
   "cell_type": "markdown",
   "id": "a6fdece3-dcd4-4b62-a499-d9963901c8ae",
   "metadata": {},
   "source": [
    "### Vertical stacking"
   ]
  },
  {
   "cell_type": "code",
   "execution_count": 180,
   "id": "c3766ef0-16c8-4fb0-8f40-e648b7395162",
   "metadata": {},
   "outputs": [
    {
     "data": {
      "text/plain": [
       "array([[ 0,  1,  2,  3,  4],\n",
       "       [ 5,  6,  7,  8,  9],\n",
       "       [10, 11, 12, 13, 14],\n",
       "       [15, 16, 17, 18, 19],\n",
       "       [20, 21, 22, 23, 24],\n",
       "       [25, 26, 27, 28, 29]])"
      ]
     },
     "execution_count": 180,
     "metadata": {},
     "output_type": "execute_result"
    }
   ],
   "source": [
    "np.vstack((w1,w2))"
   ]
  },
  {
   "cell_type": "markdown",
   "id": "6466aeab-0929-469b-a6e2-2f9a0136e78d",
   "metadata": {},
   "source": [
    "# Spliting\n",
    "* Splitting is opppsite of stacking"
   ]
  },
  {
   "cell_type": "markdown",
   "id": "857690ca-08a5-4819-b800-12551a22995d",
   "metadata": {},
   "source": [
    "### Horizontal splitting"
   ]
  },
  {
   "cell_type": "code",
   "execution_count": 181,
   "id": "c61136e9-c651-4528-bc7d-06bcc3080bb8",
   "metadata": {},
   "outputs": [
    {
     "data": {
      "text/plain": [
       "array([[ 0,  1,  2,  3,  4],\n",
       "       [ 5,  6,  7,  8,  9],\n",
       "       [10, 11, 12, 13, 14]])"
      ]
     },
     "execution_count": 181,
     "metadata": {},
     "output_type": "execute_result"
    }
   ],
   "source": [
    "w1"
   ]
  },
  {
   "cell_type": "code",
   "execution_count": 182,
   "id": "cae551f1-7c15-4eb2-a791-58b0b0a3e932",
   "metadata": {},
   "outputs": [
    {
     "data": {
      "text/plain": [
       "array([[15, 16, 17, 18, 19],\n",
       "       [20, 21, 22, 23, 24],\n",
       "       [25, 26, 27, 28, 29]])"
      ]
     },
     "execution_count": 182,
     "metadata": {},
     "output_type": "execute_result"
    }
   ],
   "source": [
    "w2"
   ]
  },
  {
   "cell_type": "code",
   "execution_count": 183,
   "id": "d1e45063-cbec-4062-9c24-684a616824ce",
   "metadata": {},
   "outputs": [
    {
     "data": {
      "text/plain": [
       "[array([[ 0],\n",
       "        [ 5],\n",
       "        [10]]),\n",
       " array([[ 1],\n",
       "        [ 6],\n",
       "        [11]]),\n",
       " array([[ 2],\n",
       "        [ 7],\n",
       "        [12]]),\n",
       " array([[ 3],\n",
       "        [ 8],\n",
       "        [13]]),\n",
       " array([[ 4],\n",
       "        [ 9],\n",
       "        [14]])]"
      ]
     },
     "execution_count": 183,
     "metadata": {},
     "output_type": "execute_result"
    }
   ],
   "source": [
    "np.hsplit(w1,5)"
   ]
  },
  {
   "cell_type": "markdown",
   "id": "d4552c4a-9f4c-488e-9436-d27b4ac08e6a",
   "metadata": {},
   "source": [
    "### Vertical spliting"
   ]
  },
  {
   "cell_type": "code",
   "execution_count": 184,
   "id": "a0612f29-fedb-49bc-b2d5-978f2213dfe2",
   "metadata": {},
   "outputs": [
    {
     "data": {
      "text/plain": [
       "array([[15, 16, 17, 18, 19],\n",
       "       [20, 21, 22, 23, 24],\n",
       "       [25, 26, 27, 28, 29]])"
      ]
     },
     "execution_count": 184,
     "metadata": {},
     "output_type": "execute_result"
    }
   ],
   "source": [
    "w2"
   ]
  },
  {
   "cell_type": "code",
   "execution_count": 185,
   "id": "998a1ae2-55c1-4222-a840-e0410b34a4e2",
   "metadata": {},
   "outputs": [
    {
     "data": {
      "text/plain": [
       "[array([[15, 16, 17, 18, 19]]),\n",
       " array([[20, 21, 22, 23, 24]]),\n",
       " array([[25, 26, 27, 28, 29]])]"
      ]
     },
     "execution_count": 185,
     "metadata": {},
     "output_type": "execute_result"
    }
   ],
   "source": [
    "np.vsplit(w2,3)"
   ]
  },
  {
   "cell_type": "markdown",
   "id": "7cda375f-b2c3-45f3-86e4-9be6051db8b4",
   "metadata": {},
   "source": [
    "# Numpy Arrays Vs Python Sequences \n",
    "* **NumPy** arrays have a fixed size at creation, unlike Python lists (which can grow dynamically). \n",
    "* Changing the size of an ndarray will create a new array and delete the original. \n",
    " \n",
    " \n",
    " \n",
    "* The elements in a **NumPy** array are all required to be of the same data type, and thus will be the same size in memory. \n",
    "* **NumPy** arrays facilitate advanced mathematical and other types of operations on large numbers of data. Typically, such operations are executed more efficiently and with less code than is possible using Python’s built-in sequences. \n",
    "\n",
    "* A growing plethora of scientific and mathematical Python-based packages are using NumPy arrays; though these typically support Python-sequence input, they convert such input to **NumPy** arrays prior to processing, and they often output NumPy arrays."
   ]
  },
  {
   "cell_type": "markdown",
   "id": "a81e1bef-7270-4c06-92c0-b29dbc8d853f",
   "metadata": {},
   "source": [
    "# Speed of List vs Numpy"
   ]
  },
  {
   "cell_type": "markdown",
   "id": "352b651d-543e-45da-bb57-5a37d9672665",
   "metadata": {},
   "source": [
    "### Element-wise addition"
   ]
  },
  {
   "cell_type": "code",
   "execution_count": 186,
   "id": "1505e630-c963-4511-b798-18a252c6ac43",
   "metadata": {},
   "outputs": [
    {
     "name": "stdout",
     "output_type": "stream",
     "text": [
      "0.1919102668762207\n"
     ]
    }
   ],
   "source": [
    "# Using List\n",
    "a = [i for i in range(1000000)]\n",
    "b = [i for i in range(1000000,2000000)]\n",
    "c = []\n",
    "\n",
    "import time\n",
    "\n",
    "start = time.time()\n",
    "\n",
    "for i in range(len(a)):\n",
    "    c.append(a[i] + b[i])\n",
    "\n",
    "print(time.time()-start)"
   ]
  },
  {
   "cell_type": "code",
   "execution_count": 187,
   "id": "3219b6df-9a0a-4076-a83a-8a4e5c2867e9",
   "metadata": {},
   "outputs": [
    {
     "name": "stdout",
     "output_type": "stream",
     "text": [
      "0.011500835418701172\n"
     ]
    }
   ],
   "source": [
    "# Using Numpy\n",
    "import numpy as np\n",
    "\n",
    "a = np.arange(1000000)\n",
    "b = np.arange(1000000,2000000)\n",
    "\n",
    "start = time.time()\n",
    "c = a + b\n",
    "\n",
    "print(time.time() - start)"
   ]
  },
  {
   "cell_type": "markdown",
   "id": "2d2f25dd-7dd0-4f8a-8b99-9d1ec7a55413",
   "metadata": {},
   "source": [
    "* So ,Numpy is Faster than Normal Python programming ,we can see in above Example. \n",
    "because Numpy uses C type array"
   ]
  },
  {
   "cell_type": "markdown",
   "id": "b9733c40-f781-4d63-b250-9e93ac6a3065",
   "metadata": {},
   "source": [
    "# Memory Used for List Vs Numpy "
   ]
  },
  {
   "cell_type": "markdown",
   "id": "9ced9ea8-e14f-4d98-a472-6aebc67d3ba7",
   "metadata": {},
   "source": [
    "### List\n"
   ]
  },
  {
   "cell_type": "code",
   "execution_count": 188,
   "id": "59c446bc-2cad-4ff3-a7c2-134dfef46d34",
   "metadata": {},
   "outputs": [
    {
     "data": {
      "text/plain": [
       "8448728"
      ]
     },
     "execution_count": 188,
     "metadata": {},
     "output_type": "execute_result"
    }
   ],
   "source": [
    "p = [i for i in range(1000000)]\n",
    "import sys\n",
    "sys.getsizeof(p)"
   ]
  },
  {
   "cell_type": "markdown",
   "id": "f4cd717c-c472-48c4-bcfb-c61a9aabb460",
   "metadata": {},
   "source": [
    "### Numpy"
   ]
  },
  {
   "cell_type": "code",
   "execution_count": 189,
   "id": "d07f6035-5b0c-452a-88e0-6694d56407a2",
   "metadata": {},
   "outputs": [
    {
     "data": {
      "text/plain": [
       "4000112"
      ]
     },
     "execution_count": 189,
     "metadata": {},
     "output_type": "execute_result"
    }
   ],
   "source": [
    "r  = np.arange(1000000,dtype = int)\n",
    "sys.getsizeof(r)"
   ]
  },
  {
   "cell_type": "markdown",
   "id": "f232eabe-7da9-4acc-a139-b9b244b0f0e1",
   "metadata": {},
   "source": [
    "# Advance Indexing and Slicing "
   ]
  },
  {
   "cell_type": "code",
   "execution_count": 190,
   "id": "871c3f13-462f-4742-9f34-7d594d930be3",
   "metadata": {},
   "outputs": [
    {
     "data": {
      "text/plain": [
       "array([[ 0,  1,  2],\n",
       "       [ 3,  4,  5],\n",
       "       [ 6,  7,  8],\n",
       "       [ 9, 10, 11]])"
      ]
     },
     "execution_count": 190,
     "metadata": {},
     "output_type": "execute_result"
    }
   ],
   "source": [
    "# Normal Indexing and slicing\n",
    "\n",
    "w = np.arange(12).reshape(4,3)\n",
    "w"
   ]
  },
  {
   "cell_type": "code",
   "execution_count": 191,
   "id": "1dfc472f-be85-4f84-958e-9679bd1a5411",
   "metadata": {},
   "outputs": [
    {
     "data": {
      "text/plain": [
       "5"
      ]
     },
     "execution_count": 191,
     "metadata": {},
     "output_type": "execute_result"
    }
   ],
   "source": [
    "# Fetching 5 from array\n",
    "w[1,2]"
   ]
  },
  {
   "cell_type": "code",
   "execution_count": 192,
   "id": "6117d84d-bb51-486e-83c7-98f2075eb64e",
   "metadata": {},
   "outputs": [
    {
     "data": {
      "text/plain": [
       "array([[4, 5],\n",
       "       [7, 8]])"
      ]
     },
     "execution_count": 192,
     "metadata": {},
     "output_type": "execute_result"
    }
   ],
   "source": [
    "#  Fetching 4,5,7,8 \n",
    "w[1:3,1:3]"
   ]
  },
  {
   "cell_type": "markdown",
   "id": "ec5e3b9a-25b6-4b40-99b1-e39061090fed",
   "metadata": {},
   "source": [
    "# Fancy Indexing \n",
    " \n",
    "* Fancy indexing allows you to select or modify specific elements based on complex conditions or combinations of indices. It provides a powerful way to manipulate array data in NumPy."
   ]
  },
  {
   "cell_type": "code",
   "execution_count": 193,
   "id": "4661047b-acb6-4c5e-b98e-373f7d6bc67b",
   "metadata": {},
   "outputs": [
    {
     "data": {
      "text/plain": [
       "array([[ 0,  1,  2],\n",
       "       [ 3,  4,  5],\n",
       "       [ 6,  7,  8],\n",
       "       [ 9, 10, 11]])"
      ]
     },
     "execution_count": 193,
     "metadata": {},
     "output_type": "execute_result"
    }
   ],
   "source": [
    "w"
   ]
  },
  {
   "cell_type": "code",
   "execution_count": 194,
   "id": "d972ad10-d437-479b-b584-4fce3de063f3",
   "metadata": {},
   "outputs": [
    {
     "data": {
      "text/plain": [
       "array([[ 0,  1,  2],\n",
       "       [ 6,  7,  8],\n",
       "       [ 9, 10, 11]])"
      ]
     },
     "execution_count": 194,
     "metadata": {},
     "output_type": "execute_result"
    }
   ],
   "source": [
    "# Fetch 1,3,4 row\n",
    "w[[0,2,3]]"
   ]
  },
  {
   "cell_type": "code",
   "execution_count": 195,
   "id": "08709f8b-cc63-4954-997e-4f3c998cce4d",
   "metadata": {},
   "outputs": [
    {
     "data": {
      "text/plain": [
       "array([[ 0,  1,  2,  3],\n",
       "       [ 4,  5,  6,  7],\n",
       "       [ 8,  9, 10, 11],\n",
       "       [12, 13, 14, 15],\n",
       "       [16, 17, 18, 19],\n",
       "       [20, 21, 22, 23]])"
      ]
     },
     "execution_count": 195,
     "metadata": {},
     "output_type": "execute_result"
    }
   ],
   "source": [
    "# New array\n",
    "\n",
    "z = np.arange(24).reshape(6,4)\n",
    "z"
   ]
  },
  {
   "cell_type": "code",
   "execution_count": 196,
   "id": "bd739f80-9944-46b7-b12c-c75f5461278f",
   "metadata": {},
   "outputs": [
    {
     "data": {
      "text/plain": [
       "array([[ 0,  1,  2,  3],\n",
       "       [ 8,  9, 10, 11],\n",
       "       [12, 13, 14, 15],\n",
       "       [20, 21, 22, 23]])"
      ]
     },
     "execution_count": 196,
     "metadata": {},
     "output_type": "execute_result"
    }
   ],
   "source": [
    "# Fetch 1,3,4,6 rows\n",
    "z[[0,2,3,5]]"
   ]
  },
  {
   "cell_type": "code",
   "execution_count": 197,
   "id": "1090fbd5-4dc3-4914-9d23-fbadb9adee1a",
   "metadata": {},
   "outputs": [
    {
     "data": {
      "text/plain": [
       "array([[ 0,  2,  3],\n",
       "       [ 4,  6,  7],\n",
       "       [ 8, 10, 11],\n",
       "       [12, 14, 15],\n",
       "       [16, 18, 19],\n",
       "       [20, 22, 23]])"
      ]
     },
     "execution_count": 197,
     "metadata": {},
     "output_type": "execute_result"
    }
   ],
   "source": [
    "# Fetch 1,3,4 columns\n",
    "z[:,[0,2,3]]"
   ]
  },
  {
   "cell_type": "markdown",
   "id": "913491bd-8fd6-48e7-9e46-3ee6220d6043",
   "metadata": {},
   "source": [
    "# Boolean indexing \n",
    " \n",
    "* It allows you to select elements from an array based on a Boolean condition. This allows you to extract only the elements of an array that meet a certain condition, making it easy to perform operations on specific subsets of data."
   ]
  },
  {
   "cell_type": "code",
   "execution_count": 198,
   "id": "bfb942ab-6fe6-47cf-8ab0-9c980feb2e47",
   "metadata": {},
   "outputs": [
    {
     "data": {
      "text/plain": [
       "array([[61, 76, 55, 53],\n",
       "       [25, 91, 12, 69],\n",
       "       [26, 64, 98, 29],\n",
       "       [99, 91, 96,  8],\n",
       "       [15, 79, 95, 30],\n",
       "       [82,  7, 99, 92]])"
      ]
     },
     "execution_count": 198,
     "metadata": {},
     "output_type": "execute_result"
    }
   ],
   "source": [
    "b = np.random.randint(1,100,24).reshape(6,4)\n",
    "b"
   ]
  },
  {
   "cell_type": "code",
   "execution_count": 199,
   "id": "83184654-21a8-4678-af94-c809e98e63a7",
   "metadata": {},
   "outputs": [
    {
     "data": {
      "text/plain": [
       "array([[ True,  True,  True,  True],\n",
       "       [False,  True, False,  True],\n",
       "       [False,  True,  True, False],\n",
       "       [ True,  True,  True, False],\n",
       "       [False,  True,  True, False],\n",
       "       [ True, False,  True,  True]])"
      ]
     },
     "execution_count": 199,
     "metadata": {},
     "output_type": "execute_result"
    }
   ],
   "source": [
    "# Find all numbers greater than 50\n",
    "b > 50"
   ]
  },
  {
   "cell_type": "code",
   "execution_count": 200,
   "id": "658ef3bd-8a5f-4d8b-adb4-f3bf4b57f3c9",
   "metadata": {},
   "outputs": [
    {
     "data": {
      "text/plain": [
       "array([61, 76, 55, 53, 91, 69, 64, 98, 99, 91, 96, 79, 95, 82, 99, 92])"
      ]
     },
     "execution_count": 200,
     "metadata": {},
     "output_type": "execute_result"
    }
   ],
   "source": [
    "# Where is True , it gives result , everything other that removed.we got value\n",
    "b[b>50]"
   ]
  },
  {
   "cell_type": "markdown",
   "id": "c17b170f-62ea-4f8f-8911-98053bbbe763",
   "metadata": {},
   "source": [
    "* it is best Techinque to filter the data in given condition "
   ]
  },
  {
   "cell_type": "code",
   "execution_count": 201,
   "id": "2b23de34-511a-4bb5-b3d6-3331f4974b12",
   "metadata": {},
   "outputs": [
    {
     "data": {
      "text/plain": [
       "array([[False,  True, False, False],\n",
       "       [False, False,  True, False],\n",
       "       [ True,  True,  True, False],\n",
       "       [False, False,  True,  True],\n",
       "       [False, False, False,  True],\n",
       "       [ True, False, False,  True]])"
      ]
     },
     "execution_count": 201,
     "metadata": {},
     "output_type": "execute_result"
    }
   ],
   "source": [
    "# FInd out even numbers\n",
    "b % 2 == 0"
   ]
  },
  {
   "cell_type": "code",
   "execution_count": 202,
   "id": "9c0af8d5-3b31-4733-a1ef-0a7a11319007",
   "metadata": {},
   "outputs": [
    {
     "data": {
      "text/plain": [
       "array([76, 12, 26, 64, 98, 96,  8, 30, 82, 92])"
      ]
     },
     "execution_count": 202,
     "metadata": {},
     "output_type": "execute_result"
    }
   ],
   "source": [
    "b[b % 2 == 0]"
   ]
  },
  {
   "cell_type": "code",
   "execution_count": 203,
   "id": "eff64a9d-69d4-47b0-8905-b1a7ed516055",
   "metadata": {},
   "outputs": [
    {
     "data": {
      "text/plain": [
       "array([76, 64, 98, 96, 82, 92])"
      ]
     },
     "execution_count": 203,
     "metadata": {},
     "output_type": "execute_result"
    }
   ],
   "source": [
    "# find all numbers greater than 50 and are even \n",
    "\n",
    "b[(b > 50) & (b % 2 == 0)]\n",
    "\n",
    "# Here we used (&) bitwise Not logical(and) , because we are working with boolean values"
   ]
  },
  {
   "cell_type": "code",
   "execution_count": 204,
   "id": "785bf164-3a11-4327-980c-9a34aca83d95",
   "metadata": {},
   "outputs": [
    {
     "data": {
      "text/plain": [
       "array([[ True,  True,  True,  True],\n",
       "       [ True, False,  True,  True],\n",
       "       [ True,  True, False,  True],\n",
       "       [ True, False,  True,  True],\n",
       "       [ True,  True,  True,  True],\n",
       "       [ True, False,  True,  True]])"
      ]
     },
     "execution_count": 204,
     "metadata": {},
     "output_type": "execute_result"
    }
   ],
   "source": [
    "# find all numbers not divisible by 7 \n",
    "\n",
    "b % 7 != 0"
   ]
  },
  {
   "cell_type": "code",
   "execution_count": 205,
   "id": "33a17e94-c614-4433-b245-f17fdddae859",
   "metadata": {},
   "outputs": [
    {
     "data": {
      "text/plain": [
       "array([61, 76, 55, 53, 25, 12, 69, 26, 64, 29, 99, 96,  8, 15, 79, 95, 30,\n",
       "       82, 99, 92])"
      ]
     },
     "execution_count": 205,
     "metadata": {},
     "output_type": "execute_result"
    }
   ],
   "source": [
    "b[b % 7 != 0]"
   ]
  },
  {
   "cell_type": "code",
   "execution_count": 206,
   "id": "d02b0201-c945-468b-af09-25eb9e5013b9",
   "metadata": {},
   "outputs": [
    {
     "data": {
      "text/plain": [
       "array([61, 76, 55, 53, 25, 12, 69, 26, 64, 29, 99, 96,  8, 15, 79, 95, 30,\n",
       "       82, 99, 92])"
      ]
     },
     "execution_count": 206,
     "metadata": {},
     "output_type": "execute_result"
    }
   ],
   "source": [
    "b[~(b % 7 == 0)] # Using (~) or not"
   ]
  },
  {
   "cell_type": "markdown",
   "id": "c11472e4-ba60-4155-9be0-e840f81dbc2b",
   "metadata": {},
   "source": [
    "# Broadcasting \n",
    "* Used in Vectorization \n",
    " \n",
    "* The term broadcasting describes how NumPy treats arrays with different shapes during \n",
    "arithmetic operations. \n",
    "* The smaller array is “broadcast” across the larger array so that they have compatible shapes. "
   ]
  },
  {
   "cell_type": "code",
   "execution_count": 207,
   "id": "2796eda6-da58-4068-8997-358907c52b7b",
   "metadata": {},
   "outputs": [
    {
     "name": "stdout",
     "output_type": "stream",
     "text": [
      "[[0 1 2]\n",
      " [3 4 5]]\n",
      "[[ 6  7  8]\n",
      " [ 9 10 11]]\n",
      "[[ 6  8 10]\n",
      " [12 14 16]]\n"
     ]
    }
   ],
   "source": [
    "# Same shape\n",
    "\n",
    "a = np.arange(6).reshape(2,3)\n",
    "b = np.arange(6,12).reshape(2,3)\n",
    "\n",
    "print(a)\n",
    "print(b)\n",
    "\n",
    "print(a + b)"
   ]
  },
  {
   "cell_type": "code",
   "execution_count": 208,
   "id": "746a32e3-aee2-46e8-b469-69b70cef7ffd",
   "metadata": {},
   "outputs": [
    {
     "name": "stdout",
     "output_type": "stream",
     "text": [
      "[[0 1 2]\n",
      " [3 4 5]] \n",
      "\n",
      "[[0 1 2]] \n",
      "\n",
      "[[0 2 4]\n",
      " [3 5 7]]\n"
     ]
    }
   ],
   "source": [
    "# Different Shape\n",
    "\n",
    "a = np.arange(6).reshape(2,3)\n",
    "b = np.arange(3).reshape(1,3)\n",
    "\n",
    "print(a,\"\\n\")\n",
    "print(b,\"\\n\")\n",
    "\n",
    "print(a + b)"
   ]
  },
  {
   "cell_type": "markdown",
   "id": "fb1c7f34-9c33-41b5-8ea7-c7e61b4dfbc9",
   "metadata": {},
   "source": [
    "# Broadcasting Rules \n",
    "1. Make the two arrays have the same number of dimensions. \n",
    " \n",
    "* If the numbers of dimensions of the two arrays are different, add new dimensions with size \n",
    "1 to the head of the array with the smaller dimension. \n",
    "- ex : (3,2) = 2D , (3) =1D ---> Convert into (1,3) \n",
    "- (3,3,3) = 3D ,(3) = 1D ---> Convert into (1,1,3) \n",
    " \n",
    "2. Make each dimension of the two arrays the same size. \n",
    " \n",
    "* If the sizes of each dimension of the two arrays do not match, dimensions with size 1 are \n",
    "stretched to the size of the other array. \n",
    "- ex : (3,3)=2D ,(3) =1D ---> CONVERTED (1,3) than strech to (3,3) \n",
    " \n",
    "* If there is a dimension whose size is not 1 in either of the two arrays, it cannot be \n",
    "broadcasted, and an error is raised."
   ]
  },
  {
   "cell_type": "code",
   "execution_count": 209,
   "id": "89015a45-14e0-4e69-b5da-5fc686120b2a",
   "metadata": {},
   "outputs": [
    {
     "name": "stdout",
     "output_type": "stream",
     "text": [
      "[[ 0  1  2]\n",
      " [ 3  4  5]\n",
      " [ 6  7  8]\n",
      " [ 9 10 11]]\n"
     ]
    }
   ],
   "source": [
    "# More Example\n",
    "a = np.arange(12).reshape(4,3)\n",
    "b = np.arange(3)\n",
    "\n",
    "print(a) # 2D"
   ]
  },
  {
   "cell_type": "code",
   "execution_count": 210,
   "id": "cb7c56d4-a3e2-4bc0-ad0f-90ed66777b8b",
   "metadata": {},
   "outputs": [
    {
     "name": "stdout",
     "output_type": "stream",
     "text": [
      "[0 1 2]\n"
     ]
    }
   ],
   "source": [
    "print(b) # 1D"
   ]
  },
  {
   "cell_type": "code",
   "execution_count": 211,
   "id": "ddf206c5-af70-43ac-8a90-0ba60efe9ca2",
   "metadata": {},
   "outputs": [
    {
     "name": "stdout",
     "output_type": "stream",
     "text": [
      "[[ 0  2  4]\n",
      " [ 3  5  7]\n",
      " [ 6  8 10]\n",
      " [ 9 11 13]]\n"
     ]
    }
   ],
   "source": [
    "print(a + b) # Arithmatic Operation"
   ]
  },
  {
   "cell_type": "markdown",
   "id": "33995a83-4381-43de-8ec5-ccf5b5256032",
   "metadata": {},
   "source": [
    "* EXPLANATION : Arthematic Operation possible because , Here a = (4,3) is 2D and b =(3) is 1D so did converted (3) to (1,3) and streched to (4,3)"
   ]
  },
  {
   "cell_type": "code",
   "execution_count": 212,
   "id": "ce540c32-6709-496c-8fcd-7017604f582e",
   "metadata": {},
   "outputs": [
    {
     "name": "stdout",
     "output_type": "stream",
     "text": [
      "[[ 0  1  2  3]\n",
      " [ 4  5  6  7]\n",
      " [ 8  9 10 11]]\n"
     ]
    }
   ],
   "source": [
    "# Could not broadcast\n",
    "\n",
    "a = np.arange(12).reshape(3,4)\n",
    "b = np.arange(3)\n",
    "print(a)"
   ]
  },
  {
   "cell_type": "code",
   "execution_count": 213,
   "id": "75eb159c-fff3-4ebe-b358-aef762dfe329",
   "metadata": {},
   "outputs": [
    {
     "name": "stdout",
     "output_type": "stream",
     "text": [
      "[0 1 2]\n"
     ]
    }
   ],
   "source": [
    "print(b)"
   ]
  },
  {
   "cell_type": "code",
   "execution_count": 214,
   "id": "2c94b9f9-c593-463c-91ae-1d385e0eff4f",
   "metadata": {},
   "outputs": [
    {
     "ename": "ValueError",
     "evalue": "operands could not be broadcast together with shapes (3,4) (3,) ",
     "output_type": "error",
     "traceback": [
      "\u001b[1;31m---------------------------------------------------------------------------\u001b[0m",
      "\u001b[1;31mValueError\u001b[0m                                Traceback (most recent call last)",
      "Cell \u001b[1;32mIn[214], line 1\u001b[0m\n\u001b[1;32m----> 1\u001b[0m \u001b[38;5;28mprint\u001b[39m(\u001b[43ma\u001b[49m\u001b[43m \u001b[49m\u001b[38;5;241;43m+\u001b[39;49m\u001b[43m \u001b[49m\u001b[43mb\u001b[49m)\n",
      "\u001b[1;31mValueError\u001b[0m: operands could not be broadcast together with shapes (3,4) (3,) "
     ]
    }
   ],
   "source": [
    "print(a + b)"
   ]
  },
  {
   "cell_type": "markdown",
   "id": "7fd764b9-9274-4ec9-a31e-7088f4b5f161",
   "metadata": {},
   "source": [
    "* EXPLANATION : Arthematic Operation not possible because , Here a = (3,4) is 2D and b =(3) is 1D so did converted (3) to (1,3) and streched to (3,3) but , a is not equals to b . so it got failed "
   ]
  },
  {
   "cell_type": "code",
   "execution_count": 215,
   "id": "7fb75ffe-cb66-4ace-ab50-da7931648903",
   "metadata": {},
   "outputs": [
    {
     "name": "stdout",
     "output_type": "stream",
     "text": [
      "[[0 1 2]] \n",
      "\n",
      "[[0]\n",
      " [1]\n",
      " [2]] \n",
      "\n",
      "[[0 1 2]\n",
      " [1 2 3]\n",
      " [2 3 4]]\n"
     ]
    }
   ],
   "source": [
    "a = np.arange(3).reshape(1,3)\n",
    "b = np.arange(3).reshape(3,1)\n",
    "\n",
    "print(a,\"\\n\")\n",
    "print(b,\"\\n\")\n",
    "\n",
    "print(a + b)"
   ]
  },
  {
   "cell_type": "markdown",
   "id": "adaaa36d-7706-4c21-b699-51f57cdea868",
   "metadata": {},
   "source": [
    "* EXPLANATION : Arthematic Operation possible because , Here a = (1,3) is 2D and b =(3,1) is 2D so did converted (1,3) to (3,3) and b(3,1) convert (1)to 3 than (3,3) . finally it equally."
   ]
  },
  {
   "cell_type": "code",
   "execution_count": 216,
   "id": "3ac73ce5-7f52-4862-8b51-1edb554ee642",
   "metadata": {},
   "outputs": [
    {
     "name": "stdout",
     "output_type": "stream",
     "text": [
      "[[0 1 2]] \n",
      "\n",
      "[[0]\n",
      " [1]\n",
      " [2]\n",
      " [3]] \n",
      "\n",
      "[[0 1 2]\n",
      " [1 2 3]\n",
      " [2 3 4]\n",
      " [3 4 5]]\n"
     ]
    }
   ],
   "source": [
    "a = np.arange(3).reshape(1,3)\n",
    "b = np.arange(4).reshape(4,1)\n",
    "\n",
    "print(a,\"\\n\")\n",
    "print(b,\"\\n\")\n",
    "\n",
    "print(a + b)"
   ]
  },
  {
   "cell_type": "code",
   "execution_count": 217,
   "id": "7b64d4c7-9c69-49b2-9c07-190f57229ed2",
   "metadata": {},
   "outputs": [
    {
     "name": "stdout",
     "output_type": "stream",
     "text": [
      "[1] \n",
      "\n",
      "[[0 1]\n",
      " [2 3]] \n",
      "\n",
      "[[1 2]\n",
      " [3 4]]\n"
     ]
    }
   ],
   "source": [
    "a = np.array([1])\n",
    "# shape - > (1,1) Steched to 2,2\n",
    "\n",
    "b = np.arange(4).reshape(2,2)\n",
    "# shape --> (2,2)\n",
    "\n",
    "print(a,\"\\n\")\n",
    "print(b,\"\\n\")\n",
    "\n",
    "print(a + b)"
   ]
  },
  {
   "cell_type": "code",
   "execution_count": 218,
   "id": "fa42998a-1d9e-49c5-a45b-ca02925050bf",
   "metadata": {},
   "outputs": [],
   "source": [
    "a = np.arange(12).reshape(3,4)\n",
    "b = np.arange(12).reshape(4,3)"
   ]
  },
  {
   "cell_type": "code",
   "execution_count": 219,
   "id": "a56da3a6-c039-4cff-9864-f16f04e5efe3",
   "metadata": {},
   "outputs": [
    {
     "name": "stdout",
     "output_type": "stream",
     "text": [
      "[[ 0  1  2  3]\n",
      " [ 4  5  6  7]\n",
      " [ 8  9 10 11]]\n"
     ]
    }
   ],
   "source": [
    "print(a)"
   ]
  },
  {
   "cell_type": "code",
   "execution_count": 220,
   "id": "6ab8bb50-b40a-46cd-9043-60e5b6208d7d",
   "metadata": {},
   "outputs": [
    {
     "name": "stdout",
     "output_type": "stream",
     "text": [
      "[[ 0  1  2]\n",
      " [ 3  4  5]\n",
      " [ 6  7  8]\n",
      " [ 9 10 11]]\n"
     ]
    }
   ],
   "source": [
    "print(b)"
   ]
  },
  {
   "cell_type": "code",
   "execution_count": 221,
   "id": "c944f19b-c5cf-43a5-ad6a-764260f67914",
   "metadata": {},
   "outputs": [
    {
     "ename": "ValueError",
     "evalue": "operands could not be broadcast together with shapes (3,4) (4,3) ",
     "output_type": "error",
     "traceback": [
      "\u001b[1;31m---------------------------------------------------------------------------\u001b[0m",
      "\u001b[1;31mValueError\u001b[0m                                Traceback (most recent call last)",
      "Cell \u001b[1;32mIn[221], line 1\u001b[0m\n\u001b[1;32m----> 1\u001b[0m \u001b[38;5;28mprint\u001b[39m(\u001b[43ma\u001b[49m\u001b[43m \u001b[49m\u001b[38;5;241;43m+\u001b[39;49m\u001b[43m \u001b[49m\u001b[43mb\u001b[49m)\n",
      "\u001b[1;31mValueError\u001b[0m: operands could not be broadcast together with shapes (3,4) (4,3) "
     ]
    }
   ],
   "source": [
    "print(a + b)"
   ]
  },
  {
   "cell_type": "code",
   "execution_count": 222,
   "id": "2f86b53c-3310-4530-817e-bb2f9e0738a9",
   "metadata": {},
   "outputs": [],
   "source": [
    "# Not work\n",
    "a = np.arange(16).reshape(4,4)\n",
    "b = np.arange(4).reshape(2,2)"
   ]
  },
  {
   "cell_type": "code",
   "execution_count": 223,
   "id": "a3478881-616f-4f21-97df-b3378f11e303",
   "metadata": {},
   "outputs": [
    {
     "name": "stdout",
     "output_type": "stream",
     "text": [
      "[[ 0  1  2  3]\n",
      " [ 4  5  6  7]\n",
      " [ 8  9 10 11]\n",
      " [12 13 14 15]]\n"
     ]
    }
   ],
   "source": [
    "print(a)"
   ]
  },
  {
   "cell_type": "code",
   "execution_count": 224,
   "id": "0a503fc0-67fb-4321-ad4c-6b031426f5ce",
   "metadata": {},
   "outputs": [
    {
     "name": "stdout",
     "output_type": "stream",
     "text": [
      "[[0 1]\n",
      " [2 3]]\n"
     ]
    }
   ],
   "source": [
    "print(b)"
   ]
  },
  {
   "cell_type": "code",
   "execution_count": 225,
   "id": "f92fbc45-a7c7-4423-8eec-f0e13907891b",
   "metadata": {},
   "outputs": [
    {
     "ename": "ValueError",
     "evalue": "operands could not be broadcast together with shapes (4,4) (2,2) ",
     "output_type": "error",
     "traceback": [
      "\u001b[1;31m---------------------------------------------------------------------------\u001b[0m",
      "\u001b[1;31mValueError\u001b[0m                                Traceback (most recent call last)",
      "Cell \u001b[1;32mIn[225], line 1\u001b[0m\n\u001b[1;32m----> 1\u001b[0m \u001b[38;5;28mprint\u001b[39m(\u001b[43ma\u001b[49m\u001b[43m \u001b[49m\u001b[38;5;241;43m+\u001b[39;49m\u001b[43m \u001b[49m\u001b[43mb\u001b[49m)\n",
      "\u001b[1;31mValueError\u001b[0m: operands could not be broadcast together with shapes (4,4) (2,2) "
     ]
    }
   ],
   "source": [
    "print(a + b)"
   ]
  },
  {
   "cell_type": "markdown",
   "id": "e0d49189-8c16-4e0c-8d34-f342627a66e4",
   "metadata": {},
   "source": [
    "# Working with mathematical formulas"
   ]
  },
  {
   "cell_type": "code",
   "execution_count": 226,
   "id": "ae13722d-376a-4e6b-87c3-55b9dd10a1d9",
   "metadata": {},
   "outputs": [],
   "source": [
    "m = np.arange(10)"
   ]
  },
  {
   "cell_type": "code",
   "execution_count": 227,
   "id": "eabc6e91-83bc-427c-83d4-34c500b97738",
   "metadata": {},
   "outputs": [
    {
     "data": {
      "text/plain": [
       "array([0, 1, 2, 3, 4, 5, 6, 7, 8, 9])"
      ]
     },
     "execution_count": 227,
     "metadata": {},
     "output_type": "execute_result"
    }
   ],
   "source": [
    "m"
   ]
  },
  {
   "cell_type": "code",
   "execution_count": 228,
   "id": "539dd5a7-fef2-47b2-991a-cf49517ed9c5",
   "metadata": {},
   "outputs": [
    {
     "data": {
      "text/plain": [
       "45"
      ]
     },
     "execution_count": 228,
     "metadata": {},
     "output_type": "execute_result"
    }
   ],
   "source": [
    "np.sum(m)"
   ]
  },
  {
   "cell_type": "code",
   "execution_count": 229,
   "id": "4cf1edf9-46b3-4bbe-9552-871ec652c1dd",
   "metadata": {},
   "outputs": [
    {
     "data": {
      "text/plain": [
       "array([ 0.        ,  0.84147098,  0.90929743,  0.14112001, -0.7568025 ,\n",
       "       -0.95892427, -0.2794155 ,  0.6569866 ,  0.98935825,  0.41211849])"
      ]
     },
     "execution_count": 229,
     "metadata": {},
     "output_type": "execute_result"
    }
   ],
   "source": [
    "np.sin(m)"
   ]
  },
  {
   "cell_type": "markdown",
   "id": "03a5702d-8545-4bc5-8061-594b1f2bfcb5",
   "metadata": {},
   "source": [
    "# Sigmoid"
   ]
  },
  {
   "cell_type": "code",
   "execution_count": 230,
   "id": "c92c5130-559c-4871-b8d1-0850ea38ced1",
   "metadata": {},
   "outputs": [
    {
     "data": {
      "text/plain": [
       "array([0.5       , 0.73105858, 0.88079708, 0.95257413, 0.98201379,\n",
       "       0.99330715, 0.99752738, 0.99908895, 0.99966465, 0.99987661])"
      ]
     },
     "execution_count": 230,
     "metadata": {},
     "output_type": "execute_result"
    }
   ],
   "source": [
    "def sigmoid(array):\n",
    "    return 1/(1+np.exp(-(array)))\n",
    "k = np.arange(10)\n",
    "sigmoid(k)"
   ]
  },
  {
   "cell_type": "code",
   "execution_count": 231,
   "id": "49ca563b-eec1-4eef-b1cc-d8774d776d7b",
   "metadata": {},
   "outputs": [
    {
     "data": {
      "text/plain": [
       "array([0.5       , 0.73105858, 0.88079708, 0.95257413, 0.98201379,\n",
       "       0.99330715, 0.99752738, 0.99908895, 0.99966465, 0.99987661,\n",
       "       0.9999546 , 0.9999833 , 0.99999386, 0.99999774, 0.99999917,\n",
       "       0.99999969, 0.99999989, 0.99999996, 0.99999998, 0.99999999,\n",
       "       1.        , 1.        , 1.        , 1.        , 1.        ,\n",
       "       1.        , 1.        , 1.        , 1.        , 1.        ,\n",
       "       1.        , 1.        , 1.        , 1.        , 1.        ,\n",
       "       1.        , 1.        , 1.        , 1.        , 1.        ,\n",
       "       1.        , 1.        , 1.        , 1.        , 1.        ,\n",
       "       1.        , 1.        , 1.        , 1.        , 1.        ,\n",
       "       1.        , 1.        , 1.        , 1.        , 1.        ,\n",
       "       1.        , 1.        , 1.        , 1.        , 1.        ,\n",
       "       1.        , 1.        , 1.        , 1.        , 1.        ,\n",
       "       1.        , 1.        , 1.        , 1.        , 1.        ,\n",
       "       1.        , 1.        , 1.        , 1.        , 1.        ,\n",
       "       1.        , 1.        , 1.        , 1.        , 1.        ,\n",
       "       1.        , 1.        , 1.        , 1.        , 1.        ,\n",
       "       1.        , 1.        , 1.        , 1.        , 1.        ,\n",
       "       1.        , 1.        , 1.        , 1.        , 1.        ,\n",
       "       1.        , 1.        , 1.        , 1.        , 1.        ])"
      ]
     },
     "execution_count": 231,
     "metadata": {},
     "output_type": "execute_result"
    }
   ],
   "source": [
    "k1 = np.arange(100)\n",
    "sigmoid(k1)"
   ]
  },
  {
   "cell_type": "markdown",
   "id": "8d1daf6f-239f-4683-a44b-08c975e43f52",
   "metadata": {},
   "source": [
    "### Mean Squared error"
   ]
  },
  {
   "cell_type": "code",
   "execution_count": 232,
   "id": "68c9a94f-57f0-4403-9cd8-af3edf5932a9",
   "metadata": {},
   "outputs": [],
   "source": [
    "actual = np.random.randint(1,50,25)\n",
    "predicted = np.random.randint(1,50,25)"
   ]
  },
  {
   "cell_type": "code",
   "execution_count": 233,
   "id": "cd85e422-af7e-4390-9c70-7ed9243eb52d",
   "metadata": {},
   "outputs": [
    {
     "data": {
      "text/plain": [
       "array([14, 13, 29, 34, 26, 36, 19, 22, 28, 38, 24, 28, 17, 39, 29, 24, 20,\n",
       "       23,  8, 25, 29, 10, 27, 41,  6])"
      ]
     },
     "execution_count": 233,
     "metadata": {},
     "output_type": "execute_result"
    }
   ],
   "source": [
    "actual"
   ]
  },
  {
   "cell_type": "code",
   "execution_count": 234,
   "id": "f4e72163-096f-4071-96df-a9821d14504a",
   "metadata": {},
   "outputs": [
    {
     "data": {
      "text/plain": [
       "array([ 9, 30, 26, 21, 24, 46, 41, 46, 40, 22, 34, 23, 18,  9, 38, 29, 36,\n",
       "        4, 28, 34, 40, 22, 43,  3, 44])"
      ]
     },
     "execution_count": 234,
     "metadata": {},
     "output_type": "execute_result"
    }
   ],
   "source": [
    "predicted"
   ]
  },
  {
   "cell_type": "code",
   "execution_count": 235,
   "id": "fc3d1986-4a4d-4cb1-a44c-09ae3678c8ce",
   "metadata": {},
   "outputs": [
    {
     "data": {
      "text/plain": [
       "307.8"
      ]
     },
     "execution_count": 235,
     "metadata": {},
     "output_type": "execute_result"
    }
   ],
   "source": [
    "def mse(actual,predicted):\n",
    "    return np.mean((actual - predicted)**2)\n",
    "mse(actual,predicted)"
   ]
  },
  {
   "cell_type": "code",
   "execution_count": 236,
   "id": "57bb4986-000b-49b0-ac21-c499bc7dfd4a",
   "metadata": {},
   "outputs": [
    {
     "data": {
      "text/plain": [
       "array([  5, -17,   3,  13,   2, -10, -22, -24, -12,  16, -10,   5,  -1,\n",
       "        30,  -9,  -5, -16,  19, -20,  -9, -11, -12, -16,  38, -38])"
      ]
     },
     "execution_count": 236,
     "metadata": {},
     "output_type": "execute_result"
    }
   ],
   "source": [
    "actual - predicted"
   ]
  },
  {
   "cell_type": "code",
   "execution_count": 237,
   "id": "1b00d829-c6b2-4ccc-88f2-10111b6ba55c",
   "metadata": {},
   "outputs": [
    {
     "data": {
      "text/plain": [
       "array([  25,  289,    9,  169,    4,  100,  484,  576,  144,  256,  100,\n",
       "         25,    1,  900,   81,   25,  256,  361,  400,   81,  121,  144,\n",
       "        256, 1444, 1444])"
      ]
     },
     "execution_count": 237,
     "metadata": {},
     "output_type": "execute_result"
    }
   ],
   "source": [
    "(actual - predicted)**2"
   ]
  },
  {
   "cell_type": "code",
   "execution_count": 238,
   "id": "94ea73ee-819d-4d3a-8f49-c2345b4b3bfe",
   "metadata": {},
   "outputs": [
    {
     "data": {
      "text/plain": [
       "307.8"
      ]
     },
     "execution_count": 238,
     "metadata": {},
     "output_type": "execute_result"
    }
   ],
   "source": [
    "np.mean((actual - predicted)**2)"
   ]
  },
  {
   "cell_type": "markdown",
   "id": "38f689b6-e02e-459e-ac8d-6a0751035043",
   "metadata": {},
   "source": [
    "# Working with Missing Values"
   ]
  },
  {
   "cell_type": "code",
   "execution_count": 239,
   "id": "64c1cb80-72eb-4954-905d-983959f94662",
   "metadata": {},
   "outputs": [
    {
     "data": {
      "text/plain": [
       "array([ 1.,  2.,  3.,  4., nan,  6.])"
      ]
     },
     "execution_count": 239,
     "metadata": {},
     "output_type": "execute_result"
    }
   ],
   "source": [
    "# Working with missing values -> np.nan\n",
    "s = np.array([1,2,3,4,np.nan,6])\n",
    "s"
   ]
  },
  {
   "cell_type": "code",
   "execution_count": 240,
   "id": "da92492a-5ce7-44b2-a5a6-3f8d28bf3aad",
   "metadata": {},
   "outputs": [
    {
     "data": {
      "text/plain": [
       "array([False, False, False, False,  True, False])"
      ]
     },
     "execution_count": 240,
     "metadata": {},
     "output_type": "execute_result"
    }
   ],
   "source": [
    "np.isnan(s)"
   ]
  },
  {
   "cell_type": "code",
   "execution_count": 241,
   "id": "c32e7cc6-2ef6-4ea6-b362-e208cf634865",
   "metadata": {},
   "outputs": [
    {
     "data": {
      "text/plain": [
       "array([nan])"
      ]
     },
     "execution_count": 241,
     "metadata": {},
     "output_type": "execute_result"
    }
   ],
   "source": [
    "s[np.isnan(s)] # nan values"
   ]
  },
  {
   "cell_type": "code",
   "execution_count": 242,
   "id": "64232c92-78f9-488a-bae0-d3c261b85375",
   "metadata": {},
   "outputs": [
    {
     "data": {
      "text/plain": [
       "array([1., 2., 3., 4., 6.])"
      ]
     },
     "execution_count": 242,
     "metadata": {},
     "output_type": "execute_result"
    }
   ],
   "source": [
    "s[~np.isnan(s)]"
   ]
  },
  {
   "cell_type": "markdown",
   "id": "7d71efb0-2e80-4988-bb4c-2071d9248308",
   "metadata": {},
   "source": [
    "# Plotting Graphs"
   ]
  },
  {
   "cell_type": "code",
   "execution_count": 243,
   "id": "cdcc3e59-b603-4581-8233-572a8fb7f793",
   "metadata": {},
   "outputs": [],
   "source": [
    "# plotting a 2D plot\n",
    "\n",
    "x = np.linspace(-10,10,100)"
   ]
  },
  {
   "cell_type": "code",
   "execution_count": 244,
   "id": "c984285f-4ec2-40a9-938b-4f42679ad009",
   "metadata": {},
   "outputs": [
    {
     "data": {
      "text/plain": [
       "array([-10.        ,  -9.7979798 ,  -9.5959596 ,  -9.39393939,\n",
       "        -9.19191919,  -8.98989899,  -8.78787879,  -8.58585859,\n",
       "        -8.38383838,  -8.18181818,  -7.97979798,  -7.77777778,\n",
       "        -7.57575758,  -7.37373737,  -7.17171717,  -6.96969697,\n",
       "        -6.76767677,  -6.56565657,  -6.36363636,  -6.16161616,\n",
       "        -5.95959596,  -5.75757576,  -5.55555556,  -5.35353535,\n",
       "        -5.15151515,  -4.94949495,  -4.74747475,  -4.54545455,\n",
       "        -4.34343434,  -4.14141414,  -3.93939394,  -3.73737374,\n",
       "        -3.53535354,  -3.33333333,  -3.13131313,  -2.92929293,\n",
       "        -2.72727273,  -2.52525253,  -2.32323232,  -2.12121212,\n",
       "        -1.91919192,  -1.71717172,  -1.51515152,  -1.31313131,\n",
       "        -1.11111111,  -0.90909091,  -0.70707071,  -0.50505051,\n",
       "        -0.3030303 ,  -0.1010101 ,   0.1010101 ,   0.3030303 ,\n",
       "         0.50505051,   0.70707071,   0.90909091,   1.11111111,\n",
       "         1.31313131,   1.51515152,   1.71717172,   1.91919192,\n",
       "         2.12121212,   2.32323232,   2.52525253,   2.72727273,\n",
       "         2.92929293,   3.13131313,   3.33333333,   3.53535354,\n",
       "         3.73737374,   3.93939394,   4.14141414,   4.34343434,\n",
       "         4.54545455,   4.74747475,   4.94949495,   5.15151515,\n",
       "         5.35353535,   5.55555556,   5.75757576,   5.95959596,\n",
       "         6.16161616,   6.36363636,   6.56565657,   6.76767677,\n",
       "         6.96969697,   7.17171717,   7.37373737,   7.57575758,\n",
       "         7.77777778,   7.97979798,   8.18181818,   8.38383838,\n",
       "         8.58585859,   8.78787879,   8.98989899,   9.19191919,\n",
       "         9.39393939,   9.5959596 ,   9.7979798 ,  10.        ])"
      ]
     },
     "execution_count": 244,
     "metadata": {},
     "output_type": "execute_result"
    }
   ],
   "source": [
    "x"
   ]
  },
  {
   "cell_type": "code",
   "execution_count": 245,
   "id": "66d0432a-6d8e-49ad-9c40-961516d39c56",
   "metadata": {},
   "outputs": [],
   "source": [
    "y = x"
   ]
  },
  {
   "cell_type": "code",
   "execution_count": 246,
   "id": "9cf2b03e-1ad5-44d0-9308-96477e2f2d8d",
   "metadata": {},
   "outputs": [
    {
     "data": {
      "text/plain": [
       "array([-10.        ,  -9.7979798 ,  -9.5959596 ,  -9.39393939,\n",
       "        -9.19191919,  -8.98989899,  -8.78787879,  -8.58585859,\n",
       "        -8.38383838,  -8.18181818,  -7.97979798,  -7.77777778,\n",
       "        -7.57575758,  -7.37373737,  -7.17171717,  -6.96969697,\n",
       "        -6.76767677,  -6.56565657,  -6.36363636,  -6.16161616,\n",
       "        -5.95959596,  -5.75757576,  -5.55555556,  -5.35353535,\n",
       "        -5.15151515,  -4.94949495,  -4.74747475,  -4.54545455,\n",
       "        -4.34343434,  -4.14141414,  -3.93939394,  -3.73737374,\n",
       "        -3.53535354,  -3.33333333,  -3.13131313,  -2.92929293,\n",
       "        -2.72727273,  -2.52525253,  -2.32323232,  -2.12121212,\n",
       "        -1.91919192,  -1.71717172,  -1.51515152,  -1.31313131,\n",
       "        -1.11111111,  -0.90909091,  -0.70707071,  -0.50505051,\n",
       "        -0.3030303 ,  -0.1010101 ,   0.1010101 ,   0.3030303 ,\n",
       "         0.50505051,   0.70707071,   0.90909091,   1.11111111,\n",
       "         1.31313131,   1.51515152,   1.71717172,   1.91919192,\n",
       "         2.12121212,   2.32323232,   2.52525253,   2.72727273,\n",
       "         2.92929293,   3.13131313,   3.33333333,   3.53535354,\n",
       "         3.73737374,   3.93939394,   4.14141414,   4.34343434,\n",
       "         4.54545455,   4.74747475,   4.94949495,   5.15151515,\n",
       "         5.35353535,   5.55555556,   5.75757576,   5.95959596,\n",
       "         6.16161616,   6.36363636,   6.56565657,   6.76767677,\n",
       "         6.96969697,   7.17171717,   7.37373737,   7.57575758,\n",
       "         7.77777778,   7.97979798,   8.18181818,   8.38383838,\n",
       "         8.58585859,   8.78787879,   8.98989899,   9.19191919,\n",
       "         9.39393939,   9.5959596 ,   9.7979798 ,  10.        ])"
      ]
     },
     "execution_count": 246,
     "metadata": {},
     "output_type": "execute_result"
    }
   ],
   "source": [
    "y"
   ]
  },
  {
   "cell_type": "code",
   "execution_count": 247,
   "id": "46020911-0a6f-4de2-ae13-535bacf31f88",
   "metadata": {},
   "outputs": [
    {
     "data": {
      "text/plain": [
       "[<matplotlib.lines.Line2D at 0x1f97537cd00>]"
      ]
     },
     "execution_count": 247,
     "metadata": {},
     "output_type": "execute_result"
    },
    {
     "data": {
      "image/png": "[encoded data removed]",
      "text/plain": [
       "<Figure size 640x480 with 1 Axes>"
      ]
     },
     "metadata": {},
     "output_type": "display_data"
    }
   ],
   "source": [
    "import matplotlib.pyplot as plt\n",
    "plt.plot(x,y)"
   ]
  },
  {
   "cell_type": "code",
   "execution_count": 248,
   "id": "e8055312-fd50-4713-ac6b-27daf188811c",
   "metadata": {},
   "outputs": [],
   "source": [
    "# y = x^2\n",
    "\n",
    "x = np.linspace(-10,10,100)\n",
    "y = x**2"
   ]
  },
  {
   "cell_type": "code",
   "execution_count": 249,
   "id": "69a92723-44e7-4b10-8b75-08f779d2f70d",
   "metadata": {},
   "outputs": [
    {
     "data": {
      "text/plain": [
       "[<matplotlib.lines.Line2D at 0x1f97547cb20>]"
      ]
     },
     "execution_count": 249,
     "metadata": {},
     "output_type": "execute_result"
    },
    {
     "data": {
      "image/png": "[encoded data removed]",
      "text/plain": [
       "<Figure size 640x480 with 1 Axes>"
      ]
     },
     "metadata": {},
     "output_type": "display_data"
    }
   ],
   "source": [
    "plt.plot(x,y)"
   ]
  },
  {
   "cell_type": "code",
   "execution_count": 250,
   "id": "b55d24d6-e599-45b5-a558-2625b038957a",
   "metadata": {},
   "outputs": [
    {
     "data": {
      "text/plain": [
       "[<matplotlib.lines.Line2D at 0x1f9754ef340>]"
      ]
     },
     "execution_count": 250,
     "metadata": {},
     "output_type": "execute_result"
    },
    {
     "data": {
      "image/png": "[encoded data removed]",
      "text/plain": [
       "<Figure size 640x480 with 1 Axes>"
      ]
     },
     "metadata": {},
     "output_type": "display_data"
    }
   ],
   "source": [
    "# y = sin(x)\n",
    "x = np.linspace(-10,10,100)\n",
    "y = np.sin(x)\n",
    "\n",
    "plt.plot(x,y)"
   ]
  },
  {
   "cell_type": "code",
   "execution_count": 251,
   "id": "df0c2f4c-2743-4114-ac6c-a350a18319ba",
   "metadata": {},
   "outputs": [
    {
     "name": "stderr",
     "output_type": "stream",
     "text": [
      "C:\\Users\\suraj\\AppData\\Local\\Temp\\ipykernel_19220\\75021797.py:4: RuntimeWarning: invalid value encountered in log\n",
      "  y = x * np.log(x)\n"
     ]
    },
    {
     "data": {
      "text/plain": [
       "[<matplotlib.lines.Line2D at 0x1f9776a6e90>]"
      ]
     },
     "execution_count": 251,
     "metadata": {},
     "output_type": "execute_result"
    },
    {
     "data": {
      "image/png": "[encoded data removed]",
      "text/plain": [
       "<Figure size 640x480 with 1 Axes>"
      ]
     },
     "metadata": {},
     "output_type": "display_data"
    }
   ],
   "source": [
    "# y = log(x)\n",
    "\n",
    "x = np.linspace(-10,10,100)\n",
    "y = x * np.log(x)\n",
    "plt.plot(x,y)"
   ]
  },
  {
   "cell_type": "code",
   "execution_count": 252,
   "id": "e82e9aa4-e261-4877-922e-05cfd464ba13",
   "metadata": {},
   "outputs": [
    {
     "data": {
      "text/plain": [
       "[<matplotlib.lines.Line2D at 0x1f97552b5b0>]"
      ]
     },
     "execution_count": 252,
     "metadata": {},
     "output_type": "execute_result"
    },
    {
     "data": {
      "image/png": "[encoded data removed]",
      "text/plain": [
       "<Figure size 640x480 with 1 Axes>"
      ]
     },
     "metadata": {},
     "output_type": "display_data"
    }
   ],
   "source": [
    "# sigmoid \n",
    "x = np.linspace(-10,10,100)\n",
    "y = 1/(1+np.exp(-x))\n",
    "\n",
    "plt.plot(x,y)"
   ]
  },
  {
   "cell_type": "markdown",
   "id": "c84c1d00-adbb-4ae9-8b43-e11a080b5a5e",
   "metadata": {},
   "source": [
    "# Meshgrid \n",
    "* Meshgrids are a way to create coordinate matrices from coordinate vectors. In NumPy, \n",
    " \n",
    "* The meshgrid function is used to generate a coordinate grid given 1D coordinate arrays. It \n",
    "produces two 2D arrays representing the x and y coordinates of each point on the grid \n",
    " \n",
    " \n",
    " \n",
    "* The np.meshgrid function is used primarily for \n",
    " \n",
    " * Creating/Plotting 2D functions f(x,y) \n",
    " * Generating combinations of 2 or more numbers \n",
    "- Example: How you might think to create a 2D function f(x,y)"
   ]
  },
  {
   "cell_type": "code",
   "execution_count": 253,
   "id": "637fafa2-8b8c-482e-8c6c-56f9e7dd622c",
   "metadata": {},
   "outputs": [],
   "source": [
    "x = np.linspace(0,10,100)\n",
    "y = np.linspace(0,10,100)"
   ]
  },
  {
   "cell_type": "code",
   "execution_count": 254,
   "id": "e15b6d9e-03c6-46c2-9628-13709237ab60",
   "metadata": {},
   "outputs": [],
   "source": [
    "f = x**2 + y**2"
   ]
  },
  {
   "cell_type": "code",
   "execution_count": 255,
   "id": "5a172100-bca8-4653-8454-850e1f0e92d7",
   "metadata": {},
   "outputs": [
    {
     "data": {
      "text/plain": [
       "[<matplotlib.lines.Line2D at 0x1f977631fc0>]"
      ]
     },
     "execution_count": 255,
     "metadata": {},
     "output_type": "execute_result"
    },
    {
     "data": {
      "image/png": "[encoded data removed]",
      "text/plain": [
       "<Figure size 400x200 with 1 Axes>"
      ]
     },
     "metadata": {},
     "output_type": "display_data"
    }
   ],
   "source": [
    "plt.figure(figsize=(4,2))\n",
    "plt.plot(f)\n"
   ]
  },
  {
   "cell_type": "markdown",
   "id": "af7d395a-6e17-4e31-856a-43cb22960971",
   "metadata": {},
   "source": [
    "* But f is a 1 dimensional function! How does one generate a surface plot?"
   ]
  },
  {
   "cell_type": "code",
   "execution_count": 256,
   "id": "a03ee9f6-557c-44ad-b8a3-c32c98dabf4e",
   "metadata": {},
   "outputs": [],
   "source": [
    "x = np.arange(3)\n",
    "y = np.arange(3)"
   ]
  },
  {
   "cell_type": "code",
   "execution_count": 257,
   "id": "0df35226-3eb4-4559-91bc-05ee03019342",
   "metadata": {},
   "outputs": [
    {
     "data": {
      "text/plain": [
       "array([0, 1, 2])"
      ]
     },
     "execution_count": 257,
     "metadata": {},
     "output_type": "execute_result"
    }
   ],
   "source": [
    "x"
   ]
  },
  {
   "cell_type": "code",
   "execution_count": 258,
   "id": "e065f513-9770-4836-b841-ab2fae43cdf7",
   "metadata": {},
   "outputs": [
    {
     "data": {
      "text/plain": [
       "array([0, 1, 2])"
      ]
     },
     "execution_count": 258,
     "metadata": {},
     "output_type": "execute_result"
    }
   ],
   "source": [
    "y"
   ]
  },
  {
   "cell_type": "code",
   "execution_count": 259,
   "id": "7623fbbf-c64a-47f9-9415-df92df78e2d6",
   "metadata": {},
   "outputs": [],
   "source": [
    "# Generating a meshdrid"
   ]
  },
  {
   "cell_type": "code",
   "execution_count": 260,
   "id": "d73b2ef6-3f3e-4f1a-b2b9-7bcbe1714c70",
   "metadata": {},
   "outputs": [],
   "source": [
    "xv,yv = np.meshgrid(x,y)"
   ]
  },
  {
   "cell_type": "code",
   "execution_count": 261,
   "id": "e10061d9-5426-4184-87d7-a062ab2d0868",
   "metadata": {},
   "outputs": [
    {
     "data": {
      "text/plain": [
       "array([[0, 1, 2],\n",
       "       [0, 1, 2],\n",
       "       [0, 1, 2]])"
      ]
     },
     "execution_count": 261,
     "metadata": {},
     "output_type": "execute_result"
    }
   ],
   "source": [
    "xv"
   ]
  },
  {
   "cell_type": "code",
   "execution_count": 262,
   "id": "ce9a5bf4-13a9-44d5-b0f6-ee9b78208e47",
   "metadata": {},
   "outputs": [
    {
     "data": {
      "text/plain": [
       "array([[0, 0, 0],\n",
       "       [1, 1, 1],\n",
       "       [2, 2, 2]])"
      ]
     },
     "execution_count": 262,
     "metadata": {},
     "output_type": "execute_result"
    }
   ],
   "source": [
    "yv"
   ]
  },
  {
   "cell_type": "code",
   "execution_count": 263,
   "id": "e4c16d79-960e-460f-961c-a4a9e0cc04c1",
   "metadata": {},
   "outputs": [
    {
     "name": "stdout",
     "output_type": "stream",
     "text": [
      "[-4. -3. -2. -1.  0.  1.  2.  3.  4.]\n",
      "[-5. -4. -3. -2. -1.  0.  1.  2.  3.  4.  5.]\n"
     ]
    }
   ],
   "source": [
    "p = np.linspace(-4,4,9)\n",
    "v = np.linspace(-5,5,11)\n",
    "print(p)\n",
    "print(v)"
   ]
  },
  {
   "cell_type": "code",
   "execution_count": 264,
   "id": "f5553ec3-722f-4113-b779-1fbd56da5593",
   "metadata": {},
   "outputs": [],
   "source": [
    "p_1,v_1 = np.meshgrid(p,v)"
   ]
  },
  {
   "cell_type": "code",
   "execution_count": 265,
   "id": "bc19d3f9-a1f3-434f-b020-36340fbb6e61",
   "metadata": {},
   "outputs": [
    {
     "name": "stdout",
     "output_type": "stream",
     "text": [
      "[[-4. -3. -2. -1.  0.  1.  2.  3.  4.]\n",
      " [-4. -3. -2. -1.  0.  1.  2.  3.  4.]\n",
      " [-4. -3. -2. -1.  0.  1.  2.  3.  4.]\n",
      " [-4. -3. -2. -1.  0.  1.  2.  3.  4.]\n",
      " [-4. -3. -2. -1.  0.  1.  2.  3.  4.]\n",
      " [-4. -3. -2. -1.  0.  1.  2.  3.  4.]\n",
      " [-4. -3. -2. -1.  0.  1.  2.  3.  4.]\n",
      " [-4. -3. -2. -1.  0.  1.  2.  3.  4.]\n",
      " [-4. -3. -2. -1.  0.  1.  2.  3.  4.]\n",
      " [-4. -3. -2. -1.  0.  1.  2.  3.  4.]\n",
      " [-4. -3. -2. -1.  0.  1.  2.  3.  4.]]\n"
     ]
    }
   ],
   "source": [
    "print(p_1)"
   ]
  },
  {
   "cell_type": "code",
   "execution_count": 266,
   "id": "748dce5f-38cd-4a67-88a3-74cf177709c5",
   "metadata": {},
   "outputs": [
    {
     "name": "stdout",
     "output_type": "stream",
     "text": [
      "[[-5. -5. -5. -5. -5. -5. -5. -5. -5.]\n",
      " [-4. -4. -4. -4. -4. -4. -4. -4. -4.]\n",
      " [-3. -3. -3. -3. -3. -3. -3. -3. -3.]\n",
      " [-2. -2. -2. -2. -2. -2. -2. -2. -2.]\n",
      " [-1. -1. -1. -1. -1. -1. -1. -1. -1.]\n",
      " [ 0.  0.  0.  0.  0.  0.  0.  0.  0.]\n",
      " [ 1.  1.  1.  1.  1.  1.  1.  1.  1.]\n",
      " [ 2.  2.  2.  2.  2.  2.  2.  2.  2.]\n",
      " [ 3.  3.  3.  3.  3.  3.  3.  3.  3.]\n",
      " [ 4.  4.  4.  4.  4.  4.  4.  4.  4.]\n",
      " [ 5.  5.  5.  5.  5.  5.  5.  5.  5.]]\n"
     ]
    }
   ],
   "source": [
    "print(v_1)"
   ]
  },
  {
   "cell_type": "markdown",
   "id": "68ad86b7-59ec-41bd-a956-d484ada115cf",
   "metadata": {},
   "source": [
    "# Numpy Meshgrid Creates Coordinates for a Grid System\n",
    "* np.meshgrid([1,2,3],[5,6,7])\n",
    "* These arrays, xv and yv, each seperately give the x and y coordinates on a 2D grid. You can do normal numpy operations on these arrays:"
   ]
  },
  {
   "cell_type": "code",
   "execution_count": 267,
   "id": "144816c7-3454-4c77-b975-5cfe75f02fcc",
   "metadata": {},
   "outputs": [
    {
     "data": {
      "text/plain": [
       "array([[0, 1, 4],\n",
       "       [1, 2, 5],\n",
       "       [4, 5, 8]])"
      ]
     },
     "execution_count": 267,
     "metadata": {},
     "output_type": "execute_result"
    }
   ],
   "source": [
    "xv**2 + yv**2"
   ]
  },
  {
   "cell_type": "markdown",
   "id": "d18a737e-9235-49bb-a5c9-382efa218640",
   "metadata": {},
   "source": [
    "\n"
   ]
  },
  {
   "cell_type": "markdown",
   "id": "13b738c9-6aa9-414b-ae4c-e2fec0661f04",
   "metadata": {},
   "source": [
    "* This can be done on a larger scale to plot surface plots of 2D functions \n",
    "Generate functions f(x, y) = e−(x²+y²) for −2 ≤ x ≤ 2 and −1 ≤ y ≤1"
   ]
  },
  {
   "cell_type": "code",
   "execution_count": 268,
   "id": "5712ba7f-f06f-4a9e-9861-beca4d2d19fd",
   "metadata": {},
   "outputs": [],
   "source": [
    "x = np.linspace(-2,2,100)\n",
    "y = np.linspace(-1,1,100)\n",
    "xv,yv = np.meshgrid(x,y)\n",
    "f = np.exp(-xv**2-yv**2)"
   ]
  },
  {
   "cell_type": "markdown",
   "id": "15371109-1741-4cd1-84aa-5e9b0ddfb13d",
   "metadata": {},
   "source": [
    "* Note: pcolormesh is typically the preferable function for 2D plotting, as opposed to imshow or \n",
    "pcolor, which take longer.) "
   ]
  },
  {
   "cell_type": "code",
   "execution_count": 269,
   "id": "38b825f3-8608-4bb7-af80-20528812f2bf",
   "metadata": {},
   "outputs": [
    {
     "data": {
      "image/png": "[encoded data removed]",
      "text/plain": [
       "<Figure size 600x300 with 2 Axes>"
      ]
     },
     "metadata": {},
     "output_type": "display_data"
    }
   ],
   "source": [
    "plt.figure(figsize = (6,3))\n",
    "plt.pcolormesh(xv,yv,f,shading='nearest')\n",
    "plt.colorbar()\n",
    "plt.grid()\n",
    "plt.show()"
   ]
  },
  {
   "cell_type": "code",
   "execution_count": 270,
   "id": "6dda4e70-251a-4891-b949-bf342ad71efd",
   "metadata": {},
   "outputs": [
    {
     "data": {
      "image/png": "[encoded data removed]",
      "text/plain": [
       "<Figure size 640x480 with 2 Axes>"
      ]
     },
     "metadata": {},
     "output_type": "display_data"
    }
   ],
   "source": [
    "import numpy as np\n",
    "import matplotlib.pyplot as plt\n",
    "\n",
    "def f(x,y):\n",
    "    return np.where((x**2 + y**2 < 1),1.0,0.0)\n",
    "x = np.linspace(-5,5,500)\n",
    "y = np.linspace(-5,5,500)\n",
    "\n",
    "xv,yv = np.meshgrid(x,y)\n",
    "rectangular_mask = f(xv,yv)\n",
    "\n",
    "plt.pcolormesh(xv,yv,rectangular_mask,shading = 'auto' )\n",
    "plt.colorbar()\n",
    "plt.grid()\n",
    "plt.show()"
   ]
  },
  {
   "cell_type": "markdown",
   "id": "b6fa757a-24ca-4a54-8822-6fad8b52f5e7",
   "metadata": {},
   "source": [
    "* numpy.linspace creates an array of 9 linearly placed elements between -4 and 4, both inclusive \n"
   ]
  },
  {
   "cell_type": "code",
   "execution_count": 271,
   "id": "8e3f2c3c-1df8-4f32-830e-b15f00bf5b0d",
   "metadata": {},
   "outputs": [],
   "source": [
    "x = np.linspace(-4,4,9)"
   ]
  },
  {
   "cell_type": "code",
   "execution_count": 272,
   "id": "0b7b6b3c-6451-4948-bd2e-425e39b7492b",
   "metadata": {},
   "outputs": [],
   "source": [
    "y = np.linspace(-5,5,11)"
   ]
  },
  {
   "cell_type": "code",
   "execution_count": 273,
   "id": "36d823a6-13b5-4e6b-8a9c-2e7b93bb562a",
   "metadata": {},
   "outputs": [],
   "source": [
    "x_1,y_1 = np.meshgrid(x,y)"
   ]
  },
  {
   "cell_type": "code",
   "execution_count": 274,
   "id": "d7a9f289-3392-44ee-8c0c-5dfad1a7b8b9",
   "metadata": {},
   "outputs": [
    {
     "data": {
      "image/png": "[encoded data removed]",
      "text/plain": [
       "<Figure size 640x480 with 2 Axes>"
      ]
     },
     "metadata": {},
     "output_type": "display_data"
    }
   ],
   "source": [
    "random_data = np.random.random((11,9))\n",
    "plt.contourf(x_1,y_1,random_data,cmap = 'jet')\n",
    "plt.colorbar()\n",
    "plt.show()"
   ]
  },
  {
   "cell_type": "code",
   "execution_count": 275,
   "id": "c88a7c40-7b8d-49dc-a593-701cdb3ed074",
   "metadata": {},
   "outputs": [
    {
     "name": "stderr",
     "output_type": "stream",
     "text": [
      "C:\\Users\\suraj\\AppData\\Local\\Temp\\ipykernel_19220\\903994518.py:1: RuntimeWarning: invalid value encountered in divide\n",
      "  sine = (np.sin(x_1**2 + y_1**2))/(x_1**2 + y_1**2)\n"
     ]
    },
    {
     "data": {
      "image/png": "[encoded data removed]",
      "text/plain": [
       "<Figure size 640x480 with 2 Axes>"
      ]
     },
     "metadata": {},
     "output_type": "display_data"
    }
   ],
   "source": [
    "sine = (np.sin(x_1**2 + y_1**2))/(x_1**2 + y_1**2)\n",
    "plt.contourf(x_1,y_1,sine,cmap = 'jet')\n",
    "plt.colorbar()\n",
    "plt.show()"
   ]
  },
  {
   "cell_type": "markdown",
   "id": "aa881bea-ba27-40e5-aa6d-bcca09c6bffd",
   "metadata": {},
   "source": [
    "* We observe that x_1 is a row repeated matrix whereas y_1 is a column repeated matrix. One row of x_1 and one column of y_1 is enough to determine the positions of all the points as the other values will get repeated over and over."
   ]
  },
  {
   "cell_type": "code",
   "execution_count": 276,
   "id": "76425f54-d9a8-4eb9-9049-8d6931fd8574",
   "metadata": {},
   "outputs": [],
   "source": [
    "x_1,y_1 = np.meshgrid(x,y,sparse = True)"
   ]
  },
  {
   "cell_type": "code",
   "execution_count": 277,
   "id": "146985d7-e6f6-4673-b117-d00823dc571f",
   "metadata": {},
   "outputs": [
    {
     "data": {
      "text/plain": [
       "array([[-4., -3., -2., -1.,  0.,  1.,  2.,  3.,  4.]])"
      ]
     },
     "execution_count": 277,
     "metadata": {},
     "output_type": "execute_result"
    }
   ],
   "source": [
    "x_1"
   ]
  },
  {
   "cell_type": "code",
   "execution_count": 278,
   "id": "3de165c4-b287-4fdc-9d87-d301f830a9dd",
   "metadata": {},
   "outputs": [
    {
     "data": {
      "text/plain": [
       "array([[-5.],\n",
       "       [-4.],\n",
       "       [-3.],\n",
       "       [-2.],\n",
       "       [-1.],\n",
       "       [ 0.],\n",
       "       [ 1.],\n",
       "       [ 2.],\n",
       "       [ 3.],\n",
       "       [ 4.],\n",
       "       [ 5.]])"
      ]
     },
     "execution_count": 278,
     "metadata": {},
     "output_type": "execute_result"
    }
   ],
   "source": [
    "y_1"
   ]
  },
  {
   "cell_type": "markdown",
   "id": "8a2df8f9-59a0-40b6-9476-f7dbae62ee07",
   "metadata": {},
   "source": [
    "* The shape of x_1 changed from (11, 9) to (1, 9) and that of y_1 changed from (11, 9) to (11, 1)\n",
    "* The indexing of Matrix is however different. Actually, it is the exact opposite of Cartesian indexing. "
   ]
  },
  {
   "cell_type": "markdown",
   "id": "04328a0b-4d3f-45ea-8ebb-2ce82106c9ef",
   "metadata": {},
   "source": [
    "# Sorting\n",
    "* Return a sorted copy of an array."
   ]
  },
  {
   "cell_type": "code",
   "execution_count": 279,
   "id": "334bd7be-01f9-4a2c-81c7-4597f9c2622b",
   "metadata": {},
   "outputs": [
    {
     "data": {
      "text/plain": [
       "array([95, 77, 51, 54,  2, 28, 83, 10, 96, 89, 88, 88, 60, 42, 53])"
      ]
     },
     "execution_count": 279,
     "metadata": {},
     "output_type": "execute_result"
    }
   ],
   "source": [
    "a = np.random.randint(1,100,15) # 1D\n",
    "a"
   ]
  },
  {
   "cell_type": "code",
   "execution_count": 280,
   "id": "2db1c488-51eb-4127-be7e-5df7bbc887ac",
   "metadata": {},
   "outputs": [
    {
     "data": {
      "text/plain": [
       "array([[89, 72, 15, 69],\n",
       "       [ 5, 46, 59, 21],\n",
       "       [26, 33, 74, 65],\n",
       "       [13, 88, 59,  3],\n",
       "       [42, 94,  1, 53],\n",
       "       [45, 39, 10, 37]])"
      ]
     },
     "execution_count": 280,
     "metadata": {},
     "output_type": "execute_result"
    }
   ],
   "source": [
    "b = np.random.randint(1,100,24).reshape(6,4) # 2D\n",
    "b"
   ]
  },
  {
   "cell_type": "code",
   "execution_count": 281,
   "id": "8744f801-bf89-445e-b5cf-396120d88fa1",
   "metadata": {},
   "outputs": [
    {
     "data": {
      "text/plain": [
       "array([ 2, 10, 28, 42, 51, 53, 54, 60, 77, 83, 88, 88, 89, 95, 96])"
      ]
     },
     "execution_count": 281,
     "metadata": {},
     "output_type": "execute_result"
    }
   ],
   "source": [
    "np.sort(a) # Default = Ascending"
   ]
  },
  {
   "cell_type": "code",
   "execution_count": 282,
   "id": "25ce7d70-200b-4a31-85e8-3049055c466d",
   "metadata": {},
   "outputs": [
    {
     "data": {
      "text/plain": [
       "array([96, 95, 89, 88, 88, 83, 77, 60, 54, 53, 51, 42, 28, 10,  2])"
      ]
     },
     "execution_count": 282,
     "metadata": {},
     "output_type": "execute_result"
    }
   ],
   "source": [
    "np.sort(a)[::-1] # Descending"
   ]
  },
  {
   "cell_type": "code",
   "execution_count": 283,
   "id": "48a7460c-5263-4f03-a8c8-497a1cca5d3c",
   "metadata": {},
   "outputs": [
    {
     "data": {
      "text/plain": [
       "array([[89, 72, 15, 69],\n",
       "       [ 5, 46, 59, 21],\n",
       "       [26, 33, 74, 65],\n",
       "       [13, 88, 59,  3],\n",
       "       [42, 94,  1, 53],\n",
       "       [45, 39, 10, 37]])"
      ]
     },
     "execution_count": 283,
     "metadata": {},
     "output_type": "execute_result"
    }
   ],
   "source": [
    "b"
   ]
  },
  {
   "cell_type": "code",
   "execution_count": 284,
   "id": "cda527d9-4625-4997-b8b9-c2d18c594f0d",
   "metadata": {},
   "outputs": [
    {
     "data": {
      "text/plain": [
       "array([[15, 69, 72, 89],\n",
       "       [ 5, 21, 46, 59],\n",
       "       [26, 33, 65, 74],\n",
       "       [ 3, 13, 59, 88],\n",
       "       [ 1, 42, 53, 94],\n",
       "       [10, 37, 39, 45]])"
      ]
     },
     "execution_count": 284,
     "metadata": {},
     "output_type": "execute_result"
    }
   ],
   "source": [
    "np.sort(b) # In 2D array Row wise sorting will occured"
   ]
  },
  {
   "cell_type": "code",
   "execution_count": 285,
   "id": "5d88c247-04af-4383-b96b-be6d5f5b9151",
   "metadata": {},
   "outputs": [
    {
     "data": {
      "text/plain": [
       "array([[ 5, 33,  1,  3],\n",
       "       [13, 39, 10, 21],\n",
       "       [26, 46, 15, 37],\n",
       "       [42, 72, 59, 53],\n",
       "       [45, 88, 59, 65],\n",
       "       [89, 94, 74, 69]])"
      ]
     },
     "execution_count": 285,
     "metadata": {},
     "output_type": "execute_result"
    }
   ],
   "source": [
    "np.sort(b,axis = 0) # Column wise sorting"
   ]
  },
  {
   "cell_type": "markdown",
   "id": "3996b78f-8bee-430b-8d78-7017e54522c4",
   "metadata": {},
   "source": [
    "# Append\n",
    "* The **np.append()** appends values along the mentioned axis at the end of the array"
   ]
  },
  {
   "cell_type": "code",
   "execution_count": 286,
   "id": "1cefbe23-93da-4067-94bb-0d01f6bc2b3a",
   "metadata": {},
   "outputs": [
    {
     "data": {
      "text/plain": [
       "array([95, 77, 51, 54,  2, 28, 83, 10, 96, 89, 88, 88, 60, 42, 53])"
      ]
     },
     "execution_count": 286,
     "metadata": {},
     "output_type": "execute_result"
    }
   ],
   "source": [
    "a"
   ]
  },
  {
   "cell_type": "code",
   "execution_count": 287,
   "id": "a5c35cca-5224-4d04-9f71-989ca4322097",
   "metadata": {},
   "outputs": [
    {
     "data": {
      "text/plain": [
       "array([95, 77, 51, 54,  2, 28, 83, 10, 96, 89, 88, 88, 60, 42, 53, 56])"
      ]
     },
     "execution_count": 287,
     "metadata": {},
     "output_type": "execute_result"
    }
   ],
   "source": [
    "np.append(a,56)"
   ]
  },
  {
   "cell_type": "code",
   "execution_count": 288,
   "id": "75816e7b-7f80-4ade-85ea-834605e270d6",
   "metadata": {},
   "outputs": [
    {
     "data": {
      "text/plain": [
       "array([[89, 72, 15, 69],\n",
       "       [ 5, 46, 59, 21],\n",
       "       [26, 33, 74, 65],\n",
       "       [13, 88, 59,  3],\n",
       "       [42, 94,  1, 53],\n",
       "       [45, 39, 10, 37]])"
      ]
     },
     "execution_count": 288,
     "metadata": {},
     "output_type": "execute_result"
    }
   ],
   "source": [
    "b "
   ]
  },
  {
   "cell_type": "markdown",
   "id": "0e770ba9-9e05-4ceb-a11f-271670993dcf",
   "metadata": {},
   "source": [
    "# Adding Extra column :1 "
   ]
  },
  {
   "cell_type": "code",
   "execution_count": 289,
   "id": "2dab9003-0024-4ff1-95e3-b22f9ac0585e",
   "metadata": {},
   "outputs": [
    {
     "data": {
      "text/plain": [
       "array([89., 72., 15., 69.,  5., 46., 59., 21., 26., 33., 74., 65., 13.,\n",
       "       88., 59.,  3., 42., 94.,  1., 53., 45., 39., 10., 37.,  1.,  1.,\n",
       "        1.,  1.,  1.,  1.])"
      ]
     },
     "execution_count": 289,
     "metadata": {},
     "output_type": "execute_result"
    }
   ],
   "source": [
    "np.append(b,np.ones((b.shape[0],1)))"
   ]
  },
  {
   "cell_type": "code",
   "execution_count": 290,
   "id": "4a8e97e9-8c5b-4b76-89d1-b8eee8a8b6dd",
   "metadata": {},
   "outputs": [
    {
     "data": {
      "text/plain": [
       "array([[89., 72., 15., 69.,  1.],\n",
       "       [ 5., 46., 59., 21.,  1.],\n",
       "       [26., 33., 74., 65.,  1.],\n",
       "       [13., 88., 59.,  3.,  1.],\n",
       "       [42., 94.,  1., 53.,  1.],\n",
       "       [45., 39., 10., 37.,  1.]])"
      ]
     },
     "execution_count": 290,
     "metadata": {},
     "output_type": "execute_result"
    }
   ],
   "source": [
    "np.append(b,np.ones((b.shape[0],1)),axis = 1)"
   ]
  },
  {
   "cell_type": "markdown",
   "id": "495af27c-fecc-472b-9330-a1ff1d1fa2b5",
   "metadata": {},
   "source": [
    "# Adding random numbers in new column "
   ]
  },
  {
   "cell_type": "code",
   "execution_count": 291,
   "id": "60bdd75c-c9fc-4356-970c-bada14ce64b3",
   "metadata": {},
   "outputs": [
    {
     "data": {
      "text/plain": [
       "array([[8.90000000e+01, 7.20000000e+01, 1.50000000e+01, 6.90000000e+01,\n",
       "        5.22881714e-02],\n",
       "       [5.00000000e+00, 4.60000000e+01, 5.90000000e+01, 2.10000000e+01,\n",
       "        9.70967208e-01],\n",
       "       [2.60000000e+01, 3.30000000e+01, 7.40000000e+01, 6.50000000e+01,\n",
       "        6.51152642e-01],\n",
       "       [1.30000000e+01, 8.80000000e+01, 5.90000000e+01, 3.00000000e+00,\n",
       "        2.06611905e-01],\n",
       "       [4.20000000e+01, 9.40000000e+01, 1.00000000e+00, 5.30000000e+01,\n",
       "        8.45362274e-01],\n",
       "       [4.50000000e+01, 3.90000000e+01, 1.00000000e+01, 3.70000000e+01,\n",
       "        2.29911498e-01]])"
      ]
     },
     "execution_count": 291,
     "metadata": {},
     "output_type": "execute_result"
    }
   ],
   "source": [
    "np.append(b,np.random.random((b.shape[0],1)),axis = 1)"
   ]
  },
  {
   "cell_type": "markdown",
   "id": "32e174a9-b4b4-482c-b5c7-9fdd11cdb983",
   "metadata": {},
   "source": [
    "# Concatenate"
   ]
  },
  {
   "cell_type": "markdown",
   "id": "7a3e33b1-cf33-49b0-97af-04600e59ac06",
   "metadata": {},
   "source": [
    "* np.concatenate() function concatenate a sequesnce of arrays along an existing axis."
   ]
  },
  {
   "cell_type": "code",
   "execution_count": 292,
   "id": "95c27a05-46f9-43bf-8c60-10a8697e5ffd",
   "metadata": {},
   "outputs": [],
   "source": [
    "c = np.arange(6).reshape(2,3)\n",
    "d = np.arange(6,12).reshape(2,3)"
   ]
  },
  {
   "cell_type": "code",
   "execution_count": 293,
   "id": "51944445-28fd-4081-b39f-1873138b11f0",
   "metadata": {},
   "outputs": [
    {
     "data": {
      "text/plain": [
       "array([[0, 1, 2],\n",
       "       [3, 4, 5]])"
      ]
     },
     "execution_count": 293,
     "metadata": {},
     "output_type": "execute_result"
    }
   ],
   "source": [
    "c"
   ]
  },
  {
   "cell_type": "code",
   "execution_count": 294,
   "id": "dffb1c99-3137-4727-910b-1bd911c02804",
   "metadata": {},
   "outputs": [
    {
     "data": {
      "text/plain": [
       "array([[ 6,  7,  8],\n",
       "       [ 9, 10, 11]])"
      ]
     },
     "execution_count": 294,
     "metadata": {},
     "output_type": "execute_result"
    }
   ],
   "source": [
    "d"
   ]
  },
  {
   "cell_type": "code",
   "execution_count": 295,
   "id": "91950e5b-da68-4e4e-aedb-d52a9f87ec49",
   "metadata": {},
   "outputs": [
    {
     "data": {
      "text/plain": [
       "array([[ 0,  1,  2],\n",
       "       [ 3,  4,  5],\n",
       "       [ 6,  7,  8],\n",
       "       [ 9, 10, 11]])"
      ]
     },
     "execution_count": 295,
     "metadata": {},
     "output_type": "execute_result"
    }
   ],
   "source": [
    "np.concatenate((c,d)) # row wise"
   ]
  },
  {
   "cell_type": "code",
   "execution_count": 296,
   "id": "8ce1a365-0609-4f27-80b3-25dd69347e25",
   "metadata": {},
   "outputs": [
    {
     "data": {
      "text/plain": [
       "array([[ 0,  1,  2,  6,  7,  8],\n",
       "       [ 3,  4,  5,  9, 10, 11]])"
      ]
     },
     "execution_count": 296,
     "metadata": {},
     "output_type": "execute_result"
    }
   ],
   "source": [
    "np.concatenate((c,d),axis = 1) # Column wise"
   ]
  },
  {
   "cell_type": "markdown",
   "id": "90434c9d-8c7a-4d98-9673-08cf3ac826c1",
   "metadata": {},
   "source": [
    "# Unique\n",
    "* With the help of np.unique() method, we can get the unique values from an array given as parameter in np.unique().method."
   ]
  },
  {
   "cell_type": "code",
   "execution_count": 297,
   "id": "7f13098c-0eb6-4d50-b915-6c313c940aac",
   "metadata": {},
   "outputs": [
    {
     "data": {
      "text/plain": [
       "array([1, 1, 2, 2, 3, 3, 4, 4, 5, 5, 6, 6])"
      ]
     },
     "execution_count": 297,
     "metadata": {},
     "output_type": "execute_result"
    }
   ],
   "source": [
    "e = np.array([1,1,2,2,3,3,4,4,5,5,6,6])\n",
    "e"
   ]
  },
  {
   "cell_type": "code",
   "execution_count": 298,
   "id": "2d0ec33d-3b02-4b52-b105-b7b6372d9191",
   "metadata": {},
   "outputs": [
    {
     "data": {
      "text/plain": [
       "array([1, 2, 3, 4, 5, 6])"
      ]
     },
     "execution_count": 298,
     "metadata": {},
     "output_type": "execute_result"
    }
   ],
   "source": [
    "np.unique(e)"
   ]
  },
  {
   "cell_type": "markdown",
   "id": "31097431-9f61-489e-83d3-bfcd536a82d4",
   "metadata": {},
   "source": [
    "# Expand dimensions"
   ]
  },
  {
   "cell_type": "markdown",
   "id": "cadb7fcc-ed59-4549-96c1-5779dffe3bfd",
   "metadata": {},
   "source": [
    "* With the help of Numpy.expand_dims() method, we can get the expanded dimensions of an array"
   ]
  },
  {
   "cell_type": "code",
   "execution_count": 300,
   "id": "aa254d53-b1cc-4147-bfdf-1bda2f6131a0",
   "metadata": {},
   "outputs": [
    {
     "data": {
      "text/plain": [
       "array([95, 77, 51, 54,  2, 28, 83, 10, 96, 89, 88, 88, 60, 42, 53])"
      ]
     },
     "execution_count": 300,
     "metadata": {},
     "output_type": "execute_result"
    }
   ],
   "source": [
    "a"
   ]
  },
  {
   "cell_type": "code",
   "execution_count": 301,
   "id": "39558cb2-8661-4533-a1e8-17835b07f178",
   "metadata": {},
   "outputs": [
    {
     "data": {
      "text/plain": [
       "(15,)"
      ]
     },
     "execution_count": 301,
     "metadata": {},
     "output_type": "execute_result"
    }
   ],
   "source": [
    "a.shape"
   ]
  },
  {
   "cell_type": "code",
   "execution_count": 303,
   "id": "0469c70e-2771-4d22-abf6-5d409799e7e5",
   "metadata": {},
   "outputs": [],
   "source": [
    "# Converting into 2D array\n",
    "b = np.expand_dims(a,axis = 0)"
   ]
  },
  {
   "cell_type": "code",
   "execution_count": 304,
   "id": "dfe9c407-4754-4280-8d62-26faf1289a3d",
   "metadata": {},
   "outputs": [
    {
     "data": {
      "text/plain": [
       "array([[95, 77, 51, 54,  2, 28, 83, 10, 96, 89, 88, 88, 60, 42, 53]])"
      ]
     },
     "execution_count": 304,
     "metadata": {},
     "output_type": "execute_result"
    }
   ],
   "source": [
    "b"
   ]
  },
  {
   "cell_type": "code",
   "execution_count": 305,
   "id": "554d12a7-9184-4402-888b-c362ad93a906",
   "metadata": {},
   "outputs": [
    {
     "data": {
      "text/plain": [
       "(1, 15)"
      ]
     },
     "execution_count": 305,
     "metadata": {},
     "output_type": "execute_result"
    }
   ],
   "source": [
    "b.shape"
   ]
  },
  {
   "cell_type": "code",
   "execution_count": 308,
   "id": "7642bf5a-f6b2-43f8-bd7e-41795caace0e",
   "metadata": {},
   "outputs": [
    {
     "data": {
      "text/plain": [
       "array([[95, 77, 51, 54,  2],\n",
       "       [28, 83, 10, 96, 89],\n",
       "       [88, 88, 60, 42, 53]])"
      ]
     },
     "execution_count": 308,
     "metadata": {},
     "output_type": "execute_result"
    }
   ],
   "source": [
    "np.expand_dims(a,axis = 1).reshape(3,5)"
   ]
  },
  {
   "cell_type": "markdown",
   "id": "9a36c27f-53f3-4d3a-9a96-7cdc2f715a4a",
   "metadata": {},
   "source": [
    "* We can use in row vector and column vector.\n",
    "* expand_dims() is used to insert an addition dimension in input Tensor."
   ]
  },
  {
   "cell_type": "code",
   "execution_count": 309,
   "id": "9805025c-9f65-4875-8f9f-4f02ef25371c",
   "metadata": {},
   "outputs": [
    {
     "data": {
      "text/plain": [
       "(15, 1)"
      ]
     },
     "execution_count": 309,
     "metadata": {},
     "output_type": "execute_result"
    }
   ],
   "source": [
    "np.expand_dims(a,axis = 1).shape"
   ]
  },
  {
   "cell_type": "markdown",
   "id": "96e64901-f1e9-4ea1-b14a-16883d55e43e",
   "metadata": {},
   "source": [
    "# Where "
   ]
  },
  {
   "cell_type": "markdown",
   "id": "063fa489-5c7a-42c9-bbda-97351d79cdec",
   "metadata": {},
   "source": [
    "* The **np.where()** function returns the indices of elements in an input array where the given condition is satisfied."
   ]
  },
  {
   "cell_type": "code",
   "execution_count": 311,
   "id": "25c9ef7e-f10b-4c6d-a429-559d0440a46e",
   "metadata": {},
   "outputs": [
    {
     "data": {
      "text/plain": [
       "array([95, 77, 51, 54,  2, 28, 83, 10, 96, 89, 88, 88, 60, 42, 53])"
      ]
     },
     "execution_count": 311,
     "metadata": {},
     "output_type": "execute_result"
    }
   ],
   "source": [
    "a"
   ]
  },
  {
   "cell_type": "code",
   "execution_count": 313,
   "id": "16329e02-d62e-44ea-86a6-b16b44844c6d",
   "metadata": {},
   "outputs": [
    {
     "data": {
      "text/plain": [
       "(array([ 0,  1,  2,  3,  6,  8,  9, 10, 11, 12, 14], dtype=int64),)"
      ]
     },
     "execution_count": 313,
     "metadata": {},
     "output_type": "execute_result"
    }
   ],
   "source": [
    "# Find all indices with value greater than 50 \n",
    "np.where(a > 50)"
   ]
  },
  {
   "cell_type": "markdown",
   "id": "8ddae7ae-553e-4e66-baed-be813b3b1bea",
   "metadata": {},
   "source": [
    "### np.where( condition, True , false)"
   ]
  },
  {
   "cell_type": "code",
   "execution_count": 315,
   "id": "388db7a3-01f8-4851-ac1f-e66be12e492a",
   "metadata": {},
   "outputs": [
    {
     "data": {
      "text/plain": [
       "array([ 0,  0,  0,  0,  2, 28,  0, 10,  0,  0,  0,  0,  0, 42,  0])"
      ]
     },
     "execution_count": 315,
     "metadata": {},
     "output_type": "execute_result"
    }
   ],
   "source": [
    "# replace all values > 50 with 0 \n",
    "np.where(a > 50,0,a)"
   ]
  },
  {
   "cell_type": "code",
   "execution_count": 316,
   "id": "4738454e-00b9-46e2-99fb-efa090676c32",
   "metadata": {},
   "outputs": [
    {
     "data": {
      "text/plain": [
       "array([95, 77, 51,  0,  0,  0, 83,  0,  0, 89,  0,  0,  0,  0, 53])"
      ]
     },
     "execution_count": 316,
     "metadata": {},
     "output_type": "execute_result"
    }
   ],
   "source": [
    "# print and replace all even numbers to 0\n",
    "np.where(a % 2 == 0,0,a)"
   ]
  },
  {
   "cell_type": "markdown",
   "id": "a258a3e6-1d47-4740-823e-b9a315e09430",
   "metadata": {},
   "source": [
    "# argmax"
   ]
  },
  {
   "cell_type": "markdown",
   "id": "d640d8ee-7466-48c6-af8c-96e0801e4d00",
   "metadata": {},
   "source": [
    "* The **np.argmax()** function returns indices of the max element of the array in a particular axis.\n",
    "* arg = argument"
   ]
  },
  {
   "cell_type": "code",
   "execution_count": 317,
   "id": "2e28c061-92c7-4174-baf2-c52bd6adf56e",
   "metadata": {},
   "outputs": [
    {
     "data": {
      "text/plain": [
       "array([95, 77, 51, 54,  2, 28, 83, 10, 96, 89, 88, 88, 60, 42, 53])"
      ]
     },
     "execution_count": 317,
     "metadata": {},
     "output_type": "execute_result"
    }
   ],
   "source": [
    "a"
   ]
  },
  {
   "cell_type": "code",
   "execution_count": 319,
   "id": "c2e0bbb6-ab78-420a-bec7-ea42fe8b11c7",
   "metadata": {},
   "outputs": [
    {
     "data": {
      "text/plain": [
       "8"
      ]
     },
     "execution_count": 319,
     "metadata": {},
     "output_type": "execute_result"
    }
   ],
   "source": [
    "np.argmax(a) # It will the index number of the max element"
   ]
  },
  {
   "cell_type": "code",
   "execution_count": 324,
   "id": "866e8325-641b-4a3e-96a9-169dc022879d",
   "metadata": {},
   "outputs": [
    {
     "data": {
      "text/plain": [
       "array([[95, 77, 51, 54,  2],\n",
       "       [28, 83, 10, 96, 89],\n",
       "       [88, 88, 60, 42, 53]])"
      ]
     },
     "execution_count": 324,
     "metadata": {},
     "output_type": "execute_result"
    }
   ],
   "source": [
    "b1 = b.reshape(3,5) # on 2D\n",
    "b1"
   ]
  },
  {
   "cell_type": "code",
   "execution_count": 325,
   "id": "f479c07f-273e-4948-a83a-fcd4e65c8902",
   "metadata": {},
   "outputs": [
    {
     "data": {
      "text/plain": [
       "array([0, 3, 0], dtype=int64)"
      ]
     },
     "execution_count": 325,
     "metadata": {},
     "output_type": "execute_result"
    }
   ],
   "source": [
    "np.argmax(b1,axis = 1,) # Row wise index number of the max element"
   ]
  },
  {
   "cell_type": "code",
   "execution_count": 327,
   "id": "210b4c49-46c9-4e83-a0c5-fbe4d2c7993d",
   "metadata": {},
   "outputs": [
    {
     "data": {
      "text/plain": [
       "array([0, 2, 2, 1, 1], dtype=int64)"
      ]
     },
     "execution_count": 327,
     "metadata": {},
     "output_type": "execute_result"
    }
   ],
   "source": [
    "np.argmax(b1,axis = 0) # Column wise index number of the max element"
   ]
  },
  {
   "cell_type": "code",
   "execution_count": 329,
   "id": "40380211-3faa-476b-872c-c717d122f70c",
   "metadata": {},
   "outputs": [
    {
     "data": {
      "text/plain": [
       "array([95, 77, 51, 54,  2, 28, 83, 10, 96, 89, 88, 88, 60, 42, 53])"
      ]
     },
     "execution_count": 329,
     "metadata": {},
     "output_type": "execute_result"
    }
   ],
   "source": [
    "a"
   ]
  },
  {
   "cell_type": "code",
   "execution_count": 328,
   "id": "38e5fe5c-b326-4a3a-87b9-7d7cb8e3fd22",
   "metadata": {},
   "outputs": [
    {
     "data": {
      "text/plain": [
       "4"
      ]
     },
     "execution_count": 328,
     "metadata": {},
     "output_type": "execute_result"
    }
   ],
   "source": [
    "np.argmin(a) # It returns the index number of the min element"
   ]
  },
  {
   "cell_type": "markdown",
   "id": "01e2a291-8ff9-46cb-b136-3e6bace445e7",
   "metadata": {},
   "source": [
    "# Statistics"
   ]
  },
  {
   "cell_type": "markdown",
   "id": "ff248fc4-84f9-4ba7-824d-4eb8241b841e",
   "metadata": {},
   "source": [
    "### Cumsum"
   ]
  },
  {
   "cell_type": "markdown",
   "id": "6755df2e-c2b0-4ecd-af4a-c15b27a95d35",
   "metadata": {},
   "source": [
    "* numpy.cumsum() function is used when we want to compute the cumulative sum of array elements over a given axis"
   ]
  },
  {
   "cell_type": "code",
   "execution_count": 330,
   "id": "ae39022c-e753-47f9-b27d-89ec5187831a",
   "metadata": {},
   "outputs": [
    {
     "data": {
      "text/plain": [
       "array([95, 77, 51, 54,  2, 28, 83, 10, 96, 89, 88, 88, 60, 42, 53])"
      ]
     },
     "execution_count": 330,
     "metadata": {},
     "output_type": "execute_result"
    }
   ],
   "source": [
    "a"
   ]
  },
  {
   "cell_type": "code",
   "execution_count": 331,
   "id": "706c0db4-09fb-4dff-8df1-76c0b415edce",
   "metadata": {},
   "outputs": [
    {
     "data": {
      "text/plain": [
       "array([ 95, 172, 223, 277, 279, 307, 390, 400, 496, 585, 673, 761, 821,\n",
       "       863, 916])"
      ]
     },
     "execution_count": 331,
     "metadata": {},
     "output_type": "execute_result"
    }
   ],
   "source": [
    "np.cumsum(a)"
   ]
  },
  {
   "cell_type": "code",
   "execution_count": 333,
   "id": "91039f12-6000-460d-9d72-cf91038788db",
   "metadata": {},
   "outputs": [
    {
     "data": {
      "text/plain": [
       "array([[95, 77, 51, 54,  2],\n",
       "       [28, 83, 10, 96, 89],\n",
       "       [88, 88, 60, 42, 53]])"
      ]
     },
     "execution_count": 333,
     "metadata": {},
     "output_type": "execute_result"
    }
   ],
   "source": [
    "b1"
   ]
  },
  {
   "cell_type": "code",
   "execution_count": 334,
   "id": "d3de2292-d3fe-4506-a2e0-9b32f2960d99",
   "metadata": {},
   "outputs": [
    {
     "data": {
      "text/plain": [
       "array([ 95, 172, 223, 277, 279, 307, 390, 400, 496, 585, 673, 761, 821,\n",
       "       863, 916])"
      ]
     },
     "execution_count": 334,
     "metadata": {},
     "output_type": "execute_result"
    }
   ],
   "source": [
    "np.cumsum(b1)"
   ]
  },
  {
   "cell_type": "code",
   "execution_count": 336,
   "id": "22a3d123-23c3-4655-bb2a-9974f24f3dcf",
   "metadata": {},
   "outputs": [
    {
     "data": {
      "text/plain": [
       "array([[ 95, 172, 223, 277, 279],\n",
       "       [ 28, 111, 121, 217, 306],\n",
       "       [ 88, 176, 236, 278, 331]])"
      ]
     },
     "execution_count": 336,
     "metadata": {},
     "output_type": "execute_result"
    }
   ],
   "source": [
    "np.cumsum(b1,axis = 1) # row wise calculation or cumulative sum"
   ]
  },
  {
   "cell_type": "code",
   "execution_count": 337,
   "id": "a74e7f66-9baa-4b09-ba0f-5e9af842601e",
   "metadata": {},
   "outputs": [
    {
     "data": {
      "text/plain": [
       "array([[ 95,  77,  51,  54,   2],\n",
       "       [123, 160,  61, 150,  91],\n",
       "       [211, 248, 121, 192, 144]])"
      ]
     },
     "execution_count": 337,
     "metadata": {},
     "output_type": "execute_result"
    }
   ],
   "source": [
    "np.cumsum(b1,axis = 0) # Column wise calculation or cumulative sum"
   ]
  },
  {
   "cell_type": "code",
   "execution_count": 338,
   "id": "bb9c2337-8c8c-459f-9e11-d932f27171da",
   "metadata": {},
   "outputs": [
    {
     "data": {
      "text/plain": [
       "array([95, 77, 51, 54,  2, 28, 83, 10, 96, 89, 88, 88, 60, 42, 53])"
      ]
     },
     "execution_count": 338,
     "metadata": {},
     "output_type": "execute_result"
    }
   ],
   "source": [
    "a"
   ]
  },
  {
   "cell_type": "code",
   "execution_count": 339,
   "id": "005fa977-25cd-4db1-b25e-41aff7033fc9",
   "metadata": {},
   "outputs": [
    {
     "data": {
      "text/plain": [
       "array([         95,        7315,      373065,    20145510,    40291020,\n",
       "        1128148560,  -852950032,    60434272,  1506722816,   954344448,\n",
       "       -1917034496, -1195311104,  1295777792, -1411907584, -1816657920])"
      ]
     },
     "execution_count": 339,
     "metadata": {},
     "output_type": "execute_result"
    }
   ],
   "source": [
    "np.cumprod(a)"
   ]
  },
  {
   "cell_type": "markdown",
   "id": "4f84951a-3403-4847-b564-a1d45010b9b1",
   "metadata": {},
   "source": [
    "# Percentile"
   ]
  },
  {
   "cell_type": "markdown",
   "id": "2ba6ad02-8534-4cb7-aa3b-59126f6c5ff7",
   "metadata": {},
   "source": [
    "* np.percentile() function use to compute the nth percentile of the given data(array elements along the specified axis.)"
   ]
  },
  {
   "cell_type": "code",
   "execution_count": 340,
   "id": "55b0d692-c429-42a7-88f3-7717a044bfa6",
   "metadata": {},
   "outputs": [
    {
     "data": {
      "text/plain": [
       "array([95, 77, 51, 54,  2, 28, 83, 10, 96, 89, 88, 88, 60, 42, 53])"
      ]
     },
     "execution_count": 340,
     "metadata": {},
     "output_type": "execute_result"
    }
   ],
   "source": [
    "a"
   ]
  },
  {
   "cell_type": "code",
   "execution_count": 341,
   "id": "ce0fe644-2496-490f-8d9e-2e0dcc15e86c",
   "metadata": {},
   "outputs": [
    {
     "data": {
      "text/plain": [
       "96.0"
      ]
     },
     "execution_count": 341,
     "metadata": {},
     "output_type": "execute_result"
    }
   ],
   "source": [
    "np.percentile(a,100) # Max"
   ]
  },
  {
   "cell_type": "code",
   "execution_count": 342,
   "id": "6449889e-18aa-42f5-88c4-d31f9f4a665c",
   "metadata": {},
   "outputs": [
    {
     "data": {
      "text/plain": [
       "2.0"
      ]
     },
     "execution_count": 342,
     "metadata": {},
     "output_type": "execute_result"
    }
   ],
   "source": [
    "np.percentile(a,0) # min"
   ]
  },
  {
   "cell_type": "code",
   "execution_count": 343,
   "id": "d2e7364f-999e-471c-b65c-f94a8dcc5fd2",
   "metadata": {},
   "outputs": [
    {
     "data": {
      "text/plain": [
       "46.5"
      ]
     },
     "execution_count": 343,
     "metadata": {},
     "output_type": "execute_result"
    }
   ],
   "source": [
    "np.percentile(a,25) # 25th"
   ]
  },
  {
   "cell_type": "code",
   "execution_count": 347,
   "id": "ed15c0c3-38be-47b6-86e0-a07d01f86253",
   "metadata": {},
   "outputs": [
    {
     "data": {
      "text/plain": [
       "60.0"
      ]
     },
     "execution_count": 347,
     "metadata": {},
     "output_type": "execute_result"
    }
   ],
   "source": [
    "np.percentile(a,50) # 50th percentile or median"
   ]
  },
  {
   "cell_type": "code",
   "execution_count": 348,
   "id": "75eead29-0579-4417-8b56-08be8347dc29",
   "metadata": {},
   "outputs": [
    {
     "data": {
      "text/plain": [
       "60.0"
      ]
     },
     "execution_count": 348,
     "metadata": {},
     "output_type": "execute_result"
    }
   ],
   "source": [
    "np.median(a)"
   ]
  },
  {
   "cell_type": "markdown",
   "id": "380b73d6-7a94-47e3-a7d4-43e39722cf06",
   "metadata": {},
   "source": [
    "# Histogram"
   ]
  },
  {
   "cell_type": "markdown",
   "id": "56dab838-80a7-45d2-9758-4c1f96a71e74",
   "metadata": {},
   "source": [
    "* Numpy has a built in **numpy.histogram()** function which represents the frequency of data distribution in the graphical form"
   ]
  },
  {
   "cell_type": "code",
   "execution_count": 349,
   "id": "5ca2946e-04a1-49e6-b2d9-66b8274fe3f3",
   "metadata": {},
   "outputs": [
    {
     "data": {
      "text/plain": [
       "array([95, 77, 51, 54,  2, 28, 83, 10, 96, 89, 88, 88, 60, 42, 53])"
      ]
     },
     "execution_count": 349,
     "metadata": {},
     "output_type": "execute_result"
    }
   ],
   "source": [
    "a"
   ]
  },
  {
   "cell_type": "code",
   "execution_count": 350,
   "id": "e50fc185-689f-4f18-9443-e676c89f1954",
   "metadata": {},
   "outputs": [
    {
     "data": {
      "text/plain": [
       "(array([1, 1, 0, 1, 3, 1, 1, 4, 2], dtype=int64),\n",
       " array([ 10,  20,  30,  40,  50,  60,  70,  80,  90, 100]))"
      ]
     },
     "execution_count": 350,
     "metadata": {},
     "output_type": "execute_result"
    }
   ],
   "source": [
    "np.histogram(a,bins = [10,20,30,40,50,60,70,80,90,100])"
   ]
  },
  {
   "cell_type": "code",
   "execution_count": 351,
   "id": "98e4e56a-b1e3-4d18-bf3c-e1c7e6590fb5",
   "metadata": {},
   "outputs": [
    {
     "data": {
      "text/plain": [
       "(array([ 4, 11], dtype=int64), array([  0,  50, 100]))"
      ]
     },
     "execution_count": 351,
     "metadata": {},
     "output_type": "execute_result"
    }
   ],
   "source": [
    "np.histogram(a,bins = [0,50,100])"
   ]
  },
  {
   "cell_type": "markdown",
   "id": "1a398e0b-7484-48bc-857b-30c893eb8550",
   "metadata": {},
   "source": [
    "# Correlation Coefficients.\n"
   ]
  },
  {
   "cell_type": "markdown",
   "id": "25af7129-4892-4793-a4e8-3f4382e660b4",
   "metadata": {},
   "source": [
    "* **np.corrcoef()** returns the product moment correlation coefficients."
   ]
  },
  {
   "cell_type": "code",
   "execution_count": 352,
   "id": "c1055820-d38d-4be1-9867-72c91dc56dd3",
   "metadata": {},
   "outputs": [],
   "source": [
    "salary = np.array([20000,40000,25000,35000,60000])\n",
    "experience = np.array([1,3,4,5,3])"
   ]
  },
  {
   "cell_type": "code",
   "execution_count": 353,
   "id": "73eb7ddf-0b80-4ef5-bc8a-fb8c4f88fd3f",
   "metadata": {},
   "outputs": [
    {
     "data": {
      "text/plain": [
       "array([20000, 40000, 25000, 35000, 60000])"
      ]
     },
     "execution_count": 353,
     "metadata": {},
     "output_type": "execute_result"
    }
   ],
   "source": [
    "salary"
   ]
  },
  {
   "cell_type": "code",
   "execution_count": 354,
   "id": "c56c5ee1-60b3-4f8c-9535-32107ebb4f7b",
   "metadata": {},
   "outputs": [
    {
     "data": {
      "text/plain": [
       "array([1, 3, 4, 5, 3])"
      ]
     },
     "execution_count": 354,
     "metadata": {},
     "output_type": "execute_result"
    }
   ],
   "source": [
    "experience"
   ]
  },
  {
   "cell_type": "code",
   "execution_count": 355,
   "id": "f924d487-3684-4553-89c5-9f0df6c79e14",
   "metadata": {},
   "outputs": [
    {
     "data": {
      "text/plain": [
       "array([[1.       , 0.2056489],\n",
       "       [0.2056489, 1.       ]])"
      ]
     },
     "execution_count": 355,
     "metadata": {},
     "output_type": "execute_result"
    }
   ],
   "source": [
    "np.corrcoef(salary,experience) # Correlation Coefficient"
   ]
  },
  {
   "cell_type": "markdown",
   "id": "984f8211-ca68-4599-9999-dc138e394d79",
   "metadata": {},
   "source": [
    "# Utility functions"
   ]
  },
  {
   "cell_type": "markdown",
   "id": "daeb7b75-1a0c-400a-8da2-5331137c2aea",
   "metadata": {},
   "source": [
    "**np.isin()** \n",
    "\n",
    "* With the help of **np.isin()** method, we can see that one array having values are checked in a different numpy array having different elements with different sizes.\n"
   ]
  },
  {
   "cell_type": "code",
   "execution_count": 357,
   "id": "37874d22-178f-4306-98f3-a5b231df398e",
   "metadata": {},
   "outputs": [
    {
     "data": {
      "text/plain": [
       "array([95, 77, 51, 54,  2, 28, 83, 10, 96, 89, 88, 88, 60, 42, 53])"
      ]
     },
     "execution_count": 357,
     "metadata": {},
     "output_type": "execute_result"
    }
   ],
   "source": [
    "a"
   ]
  },
  {
   "cell_type": "code",
   "execution_count": 359,
   "id": "7a6d445e-46f2-4181-b13f-59083c77f57f",
   "metadata": {},
   "outputs": [
    {
     "data": {
      "text/plain": [
       "array([False, False, False, False, False, False, False,  True, False,\n",
       "       False, False, False,  True, False, False])"
      ]
     },
     "execution_count": 359,
     "metadata": {},
     "output_type": "execute_result"
    }
   ],
   "source": [
    "items = [10,20,30,40,50,60,70,80,90,100]\n",
    "\n",
    "np.isin(a,items)"
   ]
  },
  {
   "cell_type": "code",
   "execution_count": 364,
   "id": "5d61c4c6-97a1-485d-a6ff-702554253acc",
   "metadata": {},
   "outputs": [
    {
     "data": {
      "text/plain": [
       "array([10, 60])"
      ]
     },
     "execution_count": 364,
     "metadata": {},
     "output_type": "execute_result"
    }
   ],
   "source": [
    "a[np.isin(a,items)]"
   ]
  },
  {
   "cell_type": "markdown",
   "id": "42316b7b-de20-4e1c-81ef-18e7f0c6cf98",
   "metadata": {},
   "source": [
    "# Flip"
   ]
  },
  {
   "cell_type": "markdown",
   "id": "b8cbb566-78f5-4af2-a93f-4f5d62528f29",
   "metadata": {},
   "source": [
    "* The **no.flip()** function reverses the order of array elements along the specified axis, preserving the shape of the array."
   ]
  },
  {
   "cell_type": "code",
   "execution_count": 365,
   "id": "f0b8ca6a-de96-499d-b5d0-3e2998489e3d",
   "metadata": {},
   "outputs": [
    {
     "data": {
      "text/plain": [
       "array([95, 77, 51, 54,  2, 28, 83, 10, 96, 89, 88, 88, 60, 42, 53])"
      ]
     },
     "execution_count": 365,
     "metadata": {},
     "output_type": "execute_result"
    }
   ],
   "source": [
    "a"
   ]
  },
  {
   "cell_type": "code",
   "execution_count": 367,
   "id": "1a4ec60d-6f68-4fc7-858a-829ae35566f0",
   "metadata": {},
   "outputs": [
    {
     "data": {
      "text/plain": [
       "array([53, 42, 60, 88, 88, 89, 96, 10, 83, 28,  2, 54, 51, 77, 95])"
      ]
     },
     "execution_count": 367,
     "metadata": {},
     "output_type": "execute_result"
    }
   ],
   "source": [
    "np.flip(a) # reverse"
   ]
  },
  {
   "cell_type": "code",
   "execution_count": 368,
   "id": "06117915-0d45-4b45-a403-6c9b7f9fbea9",
   "metadata": {},
   "outputs": [
    {
     "data": {
      "text/plain": [
       "array([[95, 77, 51, 54,  2],\n",
       "       [28, 83, 10, 96, 89],\n",
       "       [88, 88, 60, 42, 53]])"
      ]
     },
     "execution_count": 368,
     "metadata": {},
     "output_type": "execute_result"
    }
   ],
   "source": [
    "b1"
   ]
  },
  {
   "cell_type": "code",
   "execution_count": 369,
   "id": "21177555-22fb-4115-89ec-e6b5e33c246c",
   "metadata": {},
   "outputs": [
    {
     "data": {
      "text/plain": [
       "array([[53, 42, 60, 88, 88],\n",
       "       [89, 96, 10, 83, 28],\n",
       "       [ 2, 54, 51, 77, 95]])"
      ]
     },
     "execution_count": 369,
     "metadata": {},
     "output_type": "execute_result"
    }
   ],
   "source": [
    "np.flip(b1)"
   ]
  },
  {
   "cell_type": "code",
   "execution_count": 370,
   "id": "52614c2d-475b-4ff4-a9b6-77526c539cf0",
   "metadata": {},
   "outputs": [
    {
     "data": {
      "text/plain": [
       "array([[ 2, 54, 51, 77, 95],\n",
       "       [89, 96, 10, 83, 28],\n",
       "       [53, 42, 60, 88, 88]])"
      ]
     },
     "execution_count": 370,
     "metadata": {},
     "output_type": "execute_result"
    }
   ],
   "source": [
    "np.flip(b1,axis = 1) # Row wise reversed"
   ]
  },
  {
   "cell_type": "code",
   "execution_count": 372,
   "id": "9acd9aa1-640a-44c2-aa5b-bd35e86faf83",
   "metadata": {},
   "outputs": [
    {
     "data": {
      "text/plain": [
       "array([[88, 88, 60, 42, 53],\n",
       "       [28, 83, 10, 96, 89],\n",
       "       [95, 77, 51, 54,  2]])"
      ]
     },
     "execution_count": 372,
     "metadata": {},
     "output_type": "execute_result"
    }
   ],
   "source": [
    "np.flip(b1,axis = 0) # Column wise reversed"
   ]
  },
  {
   "cell_type": "markdown",
   "id": "8fb80fdd-d6cb-4b00-9153-1d64905f6c06",
   "metadata": {},
   "source": [
    "# put"
   ]
  },
  {
   "cell_type": "markdown",
   "id": "e2ef73b3-1c1c-4411-a07f-e5f6b4ded456",
   "metadata": {},
   "source": [
    "* The **np.put()** function replaces specific elements of an array with given values of p_array.\n",
    "* Array indexed works on flattened array."
   ]
  },
  {
   "cell_type": "code",
   "execution_count": 373,
   "id": "4b6c20b5-2a90-41c5-9600-6747f949c71b",
   "metadata": {},
   "outputs": [
    {
     "data": {
      "text/plain": [
       "array([95, 77, 51, 54,  2, 28, 83, 10, 96, 89, 88, 88, 60, 42, 53])"
      ]
     },
     "execution_count": 373,
     "metadata": {},
     "output_type": "execute_result"
    }
   ],
   "source": [
    "a"
   ]
  },
  {
   "cell_type": "code",
   "execution_count": 374,
   "id": "8b2a7789-c62c-4eff-a20d-dfc597277e78",
   "metadata": {},
   "outputs": [],
   "source": [
    "np.put(a,[0,1],[110,234]) # Permanent changes"
   ]
  },
  {
   "cell_type": "code",
   "execution_count": 375,
   "id": "9a14def2-fd1c-4e46-8a26-9251baf509aa",
   "metadata": {},
   "outputs": [
    {
     "data": {
      "text/plain": [
       "array([110, 234,  51,  54,   2,  28,  83,  10,  96,  89,  88,  88,  60,\n",
       "        42,  53])"
      ]
     },
     "execution_count": 375,
     "metadata": {},
     "output_type": "execute_result"
    }
   ],
   "source": [
    "a"
   ]
  },
  {
   "cell_type": "markdown",
   "id": "43134b82-824d-49cd-84f7-afbfd0305cf2",
   "metadata": {},
   "source": [
    "# delete"
   ]
  },
  {
   "cell_type": "markdown",
   "id": "e725f844-7570-4d06-8831-d529289cb67d",
   "metadata": {},
   "source": [
    "* The **np.delete()** function returns a new array with the deletion of sub arrays along with the mentioned axis"
   ]
  },
  {
   "cell_type": "code",
   "execution_count": 376,
   "id": "78c1c5ba-d1e7-4ac2-b21a-07c80d7347f9",
   "metadata": {},
   "outputs": [
    {
     "data": {
      "text/plain": [
       "array([110, 234,  51,  54,   2,  28,  83,  10,  96,  89,  88,  88,  60,\n",
       "        42,  53])"
      ]
     },
     "execution_count": 376,
     "metadata": {},
     "output_type": "execute_result"
    }
   ],
   "source": [
    "a"
   ]
  },
  {
   "cell_type": "code",
   "execution_count": 377,
   "id": "1ea8d013-4f1b-4b3c-b8a0-4e6f087642da",
   "metadata": {},
   "outputs": [
    {
     "data": {
      "text/plain": [
       "array([234,  51,  54,   2,  28,  83,  10,  96,  89,  88,  88,  60,  42,\n",
       "        53])"
      ]
     },
     "execution_count": 377,
     "metadata": {},
     "output_type": "execute_result"
    }
   ],
   "source": [
    "np.delete(a,0) # deleted 0 indexed item"
   ]
  },
  {
   "cell_type": "code",
   "execution_count": 378,
   "id": "6c62814a-02b4-434b-942c-3ad59fdb8546",
   "metadata": {},
   "outputs": [
    {
     "data": {
      "text/plain": [
       "array([234,  54,  28,  83,  10,  96,  89,  88,  88,  60,  42,  53])"
      ]
     },
     "execution_count": 378,
     "metadata": {},
     "output_type": "execute_result"
    }
   ],
   "source": [
    "np.delete(a,[0,2,4]) # Delete the 0,2,4 index items"
   ]
  },
  {
   "cell_type": "markdown",
   "id": "44756f5b-5518-42d2-9f79-06cc3142c97f",
   "metadata": {},
   "source": [
    "# SET Functions\n",
    "* np.union1d\n",
    "* np.intersect1d\n",
    "* np.setdiff1d\n",
    "* np.setxor1d\n",
    "* np.in1d"
   ]
  },
  {
   "cell_type": "code",
   "execution_count": 379,
   "id": "31db7751-d3c5-43b8-996a-c1d6956c00ed",
   "metadata": {},
   "outputs": [],
   "source": [
    "m = np.array([1,2,3,4,5])\n",
    "n = np.array([3,4,5,6,7])"
   ]
  },
  {
   "cell_type": "code",
   "execution_count": 380,
   "id": "bff501a4-b192-4c56-993c-641fb8a6cc30",
   "metadata": {},
   "outputs": [
    {
     "data": {
      "text/plain": [
       "array([1, 2, 3, 4, 5, 6, 7])"
      ]
     },
     "execution_count": 380,
     "metadata": {},
     "output_type": "execute_result"
    }
   ],
   "source": [
    "# Union\n",
    "np.union1d(m,n)"
   ]
  },
  {
   "cell_type": "code",
   "execution_count": 381,
   "id": "ad49ff46-2556-4d80-bc9e-52847ae99574",
   "metadata": {},
   "outputs": [
    {
     "data": {
      "text/plain": [
       "array([3, 4, 5])"
      ]
     },
     "execution_count": 381,
     "metadata": {},
     "output_type": "execute_result"
    }
   ],
   "source": [
    "# Intersect --> Common element\n",
    "np.intersect1d(m,n) # Returns the common elements between the two arrays"
   ]
  },
  {
   "cell_type": "code",
   "execution_count": 383,
   "id": "848035ac-8156-4732-8bd2-d90e1582d6a0",
   "metadata": {},
   "outputs": [
    {
     "data": {
      "text/plain": [
       "array([1, 2])"
      ]
     },
     "execution_count": 383,
     "metadata": {},
     "output_type": "execute_result"
    }
   ],
   "source": [
    "# Set\n",
    "np.setdiff1d(m,n) # Returns the unique element of the 1st array"
   ]
  },
  {
   "cell_type": "code",
   "execution_count": 384,
   "id": "4cf9b315-4bbe-4bd2-9809-ddd130da5f31",
   "metadata": {},
   "outputs": [
    {
     "data": {
      "text/plain": [
       "array([6, 7])"
      ]
     },
     "execution_count": 384,
     "metadata": {},
     "output_type": "execute_result"
    }
   ],
   "source": [
    "np.setdiff1d(n,m) ## Returns the unique element of the 2nd array"
   ]
  },
  {
   "cell_type": "code",
   "execution_count": 386,
   "id": "5bebdae7-1d3a-49ed-904a-17558c384334",
   "metadata": {},
   "outputs": [
    {
     "data": {
      "text/plain": [
       "array([1, 2, 6, 7])"
      ]
     },
     "execution_count": 386,
     "metadata": {},
     "output_type": "execute_result"
    }
   ],
   "source": [
    "# XOR\n",
    "np.setxor1d(m,n) # Returns the unique element between the two arrays"
   ]
  },
  {
   "cell_type": "code",
   "execution_count": 387,
   "id": "2d5ff71b-29e6-4f26-95fd-cec9e36b00f7",
   "metadata": {},
   "outputs": [
    {
     "data": {
      "text/plain": [
       "array([ True, False, False, False, False])"
      ]
     },
     "execution_count": 387,
     "metadata": {},
     "output_type": "execute_result"
    }
   ],
   "source": [
    "# in 1D ( like membership operator)\n",
    "\n",
    "np.in1d(m,1)"
   ]
  },
  {
   "cell_type": "code",
   "execution_count": 388,
   "id": "98e5adf1-e3ef-4857-b0ba-a60cce9ec2c9",
   "metadata": {},
   "outputs": [
    {
     "data": {
      "text/plain": [
       "array([1])"
      ]
     },
     "execution_count": 388,
     "metadata": {},
     "output_type": "execute_result"
    }
   ],
   "source": [
    "m[np.in1d(m,1)]"
   ]
  },
  {
   "cell_type": "code",
   "execution_count": 389,
   "id": "8f4aa713-c91f-4cd4-acdb-1956e79823ba",
   "metadata": {},
   "outputs": [
    {
     "data": {
      "text/plain": [
       "array([False, False, False, False, False])"
      ]
     },
     "execution_count": 389,
     "metadata": {},
     "output_type": "execute_result"
    }
   ],
   "source": [
    "np.in1d(m,10)"
   ]
  },
  {
   "cell_type": "markdown",
   "id": "c6171e0b-cfc2-46cf-b9ac-0ecd1d083864",
   "metadata": {},
   "source": [
    "# Clip"
   ]
  },
  {
   "cell_type": "markdown",
   "id": "960c9f85-bec8-4fbe-b440-0491b023b9bf",
   "metadata": {},
   "source": [
    "* **np.clip()** function is used to clip(limit) the values in an array."
   ]
  },
  {
   "cell_type": "code",
   "execution_count": 390,
   "id": "1beeb54b-ead4-4a97-b2e5-3ac4636d0d67",
   "metadata": {},
   "outputs": [
    {
     "data": {
      "text/plain": [
       "array([110, 234,  51,  54,   2,  28,  83,  10,  96,  89,  88,  88,  60,\n",
       "        42,  53])"
      ]
     },
     "execution_count": 390,
     "metadata": {},
     "output_type": "execute_result"
    }
   ],
   "source": [
    "a"
   ]
  },
  {
   "cell_type": "code",
   "execution_count": 396,
   "id": "f540eb0e-2e9b-412e-be9c-a66e5b7b7e36",
   "metadata": {},
   "outputs": [
    {
     "data": {
      "text/plain": [
       "array([50, 50, 50, 50, 15, 28, 50, 15, 50, 50, 50, 50, 50, 42, 50])"
      ]
     },
     "execution_count": 396,
     "metadata": {},
     "output_type": "execute_result"
    }
   ],
   "source": [
    "np.clip(a,a_min = 15,a_max = 50)"
   ]
  },
  {
   "cell_type": "markdown",
   "id": "d54aa666-1f6b-46ea-8941-8659a72c6123",
   "metadata": {},
   "source": [
    "* It clips the minimum data to 15 and replaces everything below data to 15 and maximum \n",
    "to 50"
   ]
  },
  {
   "cell_type": "markdown",
   "id": "83c3617c-2849-48c4-aed3-0b8314ff48a4",
   "metadata": {},
   "source": [
    "# Swapaxes"
   ]
  },
  {
   "cell_type": "markdown",
   "id": "0c160a5f-427f-40d8-85fd-03a58c1c3497",
   "metadata": {},
   "source": [
    "* **np.swapcaxes()** function interchange two axes of an array"
   ]
  },
  {
   "cell_type": "code",
   "execution_count": 410,
   "id": "0061ede3-5a94-4d44-8e46-e1ff68aa0f5c",
   "metadata": {},
   "outputs": [],
   "source": [
    "arr = np.array([[1,2,3],[4,5,6]])\n",
    "swapped_arr = np.swapaxes(arr,1,0)"
   ]
  },
  {
   "cell_type": "code",
   "execution_count": 411,
   "id": "1dfe277f-7203-48a5-8ae4-e176afa1cfb1",
   "metadata": {},
   "outputs": [
    {
     "data": {
      "text/plain": [
       "array([[1, 2, 3],\n",
       "       [4, 5, 6]])"
      ]
     },
     "execution_count": 411,
     "metadata": {},
     "output_type": "execute_result"
    }
   ],
   "source": [
    "arr"
   ]
  },
  {
   "cell_type": "code",
   "execution_count": 412,
   "id": "6eeced37-e277-4634-b5d5-d11978f10535",
   "metadata": {},
   "outputs": [
    {
     "data": {
      "text/plain": [
       "array([[1, 4],\n",
       "       [2, 5],\n",
       "       [3, 6]])"
      ]
     },
     "execution_count": 412,
     "metadata": {},
     "output_type": "execute_result"
    }
   ],
   "source": [
    "swapped_arr"
   ]
  },
  {
   "cell_type": "code",
   "execution_count": 413,
   "id": "20c93f69-d04a-41e9-83aa-393ff8684f41",
   "metadata": {},
   "outputs": [
    {
     "name": "stdout",
     "output_type": "stream",
     "text": [
      "Original array:\n",
      " [[1 2 3]\n",
      " [4 5 6]]\n"
     ]
    }
   ],
   "source": [
    "print(\"Original array:\\n\",arr)"
   ]
  },
  {
   "cell_type": "code",
   "execution_count": 414,
   "id": "dbe39673-deb1-4b02-bc2c-3874e9963cb0",
   "metadata": {},
   "outputs": [
    {
     "name": "stdout",
     "output_type": "stream",
     "text": [
      "Swapped array:\n",
      " [[1 4]\n",
      " [2 5]\n",
      " [3 6]]\n"
     ]
    }
   ],
   "source": [
    "print(\"Swapped array:\\n\",swapped_arr)"
   ]
  },
  {
   "cell_type": "code",
   "execution_count": null,
   "id": "72260e73-f2ad-4848-bafa-db6a618b362b",
   "metadata": {},
   "outputs": [],
   "source": []
  },
  {
   "cell_type": "code",
   "execution_count": null,
   "id": "585d5af0-328b-4a30-81c6-680268b00658",
   "metadata": {},
   "outputs": [],
   "source": []
  }
 ],
 "metadata": {
  "kernelspec": {
   "display_name": "Python [conda env:myenv]",
   "language": "python",
   "name": "conda-env-myenv-py"
  },
  "language_info": {
   "codemirror_mode": {
    "name": "ipython",
    "version": 3
   },
   "file_extension": ".py",
   "mimetype": "text/x-python",
   "name": "python",
   "nbconvert_exporter": "python",
   "pygments_lexer": "ipython3",
   "version": "3.10.16"
  }
 },
 "nbformat": 4,
 "nbformat_minor": 5
}

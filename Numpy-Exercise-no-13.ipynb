{
 "cells": [
  {
   "cell_type": "markdown",
   "id": "70f1e3ff-5e1f-47fb-b5f6-f65a600f61b6",
   "metadata": {},
   "source": [
    "# Statistics"
   ]
  },
  {
   "cell_type": "code",
   "execution_count": 1,
   "id": "cc5249e8-15e9-41b4-a88d-1a7171f5828e",
   "metadata": {},
   "outputs": [],
   "source": [
    "import numpy as np"
   ]
  },
  {
   "cell_type": "markdown",
   "id": "b5f020e3-481e-4575-93d0-78edf724ea55",
   "metadata": {},
   "source": [
    "# Order statistics"
   ]
  },
  {
   "cell_type": "markdown",
   "id": "7baaae67-a1f2-46b2-b29f-59e04d7ece42",
   "metadata": {},
   "source": [
    "### Q1. Return the minimum value of x along the second axis."
   ]
  },
  {
   "cell_type": "code",
   "execution_count": 3,
   "id": "e7f6bc75-7239-4a3d-829d-7f4b6ed6701e",
   "metadata": {},
   "outputs": [
    {
     "name": "stdout",
     "output_type": "stream",
     "text": [
      "x:\n",
      " [[0 1]\n",
      " [2 3]]\n",
      "x_min\n",
      " [0 2]\n"
     ]
    }
   ],
   "source": [
    "x = np.arange(4).reshape(2,2)\n",
    "print(\"x:\\n\",x)\n",
    "print(\"x_min\\n\",np.amin(x,1))"
   ]
  },
  {
   "cell_type": "markdown",
   "id": "61f7c57c-b88e-42a5-becc-3413bebbcf5b",
   "metadata": {},
   "source": [
    "### Q2. Return the maximum value of x along the second axis. Reduce the second axis to the dimension with size one."
   ]
  },
  {
   "cell_type": "code",
   "execution_count": 4,
   "id": "f86370be-ffd9-4f59-8b9a-cf8482015b27",
   "metadata": {},
   "outputs": [
    {
     "name": "stdout",
     "output_type": "stream",
     "text": [
      "x:\n",
      " [[0 1]\n",
      " [2 3]]\n",
      "x_max\n",
      " [1 3]\n"
     ]
    }
   ],
   "source": [
    "x = np.arange(4).reshape(2,2)\n",
    "print(\"x:\\n\",x)\n",
    "print(\"x_max\\n\",np.amax(x,1))"
   ]
  },
  {
   "cell_type": "markdown",
   "id": "e7da2771-6d66-4b8e-9688-94d77aa8801b",
   "metadata": {},
   "source": [
    "### Q3. Calcuate the difference between the maximum and the minimum of x along the second axis."
   ]
  },
  {
   "cell_type": "code",
   "execution_count": 6,
   "id": "ed0a7522-e5bf-4f89-bd67-69f40f7e4375",
   "metadata": {},
   "outputs": [
    {
     "name": "stdout",
     "output_type": "stream",
     "text": [
      "x:\n",
      " [[0 1 2 3 4]\n",
      " [5 6 7 8 9]]\n",
      "[4 4]\n"
     ]
    }
   ],
   "source": [
    "x = np.arange(10).reshape((2,5))\n",
    "print(\"x:\\n\",x)\n",
    "diff1 = np.ptp(x,1)\n",
    "diff2 = np.amax(x,1) - np.min(x,1)\n",
    "print(diff1)"
   ]
  },
  {
   "cell_type": "markdown",
   "id": "cf7406ac-40b4-404f-b97e-4c67911bc863",
   "metadata": {},
   "source": [
    "### Q4. Compute the 75th percentile of x along the second axis."
   ]
  },
  {
   "cell_type": "code",
   "execution_count": 7,
   "id": "48fdc5a1-d41f-47e8-a850-8d07a56ea38f",
   "metadata": {},
   "outputs": [
    {
     "name": "stdout",
     "output_type": "stream",
     "text": [
      "x:\n",
      " [[ 1  2  3  4  5]\n",
      " [ 6  7  8  9 10]]\n",
      "75th percentile of x: [4. 9.]\n"
     ]
    }
   ],
   "source": [
    "x = np.arange(1,11).reshape((2,5))\n",
    "print(\"x:\\n\",x)\n",
    "print(\"75th percentile of x:\",np.percentile(x,75,1))"
   ]
  },
  {
   "cell_type": "markdown",
   "id": "bd15c6d1-3ed5-498f-9f32-dbd875ee88b8",
   "metadata": {},
   "source": [
    "# Averages and variances"
   ]
  },
  {
   "cell_type": "markdown",
   "id": "b9dda294-345e-4412-b60d-acf30fd56d71",
   "metadata": {},
   "source": [
    "### Q5. Compute the median of flattened x."
   ]
  },
  {
   "cell_type": "code",
   "execution_count": 8,
   "id": "f872b9b1-a600-4f96-bdd5-58defd573515",
   "metadata": {},
   "outputs": [
    {
     "name": "stdout",
     "output_type": "stream",
     "text": [
      "x:\n",
      " [[1 2 3]\n",
      " [4 5 6]\n",
      " [7 8 9]]\n",
      "Median\n",
      " 5.0\n"
     ]
    }
   ],
   "source": [
    "x = np.arange(1,10).reshape((3,3))\n",
    "print(\"x:\\n\",x)\n",
    "\n",
    "print(\"Median\\n\",np.median(x))"
   ]
  },
  {
   "cell_type": "code",
   "execution_count": 10,
   "id": "e7bec27d-860f-4ca7-a9ff-870a917d0804",
   "metadata": {},
   "outputs": [
    {
     "name": "stdout",
     "output_type": "stream",
     "text": [
      "2.6666666666666665\n",
      "2.666666666666667\n"
     ]
    }
   ],
   "source": [
    "### Q6. Compute the weighted average of x.\n",
    "x = np.arange(5)\n",
    "weight = np.arange(1,6)\n",
    "wght1 = np.average(x,weights = weight)\n",
    "wght2 = (x*(weights/weights.sum())).sum()\n",
    "\n",
    "print(wght1)\n",
    "print(wght2)"
   ]
  },
  {
   "cell_type": "code",
   "execution_count": null,
   "id": "025732cc-af3f-4a16-846d-fb37f3ea4c61",
   "metadata": {},
   "outputs": [],
   "source": []
  }
 ],
 "metadata": {
  "kernelspec": {
   "display_name": "Python 3 (ipykernel)",
   "language": "python",
   "name": "python3"
  },
  "language_info": {
   "codemirror_mode": {
    "name": "ipython",
    "version": 3
   },
   "file_extension": ".py",
   "mimetype": "text/x-python",
   "name": "python",
   "nbconvert_exporter": "python",
   "pygments_lexer": "ipython3",
   "version": "3.13.3"
  }
 },
 "nbformat": 4,
 "nbformat_minor": 5
}

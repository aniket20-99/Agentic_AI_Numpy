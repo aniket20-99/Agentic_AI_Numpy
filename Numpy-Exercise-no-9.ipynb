{
 "cells": [
  {
   "cell_type": "markdown",
   "id": "1ed65939-7303-4fcb-b6bf-511bc8963c0d",
   "metadata": {},
   "source": [
    "# Mathematical functions"
   ]
  },
  {
   "cell_type": "code",
   "execution_count": 1,
   "id": "eb6966a1-a968-4c14-add0-34a1e271575a",
   "metadata": {},
   "outputs": [],
   "source": [
    "import numpy as np"
   ]
  },
  {
   "cell_type": "code",
   "execution_count": 2,
   "id": "935b553d-2672-4521-91ac-d467d44796c2",
   "metadata": {},
   "outputs": [
    {
     "data": {
      "text/plain": [
       "'1.24.4'"
      ]
     },
     "execution_count": 2,
     "metadata": {},
     "output_type": "execute_result"
    }
   ],
   "source": [
    "np.__version__"
   ]
  },
  {
   "cell_type": "markdown",
   "id": "b0d4bec7-3f2f-49cf-aa2d-bf597c302ea6",
   "metadata": {},
   "source": [
    "# Trigonometric functions"
   ]
  },
  {
   "cell_type": "markdown",
   "id": "a36d4715-ff11-4b55-96e4-caf41ea9affd",
   "metadata": {},
   "source": [
    "### Q1. Calculate sine, cosine, and tangent of x, element-wise."
   ]
  },
  {
   "cell_type": "code",
   "execution_count": 4,
   "id": "c2d5a05a-f4c3-4259-bdeb-efb8af22136d",
   "metadata": {},
   "outputs": [
    {
     "name": "stdout",
     "output_type": "stream",
     "text": [
      "sine: [ 0.          0.84147098 -0.98803162  0.89399666]\n",
      "cosine [ 1.          0.54030231  0.15425145 -0.44807362]\n",
      "tangent [ 0.          1.55740772 -6.4053312  -1.99520041]\n"
     ]
    }
   ],
   "source": [
    "x = np.array([0.,1.,30,90])\n",
    "print(\"sine:\",np.sin(x))\n",
    "print(\"cosine\",np.cos(x))\n",
    "print(\"tangent\",np.tan(x))"
   ]
  },
  {
   "cell_type": "markdown",
   "id": "0bd3d56e-bf66-4e97-b84f-fc31bea5b818",
   "metadata": {},
   "source": [
    "### Q2. Calculate inverse sine, inverse cosine, and inverse tangent of x, element-wise."
   ]
  },
  {
   "cell_type": "code",
   "execution_count": 6,
   "id": "24b2d017-5d59-4f84-adc3-7728075649ec",
   "metadata": {},
   "outputs": [
    {
     "name": "stdout",
     "output_type": "stream",
     "text": [
      "inverse sine: [-1.57079633  0.          1.57079633]\n",
      "inverse cos: [3.14159265 1.57079633 0.        ]\n",
      "inverse tan: [-0.78539816  0.          0.78539816]\n"
     ]
    }
   ],
   "source": [
    "x = np.array([-1.,0,1.])\n",
    "print(\"inverse sine:\",np.arcsin(x))\n",
    "print(\"inverse cos:\",np.arccos(x))\n",
    "print(\"inverse tan:\",np.arctan(x))"
   ]
  },
  {
   "cell_type": "markdown",
   "id": "449a452d-4450-423c-b4ea-e9efdd6b9805",
   "metadata": {},
   "source": [
    "### Q3. Convert angles from radians to degrees."
   ]
  },
  {
   "cell_type": "code",
   "execution_count": 9,
   "id": "aed116b4-c1fc-4e1f-9304-f75af72e52d8",
   "metadata": {},
   "outputs": [
    {
     "name": "stdout",
     "output_type": "stream",
     "text": [
      "[-3.14159265 -1.57079633  1.57079633  3.14159265]\n",
      "[-180.  -90.   90.  180.]\n",
      "[-180.  -90.   90.  180.]\n"
     ]
    }
   ],
   "source": [
    "x = np.array([-np.pi,-np.pi/2,np.pi/2,np.pi])\n",
    "print(x)\n",
    "\n",
    "out1 = np.degrees(x)\n",
    "out2 = np.rad2deg(x)\n",
    "\n",
    "assert np.array_equal(out1,out2)\n",
    "print(out1)\n",
    "print(out2)"
   ]
  },
  {
   "cell_type": "markdown",
   "id": "e75412d5-cf51-47d0-a6fa-644c792f7b76",
   "metadata": {},
   "source": [
    "# Hyperbolic functions"
   ]
  },
  {
   "cell_type": "markdown",
   "id": "2b1883f6-6b74-46c7-add9-c2771aa6bb79",
   "metadata": {},
   "source": [
    "### Q5. Calculate hyperbolic sine, hyperbolic cosine, and hyperbolic tangent of x, element-wise."
   ]
  },
  {
   "cell_type": "code",
   "execution_count": 10,
   "id": "fe2648d2-4ec6-40e0-a9fc-511176077f3b",
   "metadata": {},
   "outputs": [
    {
     "name": "stdout",
     "output_type": "stream",
     "text": [
      "[-1.17520119  0.          1.17520119]\n",
      "[1.54308063 1.         1.54308063]\n",
      "[-0.76159416  0.          0.76159416]\n"
     ]
    }
   ],
   "source": [
    "x = np.array([-1.,0,1.])\n",
    "print(np.sinh(x))\n",
    "print(np.cosh(x))\n",
    "print(np.tanh(x))"
   ]
  },
  {
   "cell_type": "markdown",
   "id": "3d8df8ee-3519-41fb-8c5c-9f5ec90c38dd",
   "metadata": {},
   "source": [
    "# Rounding"
   ]
  },
  {
   "cell_type": "markdown",
   "id": "ae84333c-ee1a-4cdb-a1be-8560e46727f9",
   "metadata": {},
   "source": [
    "### Q6. Predict the results of these, paying attention to the difference among the family functions."
   ]
  },
  {
   "cell_type": "code",
   "execution_count": 12,
   "id": "342b2673-6c30-4c4c-a427-0add620d8e7a",
   "metadata": {},
   "outputs": [
    {
     "name": "stdout",
     "output_type": "stream",
     "text": [
      "[ 2.  2.  2.  3. -2. -2. -3.]\n",
      "[ 2.  1.  2.  2. -3. -3. -3.]\n",
      "[ 3.  2.  3.  3. -2. -2. -2.]\n",
      "[ 2.  1.  2.  2. -2. -2. -2.]\n",
      "[2, 2, 2, 3, -2, -2, -3]\n"
     ]
    }
   ],
   "source": [
    "x = np.array([2.1,1.5,2.5,2.9,-2.1,-2.5,-2.9])\n",
    "arnd = np.around(x)\n",
    "Floor = np.floor(x)\n",
    "Ciel = np.ceil(x)\n",
    "Trunc = np.trunc(x)\n",
    "rnd = [round(elem) for elem in x]\n",
    "\n",
    "print(arnd)\n",
    "print(Floor)\n",
    "print(Ciel)\n",
    "print(Trunc)\n",
    "print(rnd)"
   ]
  },
  {
   "cell_type": "markdown",
   "id": "735917f0-2856-4721-8117-d6c8daed3fc4",
   "metadata": {},
   "source": [
    "# Sums, products, differences"
   ]
  },
  {
   "cell_type": "markdown",
   "id": "332de528-ef5c-4ca4-be1a-43194625368e",
   "metadata": {},
   "source": [
    "### Q8. Predict the results of these."
   ]
  },
  {
   "cell_type": "code",
   "execution_count": 13,
   "id": "6c6bcab3-118b-4b2d-b03d-b84169b017f9",
   "metadata": {},
   "outputs": [
    {
     "name": "stdout",
     "output_type": "stream",
     "text": [
      "-> 36\n",
      "-> [ 6  8 10 12]\n",
      "-> [[10]\n",
      " [26]]\n",
      "-> 40320\n",
      "-> [ 5 12 21 32]\n",
      "-> [[  24]\n",
      " [1680]]\n",
      "-> [ 1  3  6 10 15 21 28 36]\n",
      "-> [[ 1  2  3  4]\n",
      " [ 6  8 10 12]]\n",
      "-> [[ 1  3  6 10]\n",
      " [ 5 11 18 26]]\n",
      "-> [    1     2     6    24   120   720  5040 40320]\n",
      "-> [[ 1  2  3  4]\n",
      " [ 5 12 21 32]]\n",
      "-> [[   1    2    6   24]\n",
      " [   5   30  210 1680]]\n",
      "-> 1\n",
      "-> [1 2 3 4]\n",
      "-> [[1]\n",
      " [5]]\n",
      "-> 8\n",
      "-> [5 6 7 8]\n",
      "-> [[4]\n",
      " [8]]\n",
      "-> 4.5\n",
      "-> [3. 4. 5. 6.]\n",
      "-> [[2.5]\n",
      " [6.5]]\n"
     ]
    },
    {
     "name": "stderr",
     "output_type": "stream",
     "text": [
      "C:\\Users\\suraj\\AppData\\Local\\Temp\\ipykernel_9724\\4028741336.py:34: FutureWarning: elementwise comparison failed; returning scalar instead, but in the future will perform elementwise comparison\n",
      "  if out == \"\":\n"
     ]
    }
   ],
   "source": [
    "x = np.array(\n",
    "    [[1,2,3,4],\n",
    "     [5,6,7,8]]) \n",
    "\n",
    "outs = [np.sum(x),\n",
    "        np.sum(x, axis=0),\n",
    "        np.sum(x, axis=1, keepdims=True),\n",
    "        \"\",\n",
    "        np.prod(x),\n",
    "        np.prod(x, axis=0),\n",
    "        np.prod(x, axis=1, keepdims=True),\n",
    "        \"\",\n",
    "        np.cumsum(x),\n",
    "        np.cumsum(x, axis=0),\n",
    "        np.cumsum(x, axis=1),\n",
    "        \"\",\n",
    "        np.cumprod(x),\n",
    "        np.cumprod(x, axis=0),\n",
    "        np.cumprod(x, axis=1),\n",
    "        \"\",\n",
    "        np.min(x),\n",
    "        np.min(x, axis=0),\n",
    "        np.min(x, axis=1, keepdims=True),\n",
    "        \"\",\n",
    "        np.max(x),\n",
    "        np.max(x, axis=0),\n",
    "        np.max(x, axis=1, keepdims=True),\n",
    "        \"\",\n",
    "        np.mean(x),\n",
    "        np.mean(x, axis=0),\n",
    "        np.mean(x, axis=1, keepdims=True)]\n",
    "\n",
    "for out in outs:\n",
    "    if out == \"\":\n",
    "        print\n",
    "    else:\n",
    "        print(\"->\",out)"
   ]
  },
  {
   "cell_type": "markdown",
   "id": "eb4fb631-a094-4938-b78e-f65fab47ee35",
   "metadata": {},
   "source": [
    "### Q9. Calculate the difference between neighboring elements, element-wise."
   ]
  },
  {
   "cell_type": "code",
   "execution_count": 14,
   "id": "ad340fa4-047f-4d76-a854-ca5f629da2a9",
   "metadata": {},
   "outputs": [
    {
     "name": "stdout",
     "output_type": "stream",
     "text": [
      "[ 1  2  3 -7]\n"
     ]
    }
   ],
   "source": [
    "x = np.array([1,2,4,7,0])\n",
    "print(np.diff(x))"
   ]
  },
  {
   "cell_type": "markdown",
   "id": "8174641e-9701-4a90-90b4-e54344630f66",
   "metadata": {},
   "source": [
    "### Q10. Calculate the difference between neighboring elements, element-wise, and prepend [0, 0] and append[100] to it."
   ]
  },
  {
   "cell_type": "code",
   "execution_count": 16,
   "id": "e195bf73-b326-449c-be92-076a86011ae1",
   "metadata": {},
   "outputs": [
    {
     "name": "stdout",
     "output_type": "stream",
     "text": [
      "[  0   0   1   2   3  -7 100]\n",
      "[  0   0   1   2   3  -7 100]\n"
     ]
    }
   ],
   "source": [
    "x = np.array([1,2,4,7,0])\n",
    "\n",
    "out1 = np.ediff1d(x,to_begin=[0,0],to_end = [100])\n",
    "out2 = np.insert(np.append(np.diff(x),100),0,[0,0])\n",
    "\n",
    "assert np.array_equiv(out1,out2)\n",
    "print(out1)\n",
    "print(out2)"
   ]
  },
  {
   "cell_type": "markdown",
   "id": "5cc803df-2373-4b6b-9b3f-89ed804e91b7",
   "metadata": {},
   "source": [
    "### Q11. Return the cross product of x and y."
   ]
  },
  {
   "cell_type": "code",
   "execution_count": 18,
   "id": "ff659830-aa58-43cd-9b0d-480e0f610379",
   "metadata": {},
   "outputs": [
    {
     "name": "stdout",
     "output_type": "stream",
     "text": [
      "[-3  6 -3]\n"
     ]
    }
   ],
   "source": [
    "x = np.array([1,2,3])\n",
    "y = np.array([4,5,6])\n",
    "print(np.cross(x,y))"
   ]
  },
  {
   "cell_type": "markdown",
   "id": "5e25178c-f6af-473b-ac4b-7975d8693579",
   "metadata": {},
   "source": [
    "# Exponents and logarithms\n"
   ]
  },
  {
   "cell_type": "markdown",
   "id": "8dc7f820-6a9f-4f3e-acc6-cc8beb4bb20c",
   "metadata": {},
   "source": [
    "### Q12. Compute e^x element-wise."
   ]
  },
  {
   "cell_type": "code",
   "execution_count": 19,
   "id": "c5899e65-b4df-43e6-a0c9-84c4ce40c936",
   "metadata": {},
   "outputs": [
    {
     "name": "stdout",
     "output_type": "stream",
     "text": [
      "[ 2.718282   7.3890557 20.085537 ]\n"
     ]
    }
   ],
   "source": [
    "x = np.array([1.,2.,3.],np.float32)\n",
    "\n",
    "exponent =  np.exp(x)\n",
    "print(exponent)"
   ]
  },
  {
   "cell_type": "markdown",
   "id": "a893f2c5-c817-49a8-9e78-49397453eee3",
   "metadata": {},
   "source": [
    "### Q13. Calculate exp(x) - 1 for all elements in x."
   ]
  },
  {
   "cell_type": "code",
   "execution_count": 20,
   "id": "fb015824-8e22-4184-9f1b-a6ce40b4f5a4",
   "metadata": {},
   "outputs": [
    {
     "name": "stdout",
     "output_type": "stream",
     "text": [
      "[ 1.7182817  6.389056  19.085537 ]\n",
      "[ 1.718282   6.3890557 19.085537 ]\n"
     ]
    }
   ],
   "source": [
    "x = np.array([1.,2.,3.],np.float32)\n",
    "\n",
    "exp1 = np.expm1(x)\n",
    "exp2 = np.exp(x) - 1\n",
    "\n",
    "assert np.allclose(exp1,exp2)\n",
    "print(exp1)\n",
    "print(exp2)"
   ]
  },
  {
   "cell_type": "markdown",
   "id": "d021318f-e1b7-45bb-9f1e-6980b3efb230",
   "metadata": {},
   "source": [
    "### Q14. Calculate 2^p for all p in x."
   ]
  },
  {
   "cell_type": "code",
   "execution_count": 22,
   "id": "49edc699-d257-48e3-b6db-49d73f1f28c8",
   "metadata": {},
   "outputs": [
    {
     "name": "stdout",
     "output_type": "stream",
     "text": [
      "[2. 4. 8.]\n",
      "[ 1.718282   6.3890557 19.085537 ]\n"
     ]
    }
   ],
   "source": [
    "x = np.array([1.,2.,3.],np.float32)\n",
    "exp1 = np.exp2(x)\n",
    "exp1 = 2 ** x\n",
    "\n",
    "print(exp1)\n",
    "print(exp2)"
   ]
  },
  {
   "cell_type": "markdown",
   "id": "a1c1d77c-a5ab-47be-8d63-b5f4a31f92ed",
   "metadata": {},
   "source": [
    "###  Q15. Compute natural, base 10, and base 2 logarithms of x element-wise."
   ]
  },
  {
   "cell_type": "code",
   "execution_count": 23,
   "id": "70d2a363-1d73-4286-aa6d-d4d40188c5c4",
   "metadata": {},
   "outputs": [
    {
     "name": "stdout",
     "output_type": "stream",
     "text": [
      "Natural log: [0. 1. 2.]\n",
      "Common log: [0.         0.43429448 0.86858896]\n",
      "base2 log: [0.         1.44269504 2.88539008]\n"
     ]
    }
   ],
   "source": [
    "x = np.array([1,np.e,np.e**2])\n",
    "print(\"Natural log:\",np.log(x))\n",
    "print(\"Common log:\",np.log10(x))\n",
    "print(\"base2 log:\",np.log2(x))"
   ]
  },
  {
   "cell_type": "markdown",
   "id": "2ccf7624-f1cb-424d-b58d-ecdfecc42da6",
   "metadata": {},
   "source": [
    "### Q16. Compute the natural logarithm of one plus each element in x in floating-point accuracy."
   ]
  },
  {
   "cell_type": "code",
   "execution_count": null,
   "id": "81de3ba1-c880-4400-8858-698fac35d977",
   "metadata": {},
   "outputs": [],
   "source": []
  },
  {
   "cell_type": "markdown",
   "id": "46ccd721-8466-4a43-afb7-5ddc8932553c",
   "metadata": {},
   "source": [
    "# Floating point routines"
   ]
  },
  {
   "cell_type": "markdown",
   "id": "91046f28-15ad-4bd0-a0d2-328d75d55eae",
   "metadata": {},
   "source": [
    "### 17. Return element-wise True where signbit is set."
   ]
  },
  {
   "cell_type": "code",
   "execution_count": 24,
   "id": "5f76fa38-4e4c-4a5f-b1b0-59abdf0c8a5c",
   "metadata": {},
   "outputs": [
    {
     "name": "stdout",
     "output_type": "stream",
     "text": [
      "[ True  True  True False False False False]\n",
      "[ True  True  True False False False False]\n"
     ]
    }
   ],
   "source": [
    "x = np.array([-3,-2,-1,0,1,2,3])\n",
    "\n",
    "out1 = np.signbit(x)\n",
    "out2 = x < 0\n",
    "\n",
    "assert np.array_equiv(out1,out2)\n",
    "print(out1)\n",
    "print(out2)"
   ]
  },
  {
   "cell_type": "markdown",
   "id": "59698ec4-0c46-4866-bbb8-0164cfe213f2",
   "metadata": {},
   "source": [
    "### Q18. Change the sign of x to that of y, element-wise."
   ]
  },
  {
   "cell_type": "code",
   "execution_count": 27,
   "id": "48c83735-0b92-47a9-b78f-6351f68cac03",
   "metadata": {},
   "outputs": [
    {
     "name": "stdout",
     "output_type": "stream",
     "text": [
      "[-1. -0. -1.]\n"
     ]
    }
   ],
   "source": [
    "x = np.array([-1,0,1])\n",
    "y = -1.1\n",
    "\n",
    "print(np.copysign(x,y))"
   ]
  },
  {
   "cell_type": "markdown",
   "id": "c5e7de3e-121c-4c0d-be67-270b910eefee",
   "metadata": {},
   "source": [
    "# Arithmetic operations"
   ]
  },
  {
   "cell_type": "markdown",
   "id": "e813788e-d7a6-4158-a1b2-98bc98b254b7",
   "metadata": {},
   "source": [
    "### Q19. Add x and y element-wise."
   ]
  },
  {
   "cell_type": "code",
   "execution_count": 28,
   "id": "abd2dd0d-dd67-463b-84e7-e1b44e1cad48",
   "metadata": {},
   "outputs": [
    {
     "name": "stdout",
     "output_type": "stream",
     "text": [
      "[0 0 0]\n",
      "[0 0 0]\n"
     ]
    }
   ],
   "source": [
    "x = np.array([1,2,3])\n",
    "y = np.array([-1,-2,-3])\n",
    "\n",
    "add1 = np.add(x,y)\n",
    "add2 = x + y\n",
    "\n",
    "assert np.array_equal(add1,add2)\n",
    "print(add1)\n",
    "print(add2)"
   ]
  },
  {
   "cell_type": "markdown",
   "id": "18876e75-fd0d-4c8e-8bbc-047f45661865",
   "metadata": {},
   "source": [
    "### Q20. Subtract y from x element-wise."
   ]
  },
  {
   "cell_type": "code",
   "execution_count": 29,
   "id": "0fb88bf8-9547-4812-8c75-46baf972e58d",
   "metadata": {},
   "outputs": [
    {
     "name": "stdout",
     "output_type": "stream",
     "text": [
      "[0 1 2]\n",
      "[0 1 2]\n"
     ]
    }
   ],
   "source": [
    "x = np.array([3,4,5])\n",
    "y = np.array(3)\n",
    "\n",
    "sub1 = np.subtract(x,y)\n",
    "sub2 = x - y\n",
    "\n",
    "assert np.array_equal(sub1,sub2)\n",
    "print(sub1)\n",
    "print(sub2)"
   ]
  },
  {
   "cell_type": "markdown",
   "id": "059cdaaa-bf8d-48d9-888c-64820ad0ae75",
   "metadata": {},
   "source": [
    "### Q21. Multiply x by y element-wise."
   ]
  },
  {
   "cell_type": "code",
   "execution_count": 30,
   "id": "92559760-f1f1-43db-8e7b-04e11011526c",
   "metadata": {},
   "outputs": [
    {
     "name": "stdout",
     "output_type": "stream",
     "text": [
      "[ 3  0 -5]\n",
      "[ 3  0 -5]\n"
     ]
    }
   ],
   "source": [
    "x = np.array([3,4,5])\n",
    "y = np.array([1,0,-1])\n",
    "\n",
    "mult1 = np.multiply(x,y)\n",
    "mult2 = x * y\n",
    "\n",
    "assert np.array_equal(mult1,mult2)\n",
    "print(mult1)\n",
    "print(mult2)"
   ]
  },
  {
   "cell_type": "markdown",
   "id": "48052732-65d2-4d73-84d4-69bcc8b07e4d",
   "metadata": {},
   "source": [
    "### Q22. Divide x by y element-wise in two different ways."
   ]
  },
  {
   "cell_type": "code",
   "execution_count": 33,
   "id": "f9c52f51-b8a1-4a85-8807-40fbab9d131f",
   "metadata": {},
   "outputs": [
    {
     "name": "stdout",
     "output_type": "stream",
     "text": [
      "[3.         2.         1.66666667]\n",
      "[3.         2.         1.66666667]\n",
      "-------\n",
      "[3. 2. 1.]\n",
      "[3. 2. 1.]\n"
     ]
    }
   ],
   "source": [
    "x = np.array([3., 4., 5.])\n",
    "y = np.array([1., 2., 3.])\n",
    "\n",
    "div1 = np.divide(x,y)\n",
    "div2 = x / y\n",
    "assert np.array_equal(div1,div2)\n",
    "\n",
    "div3 = np.floor_divide(x,y)\n",
    "div4 = x // y\n",
    "assert np.array_equal(div3,div4)\n",
    "\n",
    "print(div1)\n",
    "print(div2)\n",
    "print(\"-------\")\n",
    "print(div3)\n",
    "print(div4)"
   ]
  },
  {
   "cell_type": "markdown",
   "id": "6fbbb1fe-2cb6-4be4-af00-69f0b8e9693d",
   "metadata": {},
   "source": [
    "### Q23. Compute numerical negative value of x, element-wise."
   ]
  },
  {
   "cell_type": "code",
   "execution_count": 34,
   "id": "69dfad0e-41b0-4bf9-b00e-ffdf75d7e986",
   "metadata": {},
   "outputs": [
    {
     "name": "stdout",
     "output_type": "stream",
     "text": [
      "[-1  1]\n"
     ]
    }
   ],
   "source": [
    "x = np.array([1,-1])\n",
    "\n",
    "neg1 = np.negative(x)\n",
    "neg2 = -x\n",
    "\n",
    "assert np.array_equal(neg1,neg2)\n",
    "print(neg1)"
   ]
  },
  {
   "cell_type": "markdown",
   "id": "6d2e5f44-0f5d-412d-ac86-92d5369e60d2",
   "metadata": {},
   "source": [
    "### Q24. Compute the reciprocal of x, element-wise."
   ]
  },
  {
   "cell_type": "code",
   "execution_count": 36,
   "id": "e04eaa51-dd7e-4f63-91a0-5e93cc353123",
   "metadata": {},
   "outputs": [
    {
     "name": "stdout",
     "output_type": "stream",
     "text": [
      "[1.  0.5 5. ]\n",
      "[1.  0.5 5. ]\n"
     ]
    }
   ],
   "source": [
    "x = np.array([1.,2.,.2])\n",
    "rec1 = np.reciprocal(x)\n",
    "rec2 = 1/x\n",
    "\n",
    "assert np.array_equal(rec1,rec2)\n",
    "print(rec1)\n",
    "print(rec2)"
   ]
  },
  {
   "cell_type": "markdown",
   "id": "f1773de2-d16f-4a13-9a34-ff208b0ea4a5",
   "metadata": {},
   "source": [
    "### Q25. Compute x^y, element-wise."
   ]
  },
  {
   "cell_type": "code",
   "execution_count": 37,
   "id": "dc97572b-89e9-4f2b-b4dd-64fc52aa79eb",
   "metadata": {},
   "outputs": [
    {
     "name": "stdout",
     "output_type": "stream",
     "text": [
      "[[ 1  4]\n",
      " [ 3 16]]\n"
     ]
    }
   ],
   "source": [
    "x = np.array([[1, 2], [3, 4]])\n",
    "y = np.array([[1, 2], [1, 2]])\n",
    "\n",
    "power = np.power(x,y)\n",
    "print(power)"
   ]
  },
  {
   "cell_type": "markdown",
   "id": "77a84eb0-eadb-4323-872d-c9720709f4b1",
   "metadata": {},
   "source": [
    "### Q26. Compute the remainder of x / y element-wise in two different ways."
   ]
  },
  {
   "cell_type": "code",
   "execution_count": 38,
   "id": "c9ca9927-2e02-4d0d-84e8-3fd1b10bdb80",
   "metadata": {},
   "outputs": [
    {
     "name": "stdout",
     "output_type": "stream",
     "text": [
      "[1 0 1 1 0 1]\n",
      "[1 0 1 1 0 1]\n"
     ]
    }
   ],
   "source": [
    "x = np.array([-3,-2,-1,1,2,3])\n",
    "y = 2\n",
    "\n",
    "rem1 = np.mod(x,y)\n",
    "rem2 = x % y\n",
    "\n",
    "assert np.array_equal(rem1,rem2)\n",
    "\n",
    "print(rem1)\n",
    "print(rem2)"
   ]
  },
  {
   "cell_type": "markdown",
   "id": "f6f60627-023c-4168-bd00-b9f1a23f426c",
   "metadata": {},
   "source": [
    "# Miscellaneous"
   ]
  },
  {
   "cell_type": "markdown",
   "id": "77b83568-2c72-48e8-aaf4-2d64032be5e6",
   "metadata": {},
   "source": [
    "### Q27. If an element of x is smaller than 3, replace it with 3. And if an element of x is bigger than 7, replace it with 7."
   ]
  },
  {
   "cell_type": "code",
   "execution_count": 40,
   "id": "5a6c2724-b705-44cb-9ca7-88c54b6cf857",
   "metadata": {},
   "outputs": [
    {
     "name": "stdout",
     "output_type": "stream",
     "text": [
      "[3 3 3 3 4 5 6 7 7 7]\n"
     ]
    }
   ],
   "source": [
    "x = np.arange(10)\n",
    "repl1 = np.clip(x,3,7)\n",
    "repl2 = np.copy(x)\n",
    "\n",
    "repl2[repl2 < 3] = 3\n",
    "repl2[repl2 > 7] = 7\n",
    "\n",
    "assert np.array_equiv(repl1,repl2)\n",
    "print(repl1)"
   ]
  },
  {
   "cell_type": "markdown",
   "id": "38331b17-4843-452f-af9e-441a2ccbdc8c",
   "metadata": {},
   "source": [
    "### Q28. Compute the square of x, element-wise."
   ]
  },
  {
   "cell_type": "code",
   "execution_count": 41,
   "id": "cc695d24-60b7-40e1-bfda-b539894c2fbb",
   "metadata": {},
   "outputs": [
    {
     "name": "stdout",
     "output_type": "stream",
     "text": [
      "[1 4 1]\n",
      "[1 4 1]\n"
     ]
    }
   ],
   "source": [
    "x = np.array([1,2,-1])\n",
    "sqr1 = np.square(x)\n",
    "sqr2 = x * x\n",
    "\n",
    "assert np.array_equal(sqr1,sqr2)\n",
    "print(sqr1)\n",
    "print(sqr2)"
   ]
  },
  {
   "cell_type": "markdown",
   "id": "fad9408a-883e-44be-a93d-47910e9c2f53",
   "metadata": {},
   "source": [
    "### Q29. Coute square root of x element-wise."
   ]
  },
  {
   "cell_type": "code",
   "execution_count": 42,
   "id": "50ddb81b-44d5-4b67-a97e-5b5e048fb512",
   "metadata": {},
   "outputs": [
    {
     "name": "stdout",
     "output_type": "stream",
     "text": [
      "[1. 2. 3.]\n"
     ]
    }
   ],
   "source": [
    "x = np.array([1.,4.,9.])\n",
    "\n",
    "sqrt1 = np.sqrt(x)\n",
    "print(sqrt1)"
   ]
  },
  {
   "cell_type": "markdown",
   "id": "7d92d5eb-dfc1-4853-8f39-deb7eb88c39e",
   "metadata": {},
   "source": [
    "### Q30. Compute the absolute value of x."
   ]
  },
  {
   "cell_type": "code",
   "execution_count": 43,
   "id": "6ef73dde-c983-4fed-85d1-770dc403e446",
   "metadata": {},
   "outputs": [
    {
     "name": "stdout",
     "output_type": "stream",
     "text": [
      "[[1 1]\n",
      " [3 3]]\n"
     ]
    }
   ],
   "source": [
    "x = np.array([[1,-1],[3,-3]])\n",
    "\n",
    "abslt = np.abs(x)\n",
    "print(abslt)"
   ]
  },
  {
   "cell_type": "markdown",
   "id": "059ced03-6a77-4e71-b520-8fbf9132874e",
   "metadata": {},
   "source": [
    "### Q31. Compute an element-wise indication of the sign of x, element-wise."
   ]
  },
  {
   "cell_type": "code",
   "execution_count": 45,
   "id": "8584b101-a68a-4b69-908e-8a3bcf803325",
   "metadata": {},
   "outputs": [
    {
     "name": "stdout",
     "output_type": "stream",
     "text": [
      "[ 1  1  0 -1 -1]\n",
      "[ 1  1  0 -1 -1]\n"
     ]
    }
   ],
   "source": [
    "x = np.array([1,3,0,-1,-3])\n",
    "\n",
    "sign1 = np.sign(x)\n",
    "sign2 = np.copy(x)\n",
    "sign2[sign2 > 0] = 1\n",
    "sign2[sign2 < 0] = -1\n",
    "\n",
    "assert np.array_equal(sign1,sign2)\n",
    "print(sign1)\n",
    "print(sign2)"
   ]
  },
  {
   "cell_type": "code",
   "execution_count": null,
   "id": "831a946f-5e62-42b3-870e-f52450b81a03",
   "metadata": {},
   "outputs": [],
   "source": []
  }
 ],
 "metadata": {
  "kernelspec": {
   "display_name": "Python [conda env:env-3]",
   "language": "python",
   "name": "conda-env-env-3-py"
  },
  "language_info": {
   "codemirror_mode": {
    "name": "ipython",
    "version": 3
   },
   "file_extension": ".py",
   "mimetype": "text/x-python",
   "name": "python",
   "nbconvert_exporter": "python",
   "pygments_lexer": "ipython3",
   "version": "3.8.18"
  }
 },
 "nbformat": 4,
 "nbformat_minor": 5
}

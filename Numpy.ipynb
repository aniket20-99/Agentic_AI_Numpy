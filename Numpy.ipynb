{
 "cells": [
  {
   "cell_type": "code",
   "execution_count": 1,
   "id": "7ae61409",
   "metadata": {},
   "outputs": [],
   "source": [
    "import numpy as np\n"
   ]
  },
  {
   "cell_type": "code",
   "execution_count": 2,
   "id": "0b84c4da",
   "metadata": {},
   "outputs": [
    {
     "data": {
      "text/plain": [
       "'2.3.0'"
      ]
     },
     "execution_count": 2,
     "metadata": {},
     "output_type": "execute_result"
    }
   ],
   "source": [
    "np.__version__"
   ]
  },
  {
   "cell_type": "code",
   "execution_count": 3,
   "id": "fac9e95b",
   "metadata": {},
   "outputs": [],
   "source": [
    "list = [12,13,15,16,18,19,25]"
   ]
  },
  {
   "cell_type": "code",
   "execution_count": 4,
   "id": "603f458f",
   "metadata": {},
   "outputs": [
    {
     "name": "stdout",
     "output_type": "stream",
     "text": [
      "<class 'numpy.ndarray'>\n",
      "[12 13 15 16 18 19 25]\n"
     ]
    }
   ],
   "source": [
    "arr = np.array(list)\n",
    "print(type(arr))\n",
    "print(arr)"
   ]
  },
  {
   "cell_type": "code",
   "execution_count": 5,
   "id": "96cc87c1",
   "metadata": {},
   "outputs": [
    {
     "data": {
      "text/plain": [
       "array([0, 1, 2, 3, 4, 5, 6, 7, 8, 9])"
      ]
     },
     "execution_count": 5,
     "metadata": {},
     "output_type": "execute_result"
    }
   ],
   "source": [
    "np.arange(10)"
   ]
  },
  {
   "cell_type": "code",
   "execution_count": 6,
   "id": "fb0794a0",
   "metadata": {},
   "outputs": [
    {
     "data": {
      "text/plain": [
       "array([1, 2, 3, 4, 5, 6, 7, 8, 9])"
      ]
     },
     "execution_count": 6,
     "metadata": {},
     "output_type": "execute_result"
    }
   ],
   "source": [
    "np.arange(1,10)"
   ]
  },
  {
   "cell_type": "code",
   "execution_count": 7,
   "id": "bbd46e8b",
   "metadata": {},
   "outputs": [
    {
     "data": {
      "text/plain": [
       "array([ 5,  7,  9, 11, 13, 15, 17, 19])"
      ]
     },
     "execution_count": 7,
     "metadata": {},
     "output_type": "execute_result"
    }
   ],
   "source": [
    "np.arange(5,20,2)"
   ]
  },
  {
   "cell_type": "code",
   "execution_count": 8,
   "id": "16a9ba87",
   "metadata": {},
   "outputs": [
    {
     "data": {
      "text/plain": [
       "array([10, 11, 12, 13, 14, 15, 16, 17, 18, 19, 20, 21, 22, 23, 24, 25, 26,\n",
       "       27, 28, 29, 30, 31, 32, 33, 34, 35, 36, 37, 38, 39, 40, 41, 42, 43,\n",
       "       44, 45, 46, 47, 48, 49, 50, 51, 52, 53, 54, 55, 56, 57, 58, 59, 60,\n",
       "       61, 62, 63, 64, 65, 66, 67, 68, 69, 70, 71, 72, 73, 74, 75, 76, 77,\n",
       "       78, 79, 80, 81, 82, 83, 84, 85, 86, 87, 88, 89, 90, 91, 92, 93, 94,\n",
       "       95, 96, 97, 98, 99])"
      ]
     },
     "execution_count": 8,
     "metadata": {},
     "output_type": "execute_result"
    }
   ],
   "source": [
    "np.arange(10,100)"
   ]
  },
  {
   "cell_type": "code",
   "execution_count": 9,
   "id": "af0312c0",
   "metadata": {},
   "outputs": [
    {
     "data": {
      "text/plain": [
       "array([], dtype=int64)"
      ]
     },
     "execution_count": 9,
     "metadata": {},
     "output_type": "execute_result"
    }
   ],
   "source": [
    "np.arange(20,10) # This will not work as the start is greater than the stop value"
   ]
  },
  {
   "cell_type": "code",
   "execution_count": 10,
   "id": "c3a40077",
   "metadata": {},
   "outputs": [
    {
     "data": {
      "text/plain": [
       "array([-10,  -7,  -4,  -1,   2,   5,   8])"
      ]
     },
     "execution_count": 10,
     "metadata": {},
     "output_type": "execute_result"
    }
   ],
   "source": [
    "np.arange(-10,10,3)"
   ]
  },
  {
   "cell_type": "code",
   "execution_count": 11,
   "id": "c78b0292",
   "metadata": {},
   "outputs": [
    {
     "data": {
      "text/plain": [
       "array([10, 13, 16, 19, 22, 25, 28, 31, 34, 37, 40, 43, 46, 49, 52, 55, 58,\n",
       "       61, 64, 67, 70, 73, 76, 79, 82, 85, 88, 91, 94, 97])"
      ]
     },
     "execution_count": 11,
     "metadata": {},
     "output_type": "execute_result"
    }
   ],
   "source": [
    "np.arange(10,100,3)"
   ]
  },
  {
   "cell_type": "code",
   "execution_count": 12,
   "id": "86032d0a",
   "metadata": {},
   "outputs": [
    {
     "data": {
      "text/plain": [
       "array([0, 0, 0, 0, 0, 0, 0, 0, 0, 0])"
      ]
     },
     "execution_count": 12,
     "metadata": {},
     "output_type": "execute_result"
    }
   ],
   "source": [
    "np.zeros(10,dtype = int)"
   ]
  },
  {
   "cell_type": "code",
   "execution_count": 13,
   "id": "aeca4731",
   "metadata": {},
   "outputs": [
    {
     "data": {
      "text/plain": [
       "array([[0, 0, 0, 0, 0, 0],\n",
       "       [0, 0, 0, 0, 0, 0],\n",
       "       [0, 0, 0, 0, 0, 0],\n",
       "       [0, 0, 0, 0, 0, 0],\n",
       "       [0, 0, 0, 0, 0, 0]])"
      ]
     },
     "execution_count": 13,
     "metadata": {},
     "output_type": "execute_result"
    }
   ],
   "source": [
    "np.zeros((5,6),dtype = int)"
   ]
  },
  {
   "cell_type": "code",
   "execution_count": 14,
   "id": "b2319539",
   "metadata": {},
   "outputs": [
    {
     "name": "stdout",
     "output_type": "stream",
     "text": [
      "[[1 1 1 1 1 1 1 1]\n",
      " [1 1 1 1 1 1 1 1]\n",
      " [1 1 1 1 1 1 1 1]\n",
      " [1 1 1 1 1 1 1 1]\n",
      " [1 1 1 1 1 1 1 1]]\n",
      "(5, 8)\n"
     ]
    }
   ],
   "source": [
    "a = np.ones((5,8),dtype = int)\n",
    "print(a)\n",
    "print(a.shape)"
   ]
  },
  {
   "cell_type": "code",
   "execution_count": 15,
   "id": "cbc6eaf4",
   "metadata": {},
   "outputs": [
    {
     "name": "stdout",
     "output_type": "stream",
     "text": [
      "[[0. 0. 0. 0. 0. 0.]\n",
      " [0. 0. 0. 0. 0. 0.]\n",
      " [0. 0. 0. 0. 0. 0.]\n",
      " [0. 0. 0. 0. 0. 0.]\n",
      " [0. 0. 0. 0. 0. 0.]]\n",
      "[[1. 1. 1. 1. 1.]\n",
      " [1. 1. 1. 1. 1.]\n",
      " [1. 1. 1. 1. 1.]\n",
      " [1. 1. 1. 1. 1.]\n",
      " [1. 1. 1. 1. 1.]\n",
      " [1. 1. 1. 1. 1.]]\n"
     ]
    }
   ],
   "source": [
    "a = (5,6)\n",
    "b = (6,5)\n",
    "\n",
    "print(np.zeros(a))\n",
    "print(np.ones(b))"
   ]
  },
  {
   "cell_type": "code",
   "execution_count": 16,
   "id": "3347dc93",
   "metadata": {},
   "outputs": [
    {
     "data": {
      "text/plain": [
       "array([1, 1, 1, 1])"
      ]
     },
     "execution_count": 16,
     "metadata": {},
     "output_type": "execute_result"
    }
   ],
   "source": [
    "np.ones(4,dtype = int)"
   ]
  },
  {
   "cell_type": "code",
   "execution_count": 17,
   "id": "ba4f2719",
   "metadata": {},
   "outputs": [],
   "source": [
    "from numpy import * # Importing everything from numpy is not recommended as it can lead to confusion with variable names"
   ]
  },
  {
   "cell_type": "code",
   "execution_count": 18,
   "id": "2f1e3bb4",
   "metadata": {},
   "outputs": [
    {
     "data": {
      "text/plain": [
       "array([0, 1, 2, 3, 4, 5, 6, 7, 8, 9])"
      ]
     },
     "execution_count": 18,
     "metadata": {},
     "output_type": "execute_result"
    }
   ],
   "source": [
    "arange(10)"
   ]
  },
  {
   "cell_type": "code",
   "execution_count": 19,
   "id": "f121cbea",
   "metadata": {},
   "outputs": [
    {
     "data": {
      "text/plain": [
       "range(10, 30)"
      ]
     },
     "execution_count": 19,
     "metadata": {},
     "output_type": "execute_result"
    }
   ],
   "source": [
    "range(10,30)"
   ]
  },
  {
   "cell_type": "code",
   "execution_count": 20,
   "id": "0ead5b31",
   "metadata": {},
   "outputs": [
    {
     "ename": "TypeError",
     "evalue": "'list' object is not callable",
     "output_type": "error",
     "traceback": [
      "\u001b[31m---------------------------------------------------------------------------\u001b[39m",
      "\u001b[31mTypeError\u001b[39m                                 Traceback (most recent call last)",
      "\u001b[36mCell\u001b[39m\u001b[36m \u001b[39m\u001b[32mIn[20]\u001b[39m\u001b[32m, line 1\u001b[39m\n\u001b[32m----> \u001b[39m\u001b[32m1\u001b[39m \u001b[38;5;28;43mlist\u001b[39;49m\u001b[43m(\u001b[49m\u001b[38;5;28;43mrange\u001b[39;49m\u001b[43m(\u001b[49m\u001b[32;43m10\u001b[39;49m\u001b[43m)\u001b[49m\u001b[43m)\u001b[49m\n",
      "\u001b[31mTypeError\u001b[39m: 'list' object is not callable"
     ]
    }
   ],
   "source": [
    "list(range(10))"
   ]
  },
  {
   "cell_type": "code",
   "execution_count": 21,
   "id": "60e8f149",
   "metadata": {},
   "outputs": [
    {
     "data": {
      "text/plain": [
       "array([[0.55525332, 0.44059901],\n",
       "       [0.57911868, 0.28285602],\n",
       "       [0.26020014, 0.82472822],\n",
       "       [0.59656896, 0.45013431],\n",
       "       [0.17769838, 0.72991705]])"
      ]
     },
     "execution_count": 21,
     "metadata": {},
     "output_type": "execute_result"
    }
   ],
   "source": [
    "random.rand(5,2) "
   ]
  },
  {
   "cell_type": "code",
   "execution_count": 22,
   "id": "36b2cf17",
   "metadata": {},
   "outputs": [
    {
     "data": {
      "text/plain": [
       "array([[[0.55646094, 0.46723742, 0.49142099, 0.82373042, 0.79121134],\n",
       "        [0.62059771, 0.40678091, 0.41533689, 0.05536145, 0.29108776],\n",
       "        [0.27922463, 0.4314572 , 0.6305403 , 0.22206605, 0.20341863],\n",
       "        [0.56473862, 0.19281686, 0.56594382, 0.10442017, 0.87606027]],\n",
       "\n",
       "       [[0.55856117, 0.01750968, 0.76185712, 0.89440808, 0.80192762],\n",
       "        [0.13281404, 0.52546781, 0.67545828, 0.92342365, 0.13501859],\n",
       "        [0.57696582, 0.38072271, 0.53497145, 0.389363  , 0.74183124],\n",
       "        [0.70781979, 0.22953495, 0.24846782, 0.91603574, 0.75427958]],\n",
       "\n",
       "       [[0.78791277, 0.83651484, 0.09339457, 0.92900236, 0.27374734],\n",
       "        [0.81988643, 0.0768282 , 0.50899735, 0.89501878, 0.02877741],\n",
       "        [0.5437733 , 0.72451718, 0.14408526, 0.62048241, 0.76045519],\n",
       "        [0.13193571, 0.27896916, 0.4886162 , 0.91931913, 0.3486821 ]]])"
      ]
     },
     "execution_count": 22,
     "metadata": {},
     "output_type": "execute_result"
    }
   ],
   "source": [
    "np.random.rand(3,4,5)"
   ]
  },
  {
   "cell_type": "code",
   "execution_count": 23,
   "id": "d095073c",
   "metadata": {},
   "outputs": [
    {
     "data": {
      "text/plain": [
       "array([[0.84565169, 0.72304538, 0.75670684, 0.17912485],\n",
       "       [0.06123498, 0.03169656, 0.73517239, 0.41705358],\n",
       "       [0.71930214, 0.15345989, 0.70024367, 0.62723916],\n",
       "       [0.34174292, 0.08392122, 0.61088319, 0.09173621],\n",
       "       [0.99335751, 0.84938409, 0.1973485 , 0.31524536]])"
      ]
     },
     "execution_count": 23,
     "metadata": {},
     "output_type": "execute_result"
    }
   ],
   "source": [
    "np.random.rand(5,4)"
   ]
  },
  {
   "cell_type": "code",
   "execution_count": 24,
   "id": "0c7bc713",
   "metadata": {},
   "outputs": [
    {
     "data": {
      "text/plain": [
       "4"
      ]
     },
     "execution_count": 24,
     "metadata": {},
     "output_type": "execute_result"
    }
   ],
   "source": [
    "np.random.randint(0,10)"
   ]
  },
  {
   "cell_type": "code",
   "execution_count": 25,
   "id": "5346f0e6",
   "metadata": {},
   "outputs": [
    {
     "data": {
      "text/plain": [
       "array([[4, 8, 4, 8, 1],\n",
       "       [0, 5, 9, 5, 0],\n",
       "       [4, 4, 2, 9, 7]], dtype=int32)"
      ]
     },
     "execution_count": 25,
     "metadata": {},
     "output_type": "execute_result"
    }
   ],
   "source": [
    "np.random.randint(10,size = (3,5))"
   ]
  },
  {
   "cell_type": "code",
   "execution_count": 26,
   "id": "f058a756",
   "metadata": {},
   "outputs": [
    {
     "data": {
      "text/plain": [
       "array([ 1, 11, 19,  3, 19,  0, 12,  7,  2, 14,  2,  4, 15,  2,  3,  2, 17,\n",
       "        9, 18,  3], dtype=int32)"
      ]
     },
     "execution_count": 26,
     "metadata": {},
     "output_type": "execute_result"
    }
   ],
   "source": [
    "np.random.randint(0,20,20)"
   ]
  },
  {
   "cell_type": "code",
   "execution_count": 27,
   "id": "56530215",
   "metadata": {},
   "outputs": [
    {
     "data": {
      "text/plain": [
       "array([[ 4, 13,  2,  6, 14, 16],\n",
       "       [ 0, 13, 14, 16,  4,  1],\n",
       "       [ 5,  6, 11,  4,  0, 10],\n",
       "       [14, 13,  2,  4,  7, 13]], dtype=int32)"
      ]
     },
     "execution_count": 27,
     "metadata": {},
     "output_type": "execute_result"
    }
   ],
   "source": [
    "np.random.randint(0,20, size = (4,6))"
   ]
  },
  {
   "cell_type": "code",
   "execution_count": 28,
   "id": "62b9aa7b",
   "metadata": {},
   "outputs": [],
   "source": [
    "arr = np.random.randint(10,20,(5,5))"
   ]
  },
  {
   "cell_type": "code",
   "execution_count": 29,
   "id": "f97261c9",
   "metadata": {},
   "outputs": [
    {
     "data": {
      "text/plain": [
       "array([[10, 18, 13, 18, 17],\n",
       "       [14, 16, 13, 11, 14],\n",
       "       [13, 12, 16, 11, 18],\n",
       "       [11, 17, 11, 10, 18],\n",
       "       [14, 18, 19, 19, 14]], dtype=int32)"
      ]
     },
     "execution_count": 29,
     "metadata": {},
     "output_type": "execute_result"
    }
   ],
   "source": [
    "arr"
   ]
  },
  {
   "cell_type": "code",
   "execution_count": 30,
   "id": "8a5dfb42",
   "metadata": {},
   "outputs": [
    {
     "data": {
      "text/plain": [
       "array([[10, 18, 13, 18, 17],\n",
       "       [14, 16, 13, 11, 14],\n",
       "       [13, 12, 16, 11, 18],\n",
       "       [11, 17, 11, 10, 18],\n",
       "       [14, 18, 19, 19, 14]], dtype=int32)"
      ]
     },
     "execution_count": 30,
     "metadata": {},
     "output_type": "execute_result"
    }
   ],
   "source": [
    "arr[0:]"
   ]
  },
  {
   "cell_type": "code",
   "execution_count": 31,
   "id": "000392fb",
   "metadata": {},
   "outputs": [
    {
     "data": {
      "text/plain": [
       "array([[14, 16, 13, 11, 14],\n",
       "       [13, 12, 16, 11, 18],\n",
       "       [11, 17, 11, 10, 18],\n",
       "       [14, 18, 19, 19, 14]], dtype=int32)"
      ]
     },
     "execution_count": 31,
     "metadata": {},
     "output_type": "execute_result"
    }
   ],
   "source": [
    "arr[1:]"
   ]
  },
  {
   "cell_type": "code",
   "execution_count": 32,
   "id": "1bd8010b",
   "metadata": {},
   "outputs": [
    {
     "data": {
      "text/plain": [
       "array([[14, 16, 13, 11, 14],\n",
       "       [13, 12, 16, 11, 18],\n",
       "       [11, 17, 11, 10, 18]], dtype=int32)"
      ]
     },
     "execution_count": 32,
     "metadata": {},
     "output_type": "execute_result"
    }
   ],
   "source": [
    "arr[1:4]"
   ]
  },
  {
   "cell_type": "code",
   "execution_count": 33,
   "id": "68434a81",
   "metadata": {},
   "outputs": [
    {
     "data": {
      "text/plain": [
       "array([[11]], dtype=int32)"
      ]
     },
     "execution_count": 33,
     "metadata": {},
     "output_type": "execute_result"
    }
   ],
   "source": [
    "arr[1:4,2:4][1:2,1:]"
   ]
  },
  {
   "cell_type": "code",
   "execution_count": 34,
   "id": "75f4e592",
   "metadata": {},
   "outputs": [
    {
     "data": {
      "text/plain": [
       "array([[10, 18, 13, 18, 17],\n",
       "       [14, 16, 13, 11, 14],\n",
       "       [13, 12, 16, 11, 18],\n",
       "       [11, 17, 11, 10, 18],\n",
       "       [14, 18, 19, 19, 14]], dtype=int32)"
      ]
     },
     "execution_count": 34,
     "metadata": {},
     "output_type": "execute_result"
    }
   ],
   "source": [
    "arr"
   ]
  },
  {
   "cell_type": "code",
   "execution_count": 35,
   "id": "dfc1875d",
   "metadata": {},
   "outputs": [
    {
     "data": {
      "text/plain": [
       "np.int32(14)"
      ]
     },
     "execution_count": 35,
     "metadata": {},
     "output_type": "execute_result"
    }
   ],
   "source": [
    "arr[1,-1]"
   ]
  },
  {
   "cell_type": "code",
   "execution_count": 36,
   "id": "e50a432e",
   "metadata": {},
   "outputs": [
    {
     "data": {
      "text/plain": [
       "array([[10, 18, 13, 18, 17],\n",
       "       [14, 16, 13, 11, 14],\n",
       "       [13, 12, 16, 11, 18]], dtype=int32)"
      ]
     },
     "execution_count": 36,
     "metadata": {},
     "output_type": "execute_result"
    }
   ],
   "source": [
    "arr[0:-2]"
   ]
  },
  {
   "cell_type": "code",
   "execution_count": 37,
   "id": "b27cdef8",
   "metadata": {},
   "outputs": [
    {
     "data": {
      "text/plain": [
       "array([[10, 18, 13, 18, 17],\n",
       "       [14, 16, 13, 11, 14],\n",
       "       [13, 12, 16, 11, 18],\n",
       "       [11, 17, 11, 10, 18],\n",
       "       [14, 18, 19, 19, 14]], dtype=int32)"
      ]
     },
     "execution_count": 37,
     "metadata": {},
     "output_type": "execute_result"
    }
   ],
   "source": [
    "arr"
   ]
  },
  {
   "cell_type": "code",
   "execution_count": 38,
   "id": "153e91fc",
   "metadata": {},
   "outputs": [
    {
     "data": {
      "text/plain": [
       "array([[13, 11],\n",
       "       [16, 11]], dtype=int32)"
      ]
     },
     "execution_count": 38,
     "metadata": {},
     "output_type": "execute_result"
    }
   ],
   "source": [
    "arr[1:3,2:4]"
   ]
  },
  {
   "cell_type": "markdown",
   "id": "d18a66b7",
   "metadata": {},
   "source": [
    "# Operations\n"
   ]
  },
  {
   "cell_type": "code",
   "execution_count": 39,
   "id": "c1f10add",
   "metadata": {},
   "outputs": [],
   "source": [
    "a = np.random.randint(10,20,10)"
   ]
  },
  {
   "cell_type": "code",
   "execution_count": 40,
   "id": "277f19c7",
   "metadata": {},
   "outputs": [
    {
     "data": {
      "text/plain": [
       "array([16, 13, 13, 16, 13, 19, 12, 15, 14, 12], dtype=int32)"
      ]
     },
     "execution_count": 40,
     "metadata": {},
     "output_type": "execute_result"
    }
   ],
   "source": [
    "a"
   ]
  },
  {
   "cell_type": "code",
   "execution_count": 41,
   "id": "5acab4e4",
   "metadata": {},
   "outputs": [
    {
     "data": {
      "text/plain": [
       "2220262791696"
      ]
     },
     "execution_count": 41,
     "metadata": {},
     "output_type": "execute_result"
    }
   ],
   "source": [
    "id(a)"
   ]
  },
  {
   "cell_type": "code",
   "execution_count": 42,
   "id": "611a676c",
   "metadata": {},
   "outputs": [
    {
     "data": {
      "text/plain": [
       "2220263891824"
      ]
     },
     "execution_count": 42,
     "metadata": {},
     "output_type": "execute_result"
    }
   ],
   "source": [
    "id(arr)"
   ]
  },
  {
   "cell_type": "code",
   "execution_count": 43,
   "id": "8594f632",
   "metadata": {},
   "outputs": [
    {
     "data": {
      "text/plain": [
       "array([12, 18, 14, 19, 12, 17, 11, 13, 10, 18], dtype=int32)"
      ]
     },
     "execution_count": 43,
     "metadata": {},
     "output_type": "execute_result"
    }
   ],
   "source": [
    "b = np.random.randint(10,20,10)\n",
    "b"
   ]
  },
  {
   "cell_type": "code",
   "execution_count": 44,
   "id": "dd283443",
   "metadata": {},
   "outputs": [
    {
     "data": {
      "text/plain": [
       "2220262790640"
      ]
     },
     "execution_count": 44,
     "metadata": {},
     "output_type": "execute_result"
    }
   ],
   "source": [
    "id(b)"
   ]
  },
  {
   "cell_type": "code",
   "execution_count": 45,
   "id": "2112b202",
   "metadata": {},
   "outputs": [
    {
     "data": {
      "text/plain": [
       "array([[23, 42, 17, 49, 15, 26, 21, 18, 35, 43],\n",
       "       [31, 24, 20, 24, 49, 14, 15, 33, 37, 41],\n",
       "       [48, 27, 26, 49, 15, 10, 28, 14, 29, 29],\n",
       "       [30, 28, 39, 31, 24, 19, 11, 23, 35, 31],\n",
       "       [19, 30, 49, 47, 46, 17, 23, 40, 15, 29],\n",
       "       [30, 35, 42, 15, 15, 40, 38, 33, 49, 17],\n",
       "       [42, 40, 29, 34, 44, 22, 11, 26, 12, 27],\n",
       "       [37, 34, 24, 37, 49, 28, 11, 35, 29, 23],\n",
       "       [40, 12, 32, 24, 27, 16, 20, 47, 28, 49],\n",
       "       [49, 38, 35, 18, 35, 16, 20, 14, 11, 10]], dtype=int32)"
      ]
     },
     "execution_count": 45,
     "metadata": {},
     "output_type": "execute_result"
    }
   ],
   "source": [
    "c = np.random.randint(10,50,(10,10))\n",
    "c"
   ]
  },
  {
   "cell_type": "code",
   "execution_count": 46,
   "id": "29995265",
   "metadata": {},
   "outputs": [
    {
     "data": {
      "text/plain": [
       "array([[48, 27, 26, 49, 15, 10, 28, 14, 29, 29],\n",
       "       [30, 28, 39, 31, 24, 19, 11, 23, 35, 31],\n",
       "       [19, 30, 49, 47, 46, 17, 23, 40, 15, 29],\n",
       "       [30, 35, 42, 15, 15, 40, 38, 33, 49, 17],\n",
       "       [42, 40, 29, 34, 44, 22, 11, 26, 12, 27]], dtype=int32)"
      ]
     },
     "execution_count": 46,
     "metadata": {},
     "output_type": "execute_result"
    }
   ],
   "source": [
    "c[2:7]"
   ]
  },
  {
   "cell_type": "code",
   "execution_count": 47,
   "id": "ad88c9d4",
   "metadata": {},
   "outputs": [
    {
     "data": {
      "text/plain": [
       "array([[49, 15, 10, 28, 14],\n",
       "       [31, 24, 19, 11, 23],\n",
       "       [47, 46, 17, 23, 40],\n",
       "       [15, 15, 40, 38, 33],\n",
       "       [34, 44, 22, 11, 26],\n",
       "       [37, 49, 28, 11, 35]], dtype=int32)"
      ]
     },
     "execution_count": 47,
     "metadata": {},
     "output_type": "execute_result"
    }
   ],
   "source": [
    "c[2:8,3:8]"
   ]
  },
  {
   "cell_type": "code",
   "execution_count": 48,
   "id": "73626cc7",
   "metadata": {},
   "outputs": [
    {
     "data": {
      "text/plain": [
       "array([[49, 38, 35, 18, 35, 16, 20, 14, 11, 10],\n",
       "       [40, 12, 32, 24, 27, 16, 20, 47, 28, 49],\n",
       "       [37, 34, 24, 37, 49, 28, 11, 35, 29, 23],\n",
       "       [42, 40, 29, 34, 44, 22, 11, 26, 12, 27],\n",
       "       [30, 35, 42, 15, 15, 40, 38, 33, 49, 17],\n",
       "       [19, 30, 49, 47, 46, 17, 23, 40, 15, 29],\n",
       "       [30, 28, 39, 31, 24, 19, 11, 23, 35, 31],\n",
       "       [48, 27, 26, 49, 15, 10, 28, 14, 29, 29],\n",
       "       [31, 24, 20, 24, 49, 14, 15, 33, 37, 41],\n",
       "       [23, 42, 17, 49, 15, 26, 21, 18, 35, 43]], dtype=int32)"
      ]
     },
     "execution_count": 48,
     "metadata": {},
     "output_type": "execute_result"
    }
   ],
   "source": [
    "c[::-1]"
   ]
  },
  {
   "cell_type": "code",
   "execution_count": 49,
   "id": "ba71e6fc",
   "metadata": {},
   "outputs": [
    {
     "data": {
      "text/plain": [
       "array([[23, 42, 17, 49, 15, 26, 21, 18, 35],\n",
       "       [31, 24, 20, 24, 49, 14, 15, 33, 37],\n",
       "       [48, 27, 26, 49, 15, 10, 28, 14, 29],\n",
       "       [30, 28, 39, 31, 24, 19, 11, 23, 35],\n",
       "       [19, 30, 49, 47, 46, 17, 23, 40, 15],\n",
       "       [30, 35, 42, 15, 15, 40, 38, 33, 49],\n",
       "       [42, 40, 29, 34, 44, 22, 11, 26, 12],\n",
       "       [37, 34, 24, 37, 49, 28, 11, 35, 29],\n",
       "       [40, 12, 32, 24, 27, 16, 20, 47, 28]], dtype=int32)"
      ]
     },
     "execution_count": 49,
     "metadata": {},
     "output_type": "execute_result"
    }
   ],
   "source": [
    "c[:-1,:-1]"
   ]
  },
  {
   "cell_type": "code",
   "execution_count": 50,
   "id": "8dcdce06",
   "metadata": {},
   "outputs": [
    {
     "data": {
      "text/plain": [
       "np.int32(49)"
      ]
     },
     "execution_count": 50,
     "metadata": {},
     "output_type": "execute_result"
    }
   ],
   "source": [
    "c.max()"
   ]
  },
  {
   "cell_type": "code",
   "execution_count": 51,
   "id": "e92cf5f7",
   "metadata": {},
   "outputs": [
    {
     "data": {
      "text/plain": [
       "np.int32(10)"
      ]
     },
     "execution_count": 51,
     "metadata": {},
     "output_type": "execute_result"
    }
   ],
   "source": [
    "c.min()"
   ]
  },
  {
   "cell_type": "code",
   "execution_count": 52,
   "id": "2edeb16e",
   "metadata": {},
   "outputs": [
    {
     "data": {
      "text/plain": [
       "np.float64(28.87)"
      ]
     },
     "execution_count": 52,
     "metadata": {},
     "output_type": "execute_result"
    }
   ],
   "source": [
    "c.mean()"
   ]
  },
  {
   "cell_type": "code",
   "execution_count": 53,
   "id": "1d669b5d",
   "metadata": {},
   "outputs": [],
   "source": [
    "from numpy import *"
   ]
  },
  {
   "cell_type": "code",
   "execution_count": 54,
   "id": "746a34e2",
   "metadata": {},
   "outputs": [
    {
     "data": {
      "text/plain": [
       "np.float64(28.87)"
      ]
     },
     "execution_count": 54,
     "metadata": {},
     "output_type": "execute_result"
    }
   ],
   "source": [
    "c.mean()"
   ]
  },
  {
   "cell_type": "code",
   "execution_count": 55,
   "id": "a3df3f15",
   "metadata": {},
   "outputs": [
    {
     "data": {
      "text/plain": [
       "np.float64(13.5)"
      ]
     },
     "execution_count": 55,
     "metadata": {},
     "output_type": "execute_result"
    }
   ],
   "source": [
    "median(a)"
   ]
  },
  {
   "cell_type": "code",
   "execution_count": 56,
   "id": "b5573ac9",
   "metadata": {},
   "outputs": [
    {
     "data": {
      "text/plain": [
       "(10, 10)"
      ]
     },
     "execution_count": 56,
     "metadata": {},
     "output_type": "execute_result"
    }
   ],
   "source": [
    "c.shape"
   ]
  },
  {
   "cell_type": "code",
   "execution_count": 57,
   "id": "c3bc8d98",
   "metadata": {},
   "outputs": [
    {
     "data": {
      "text/plain": [
       "array([[23, 42, 17, 49, 15],\n",
       "       [26, 21, 18, 35, 43],\n",
       "       [31, 24, 20, 24, 49],\n",
       "       [14, 15, 33, 37, 41],\n",
       "       [48, 27, 26, 49, 15],\n",
       "       [10, 28, 14, 29, 29],\n",
       "       [30, 28, 39, 31, 24],\n",
       "       [19, 11, 23, 35, 31],\n",
       "       [19, 30, 49, 47, 46],\n",
       "       [17, 23, 40, 15, 29],\n",
       "       [30, 35, 42, 15, 15],\n",
       "       [40, 38, 33, 49, 17],\n",
       "       [42, 40, 29, 34, 44],\n",
       "       [22, 11, 26, 12, 27],\n",
       "       [37, 34, 24, 37, 49],\n",
       "       [28, 11, 35, 29, 23],\n",
       "       [40, 12, 32, 24, 27],\n",
       "       [16, 20, 47, 28, 49],\n",
       "       [49, 38, 35, 18, 35],\n",
       "       [16, 20, 14, 11, 10]], dtype=int32)"
      ]
     },
     "execution_count": 57,
     "metadata": {},
     "output_type": "execute_result"
    }
   ],
   "source": [
    "c.reshape(20,5)"
   ]
  },
  {
   "cell_type": "code",
   "execution_count": 58,
   "id": "6cc1838a",
   "metadata": {},
   "outputs": [
    {
     "data": {
      "text/plain": [
       "np.float64(6.5)"
      ]
     },
     "execution_count": 58,
     "metadata": {},
     "output_type": "execute_result"
    }
   ],
   "source": [
    "arr = np.array([1,2,3,4,5,6,7,8,9,10,11,12])\n",
    "median(arr)"
   ]
  },
  {
   "cell_type": "code",
   "execution_count": 59,
   "id": "325c2385",
   "metadata": {},
   "outputs": [
    {
     "data": {
      "text/plain": [
       "array([[ 1,  2,  3,  4],\n",
       "       [ 5,  6,  7,  8],\n",
       "       [ 9, 10, 11, 12]])"
      ]
     },
     "execution_count": 59,
     "metadata": {},
     "output_type": "execute_result"
    }
   ],
   "source": [
    "arr.reshape(3,4)"
   ]
  },
  {
   "cell_type": "code",
   "execution_count": 60,
   "id": "4f694e18",
   "metadata": {},
   "outputs": [
    {
     "data": {
      "text/plain": [
       "array([[ 1,  2,  3],\n",
       "       [ 4,  5,  6],\n",
       "       [ 7,  8,  9],\n",
       "       [10, 11, 12]])"
      ]
     },
     "execution_count": 60,
     "metadata": {},
     "output_type": "execute_result"
    }
   ],
   "source": [
    "arr.reshape(4,3)"
   ]
  },
  {
   "cell_type": "code",
   "execution_count": 61,
   "id": "101afa7e",
   "metadata": {},
   "outputs": [
    {
     "data": {
      "text/plain": [
       "array([[ 1,  2],\n",
       "       [ 3,  4],\n",
       "       [ 5,  6],\n",
       "       [ 7,  8],\n",
       "       [ 9, 10],\n",
       "       [11, 12]])"
      ]
     },
     "execution_count": 61,
     "metadata": {},
     "output_type": "execute_result"
    }
   ],
   "source": [
    "arr.reshape(6,2)"
   ]
  },
  {
   "cell_type": "code",
   "execution_count": 62,
   "id": "34ad214f",
   "metadata": {},
   "outputs": [
    {
     "data": {
      "text/plain": [
       "array([[ 1,  2,  3,  4,  5,  6],\n",
       "       [ 7,  8,  9, 10, 11, 12]])"
      ]
     },
     "execution_count": 62,
     "metadata": {},
     "output_type": "execute_result"
    }
   ],
   "source": [
    "arr.reshape(2,6,order = 'c')"
   ]
  },
  {
   "cell_type": "code",
   "execution_count": 63,
   "id": "48e9b17c",
   "metadata": {},
   "outputs": [
    {
     "data": {
      "text/plain": [
       "array([[ 1,  5,  9],\n",
       "       [ 2,  6, 10],\n",
       "       [ 3,  7, 11],\n",
       "       [ 4,  8, 12]])"
      ]
     },
     "execution_count": 63,
     "metadata": {},
     "output_type": "execute_result"
    }
   ],
   "source": [
    "arr.reshape(4,3,order = 'f')"
   ]
  },
  {
   "cell_type": "code",
   "execution_count": 64,
   "id": "e72a84d4",
   "metadata": {},
   "outputs": [
    {
     "data": {
      "text/plain": [
       "array([[ 1,  2,  3,  4],\n",
       "       [ 5,  6,  7,  8],\n",
       "       [ 9, 10, 11, 12]])"
      ]
     },
     "execution_count": 64,
     "metadata": {},
     "output_type": "execute_result"
    }
   ],
   "source": [
    "arr.reshape(3,4,order = 'a')"
   ]
  },
  {
   "cell_type": "markdown",
   "id": "6fecaa36",
   "metadata": {},
   "source": [
    "# indexing\n"
   ]
  },
  {
   "cell_type": "code",
   "execution_count": 65,
   "id": "e927a249",
   "metadata": {},
   "outputs": [
    {
     "data": {
      "text/plain": [
       "array([[ 0,  1,  2,  3,  4,  5,  6,  7,  8,  9],\n",
       "       [10, 11, 12, 13, 14, 15, 16, 17, 18, 19],\n",
       "       [20, 21, 22, 23, 24, 25, 26, 27, 28, 29],\n",
       "       [30, 31, 32, 33, 34, 35, 36, 37, 38, 39],\n",
       "       [40, 41, 42, 43, 44, 45, 46, 47, 48, 49],\n",
       "       [50, 51, 52, 53, 54, 55, 56, 57, 58, 59],\n",
       "       [60, 61, 62, 63, 64, 65, 66, 67, 68, 69],\n",
       "       [70, 71, 72, 73, 74, 75, 76, 77, 78, 79],\n",
       "       [80, 81, 82, 83, 84, 85, 86, 87, 88, 89],\n",
       "       [90, 91, 92, 93, 94, 95, 96, 97, 98, 99]])"
      ]
     },
     "execution_count": 65,
     "metadata": {},
     "output_type": "execute_result"
    }
   ],
   "source": [
    "mat = np.arange(0,100).reshape(10,10)\n",
    "mat"
   ]
  },
  {
   "cell_type": "code",
   "execution_count": 66,
   "id": "a6435d39",
   "metadata": {},
   "outputs": [],
   "source": [
    "row = 5\n",
    "col = 6"
   ]
  },
  {
   "cell_type": "code",
   "execution_count": 67,
   "id": "8fcecb68",
   "metadata": {},
   "outputs": [
    {
     "data": {
      "text/plain": [
       "np.int64(56)"
      ]
     },
     "execution_count": 67,
     "metadata": {},
     "output_type": "execute_result"
    }
   ],
   "source": [
    "mat[row,col]"
   ]
  },
  {
   "cell_type": "code",
   "execution_count": 68,
   "id": "e5510672",
   "metadata": {},
   "outputs": [
    {
     "data": {
      "text/plain": [
       "np.int64(87)"
      ]
     },
     "execution_count": 68,
     "metadata": {},
     "output_type": "execute_result"
    }
   ],
   "source": [
    "mat[8,7]"
   ]
  },
  {
   "cell_type": "code",
   "execution_count": 69,
   "id": "c172ae98",
   "metadata": {},
   "outputs": [
    {
     "data": {
      "text/plain": [
       "array([[12, 13, 14, 15],\n",
       "       [22, 23, 24, 25],\n",
       "       [32, 33, 34, 35],\n",
       "       [42, 43, 44, 45]])"
      ]
     },
     "execution_count": 69,
     "metadata": {},
     "output_type": "execute_result"
    }
   ],
   "source": [
    "mat[1:5,2:6]"
   ]
  },
  {
   "cell_type": "code",
   "execution_count": 70,
   "id": "b1a6eb17",
   "metadata": {},
   "outputs": [],
   "source": [
    "row = 5\n",
    "col = 7"
   ]
  },
  {
   "cell_type": "code",
   "execution_count": 71,
   "id": "952942d6",
   "metadata": {},
   "outputs": [
    {
     "data": {
      "text/plain": [
       "array([ 7, 17, 27, 37, 47, 57, 67, 77, 87, 97])"
      ]
     },
     "execution_count": 71,
     "metadata": {},
     "output_type": "execute_result"
    }
   ],
   "source": [
    "mat[:,col]"
   ]
  },
  {
   "cell_type": "code",
   "execution_count": 72,
   "id": "cdb95514",
   "metadata": {},
   "outputs": [
    {
     "data": {
      "text/plain": [
       "array([[50, 51, 52, 53, 54, 55, 56, 57, 58, 59],\n",
       "       [60, 61, 62, 63, 64, 65, 66, 67, 68, 69],\n",
       "       [70, 71, 72, 73, 74, 75, 76, 77, 78, 79],\n",
       "       [80, 81, 82, 83, 84, 85, 86, 87, 88, 89],\n",
       "       [90, 91, 92, 93, 94, 95, 96, 97, 98, 99]])"
      ]
     },
     "execution_count": 72,
     "metadata": {},
     "output_type": "execute_result"
    }
   ],
   "source": [
    "mat[row:]"
   ]
  },
  {
   "cell_type": "code",
   "execution_count": 73,
   "id": "b7add563",
   "metadata": {},
   "outputs": [
    {
     "data": {
      "text/plain": [
       "np.int64(28)"
      ]
     },
     "execution_count": 73,
     "metadata": {},
     "output_type": "execute_result"
    }
   ],
   "source": [
    "mat[2,8]"
   ]
  },
  {
   "cell_type": "code",
   "execution_count": 74,
   "id": "8d9b8fef",
   "metadata": {},
   "outputs": [
    {
     "data": {
      "text/plain": [
       "array([0, 1, 2, 3, 4, 5, 6, 7, 8, 9])"
      ]
     },
     "execution_count": 74,
     "metadata": {},
     "output_type": "execute_result"
    }
   ],
   "source": [
    "mat[0]"
   ]
  },
  {
   "cell_type": "code",
   "execution_count": 75,
   "id": "f1175088",
   "metadata": {},
   "outputs": [
    {
     "data": {
      "text/plain": [
       "np.int64(1)"
      ]
     },
     "execution_count": 75,
     "metadata": {},
     "output_type": "execute_result"
    }
   ],
   "source": [
    "mat[0,1]"
   ]
  },
  {
   "cell_type": "code",
   "execution_count": 76,
   "id": "8c6556b5",
   "metadata": {},
   "outputs": [
    {
     "data": {
      "text/plain": [
       "array([[ 0,  1,  2,  3,  4,  5,  6,  7,  8,  9],\n",
       "       [20, 21, 22, 23, 24, 25, 26, 27, 28, 29],\n",
       "       [40, 41, 42, 43, 44, 45, 46, 47, 48, 49]])"
      ]
     },
     "execution_count": 76,
     "metadata": {},
     "output_type": "execute_result"
    }
   ],
   "source": [
    "mat[0:5:2]"
   ]
  },
  {
   "cell_type": "code",
   "execution_count": 83,
   "id": "840d720f",
   "metadata": {},
   "outputs": [
    {
     "name": "stdout",
     "output_type": "stream",
     "text": [
      "Reshaped Array:\n",
      " [[ 1  2  3]\n",
      " [ 4  5  6]\n",
      " [ 7  8  9]\n",
      " [10 11 12]]\n"
     ]
    }
   ],
   "source": [
    "arr = np.array([1,2,3,4,5,6,7,8,9,10,11,12])\n",
    "reshaping = np.reshape(arr,(4,3))\n",
    "print(\"Reshaped Array:\\n\",reshaping)"
   ]
  },
  {
   "cell_type": "code",
   "execution_count": 85,
   "id": "8445cd89-2b25-49d1-ba70-dcb246c5c9e9",
   "metadata": {},
   "outputs": [
    {
     "name": "stdout",
     "output_type": "stream",
     "text": [
      "[1 2 3 4 5 6 7 8]\n"
     ]
    }
   ],
   "source": [
    "f1 = np.array([[1,2,3,4],[5,6,7,8]])\n",
    "flattend = np.ravel(f1)\n",
    "print(flattend)"
   ]
  },
  {
   "cell_type": "code",
   "execution_count": 86,
   "id": "652800e1-a3af-471f-8911-059b5c01ab4d",
   "metadata": {},
   "outputs": [
    {
     "name": "stdout",
     "output_type": "stream",
     "text": [
      "[[10 20]\n",
      " [30 40]\n",
      " [50 60]\n",
      " [70 80]]\n",
      "[[10 30 50 70]\n",
      " [20 40 60 80]]\n"
     ]
    }
   ],
   "source": [
    "T = np.array([[10,20],[30,40],[50,60],[70,80]])\n",
    "transpose = np.transpose(T)\n",
    "print(T)\n",
    "print(transpose)"
   ]
  },
  {
   "cell_type": "code",
   "execution_count": 89,
   "id": "2748fd4f-ba59-469e-82b7-ff2956114164",
   "metadata": {},
   "outputs": [
    {
     "name": "stdout",
     "output_type": "stream",
     "text": [
      "Vertical stacked:\n",
      "[[1 2 3 4]\n",
      " [5 6 7 8]]\n"
     ]
    }
   ],
   "source": [
    "a1 = np.array([1,2,3,4])\n",
    "a2 = np.array([5,6,7,8])\n",
    "\n",
    "stacked = np.vstack([a1,a2])\n",
    "print(f\"Vertical stacked:\\n{stacked}\")"
   ]
  },
  {
   "cell_type": "code",
   "execution_count": 92,
   "id": "9d041a89-be8f-46fc-93ba-9b69351e7498",
   "metadata": {},
   "outputs": [
    {
     "name": "stdout",
     "output_type": "stream",
     "text": [
      "Horizontal stacked [1 2 3 4 5 6 7 8]\n"
     ]
    }
   ],
   "source": [
    "a1 = np.array([1,2,3,4])\n",
    "a2 = np.array([5,6,7,8])\n",
    "\n",
    "stacked = np.hstack([a1,a2])\n",
    "print(f\"Horizontal stacked {stacked}\")"
   ]
  },
  {
   "cell_type": "code",
   "execution_count": 93,
   "id": "f8819889-122c-4cc4-a8a5-577ea1337a6e",
   "metadata": {},
   "outputs": [
    {
     "name": "stdout",
     "output_type": "stream",
     "text": [
      "[ 6  8 10 12 14]\n"
     ]
    }
   ],
   "source": [
    "a1 = np.array([1,2,3,4,5])\n",
    "a2 = np.array([5,6,7,8,9])\n",
    "add = np.add(a1,a2)\n",
    "print(add)"
   ]
  },
  {
   "cell_type": "code",
   "execution_count": 94,
   "id": "9036039b-d26f-49a2-bbc8-83f335c98158",
   "metadata": {},
   "outputs": [
    {
     "name": "stdout",
     "output_type": "stream",
     "text": [
      "[15 20 30 44 59]\n"
     ]
    }
   ],
   "source": [
    "a1 = np.array([5,10,20,34,49])\n",
    "added = np.add(a1,10)\n",
    "print(added)"
   ]
  },
  {
   "cell_type": "code",
   "execution_count": 98,
   "id": "582cc820-3f1d-4d6a-b9b6-b046cc79c631",
   "metadata": {},
   "outputs": [
    {
     "name": "stdout",
     "output_type": "stream",
     "text": [
      "[ 1  4  9 16 25]\n"
     ]
    }
   ],
   "source": [
    "a = np.array([1,2,3,4,5])\n",
    "sqr = np.power(a,2)\n",
    "print(sqr)"
   ]
  },
  {
   "cell_type": "code",
   "execution_count": 101,
   "id": "cc8bc896-e35c-408a-83c8-87ca244d4749",
   "metadata": {},
   "outputs": [
    {
     "ename": "TypeError",
     "evalue": "No loop matching the specified signature and casting was found for ufunc sqrt",
     "output_type": "error",
     "traceback": [
      "\u001b[31m---------------------------------------------------------------------------\u001b[39m",
      "\u001b[31mTypeError\u001b[39m                                 Traceback (most recent call last)",
      "\u001b[36mCell\u001b[39m\u001b[36m \u001b[39m\u001b[32mIn[101]\u001b[39m\u001b[32m, line 3\u001b[39m\n\u001b[32m      1\u001b[39m a = np.array([\u001b[32m16\u001b[39m,\u001b[32m25\u001b[39m,\u001b[32m36\u001b[39m,\u001b[32m49\u001b[39m,\u001b[32m64\u001b[39m])\n\u001b[32m----> \u001b[39m\u001b[32m3\u001b[39m sqrt1 = \u001b[43mnp\u001b[49m\u001b[43m.\u001b[49m\u001b[43msqrt\u001b[49m\u001b[43m(\u001b[49m\u001b[43ma\u001b[49m\u001b[43m,\u001b[49m\u001b[43mdtype\u001b[49m\u001b[43m \u001b[49m\u001b[43m=\u001b[49m\u001b[43m \u001b[49m\u001b[38;5;28;43mint\u001b[39;49m\u001b[43m)\u001b[49m\n\u001b[32m      4\u001b[39m \u001b[38;5;28mprint\u001b[39m(sqrt1)\n",
      "\u001b[31mTypeError\u001b[39m: No loop matching the specified signature and casting was found for ufunc sqrt"
     ]
    }
   ],
   "source": [
    "a = np.array([16,25,36,49,64])\n",
    "\n",
    "sqrt1 = np.sqrt()\n",
    "print(sqrt1)"
   ]
  },
  {
   "cell_type": "code",
   "execution_count": 102,
   "id": "8ecab03c-65d4-4f2b-a210-492076b399ef",
   "metadata": {},
   "outputs": [
    {
     "name": "stdout",
     "output_type": "stream",
     "text": [
      "5852\n"
     ]
    }
   ],
   "source": [
    "a = np.array([16,25,36,49,64])\n",
    "\n",
    "dot_prdt = np.dot(a,a1)\n",
    "print(dot_prdt)"
   ]
  },
  {
   "cell_type": "code",
   "execution_count": 103,
   "id": "570c84cf-f383-49eb-a72e-449ed6b04297",
   "metadata": {},
   "outputs": [
    {
     "name": "stdout",
     "output_type": "stream",
     "text": [
      "38.0\n"
     ]
    }
   ],
   "source": [
    "a = np.array([16,25,36,49,64])\n",
    "mean1 = np.mean(a)\n",
    "\n",
    "print(mean1)"
   ]
  },
  {
   "cell_type": "code",
   "execution_count": 104,
   "id": "084588f7-8273-448d-ace5-fb207f3ec15c",
   "metadata": {},
   "outputs": [
    {
     "name": "stdout",
     "output_type": "stream",
     "text": [
      "36.0\n"
     ]
    }
   ],
   "source": [
    "median1 = np.median(a)\n",
    "print(median1)"
   ]
  },
  {
   "cell_type": "code",
   "execution_count": 106,
   "id": "90b3e242-fa02-4329-a54d-389baf60c9b5",
   "metadata": {},
   "outputs": [
    {
     "name": "stdout",
     "output_type": "stream",
     "text": [
      "17.052858997833766\n"
     ]
    }
   ],
   "source": [
    "std_dv = np.std(a)\n",
    "print(std_dv)"
   ]
  },
  {
   "cell_type": "code",
   "execution_count": 109,
   "id": "e485a267-00bb-4fa3-8bf1-aa025451ff3b",
   "metadata": {},
   "outputs": [
    {
     "name": "stdout",
     "output_type": "stream",
     "text": [
      "16\n"
     ]
    }
   ],
   "source": [
    "Min = np.min(a)\n",
    "print(Min)"
   ]
  },
  {
   "cell_type": "code",
   "execution_count": 111,
   "id": "e8aaa13d-d04a-4158-a87e-167488bc836d",
   "metadata": {},
   "outputs": [],
   "source": [
    "mat = np.array([[2,5],[4,6]])"
   ]
  },
  {
   "cell_type": "code",
   "execution_count": 112,
   "id": "2981f954-cea9-4295-b6aa-b56eaec90d06",
   "metadata": {},
   "outputs": [
    {
     "name": "stdout",
     "output_type": "stream",
     "text": [
      "-7.999999999999998\n"
     ]
    }
   ],
   "source": [
    "detr = np.linalg.det(mat)\n",
    "print(detr)"
   ]
  },
  {
   "cell_type": "code",
   "execution_count": 114,
   "id": "3efd92ff-093c-4610-8635-95e16d34f456",
   "metadata": {},
   "outputs": [
    {
     "name": "stdout",
     "output_type": "stream",
     "text": [
      "[[-0.75   0.625]\n",
      " [ 0.5   -0.25 ]]\n"
     ]
    }
   ],
   "source": [
    "inverse = np.linalg.inv(mat)\n",
    "print(inverse)"
   ]
  },
  {
   "cell_type": "code",
   "execution_count": 115,
   "id": "1ff5ec32-53dd-42e5-9560-ef32f2e6ad36",
   "metadata": {},
   "outputs": [
    {
     "name": "stdout",
     "output_type": "stream",
     "text": [
      "[0.8865554  0.27310957 0.91257442]\n"
     ]
    }
   ],
   "source": [
    "rand_var = np.random.rand(3)\n",
    "print(rand_var)"
   ]
  },
  {
   "cell_type": "code",
   "execution_count": 118,
   "id": "110c04c2-62fa-417e-896b-f03cce96c2e3",
   "metadata": {},
   "outputs": [
    {
     "name": "stdout",
     "output_type": "stream",
     "text": [
      "[0.5488135  0.71518937 0.60276338 0.54488318 0.4236548 ]\n"
     ]
    }
   ],
   "source": [
    "np.random.seed(0)\n",
    "rand_var = np.random.rand(5)\n",
    "print(rand_var)"
   ]
  },
  {
   "cell_type": "code",
   "execution_count": 120,
   "id": "30d0567d-ef9f-4f36-86b6-c06964691931",
   "metadata": {},
   "outputs": [
    {
     "name": "stdout",
     "output_type": "stream",
     "text": [
      "[7 8 1 5 9 8 9 4 3 0]\n"
     ]
    }
   ],
   "source": [
    "rand_int = np.random.randint(0,10,size = 10)\n",
    "print(rand_int)"
   ]
  },
  {
   "cell_type": "code",
   "execution_count": 123,
   "id": "eb816ae4-6749-46d4-a8b4-1c7e551aaf47",
   "metadata": {},
   "outputs": [
    {
     "name": "stdout",
     "output_type": "stream",
     "text": [
      "[5 0 3 3 7 9 3 5 2 4]\n"
     ]
    }
   ],
   "source": [
    "np.random.seed(0)\n",
    "rand_int = np.random.randint(0,10,size = 10)\n",
    "print(rand_int)"
   ]
  },
  {
   "cell_type": "code",
   "execution_count": 125,
   "id": "162b2046-f506-475f-8e6a-868953329c0f",
   "metadata": {},
   "outputs": [
    {
     "name": "stdout",
     "output_type": "stream",
     "text": [
      "False\n"
     ]
    }
   ],
   "source": [
    "logical_test = np.array([True,False,True,False])\n",
    "all_true = np.all(logical_test)\n",
    "print(all_true)"
   ]
  },
  {
   "cell_type": "code",
   "execution_count": null,
   "id": "34885ef0-6859-420b-b891-17d3a0e81e13",
   "metadata": {},
   "outputs": [],
   "source": []
  }
 ],
 "metadata": {
  "kernelspec": {
   "display_name": "Python 3",
   "language": "python",
   "name": "python3"
  },
  "language_info": {
   "codemirror_mode": {
    "name": "ipython",
    "version": 3
   },
   "file_extension": ".py",
   "mimetype": "text/x-python",
   "name": "python",
   "nbconvert_exporter": "python",
   "pygments_lexer": "ipython3",
   "version": "3.12.10"
  }
 },
 "nbformat": 4,
 "nbformat_minor": 5
}

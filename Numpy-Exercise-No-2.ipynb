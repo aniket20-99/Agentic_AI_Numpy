{
 "cells": [
  {
   "cell_type": "markdown",
   "id": "7327cab6-1ae8-46c6-a681-501e81697135",
   "metadata": {},
   "source": [
    "# Array Manipulation routines"
   ]
  },
  {
   "cell_type": "code",
   "execution_count": 1,
   "id": "55df5821-d8ff-4c27-83d9-0732e5d3b08c",
   "metadata": {},
   "outputs": [],
   "source": [
    "import numpy as np"
   ]
  },
  {
   "cell_type": "code",
   "execution_count": 2,
   "id": "8ee03b34-94f1-445c-aab7-6c3514adabec",
   "metadata": {},
   "outputs": [
    {
     "data": {
      "text/plain": [
       "'1.26.3'"
      ]
     },
     "execution_count": 2,
     "metadata": {},
     "output_type": "execute_result"
    }
   ],
   "source": [
    "np.__version__"
   ]
  },
  {
   "cell_type": "markdown",
   "id": "0ae53f1c-7eae-4f1e-8092-f46aaecbaf15",
   "metadata": {},
   "source": [
    "\n",
    "**Q1.** Let x be a ndarray [10, 10, 3] with all elements set to one. Reshape x so that the size of the second dimension equals 150."
   ]
  },
  {
   "cell_type": "code",
   "execution_count": 7,
   "id": "65691fa7-405d-4c26-ae40-a558f267f067",
   "metadata": {},
   "outputs": [
    {
     "name": "stdout",
     "output_type": "stream",
     "text": [
      "[[1. 1. 1. 1. 1. 1. 1. 1. 1. 1. 1. 1. 1. 1. 1. 1. 1. 1. 1. 1. 1. 1. 1. 1.\n",
      "  1. 1. 1. 1. 1. 1. 1. 1. 1. 1. 1. 1. 1. 1. 1. 1. 1. 1. 1. 1. 1. 1. 1. 1.\n",
      "  1. 1. 1. 1. 1. 1. 1. 1. 1. 1. 1. 1. 1. 1. 1. 1. 1. 1. 1. 1. 1. 1. 1. 1.\n",
      "  1. 1. 1. 1. 1. 1. 1. 1. 1. 1. 1. 1. 1. 1. 1. 1. 1. 1. 1. 1. 1. 1. 1. 1.\n",
      "  1. 1. 1. 1. 1. 1. 1. 1. 1. 1. 1. 1. 1. 1. 1. 1. 1. 1. 1. 1. 1. 1. 1. 1.\n",
      "  1. 1. 1. 1. 1. 1. 1. 1. 1. 1. 1. 1. 1. 1. 1. 1. 1. 1. 1. 1. 1. 1. 1. 1.\n",
      "  1. 1. 1. 1. 1. 1.]\n",
      " [1. 1. 1. 1. 1. 1. 1. 1. 1. 1. 1. 1. 1. 1. 1. 1. 1. 1. 1. 1. 1. 1. 1. 1.\n",
      "  1. 1. 1. 1. 1. 1. 1. 1. 1. 1. 1. 1. 1. 1. 1. 1. 1. 1. 1. 1. 1. 1. 1. 1.\n",
      "  1. 1. 1. 1. 1. 1. 1. 1. 1. 1. 1. 1. 1. 1. 1. 1. 1. 1. 1. 1. 1. 1. 1. 1.\n",
      "  1. 1. 1. 1. 1. 1. 1. 1. 1. 1. 1. 1. 1. 1. 1. 1. 1. 1. 1. 1. 1. 1. 1. 1.\n",
      "  1. 1. 1. 1. 1. 1. 1. 1. 1. 1. 1. 1. 1. 1. 1. 1. 1. 1. 1. 1. 1. 1. 1. 1.\n",
      "  1. 1. 1. 1. 1. 1. 1. 1. 1. 1. 1. 1. 1. 1. 1. 1. 1. 1. 1. 1. 1. 1. 1. 1.\n",
      "  1. 1. 1. 1. 1. 1.]]\n"
     ]
    }
   ],
   "source": [
    "x = np.ones((10,10,3))\n",
    "Reshape = np.reshape(x,[-1,150])\n",
    "print(Reshape)\n"
   ]
  },
  {
   "cell_type": "markdown",
   "id": "7296b927-68df-42ee-9f81-edfe5f029b22",
   "metadata": {},
   "source": [
    "**Q2.** Let x be array [[1, 2, 3], [4, 5, 6]]. Convert it to [1 4 2 5 3 6]."
   ]
  },
  {
   "cell_type": "code",
   "execution_count": 17,
   "id": "10af397f-4c21-45c1-abd6-9fb91f465e63",
   "metadata": {},
   "outputs": [
    {
     "name": "stdout",
     "output_type": "stream",
     "text": [
      "[1 4 2 5 3 6]\n"
     ]
    }
   ],
   "source": [
    "x = np.array([[1,2,3],[4,5,6]])\n",
    "x1 = np.ravel(x,order = 'F')\n",
    "print(x1)"
   ]
  },
  {
   "cell_type": "markdown",
   "id": "fae144b7-7cbd-41af-95bf-0e171f453cfe",
   "metadata": {},
   "source": [
    "**Q3.** Let x be array [[1, 2, 3], [4, 5, 6]]. Get the 5th element."
   ]
  },
  {
   "cell_type": "code",
   "execution_count": 25,
   "id": "16c809c4-e831-494a-95f3-bae7d1883fd5",
   "metadata": {},
   "outputs": [
    {
     "name": "stdout",
     "output_type": "stream",
     "text": [
      "5\n"
     ]
    }
   ],
   "source": [
    "x = np.array([[1,2,3],[4,5,6]])\n",
    "x1 = x.flat[4]\n",
    "x2 = np.ravel(x)[4]\n",
    "assert np.allclose(x1,x2)\n",
    "print(x1)"
   ]
  },
  {
   "cell_type": "markdown",
   "id": "f1dfad94-3136-4698-aad6-0f783c84508e",
   "metadata": {},
   "source": [
    "\n",
    "**Q4.** Let x be an arbitrary 3-D array of shape (3, 4, 5). Permute the dimensions of x such that the new shape will be (4,3,5)."
   ]
  },
  {
   "cell_type": "code",
   "execution_count": 37,
   "id": "a72c4f1b-0a0f-40d1-b439-d700c124b66a",
   "metadata": {},
   "outputs": [
    {
     "name": "stdout",
     "output_type": "stream",
     "text": [
      "(4, 3, 5)\n"
     ]
    }
   ],
   "source": [
    "x = np.zeros((3,4,5)) # \n",
    "x1  = np.swapaxes(x,1,0)\n",
    "\n",
    "\n",
    "print(x1.shape)"
   ]
  },
  {
   "cell_type": "code",
   "execution_count": 38,
   "id": "75862a7c-f04b-4a00-b2aa-5527170b4645",
   "metadata": {},
   "outputs": [
    {
     "data": {
      "text/plain": [
       "array([[[0., 0., 0., 0., 0.],\n",
       "        [0., 0., 0., 0., 0.],\n",
       "        [0., 0., 0., 0., 0.],\n",
       "        [0., 0., 0., 0., 0.]],\n",
       "\n",
       "       [[0., 0., 0., 0., 0.],\n",
       "        [0., 0., 0., 0., 0.],\n",
       "        [0., 0., 0., 0., 0.],\n",
       "        [0., 0., 0., 0., 0.]],\n",
       "\n",
       "       [[0., 0., 0., 0., 0.],\n",
       "        [0., 0., 0., 0., 0.],\n",
       "        [0., 0., 0., 0., 0.],\n",
       "        [0., 0., 0., 0., 0.]]])"
      ]
     },
     "execution_count": 38,
     "metadata": {},
     "output_type": "execute_result"
    }
   ],
   "source": [
    "x"
   ]
  },
  {
   "cell_type": "code",
   "execution_count": 39,
   "id": "a31c2026-7811-46be-86ae-f27cdd926455",
   "metadata": {},
   "outputs": [
    {
     "data": {
      "text/plain": [
       "array([[[0., 0., 0., 0., 0.],\n",
       "        [0., 0., 0., 0., 0.],\n",
       "        [0., 0., 0., 0., 0.]],\n",
       "\n",
       "       [[0., 0., 0., 0., 0.],\n",
       "        [0., 0., 0., 0., 0.],\n",
       "        [0., 0., 0., 0., 0.]],\n",
       "\n",
       "       [[0., 0., 0., 0., 0.],\n",
       "        [0., 0., 0., 0., 0.],\n",
       "        [0., 0., 0., 0., 0.]],\n",
       "\n",
       "       [[0., 0., 0., 0., 0.],\n",
       "        [0., 0., 0., 0., 0.],\n",
       "        [0., 0., 0., 0., 0.]]])"
      ]
     },
     "execution_count": 39,
     "metadata": {},
     "output_type": "execute_result"
    }
   ],
   "source": [
    "x1"
   ]
  },
  {
   "cell_type": "code",
   "execution_count": 34,
   "id": "229e1f63-b63a-4976-a51a-94527c5ba1da",
   "metadata": {},
   "outputs": [
    {
     "data": {
      "text/plain": [
       "array([[[0., 0., 0., 0., 0.],\n",
       "        [0., 0., 0., 0., 0.],\n",
       "        [0., 0., 0., 0., 0.]],\n",
       "\n",
       "       [[0., 0., 0., 0., 0.],\n",
       "        [0., 0., 0., 0., 0.],\n",
       "        [0., 0., 0., 0., 0.]],\n",
       "\n",
       "       [[0., 0., 0., 0., 0.],\n",
       "        [0., 0., 0., 0., 0.],\n",
       "        [0., 0., 0., 0., 0.]],\n",
       "\n",
       "       [[0., 0., 0., 0., 0.],\n",
       "        [0., 0., 0., 0., 0.],\n",
       "        [0., 0., 0., 0., 0.]]])"
      ]
     },
     "execution_count": 34,
     "metadata": {},
     "output_type": "execute_result"
    }
   ],
   "source": [
    "x = np.zeros((3,4,5)) # \n",
    "x2 = x.transpose([1,0,2])\n",
    "x2"
   ]
  },
  {
   "cell_type": "markdown",
   "id": "3e4a5e62-abca-4d81-a954-ce1794f5356e",
   "metadata": {},
   "source": [
    "\n",
    "**Q5.** Let x be an arbitrary 2-D array of shape (3, 4). Permute the dimensions of x such that the new shape will be (4,3)."
   ]
  },
  {
   "cell_type": "code",
   "execution_count": 43,
   "id": "5fdfcfea-2551-4437-baa9-6abc27a3f316",
   "metadata": {},
   "outputs": [
    {
     "name": "stdout",
     "output_type": "stream",
     "text": [
      "[[0. 0. 0.]\n",
      " [0. 0. 0.]\n",
      " [0. 0. 0.]\n",
      " [0. 0. 0.]]\n"
     ]
    }
   ],
   "source": [
    "x = np.zeros((3,4))\n",
    "x1 = np.swapaxes(x,1,0)\n",
    "print(x1)"
   ]
  },
  {
   "cell_type": "code",
   "execution_count": 44,
   "id": "3500b192-d915-4437-a9a1-7c6ffb16310c",
   "metadata": {},
   "outputs": [
    {
     "name": "stdout",
     "output_type": "stream",
     "text": [
      "[[0. 0. 0.]\n",
      " [0. 0. 0.]\n",
      " [0. 0. 0.]\n",
      " [0. 0. 0.]]\n"
     ]
    }
   ],
   "source": [
    "x = np.zeros((3,4))\n",
    "x2 = x.transpose([1,0])\n",
    "print(x1)"
   ]
  },
  {
   "cell_type": "markdown",
   "id": "028715d9-f8e1-450b-8a05-85375da1e720",
   "metadata": {},
   "source": [
    "\n",
    "**Q5.** Let x be an arbitrary 2-D array of shape (3, 4). Insert a nex axis such that the new shape will be (3, 1, 4)."
   ]
  },
  {
   "cell_type": "code",
   "execution_count": 48,
   "id": "40e911e0-b2ee-40fc-88b8-d310bfd2bd83",
   "metadata": {},
   "outputs": [
    {
     "name": "stdout",
     "output_type": "stream",
     "text": [
      "(3, 1, 4)\n",
      "[[[0. 0. 0. 0.]]\n",
      "\n",
      " [[0. 0. 0. 0.]]\n",
      "\n",
      " [[0. 0. 0. 0.]]]\n"
     ]
    }
   ],
   "source": [
    "x = np.zeros((3,4))\n",
    "x1 = np.expand_dims(x,axis = 1)\n",
    "print(x1.shape)\n",
    "print(x1)"
   ]
  },
  {
   "cell_type": "markdown",
   "id": "dcafd2c3-b1c2-4a1e-9aab-3e8eeb1eacd2",
   "metadata": {},
   "source": [
    "\n",
    "**Q6.** Let x be an arbitrary 3-D array of shape (3, 4, 1). Remove a single-dimensional entries such that the new shape will be (3, 4)."
   ]
  },
  {
   "cell_type": "code",
   "execution_count": 54,
   "id": "a1c06e04-3c14-412c-bc1c-f19bde588a0b",
   "metadata": {},
   "outputs": [
    {
     "data": {
      "text/plain": [
       "(3, 4)"
      ]
     },
     "execution_count": 54,
     "metadata": {},
     "output_type": "execute_result"
    }
   ],
   "source": [
    "x = np.zeros((3,4,1))\n",
    "x2 = np.squeeze(x)\n",
    "x2.shape"
   ]
  },
  {
   "cell_type": "markdown",
   "id": "1d04c7f9-08dc-4c7b-b527-1327423415e2",
   "metadata": {},
   "source": [
    "\n",
    "Q7. Lex x be an array\n",
    "\n",
    "[[ 1 2 3]\n",
    "\n",
    "[ 4 5 6].\n",
    "\n",
    "and y be an array\n",
    "\n",
    "[[ 7 8 9]\n",
    "\n",
    "[10 11 12]].\n",
    "\n",
    "Concatenate x and y so that a new array looks like\n",
    "\n",
    "[[1, 2, 3, 7, 8, 9],\n",
    "\n",
    "[4, 5, 6, 10, 11, 12]].\n",
    "\n"
   ]
  },
  {
   "cell_type": "code",
   "execution_count": 58,
   "id": "63ba4caf-52de-4116-8130-c8fcb06ab127",
   "metadata": {},
   "outputs": [
    {
     "data": {
      "text/plain": [
       "array([[ 1,  2,  3,  7,  8,  9],\n",
       "       [ 4,  5,  6, 10, 11, 12]])"
      ]
     },
     "execution_count": 58,
     "metadata": {},
     "output_type": "execute_result"
    }
   ],
   "source": [
    "x = np.array([[1,2,3],[4,5,6]])\n",
    "y = np.array([[7,8,9],[10,11,12]])\n",
    "z = np.concatenate((x,y),1)\n",
    "z"
   ]
  },
  {
   "cell_type": "code",
   "execution_count": 60,
   "id": "df84e759-d154-4de0-9c61-853f9f86bde9",
   "metadata": {},
   "outputs": [
    {
     "data": {
      "text/plain": [
       "array([[ 1,  2,  3,  7,  8,  9],\n",
       "       [ 4,  5,  6, 10, 11, 12]])"
      ]
     },
     "execution_count": 60,
     "metadata": {},
     "output_type": "execute_result"
    }
   ],
   "source": [
    "x = np.array([[1,2,3],[4,5,6]])\n",
    "y = np.array([[7,8,9],[10,11,12]])\n",
    "z1 = np.hstack((x,y))\n",
    "z1"
   ]
  },
  {
   "cell_type": "markdown",
   "id": "617c1d58-a100-48a4-8437-8cda67c860ad",
   "metadata": {},
   "source": [
    "\n",
    "Q8. Lex x be an array\n",
    "\n",
    "[[ 1 2 3]\n",
    "[ 4 5 6].\n",
    "\n",
    "and y be an array\n",
    "\n",
    "[[ 7 8 9]\n",
    "[10 11 12]].\n",
    "\n",
    "Concatenate x and y so that a new array looks like\n",
    "\n",
    "[[ 1 2 3]\n",
    "[ 4 5 6]\n",
    "[ 7 8 9]\n",
    "[10 11 12]]"
   ]
  },
  {
   "cell_type": "code",
   "execution_count": 62,
   "id": "a6536d2b-a991-4c1f-8e63-8a72a5b29752",
   "metadata": {},
   "outputs": [
    {
     "name": "stdout",
     "output_type": "stream",
     "text": [
      "[[ 1  2  3]\n",
      " [ 4  5  6]\n",
      " [ 7  8  9]\n",
      " [10 11 12]]\n"
     ]
    }
   ],
   "source": [
    "x1 = np.array([[1,2,3],[4,5,6]])\n",
    "y1 = np.array([[7,8,9],[10,11,12]])\n",
    "z2 = np.concatenate((x,y),0)\n",
    "print(z2)"
   ]
  },
  {
   "cell_type": "markdown",
   "id": "4d1adf6c-0e51-4b41-92a2-015437255c07",
   "metadata": {},
   "source": [
    "\n",
    "**Q8.** Let x be an array [1 2 3] and y be [4 5 6]. Convert it to [[1, 4], [2, 5], [3, 6]]."
   ]
  },
  {
   "cell_type": "code",
   "execution_count": 11,
   "id": "ea72426e-626f-411b-93d3-454d2c476eb0",
   "metadata": {},
   "outputs": [
    {
     "name": "stdout",
     "output_type": "stream",
     "text": [
      "Method 1:\n",
      " [[1 4]\n",
      " [2 5]\n",
      " [3 6]]\n",
      "Mthod 2:\n",
      " [[1 4]\n",
      " [2 5]\n",
      " [3 6]]\n",
      "Method 3:\n",
      " [[1 4]\n",
      " [2 5]\n",
      " [3 6]]\n"
     ]
    }
   ],
   "source": [
    "import numpy as np\n",
    "x = np.array([1,2,3])\n",
    "y = np.array([4,5,6])\n",
    "\n",
    "z1 = np.column_stack((x,y))\n",
    "z2 = np.vstack((x,y)).T\n",
    "z3 = np.squeeze(np.dstack((x,y)))\n",
    "print(\"Method 1:\\n\",z1)\n",
    "print(\"Mthod 2:\\n\",z2)\n",
    "print(\"Method 3:\\n\",z3)"
   ]
  },
  {
   "cell_type": "markdown",
   "id": "ed8c9ea3-5452-4a94-bd2c-89513cbc844b",
   "metadata": {},
   "source": [
    "\n",
    "**Q9.** Let x be an array [[1],[2],[3]] and y be [[4], [5], [6]]. Convert x to [[[1, 4]], [[2, 5]], [[3, 6]]]."
   ]
  },
  {
   "cell_type": "code",
   "execution_count": 13,
   "id": "03f383e1-522d-4049-85e4-a83a0529519a",
   "metadata": {},
   "outputs": [
    {
     "data": {
      "text/plain": [
       "array([[[1, 4]],\n",
       "\n",
       "       [[2, 5]],\n",
       "\n",
       "       [[3, 6]]])"
      ]
     },
     "execution_count": 13,
     "metadata": {},
     "output_type": "execute_result"
    }
   ],
   "source": [
    "x = np.array([[1],[2],[3]])\n",
    "y = np.array([[4],[5],[6]])\n",
    "\n",
    "z = np.dstack((x,y))\n",
    "z"
   ]
  },
  {
   "cell_type": "markdown",
   "id": "041eb7e9-12b0-471c-9a20-2d0ae024162c",
   "metadata": {},
   "source": [
    "\n",
    "**Q10.** Let x be an array [1, 2, 3, ..., 9]. Split x into 3 arrays, each of which has 4, 2, and 3 elements in the original order."
   ]
  },
  {
   "cell_type": "code",
   "execution_count": 16,
   "id": "5894e6b3-1eba-4e0e-b141-634c49dde452",
   "metadata": {},
   "outputs": [
    {
     "name": "stdout",
     "output_type": "stream",
     "text": [
      "[1 2 3 4]\n",
      "[5 6]\n",
      "[7 8 9]\n"
     ]
    }
   ],
   "source": [
    "x = np.arange(1,10)\n",
    "a,b,c= np.split(x,[4,6])\n",
    "print(a)\n",
    "print(b)\n",
    "print(c)"
   ]
  },
  {
   "cell_type": "markdown",
   "id": "9f433456-6c72-4111-bf59-1a1a7b4543c7",
   "metadata": {},
   "source": [
    "**Q11.** Let x be an array\n",
    "\n",
    "[[[ 0., 1., 2., 3.],\n",
    "\n",
    "[ 4., 5., 6., 7.]],\n",
    "\n",
    "[[ 8., 9., 10., 11.],\n",
    "\n",
    "[ 12., 13., 14., 15.]]].\n",
    "\n",
    "Split it into two such that the first array looks like\n",
    "\n",
    "[[[ 0., 1., 2.],\n",
    "\n",
    "[ 4., 5., 6.]],\n",
    "\n",
    "[[ 8., 9., 10.],\n",
    "\n",
    "[ 12., 13., 14.]]].\n",
    "\n",
    "and the second one look like:\n",
    "\n",
    "[[[ 3.],\n",
    "\n",
    "[ 7.]],\n",
    "\n",
    "[[ 11.],\n",
    "\n",
    "[ 15.]]]."
   ]
  },
  {
   "cell_type": "raw",
   "id": "1a98cdc2-2199-480f-b386-e3b2e68f03ec",
   "metadata": {},
   "source": [
    "x = np.array([[[ 0., 1., 2., 3.],[ 4., 5., 6., 7.]],[[ 8., 9., 10., 11.],[ 12., 13., 14., 15.]]].)\n"
   ]
  },
  {
   "cell_type": "code",
   "execution_count": 30,
   "id": "0b84cced-8197-4175-af8e-94b6843b3bf2",
   "metadata": {},
   "outputs": [
    {
     "name": "stdout",
     "output_type": "stream",
     "text": [
      "Solution:\n",
      " [array([[[ 0,  1,  2],\n",
      "        [ 4,  5,  6]],\n",
      "\n",
      "       [[ 8,  9, 10],\n",
      "        [12, 13, 14]]]), array([[[ 3],\n",
      "        [ 7]],\n",
      "\n",
      "       [[11],\n",
      "        [15]]])]\n"
     ]
    }
   ],
   "source": [
    "x = np.arange(16).reshape(2,2,4)\n",
    "z1 = np.split(x,[3],axis = 2)\n",
    "print(\"Solution:\\n\",z1)"
   ]
  },
  {
   "cell_type": "markdown",
   "id": "f4f317fe-d9cc-4d4e-b919-9b6a9d4fc828",
   "metadata": {},
   "source": [
    "**Q12.** Let x be an array\n",
    "[[ 0., 1., 2., 3.],\n",
    "\n",
    "[ 4., 5., 6., 7.],\n",
    "\n",
    "[ 8., 9., 10., 11.],\n",
    "\n",
    "[ 12., 13., 14., 15.]].\n",
    "\n",
    "Split it into two arrays along the second axis."
   ]
  },
  {
   "cell_type": "code",
   "execution_count": 34,
   "id": "3e555725-ed4f-4071-9e07-1b85bab93445",
   "metadata": {},
   "outputs": [
    {
     "data": {
      "text/plain": [
       "[array([[[ 0,  1],\n",
       "         [ 4,  5]],\n",
       " \n",
       "        [[ 8,  9],\n",
       "         [12, 13]]]),\n",
       " array([[[ 2,  3],\n",
       "         [ 6,  7]],\n",
       " \n",
       "        [[10, 11],\n",
       "         [14, 15]]])]"
      ]
     },
     "execution_count": 34,
     "metadata": {},
     "output_type": "execute_result"
    }
   ],
   "source": [
    "x = np.arange(0,16).reshape(2,2,4)\n",
    "y = np.split(x,[2],axis = 2)\n",
    "y"
   ]
  },
  {
   "cell_type": "code",
   "execution_count": 39,
   "id": "454de49e-9ee4-4b31-8328-88aa27e2cd51",
   "metadata": {},
   "outputs": [
    {
     "data": {
      "text/plain": [
       "[array([[ 0,  1],\n",
       "        [ 4,  5],\n",
       "        [ 8,  9],\n",
       "        [12, 13]]),\n",
       " array([[ 2,  3],\n",
       "        [ 6,  7],\n",
       "        [10, 11],\n",
       "        [14, 15]])]"
      ]
     },
     "execution_count": 39,
     "metadata": {},
     "output_type": "execute_result"
    }
   ],
   "source": [
    "# Method 2:\n",
    "x = np.arange(0,16).reshape(4,4)\n",
    "y = np.split(x,[2],1)\n",
    "y"
   ]
  },
  {
   "cell_type": "markdown",
   "id": "dccbfe44-1315-42e3-b76a-6b567c8d68f7",
   "metadata": {},
   "source": [
    "**Q13.** Let x be an array\n",
    "[[ 0., 1., 2., 3.],\n",
    "[ 4., 5., 6., 7.],\n",
    "[ 8., 9., 10., 11.],\n",
    "[ 12., 13., 14., 15.]].\n",
    "Split it into two arrays along the first axis."
   ]
  },
  {
   "cell_type": "code",
   "execution_count": 41,
   "id": "3d355ad0-03c4-4e04-b078-c306d1878686",
   "metadata": {},
   "outputs": [
    {
     "data": {
      "text/plain": [
       "[array([[0, 1, 2, 3],\n",
       "        [4, 5, 6, 7]]),\n",
       " array([[ 8,  9, 10, 11],\n",
       "        [12, 13, 14, 15]])]"
      ]
     },
     "execution_count": 41,
     "metadata": {},
     "output_type": "execute_result"
    }
   ],
   "source": [
    "x = np.arange(0,16).reshape(4,4)\n",
    "y = np.split(x,2,0)\n",
    "y"
   ]
  },
  {
   "cell_type": "code",
   "execution_count": 45,
   "id": "59c8e3e2-1464-4c51-a845-1cec436f2179",
   "metadata": {},
   "outputs": [
    {
     "data": {
      "text/plain": [
       "array([[ 0,  1,  2,  3],\n",
       "       [ 4,  5,  6,  7],\n",
       "       [ 8,  9, 10, 11],\n",
       "       [12, 13, 14, 15]])"
      ]
     },
     "execution_count": 45,
     "metadata": {},
     "output_type": "execute_result"
    }
   ],
   "source": [
    "x"
   ]
  },
  {
   "cell_type": "code",
   "execution_count": 44,
   "id": "d54d2b33-222b-4b57-9eed-aeaa6124f058",
   "metadata": {},
   "outputs": [
    {
     "data": {
      "text/plain": [
       "[array([[0, 1, 2, 3],\n",
       "        [4, 5, 6, 7]]),\n",
       " array([[ 8,  9, 10, 11],\n",
       "        [12, 13, 14, 15]])]"
      ]
     },
     "execution_count": 44,
     "metadata": {},
     "output_type": "execute_result"
    }
   ],
   "source": [
    "x = np.arange(0,16).reshape(4,4)\n",
    "\n",
    "y = np.vsplit(x,2)\n",
    "y"
   ]
  },
  {
   "cell_type": "code",
   "execution_count": 46,
   "id": "cf81da42-36f6-49f8-bae0-26006c8940c4",
   "metadata": {},
   "outputs": [
    {
     "data": {
      "text/plain": [
       "[array([[ 0,  1],\n",
       "        [ 4,  5],\n",
       "        [ 8,  9],\n",
       "        [12, 13]]),\n",
       " array([[ 2,  3],\n",
       "        [ 6,  7],\n",
       "        [10, 11],\n",
       "        [14, 15]])]"
      ]
     },
     "execution_count": 46,
     "metadata": {},
     "output_type": "execute_result"
    }
   ],
   "source": [
    "x = np.arange(0,16).reshape(4,4)\n",
    "y = np.hsplit(x,2)\n",
    "y"
   ]
  },
  {
   "cell_type": "markdown",
   "id": "5d09675e-eb08-4c24-b9c3-b39ae195a5fb",
   "metadata": {},
   "source": [
    "**Q14.** Let x be an array [0, 1, 2]. Convert it to\n",
    "[[0, 1, 2, 0, 1, 2],\n",
    "[0, 1, 2, 0, 1, 2]]."
   ]
  },
  {
   "cell_type": "markdown",
   "id": "0632f7f2-f4d0-4cb1-8396-11e5dc35e138",
   "metadata": {},
   "source": [
    "In np.tile(A, reps), the parameter reps tells NumPy how many times to repeat the array A along each axis.\n",
    "\n"
   ]
  },
  {
   "cell_type": "code",
   "execution_count": 53,
   "id": "fee66842-4c2e-428e-9b8f-de74739b13f6",
   "metadata": {},
   "outputs": [
    {
     "data": {
      "text/plain": [
       "array([[0, 1, 2, 0, 1, 2],\n",
       "       [0, 1, 2, 0, 1, 2]])"
      ]
     },
     "execution_count": 53,
     "metadata": {},
     "output_type": "execute_result"
    }
   ],
   "source": [
    "x = np.array([0,1,2])\n",
    "y = np.tile(x,[2,2])\n",
    "z = np.reshape(y,[2,6])"
   ]
  },
  {
   "cell_type": "markdown",
   "id": "dd45aaaa-bf6e-4a56-b74f-4fc27c258981",
   "metadata": {},
   "source": [
    "\n",
    "**Q15.** Let x be an array [0, 1, 2]. Convert it to\n",
    "[0, 0, 1, 1, 2, 2]."
   ]
  },
  {
   "cell_type": "code",
   "execution_count": 59,
   "id": "471f5cea-bbde-4050-b56e-10310c6cc6c3",
   "metadata": {},
   "outputs": [
    {
     "data": {
      "text/plain": [
       "array([0, 0, 1, 1, 2, 2])"
      ]
     },
     "execution_count": 59,
     "metadata": {},
     "output_type": "execute_result"
    }
   ],
   "source": [
    "x = np.array([0,1,2])\n",
    "np.repeat(x,2)"
   ]
  },
  {
   "cell_type": "markdown",
   "id": "ed852d57-6d37-4d32-a6a9-d96527bcf8d5",
   "metadata": {},
   "source": [
    "\n",
    "**Q17.** Let x be an array [2, 2, 1, 5, 4, 5, 1, 2, 3]. Get two arrays of unique elements and their counts."
   ]
  },
  {
   "cell_type": "code",
   "execution_count": 62,
   "id": "e0492305-0f5f-4524-9c08-5bcd99486f52",
   "metadata": {},
   "outputs": [
    {
     "data": {
      "text/plain": [
       "(array([1, 2, 3, 4, 5]), array([2, 3, 1, 1, 2], dtype=int64))"
      ]
     },
     "execution_count": 62,
     "metadata": {},
     "output_type": "execute_result"
    }
   ],
   "source": [
    "x = np.array([2, 2, 1, 5, 4, 5, 1, 2, 3])\n",
    "y = np.unique(x,return_counts = True)\n",
    "y"
   ]
  },
  {
   "cell_type": "markdown",
   "id": "7b7eb05a-c3c8-420e-af07-43d6fd736c83",
   "metadata": {},
   "source": [
    "\n",
    "**Q18.** Lex x be an array\n",
    "[[ 1 2]\n",
    "[ 3 4].\n",
    "Flip x along the second axis."
   ]
  },
  {
   "cell_type": "code",
   "execution_count": 65,
   "id": "ab64ade3-14c9-4280-9927-5059ac269f61",
   "metadata": {},
   "outputs": [
    {
     "data": {
      "text/plain": [
       "array([[2, 1],\n",
       "       [4, 3]])"
      ]
     },
     "execution_count": 65,
     "metadata": {},
     "output_type": "execute_result"
    }
   ],
   "source": [
    "x = np.array([[1,2],[3,4]])\n",
    "y = np.flip(x,1)\n",
    "y"
   ]
  },
  {
   "cell_type": "markdown",
   "id": "04ff35e5-7415-4d06-a624-9895dbf02b97",
   "metadata": {},
   "source": [
    "**Q19.** Lex x be an array\n",
    "[[ 1 2]\n",
    "[ 3 4].\n",
    "Flip x along the first axis."
   ]
  },
  {
   "cell_type": "code",
   "execution_count": 66,
   "id": "4814a934-bdbb-42ee-8cfd-876672d13d94",
   "metadata": {},
   "outputs": [
    {
     "data": {
      "text/plain": [
       "array([[3, 4],\n",
       "       [1, 2]])"
      ]
     },
     "execution_count": 66,
     "metadata": {},
     "output_type": "execute_result"
    }
   ],
   "source": [
    "x = np.array([[1,2],[3,4]])\n",
    "y = np.flip(x,0)\n",
    "y"
   ]
  },
  {
   "cell_type": "markdown",
   "id": "0208c07a-e015-472e-8db7-10224fe49255",
   "metadata": {},
   "source": [
    "\n",
    "**Q20.** Lex x be an array\n",
    "[[ 1 2]\n",
    "[ 3 4].\n",
    "Rotate x 90 degrees counter-clockwise."
   ]
  },
  {
   "cell_type": "code",
   "execution_count": 69,
   "id": "48768d2b-b302-40ca-9647-0fa9ac43ce70",
   "metadata": {},
   "outputs": [
    {
     "data": {
      "text/plain": [
       "array([[2, 4],\n",
       "       [1, 3]])"
      ]
     },
     "execution_count": 69,
     "metadata": {},
     "output_type": "execute_result"
    }
   ],
   "source": [
    "x = np.array([[1,2],[3,4]])\n",
    "y = np.rot90(x)\n",
    "y"
   ]
  },
  {
   "cell_type": "markdown",
   "id": "448f2dea-f7b4-4355-95d6-17d3f9eaa60b",
   "metadata": {},
   "source": [
    "\n",
    "**Q21** Lex x be an array\n",
    "[[ 1 2 3 4]\n",
    "[ 5 6 7 8].\n",
    "Shift elements one step to right along the second axis."
   ]
  },
  {
   "cell_type": "code",
   "execution_count": 72,
   "id": "35898429-314c-4c5e-8489-42344615f35f",
   "metadata": {},
   "outputs": [
    {
     "data": {
      "text/plain": [
       "array([[4, 1, 2, 3],\n",
       "       [8, 5, 6, 7]])"
      ]
     },
     "execution_count": 72,
     "metadata": {},
     "output_type": "execute_result"
    }
   ],
   "source": [
    "x = np.arange(1,9).reshape([2,4])\n",
    "np.roll(x,1,1)"
   ]
  },
  {
   "cell_type": "code",
   "execution_count": null,
   "id": "cad43f0c-56b0-47c5-b0ca-086add265c88",
   "metadata": {},
   "outputs": [],
   "source": []
  }
 ],
 "metadata": {
  "kernelspec": {
   "display_name": "Python 3 (ipykernel)",
   "language": "python",
   "name": "python3"
  },
  "language_info": {
   "codemirror_mode": {
    "name": "ipython",
    "version": 3
   },
   "file_extension": ".py",
   "mimetype": "text/x-python",
   "name": "python",
   "nbconvert_exporter": "python",
   "pygments_lexer": "ipython3",
   "version": "3.11.5"
  }
 },
 "nbformat": 4,
 "nbformat_minor": 5
}

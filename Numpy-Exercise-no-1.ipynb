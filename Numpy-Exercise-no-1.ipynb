{
 "cells": [
  {
   "cell_type": "code",
   "execution_count": 1,
   "id": "4cedeef8-aa29-4d1a-9729-cbe48dba840b",
   "metadata": {},
   "outputs": [],
   "source": [
    "import numpy as np"
   ]
  },
  {
   "cell_type": "markdown",
   "id": "931a2b28-8f30-4cb0-a597-c4de7e36e501",
   "metadata": {},
   "source": [
    "**Q1.** Create a new array of 2*2 integers, without initializing entries."
   ]
  },
  {
   "cell_type": "code",
   "execution_count": 4,
   "id": "8b042822-f31f-4cf7-90ec-6e77164a98af",
   "metadata": {},
   "outputs": [
    {
     "data": {
      "text/plain": [
       "array([[0, 0],\n",
       "       [0, 0]])"
      ]
     },
     "execution_count": 4,
     "metadata": {},
     "output_type": "execute_result"
    }
   ],
   "source": [
    "arr = np.zeros((2,2),dtype = int)\n",
    "arr"
   ]
  },
  {
   "cell_type": "markdown",
   "id": "5064ebb3-cdf7-43bd-9a6b-361f4bb32dc2",
   "metadata": {},
   "source": [
    "**Q2.** Let X = np.array([1,2,3], [4,5,6], np.int32). Create a new array with the same shape and type as X."
   ]
  },
  {
   "cell_type": "code",
   "execution_count": 6,
   "id": "9915543b-0a1f-4a80-a7a3-ff0522382a97",
   "metadata": {},
   "outputs": [
    {
     "data": {
      "text/plain": [
       "array([[10, 15, 20],\n",
       "       [25, 30, 35]])"
      ]
     },
     "execution_count": 6,
     "metadata": {},
     "output_type": "execute_result"
    }
   ],
   "source": [
    "x = np.array(([10,15,20],[25,30,35]),dtype = int)\n",
    "x"
   ]
  },
  {
   "cell_type": "markdown",
   "id": "fee55021-6a1e-4d2b-a7b3-eccb7ab577d3",
   "metadata": {},
   "source": [
    "**Q3.** Create a 3-D array with ones on the diagonal and zeros elsewhere."
   ]
  },
  {
   "cell_type": "code",
   "execution_count": 8,
   "id": "02213607-08ac-4c56-b636-cac3c2519f73",
   "metadata": {},
   "outputs": [
    {
     "data": {
      "text/plain": [
       "array([[1, 0, 0],\n",
       "       [0, 1, 0],\n",
       "       [0, 0, 1]])"
      ]
     },
     "execution_count": 8,
     "metadata": {},
     "output_type": "execute_result"
    }
   ],
   "source": [
    "np.eye(3,dtype = int) # Identical matrix --> Diagonal should be always 1"
   ]
  },
  {
   "cell_type": "code",
   "execution_count": 23,
   "id": "0cef1252-e24e-46ff-88f7-d880c8cee217",
   "metadata": {},
   "outputs": [
    {
     "data": {
      "text/plain": [
       "array([[1, 0, 0],\n",
       "       [0, 1, 0],\n",
       "       [0, 0, 1]])"
      ]
     },
     "execution_count": 23,
     "metadata": {},
     "output_type": "execute_result"
    }
   ],
   "source": [
    "np.identity(3,dtype = int)"
   ]
  },
  {
   "cell_type": "markdown",
   "id": "ec02b8fb-d649-4add-a541-64650792a970",
   "metadata": {},
   "source": [
    "**Q4.** Create a new array of 3*2 float numbers, filled with ones."
   ]
  },
  {
   "cell_type": "code",
   "execution_count": 16,
   "id": "2e82d8ab-43bc-4c86-8284-a544644a9328",
   "metadata": {},
   "outputs": [
    {
     "data": {
      "text/plain": [
       "array([[1., 1.],\n",
       "       [1., 1.],\n",
       "       [1., 1.]])"
      ]
     },
     "execution_count": 16,
     "metadata": {},
     "output_type": "execute_result"
    }
   ],
   "source": [
    "Ones = np.ones((3,2))\n",
    "Ones"
   ]
  },
  {
   "cell_type": "markdown",
   "id": "e16614b1-6b4d-41a4-bb5e-2b2f223b0f8b",
   "metadata": {},
   "source": [
    "**Q5.** Let x = np.arange(4, dtype=np.int64). Create an array of ones with the same shape and type as X."
   ]
  },
  {
   "cell_type": "code",
   "execution_count": 26,
   "id": "3dd91d61-6412-4e88-86d4-c70a10f21b1f",
   "metadata": {},
   "outputs": [
    {
     "data": {
      "text/plain": [
       "array([1, 1, 1, 1])"
      ]
     },
     "execution_count": 26,
     "metadata": {},
     "output_type": "execute_result"
    }
   ],
   "source": [
    "x = np.arange(4,dtype = int)\n",
    "np.ones_like(x)"
   ]
  },
  {
   "cell_type": "markdown",
   "id": "46a5b67d-1cc0-4fff-bcba-49bdc6b1ab22",
   "metadata": {},
   "source": [
    "**Q6.** Create a new array of 3*2 float numbers, filled with zeros."
   ]
  },
  {
   "cell_type": "code",
   "execution_count": 28,
   "id": "fc4f15e0-afec-4dd4-b969-1f5e27570eb0",
   "metadata": {},
   "outputs": [
    {
     "data": {
      "text/plain": [
       "array([[0., 0.],\n",
       "       [0., 0.],\n",
       "       [0., 0.]])"
      ]
     },
     "execution_count": 28,
     "metadata": {},
     "output_type": "execute_result"
    }
   ],
   "source": [
    "x1 = np.zeros((3,2),dtype = float)\n",
    "x1"
   ]
  },
  {
   "cell_type": "markdown",
   "id": "c761f2ce-3dc2-46fe-bdcb-23477eb55796",
   "metadata": {},
   "source": [
    "**Q7.** Let x = np.arange(4, dtype=np.int64). Create an array of zeros with the same shape and type as X.\n"
   ]
  },
  {
   "cell_type": "code",
   "execution_count": 29,
   "id": "dffe97ec-0fbd-4c24-8175-13479f1bafa1",
   "metadata": {},
   "outputs": [
    {
     "data": {
      "text/plain": [
       "array([0, 0, 0, 0])"
      ]
     },
     "execution_count": 29,
     "metadata": {},
     "output_type": "execute_result"
    }
   ],
   "source": [
    "z = np.arange(4,dtype = int)\n",
    "np.zeros_like(z)"
   ]
  },
  {
   "cell_type": "code",
   "execution_count": 30,
   "id": "fb66b55c-5e92-4410-b8ec-329a85e69d85",
   "metadata": {},
   "outputs": [
    {
     "data": {
      "text/plain": [
       "(array([1, 2, 3], dtype=int64),)"
      ]
     },
     "execution_count": 30,
     "metadata": {},
     "output_type": "execute_result"
    }
   ],
   "source": [
    "np.nonzero(z)"
   ]
  },
  {
   "cell_type": "markdown",
   "id": "91633fe2-5d8a-438a-936c-c3f923e17a53",
   "metadata": {},
   "source": [
    "**Q8.** Create a new array of 2*5 uints, filled with 6."
   ]
  },
  {
   "cell_type": "code",
   "execution_count": 47,
   "id": "aabaa48b-3488-4ed4-b8f1-a2b5346b4725",
   "metadata": {},
   "outputs": [
    {
     "data": {
      "text/plain": [
       "array([[6, 6, 6, 6, 6],\n",
       "       [6, 6, 6, 6, 6]])"
      ]
     },
     "execution_count": 47,
     "metadata": {},
     "output_type": "execute_result"
    }
   ],
   "source": [
    "x = np.full((2,5),6,dtype = int)\n",
    "x"
   ]
  },
  {
   "cell_type": "markdown",
   "id": "0dbb860e-fa68-43c8-8f77-8d9eab9a571a",
   "metadata": {},
   "source": [
    "**Q9.** Let x = np.arange(4, dtype=np.int64). Create an array of 6's with the same shape and type as X."
   ]
  },
  {
   "cell_type": "code",
   "execution_count": 55,
   "id": "18559e27-cf10-49ce-878d-dade119d0342",
   "metadata": {},
   "outputs": [
    {
     "data": {
      "text/plain": [
       "array([6, 6, 6, 6])"
      ]
     },
     "execution_count": 55,
     "metadata": {},
     "output_type": "execute_result"
    }
   ],
   "source": [
    "x = np.arange(4)\n",
    "np.full_like(x,6,dtype = int)"
   ]
  },
  {
   "cell_type": "code",
   "execution_count": 56,
   "id": "795bcada-0a9c-406d-90b7-d2282110a47f",
   "metadata": {},
   "outputs": [
    {
     "data": {
      "text/plain": [
       "array([1, 2, 3])"
      ]
     },
     "execution_count": 56,
     "metadata": {},
     "output_type": "execute_result"
    }
   ],
   "source": [
    "# From Existing Data\n",
    "x = np.array([1,2,3])\n",
    "x "
   ]
  },
  {
   "cell_type": "code",
   "execution_count": 61,
   "id": "b90397c1-c15a-45ce-ac50-243477cabab0",
   "metadata": {},
   "outputs": [
    {
     "data": {
      "text/plain": [
       "array([1, 2])"
      ]
     },
     "execution_count": 61,
     "metadata": {},
     "output_type": "execute_result"
    }
   ],
   "source": [
    "x = [1,2]\n",
    "y = np.asarray(x)\n",
    "y"
   ]
  },
  {
   "cell_type": "code",
   "execution_count": 62,
   "id": "3d8e92ff-707f-4fa3-8f79-efa24769e740",
   "metadata": {},
   "outputs": [
    {
     "data": {
      "text/plain": [
       "numpy.ndarray"
      ]
     },
     "execution_count": 62,
     "metadata": {},
     "output_type": "execute_result"
    }
   ],
   "source": [
    "type(y)"
   ]
  },
  {
   "cell_type": "markdown",
   "id": "a17c0cd0-dde3-44c1-a47c-2c7f306bc926",
   "metadata": {},
   "source": [
    "**Q10.** Let X = np.array([[1, 2], [3, 4]]). Convert it into a matrix."
   ]
  },
  {
   "cell_type": "code",
   "execution_count": 64,
   "id": "024d4426-48cc-4f4d-af75-a02be36a1769",
   "metadata": {},
   "outputs": [
    {
     "data": {
      "text/plain": [
       "array([[1, 2],\n",
       "       [3, 4]])"
      ]
     },
     "execution_count": 64,
     "metadata": {},
     "output_type": "execute_result"
    }
   ],
   "source": [
    "x = np.array([[1,2],[3,4]])\n",
    "x"
   ]
  },
  {
   "cell_type": "code",
   "execution_count": 65,
   "id": "b7c9c38d-b76a-4867-bf2d-1ecb900d6d7d",
   "metadata": {},
   "outputs": [
    {
     "data": {
      "text/plain": [
       "matrix([[1, 2],\n",
       "        [3, 4]])"
      ]
     },
     "execution_count": 65,
     "metadata": {},
     "output_type": "execute_result"
    }
   ],
   "source": [
    "x = np.array([[1,2],[3,4]])\n",
    "y = np.asmatrix(x)\n",
    "y"
   ]
  },
  {
   "cell_type": "markdown",
   "id": "c676c5f7-e1bd-457a-bf47-a7f8b5c82c86",
   "metadata": {},
   "source": [
    "**Q11.** Let x = [1, 2]. Conver it into an array of float."
   ]
  },
  {
   "cell_type": "code",
   "execution_count": 68,
   "id": "14e9185d-6ec7-4291-844b-3603ad33663b",
   "metadata": {},
   "outputs": [
    {
     "data": {
      "text/plain": [
       "array([1., 2.])"
      ]
     },
     "execution_count": 68,
     "metadata": {},
     "output_type": "execute_result"
    }
   ],
   "source": [
    "x = [1,2]\n",
    "x1 = np.array(x,dtype = float)\n",
    "x1"
   ]
  },
  {
   "cell_type": "markdown",
   "id": "32b26566-496a-47be-8d7c-5a8df2c46efb",
   "metadata": {},
   "source": [
    "**Q12** Let x = np.array([30]). Convert it into scalar of its single element, i.e. 30."
   ]
  },
  {
   "cell_type": "code",
   "execution_count": 73,
   "id": "5a80fcbb-0669-429d-ab58-064aad165d94",
   "metadata": {},
   "outputs": [
    {
     "data": {
      "text/plain": [
       "30"
      ]
     },
     "execution_count": 73,
     "metadata": {},
     "output_type": "execute_result"
    }
   ],
   "source": [
    "x = np.array([30])\n",
    "x[0]"
   ]
  },
  {
   "cell_type": "markdown",
   "id": "3da42464-cc50-4b10-85ce-36ea035458de",
   "metadata": {},
   "source": [
    "**Q13.** \n",
    "Let x = np.array([1, 2, 3]). Create a array copy of x, which has a different id from x."
   ]
  },
  {
   "cell_type": "code",
   "execution_count": 74,
   "id": "3d7a8e63-669d-4d32-b9ef-442022086c89",
   "metadata": {},
   "outputs": [],
   "source": [
    "x = np.array([1,2,3])\n",
    "y = x.copy()"
   ]
  },
  {
   "cell_type": "code",
   "execution_count": 77,
   "id": "88ace29e-3af7-4d47-8761-4583c3bb1817",
   "metadata": {},
   "outputs": [
    {
     "name": "stdout",
     "output_type": "stream",
     "text": [
      "1599490503088 [1 2 3]\n",
      "1599490498288 [1 2 3]\n"
     ]
    }
   ],
   "source": [
    "print(id(x),x)\n",
    "print(id(y),y)"
   ]
  },
  {
   "cell_type": "markdown",
   "id": "47c3f9b7-ebf0-4913-8041-8d442c60970f",
   "metadata": {},
   "source": [
    "# Numerical Ranges"
   ]
  },
  {
   "cell_type": "markdown",
   "id": "d94867e2-f663-4720-b07a-68f5994d1653",
   "metadata": {},
   "source": [
    "**Q14** Create an array of 2, 4, 6, 8, ..., 100."
   ]
  },
  {
   "cell_type": "code",
   "execution_count": 83,
   "id": "61c346ac-4c0c-41c3-8e28-d889fb1d183f",
   "metadata": {},
   "outputs": [
    {
     "data": {
      "text/plain": [
       "array([  2,   4,   6,   8,  10,  12,  14,  16,  18,  20,  22,  24,  26,\n",
       "        28,  30,  32,  34,  36,  38,  40,  42,  44,  46,  48,  50,  52,\n",
       "        54,  56,  58,  60,  62,  64,  66,  68,  70,  72,  74,  76,  78,\n",
       "        80,  82,  84,  86,  88,  90,  92,  94,  96,  98, 100])"
      ]
     },
     "execution_count": 83,
     "metadata": {},
     "output_type": "execute_result"
    }
   ],
   "source": [
    "arr = np.arange(2,101,2)\n",
    "arr"
   ]
  },
  {
   "cell_type": "markdown",
   "id": "0009e52c-183d-47ac-bca1-aa06d7a3685b",
   "metadata": {},
   "source": [
    "**Q15.** Create a 1-D array of 50 evenly spaced elements between 3. and 10., inclusive."
   ]
  },
  {
   "cell_type": "code",
   "execution_count": 85,
   "id": "5bf97960-e8ad-410e-a777-d2f9ae282dd5",
   "metadata": {},
   "outputs": [
    {
     "data": {
      "text/plain": [
       "array([ 3.        ,  3.14285714,  3.28571429,  3.42857143,  3.57142857,\n",
       "        3.71428571,  3.85714286,  4.        ,  4.14285714,  4.28571429,\n",
       "        4.42857143,  4.57142857,  4.71428571,  4.85714286,  5.        ,\n",
       "        5.14285714,  5.28571429,  5.42857143,  5.57142857,  5.71428571,\n",
       "        5.85714286,  6.        ,  6.14285714,  6.28571429,  6.42857143,\n",
       "        6.57142857,  6.71428571,  6.85714286,  7.        ,  7.14285714,\n",
       "        7.28571429,  7.42857143,  7.57142857,  7.71428571,  7.85714286,\n",
       "        8.        ,  8.14285714,  8.28571429,  8.42857143,  8.57142857,\n",
       "        8.71428571,  8.85714286,  9.        ,  9.14285714,  9.28571429,\n",
       "        9.42857143,  9.57142857,  9.71428571,  9.85714286, 10.        ])"
      ]
     },
     "execution_count": 85,
     "metadata": {},
     "output_type": "execute_result"
    }
   ],
   "source": [
    "arr1 = np.linspace(3.,10,50)\n",
    "arr1"
   ]
  },
  {
   "cell_type": "markdown",
   "id": "7be1cfe6-ee50-4897-971a-6da18b59547e",
   "metadata": {},
   "source": [
    "\n",
    "**Q16** Create a 1-D array of 50 element spaced evenly on a log scale between 3. and 10., exclusive."
   ]
  },
  {
   "cell_type": "code",
   "execution_count": 87,
   "id": "d79fd1ff-7066-4731-9729-d8d299484212",
   "metadata": {},
   "outputs": [
    {
     "data": {
      "text/plain": [
       "array([1.00000000e+03, 1.38038426e+03, 1.90546072e+03, 2.63026799e+03,\n",
       "       3.63078055e+03, 5.01187234e+03, 6.91830971e+03, 9.54992586e+03,\n",
       "       1.31825674e+04, 1.81970086e+04, 2.51188643e+04, 3.46736850e+04,\n",
       "       4.78630092e+04, 6.60693448e+04, 9.12010839e+04, 1.25892541e+05,\n",
       "       1.73780083e+05, 2.39883292e+05, 3.31131121e+05, 4.57088190e+05,\n",
       "       6.30957344e+05, 8.70963590e+05, 1.20226443e+06, 1.65958691e+06,\n",
       "       2.29086765e+06, 3.16227766e+06, 4.36515832e+06, 6.02559586e+06,\n",
       "       8.31763771e+06, 1.14815362e+07, 1.58489319e+07, 2.18776162e+07,\n",
       "       3.01995172e+07, 4.16869383e+07, 5.75439937e+07, 7.94328235e+07,\n",
       "       1.09647820e+08, 1.51356125e+08, 2.08929613e+08, 2.88403150e+08,\n",
       "       3.98107171e+08, 5.49540874e+08, 7.58577575e+08, 1.04712855e+09,\n",
       "       1.44543977e+09, 1.99526231e+09, 2.75422870e+09, 3.80189396e+09,\n",
       "       5.24807460e+09, 7.24435960e+09])"
      ]
     },
     "execution_count": 87,
     "metadata": {},
     "output_type": "execute_result"
    }
   ],
   "source": [
    "np.logspace(3.,10.,50,endpoint = False)"
   ]
  },
  {
   "cell_type": "code",
   "execution_count": 88,
   "id": "a3e962af-9888-4909-a1b5-84e60cb85835",
   "metadata": {},
   "outputs": [
    {
     "data": {
      "text/plain": [
       "array([1.00000000e+03, 1.38949549e+03, 1.93069773e+03, 2.68269580e+03,\n",
       "       3.72759372e+03, 5.17947468e+03, 7.19685673e+03, 1.00000000e+04,\n",
       "       1.38949549e+04, 1.93069773e+04, 2.68269580e+04, 3.72759372e+04,\n",
       "       5.17947468e+04, 7.19685673e+04, 1.00000000e+05, 1.38949549e+05,\n",
       "       1.93069773e+05, 2.68269580e+05, 3.72759372e+05, 5.17947468e+05,\n",
       "       7.19685673e+05, 1.00000000e+06, 1.38949549e+06, 1.93069773e+06,\n",
       "       2.68269580e+06, 3.72759372e+06, 5.17947468e+06, 7.19685673e+06,\n",
       "       1.00000000e+07, 1.38949549e+07, 1.93069773e+07, 2.68269580e+07,\n",
       "       3.72759372e+07, 5.17947468e+07, 7.19685673e+07, 1.00000000e+08,\n",
       "       1.38949549e+08, 1.93069773e+08, 2.68269580e+08, 3.72759372e+08,\n",
       "       5.17947468e+08, 7.19685673e+08, 1.00000000e+09, 1.38949549e+09,\n",
       "       1.93069773e+09, 2.68269580e+09, 3.72759372e+09, 5.17947468e+09,\n",
       "       7.19685673e+09, 1.00000000e+10])"
      ]
     },
     "execution_count": 88,
     "metadata": {},
     "output_type": "execute_result"
    }
   ],
   "source": [
    "np.logspace(3.,10.,50,endpoint = True)"
   ]
  },
  {
   "cell_type": "markdown",
   "id": "61fe9896-4110-4ef3-805d-9c6de1ab0918",
   "metadata": {},
   "source": [
    "# Building Matrices"
   ]
  },
  {
   "cell_type": "markdown",
   "id": "ef387d29-084b-489f-ae9b-709d33575ac1",
   "metadata": {},
   "source": [
    "**Q17** Let X = np.array([[ 0, 1, 2, 3], [ 4, 5, 6, 7], [ 8, 9, 10, 11]]). Get the diagonal of X, that is, [0, 5, 10]."
   ]
  },
  {
   "cell_type": "code",
   "execution_count": 90,
   "id": "604eee97-4e3f-4824-8cdc-a4b6d0b5c7e9",
   "metadata": {},
   "outputs": [
    {
     "data": {
      "text/plain": [
       "array([ 0,  5, 10])"
      ]
     },
     "execution_count": 90,
     "metadata": {},
     "output_type": "execute_result"
    }
   ],
   "source": [
    "x = np.array([[0,1,2,3],[4,5,6,7],[8,9,10,11]])\n",
    "np.diagonal(x)"
   ]
  },
  {
   "cell_type": "code",
   "execution_count": 91,
   "id": "85fde151-6f87-49d3-b517-93616ba11c5d",
   "metadata": {},
   "outputs": [
    {
     "data": {
      "text/plain": [
       "array([ 0,  5, 10])"
      ]
     },
     "execution_count": 91,
     "metadata": {},
     "output_type": "execute_result"
    }
   ],
   "source": [
    "x.diagonal()"
   ]
  },
  {
   "cell_type": "markdown",
   "id": "6c9f27ac-f9c6-4dfa-bcd1-ee945d3297f5",
   "metadata": {},
   "source": [
    "**Q18.** Create a 2-D array whose diagonal equals [1, 2, 3, 4] and 0's elsewhere."
   ]
  },
  {
   "cell_type": "code",
   "execution_count": 92,
   "id": "eea465b1-dc2c-4748-ab0b-0d34bb31cc01",
   "metadata": {},
   "outputs": [
    {
     "data": {
      "text/plain": [
       "array([[1, 0, 0, 0],\n",
       "       [0, 2, 0, 0],\n",
       "       [0, 0, 3, 0],\n",
       "       [0, 0, 0, 4]])"
      ]
     },
     "execution_count": 92,
     "metadata": {},
     "output_type": "execute_result"
    }
   ],
   "source": [
    "x = np.diagflat([1,2,3,4])\n",
    "x"
   ]
  },
  {
   "cell_type": "markdown",
   "id": "98a37a40-6151-4f31-b0e9-80dffada0d70",
   "metadata": {},
   "source": [
    "**Q19.** Create an array which looks like below. array([[ 0., 0., 0., 0., 0.], [ 1., 0., 0., 0., 0.], [ 1., 1., 0., 0., 0.]])"
   ]
  },
  {
   "cell_type": "code",
   "execution_count": 93,
   "id": "46910456-516b-4ca3-a1cb-87c4d1321aad",
   "metadata": {},
   "outputs": [
    {
     "data": {
      "text/plain": [
       "array([[0., 0., 0., 0., 0.],\n",
       "       [1., 0., 0., 0., 0.],\n",
       "       [1., 1., 0., 0., 0.]])"
      ]
     },
     "execution_count": 93,
     "metadata": {},
     "output_type": "execute_result"
    }
   ],
   "source": [
    "np.tri(3,5,-1)"
   ]
  },
  {
   "cell_type": "markdown",
   "id": "7551ed7c-6cb2-4bea-bbd8-c3d8516f685b",
   "metadata": {},
   "source": [
    "**Q20.** Create an array which looks like below. array([[ 0, 0, 0], [ 4, 0, 0], [ 7, 8, 0], [10, 11, 12]])"
   ]
  },
  {
   "cell_type": "code",
   "execution_count": 97,
   "id": "96535e43-ee28-4a71-a475-6206f14bfdb7",
   "metadata": {},
   "outputs": [
    {
     "data": {
      "text/plain": [
       "array([[ 0,  0,  0],\n",
       "       [ 4,  0,  0],\n",
       "       [ 7,  8,  0],\n",
       "       [10, 11, 12]])"
      ]
     },
     "execution_count": 97,
     "metadata": {},
     "output_type": "execute_result"
    }
   ],
   "source": [
    "# tril() --> Lower triangle of an array.\n",
    "np.tril(np.arange(1,13).reshape(4,3),-1)"
   ]
  },
  {
   "cell_type": "markdown",
   "id": "c0813676-8b01-4572-87b3-fcccd3149e98",
   "metadata": {},
   "source": [
    "**Q20.** Create an array which looks like below. array([[ 1, 2, 3], [ 4, 5, 6], [ 0, 8, 9], [ 0, 0, 12]])"
   ]
  },
  {
   "cell_type": "code",
   "execution_count": 101,
   "id": "c144a70a-e548-47de-acf5-008f934e88dc",
   "metadata": {},
   "outputs": [
    {
     "data": {
      "text/plain": [
       "array([[ 1,  2,  3],\n",
       "       [ 4,  5,  6],\n",
       "       [ 0,  8,  9],\n",
       "       [ 0,  0, 12]])"
      ]
     },
     "execution_count": 101,
     "metadata": {},
     "output_type": "execute_result"
    }
   ],
   "source": [
    "# trilu() --> upper triangle of an array.\n",
    "np.triu(np.arange(1,13).reshape(4,3),-1)"
   ]
  },
  {
   "cell_type": "code",
   "execution_count": null,
   "id": "86b53e28-c1a2-4089-b7f7-cbef41a67f36",
   "metadata": {},
   "outputs": [],
   "source": []
  }
 ],
 "metadata": {
  "kernelspec": {
   "display_name": "Python 3.12.10",
   "language": "python",
   "name": "python312"
  },
  "language_info": {
   "codemirror_mode": {
    "name": "ipython",
    "version": 3
   },
   "file_extension": ".py",
   "mimetype": "text/x-python",
   "name": "python",
   "nbconvert_exporter": "python",
   "pygments_lexer": "ipython3",
   "version": "3.12.10"
  }
 },
 "nbformat": 4,
 "nbformat_minor": 5
}

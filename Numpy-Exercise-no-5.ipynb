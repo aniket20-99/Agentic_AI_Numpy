{
 "cells": [
  {
   "cell_type": "code",
   "execution_count": 2,
   "id": "a8c03f0d-71db-422a-9055-2741c51d8ffb",
   "metadata": {},
   "outputs": [],
   "source": [
    "from __future__ import print_function\n",
    "import numpy as np"
   ]
  },
  {
   "cell_type": "code",
   "execution_count": 3,
   "id": "93ccce1c-e269-460e-b454-57a1bbe16e6f",
   "metadata": {},
   "outputs": [],
   "source": [
    "author = \"https://github.com/aniket20-99/Agentic_AI_Numpy\""
   ]
  },
  {
   "cell_type": "code",
   "execution_count": 4,
   "id": "0f2df120-cca1-404d-9f3e-09c7be7c1f66",
   "metadata": {},
   "outputs": [
    {
     "data": {
      "text/plain": [
       "'https://github.com/aniket20-99/Agentic_AI_Numpy'"
      ]
     },
     "execution_count": 4,
     "metadata": {},
     "output_type": "execute_result"
    }
   ],
   "source": [
    "author"
   ]
  },
  {
   "cell_type": "code",
   "execution_count": 5,
   "id": "17be41a8-eadc-4bce-a9cc-cdf1d9bd6fcd",
   "metadata": {},
   "outputs": [
    {
     "data": {
      "text/plain": [
       "'1.26.3'"
      ]
     },
     "execution_count": 5,
     "metadata": {},
     "output_type": "execute_result"
    }
   ],
   "source": [
    "np.__version__"
   ]
  },
  {
   "cell_type": "code",
   "execution_count": 8,
   "id": "6638559f-3b24-4c4f-a421-b01006896892",
   "metadata": {},
   "outputs": [
    {
     "name": "stdout",
     "output_type": "stream",
     "text": [
      "2025-05-13\n"
     ]
    }
   ],
   "source": [
    "from datetime import date\n",
    "print(date.today())"
   ]
  },
  {
   "cell_type": "markdown",
   "id": "7b567d89-06cb-40ba-b2c7-0ed1c908f3c2",
   "metadata": {},
   "source": [
    "# NumPy binary files (NPY, NPZ)"
   ]
  },
  {
   "cell_type": "markdown",
   "id": "10b319b4-c12b-4f29-9595-d566d92a5d31",
   "metadata": {},
   "source": [
    "### Q1. Save x into temp.npy and load it."
   ]
  },
  {
   "cell_type": "code",
   "execution_count": 12,
   "id": "fc00759f-6231-4668-ac25-63b851451608",
   "metadata": {},
   "outputs": [
    {
     "name": "stdout",
     "output_type": "stream",
     "text": [
      "True\n"
     ]
    }
   ],
   "source": [
    "x = np.arange(10)\n",
    "np.save('temp.npy',x)\n",
    "import os\n",
    "if os.path.exists('temp.npy'):\n",
    "    x2 = np.load('temp.npy')\n",
    "    print(np.array_equal(x,x2))\n",
    "   "
   ]
  },
  {
   "cell_type": "markdown",
   "id": "b26e7c76-1401-4d41-8e26-2ad465e613dc",
   "metadata": {},
   "source": [
    "### Q2. Save x and y into a single file 'temp.npz' and load it."
   ]
  },
  {
   "cell_type": "code",
   "execution_count": 15,
   "id": "7b566325-c22a-49d7-a578-ca907fff45d2",
   "metadata": {},
   "outputs": [
    {
     "name": "stdout",
     "output_type": "stream",
     "text": [
      "True\n",
      "True\n"
     ]
    }
   ],
   "source": [
    "x = np.arange(10)\n",
    "y = np.arange(11,20)\n",
    "np.savez('temp.npz',x = x, y = y) # If you want to save x and y into a single file in compressed .npz format.\n",
    "\n",
    "with np.load('temp.npz') as data:\n",
    "    x2 = data['x']\n",
    "    y2 = data['y']\n",
    "    print(np.array_equal(x,x2))\n",
    "    print(np.array_equal(y,y2))"
   ]
  },
  {
   "cell_type": "markdown",
   "id": "2ee90c5c-a2f6-42d1-9ae5-2ae4b8020492",
   "metadata": {},
   "source": [
    "# Text files"
   ]
  },
  {
   "cell_type": "markdown",
   "id": "e94486e1-cee0-470d-8ce9-63200f09c167",
   "metadata": {},
   "source": [
    "### Q3. Save x to 'temp.txt' in string format and load it."
   ]
  },
  {
   "cell_type": "code",
   "execution_count": 17,
   "id": "0fb8a36f-29e4-47b6-971e-5987b5080cd7",
   "metadata": {},
   "outputs": [
    {
     "data": {
      "text/plain": [
       "array([[0., 1., 2., 3., 4.],\n",
       "       [5., 6., 7., 8., 9.]])"
      ]
     },
     "execution_count": 17,
     "metadata": {},
     "output_type": "execute_result"
    }
   ],
   "source": [
    "x = np.arange(10).reshape(2,5)\n",
    "header = 'num1 num2 num3 nnum4 num5'\n",
    "np.savetxt('temp.txt',x,fmt = '%d',header = header)\n",
    "np.loadtxt('temp.txt')"
   ]
  },
  {
   "cell_type": "markdown",
   "id": "ade75f8d-ca4f-44d3-a04b-5d02083a35a5",
   "metadata": {},
   "source": [
    "### Q4. Save x, y, and z to 'temp.txt' in string format line by line, then load it."
   ]
  },
  {
   "cell_type": "code",
   "execution_count": 20,
   "id": "39eb8661-8261-4139-b54c-c1e271cadc9d",
   "metadata": {},
   "outputs": [
    {
     "data": {
      "text/plain": [
       "array([[ 0.,  1.,  2.,  3.,  4.,  5.,  6.,  7.,  8.,  9.],\n",
       "       [11., 12., 13., 14., 15., 16., 17., 18., 19., 20.],\n",
       "       [22., 23., 24., 25., 26., 27., 28., 29., 30., 31.]])"
      ]
     },
     "execution_count": 20,
     "metadata": {},
     "output_type": "execute_result"
    }
   ],
   "source": [
    "x = np.arange(10)\n",
    "y = np.arange(11,21)\n",
    "z = np.arange(22,32)\n",
    "np.savetxt('temp.txt',(x,y,z),fmt = '%d')\n",
    "np.loadtxt('temp.txt')"
   ]
  },
  {
   "cell_type": "markdown",
   "id": "9b1ef15b-704f-46a9-8b70-1ad7a0c901fe",
   "metadata": {},
   "source": [
    "### Q5. Convert x into bytes, and load it as array."
   ]
  },
  {
   "cell_type": "code",
   "execution_count": 23,
   "id": "1094e804-5e48-4722-98b6-cef73deafdc3",
   "metadata": {},
   "outputs": [
    {
     "name": "stdout",
     "output_type": "stream",
     "text": [
      "True\n"
     ]
    },
    {
     "name": "stderr",
     "output_type": "stream",
     "text": [
      "C:\\Users\\suraj\\AppData\\Local\\Temp\\ipykernel_5796\\1099780484.py:2: DeprecationWarning: tostring() is deprecated. Use tobytes() instead.\n",
      "  x_bytes = x.tostring()\n",
      "C:\\Users\\suraj\\AppData\\Local\\Temp\\ipykernel_5796\\1099780484.py:3: DeprecationWarning: The binary mode of fromstring is deprecated, as it behaves surprisingly on unicode inputs. Use frombuffer instead\n",
      "  x2 = np.fromstring(x_bytes,dtype = x.dtype)\n"
     ]
    }
   ],
   "source": [
    "x = np.array([1,2,3,4,5])\n",
    "x_bytes = x.tostring()\n",
    "x2 = np.fromstring(x_bytes,dtype = x.dtype)\n",
    "print(np.array_equal(x,x2))"
   ]
  },
  {
   "cell_type": "markdown",
   "id": "758515f7-9a2c-46b8-ba18-1af57591a598",
   "metadata": {},
   "source": [
    "### Q6. Convert a into an ndarray and then convert it into a list again."
   ]
  },
  {
   "cell_type": "code",
   "execution_count": 25,
   "id": "4101c91f-a0dd-4fdb-9634-e21130d080d4",
   "metadata": {},
   "outputs": [
    {
     "name": "stdout",
     "output_type": "stream",
     "text": [
      "[[1, 2], [3, 4]]\n",
      "[[1 2]\n",
      " [3 4]]\n",
      "[[1, 2], [3, 4]]\n",
      "True\n"
     ]
    }
   ],
   "source": [
    "a = [[1,2],[3,4]]\n",
    "x = np.array(a)\n",
    "a2 = x.tolist()\n",
    "print(a)\n",
    "print(x)\n",
    "print(a2)\n",
    "print(a == a2)"
   ]
  },
  {
   "cell_type": "markdown",
   "id": "d24f2ad0-240f-4e40-954e-a8ac642697bf",
   "metadata": {},
   "source": [
    "# String formatting"
   ]
  },
  {
   "cell_type": "markdown",
   "id": "918e6772-1d8c-4bb4-a41a-754e0cb24a74",
   "metadata": {},
   "source": [
    "### Q7. Convert x to a string, and revert it."
   ]
  },
  {
   "cell_type": "code",
   "execution_count": 28,
   "id": "9a6de32c-23eb-401c-a5ca-e904e1256c23",
   "metadata": {},
   "outputs": [
    {
     "name": "stdout",
     "output_type": "stream",
     "text": [
      "[[0 1 2 3 4]\n",
      " [5 6 7 8 9]] \n",
      " <class 'str'>\n"
     ]
    }
   ],
   "source": [
    "x = np.arange(10).reshape(2,5)\n",
    "x_str = np.array_str(x)\n",
    "print(x_str, \"\\n\",type(x_str))\n",
    "x_str = x_str.replace(\"[\",\"\")\n",
    "x_str = x_str.replace(\"]\",\"\")\n",
    "x2 = np.fromstring(x_str,dtype = x.dtype,sep=\" \").reshape(x.shape)\n",
    "assert np.array_equal(x,x2)"
   ]
  },
  {
   "cell_type": "markdown",
   "id": "5f4348b5-9a13-40a1-bbb6-2e3443913ef4",
   "metadata": {},
   "source": [
    "# Text formatting options"
   ]
  },
  {
   "cell_type": "markdown",
   "id": "6b5b3575-9687-4a4e-b732-70f5d2308071",
   "metadata": {},
   "source": [
    "### Q8. Print x such that all elements are displayed with precision=1, no suppress."
   ]
  },
  {
   "cell_type": "code",
   "execution_count": 34,
   "id": "73cd8829-677a-4b2f-8358-99cd443ebf99",
   "metadata": {},
   "outputs": [
    {
     "name": "stdout",
     "output_type": "stream",
     "text": [
      "[[0.8 0.5 0.9 0.4 0.8 0.1 0.3 0.3 0.6 0.2 0.6 0.4 0.6 0.4 0.5 0.7 0.5 1.\n",
      "  0.2 0.9 0.2 0.4 0.4 0.8 0.9 0.5 0.4 1.  0.  0.3 0.5 1.  0.7 0.2 0.5 0.\n",
      "  0.8 0.7 0.8 1.  0.9 0.7 0.1 0.7 0.8 0.2 0.9 0.9 0.8 0.2 0.7 0.9 0.5 0.7\n",
      "  1.  0.8 0.1 0.3 0.3 0.1 0.8 0.2 0.2 0.9 0.1 0.6 0.6 0.2 0.6 1.  0.8 0.4\n",
      "  0.2 0.7 0.6 0.4 0.2 0.5 0.7 0.6 0.6 0.6 0.5 0.  0.9 0.7 0.9 0.2 0.5 0.5\n",
      "  0.1 0.5 0.5 1.  0.2 0.9 0.9 0.1 0.1 0.3]\n",
      " [1.  1.  0.5 0.1 0.3 0.8 0.4 0.8 0.8 0.4 0.4 0.8 0.5 0.5 0.4 0.1 0.9 0.3\n",
      "  0.8 0.7 0.9 0.7 1.  0.7 0.1 0.4 0.1 0.9 0.6 0.3 0.4 0.3 0.5 0.5 0.9 0.1\n",
      "  0.7 0.1 0.1 0.8 0.3 0.4 0.6 0.7 1.  0.7 0.7 0.1 0.8 0.9 0.5 0.9 0.5 0.7\n",
      "  0.3 0.9 0.9 0.2 0.9 0.5 0.7 0.7 0.6 0.5 0.3 0.2 0.  0.1 0.6 0.2 0.4 0.6\n",
      "  0.3 0.4 0.7 0.5 0.5 0.6 0.4 0.7 0.9 0.2 0.7 0.  0.7 0.7 0.6 0.5 0.6 1.\n",
      "  0.7 1.  0.1 0.1 0.2 0.9 0.3 0.1 0.4 0.5]\n",
      " [0.4 0.2 0.7 0.3 0.1 0.3 0.2 0.5 0.7 0.5 0.4 0.8 0.5 0.5 0.3 0.2 0.9 1.\n",
      "  0.4 0.4 0.1 0.9 0.6 0.8 0.4 0.1 0.8 0.9 0.6 0.9 0.3 0.6 0.9 0.1 0.3 0.5\n",
      "  0.8 0.3 0.  0.  0.1 0.5 0.6 0.1 0.6 0.6 0.4 0.1 0.2 0.8 0.2 0.5 0.2 0.8\n",
      "  0.1 0.1 0.4 1.  0.3 0.3 0.3 0.3 0.3 0.3 0.8 0.3 0.7 0.9 0.9 0.7 0.2 0.9\n",
      "  0.2 0.9 1.  0.3 0.6 0.9 0.9 1.  0.2 0.3 0.3 0.1 0.2 0.4 0.9 0.8 0.4 0.1\n",
      "  0.1 0.8 0.7 0.2 0.2 0.2 0.8 0.2 0.8 0.1]\n",
      " [0.3 0.  0.1 0.3 0.9 0.3 0.7 1.  0.9 0.1 0.9 0.8 0.9 0.2 0.6 0.6 0.2 0.6\n",
      "  0.7 0.6 0.6 0.9 1.  1.  0.9 0.4 0.1 0.7 0.7 0.8 0.7 0.9 0.1 0.  0.4 0.7\n",
      "  0.1 0.2 0.4 0.  0.3 1.  0.7 0.9 0.6 0.8 0.6 0.4 0.9 0.6 0.4 0.  0.4 0.5\n",
      "  0.7 0.3 0.2 0.4 0.3 0.6 0.4 0.9 0.7 0.7 0.2 0.  0.3 0.1 0.8 0.8 0.3 0.6\n",
      "  1.  0.1 0.3 0.2 0.1 0.6 0.7 0.5 0.3 0.2 0.6 0.5 0.  0.8 0.7 0.5 0.6 0.1\n",
      "  0.9 0.1 0.6 0.6 0.5 0.2 0.7 0.9 0.7 0.2]\n",
      " [0.3 0.9 0.9 0.3 0.8 0.1 0.2 0.7 0.4 0.2 0.8 0.2 0.6 0.4 1.  0.8 0.5 0.6\n",
      "  0.1 0.1 0.  0.2 0.6 0.7 0.8 0.7 0.5 0.2 0.4 0.9 0.8 0.5 0.8 0.1 0.6 0.1\n",
      "  0.4 0.7 0.3 0.7 0.9 0.3 0.5 0.7 0.5 0.3 0.6 0.  0.1 0.8 0.5 0.2 0.5 0.4\n",
      "  0.4 0.4 1.  0.9 0.2 0.5 0.8 0.3 0.5 0.1 0.9 0.9 0.  0.2 0.7 0.8 0.3 0.3\n",
      "  0.6 0.6 0.3 0.3 0.7 0.4 1.  0.7 0.2 1.  1.  0.7 0.4 0.4 0.8 0.7 0.8 0.\n",
      "  0.1 0.1 0.8 0.1 0.6 1.  0.1 1.  0.7 0.8]\n",
      " [0.7 0.1 0.9 0.8 0.7 0.1 1.  0.5 0.9 0.5 0.7 0.2 0.5 1.  0.4 0.8 0.5 0.9\n",
      "  1.  0.  0.4 0.  0.9 0.5 0.1 0.  0.7 0.9 0.9 0.3 0.2 0.5 0.2 0.4 0.6 0.2\n",
      "  0.8 0.3 0.6 0.4 0.7 0.5 0.9 0.4 0.4 0.6 0.5 0.1 0.9 0.6 0.2 0.4 0.2 0.2\n",
      "  1.  0.9 0.  1.  0.4 0.4 0.4 0.1 0.5 0.3 0.3 0.2 0.1 0.9 0.2 0.1 0.  0.1\n",
      "  0.8 0.5 0.3 0.4 0.8 0.7 0.8 0.4 0.7 0.9 0.8 1.  0.1 0.1 0.2 0.9 0.8 0.4\n",
      "  0.4 0.7 0.4 0.5 0.1 0.7 0.3 0.4 0.  0.5]\n",
      " [0.9 0.2 0.3 0.5 0.  0.5 0.8 0.7 0.2 0.3 0.  0.8 0.4 0.6 0.9 1.  0.5 0.7\n",
      "  0.1 0.  0.1 1.  0.  0.5 0.2 0.6 0.2 0.  0.4 0.1 0.4 0.4 0.  0.5 0.3 0.1\n",
      "  0.7 0.8 0.6 0.6 0.  0.7 0.3 0.  0.3 0.1 0.2 1.  0.1 0.6 0.8 0.7 0.8 0.5\n",
      "  0.1 0.2 0.9 0.4 0.6 0.6 0.8 0.2 0.  0.6 0.7 0.1 0.2 0.8 0.6 0.1 0.3 0.3\n",
      "  0.8 0.5 0.  0.7 0.9 0.6 0.5 0.8 0.7 0.6 0.6 0.2 0.6 0.1 0.9 0.3 0.5 0.7\n",
      "  0.6 0.4 0.3 0.1 1.  0.6 1.  0.6 0.6 0.4]\n",
      " [0.5 0.6 0.5 0.5 0.5 0.9 0.8 1.  0.1 0.6 0.9 0.9 0.8 0.5 0.7 0.8 0.3 0.\n",
      "  0.1 0.8 0.5 0.5 0.9 0.3 0.4 0.2 0.9 0.9 0.6 0.2 0.2 0.6 0.3 0.5 1.  0.3\n",
      "  0.6 0.7 0.1 0.4 0.5 0.4 0.1 0.2 0.2 0.1 1.  0.9 0.9 0.7 0.6 0.3 0.3 0.7\n",
      "  0.2 0.7 0.1 0.5 0.1 0.3 0.4 0.6 0.8 0.2 0.7 0.1 0.7 0.1 0.7 0.9 0.1 0.1\n",
      "  0.9 0.1 0.9 0.2 0.5 0.8 0.5 1.  0.9 0.2 1.  0.6 0.3 0.5 0.1 0.4 0.6 0.9\n",
      "  0.6 0.6 0.4 0.2 0.2 0.5 0.9 0.7 0.7 0.5]\n",
      " [0.2 0.5 0.3 0.9 0.1 0.3 0.2 0.5 0.7 0.8 0.8 0.  0.4 0.4 0.1 0.  0.  0.7\n",
      "  0.3 0.3 1.  0.6 0.8 0.  0.9 0.4 1.  1.  1.  1.  0.9 0.1 0.9 0.1 0.9 0.6\n",
      "  0.4 0.2 0.2 0.8 0.2 0.3 0.8 1.  0.6 0.7 0.  0.  0.4 0.6 0.6 0.  0.4 0.8\n",
      "  0.1 0.  0.4 0.6 0.2 0.2 0.6 0.5 0.1 0.2 0.6 0.9 0.6 0.9 0.9 0.1 0.5 0.7\n",
      "  0.2 0.  0.1 0.4 0.7 0.4 0.9 0.1 0.5 1.  0.  0.6 0.8 1.  0.6 0.6 0.5 0.6\n",
      "  0.5 0.1 0.8 0.1 0.5 1.  0.7 0.7 0.6 0.4]\n",
      " [0.5 0.  0.9 0.1 0.  0.4 0.8 0.1 0.9 0.8 1.  0.6 1.  0.7 0.5 0.3 0.4 0.5\n",
      "  0.5 1.  0.1 0.9 0.9 1.  0.5 0.7 0.3 0.1 0.6 0.9 0.3 0.9 0.  0.3 1.  0.2\n",
      "  0.2 0.  0.5 0.1 0.7 0.9 0.6 0.5 0.4 0.9 0.4 0.2 0.1 0.6 0.5 0.5 0.9 0.1\n",
      "  0.1 0.9 0.9 0.6 0.7 0.5 0.  0.1 0.4 0.3 0.5 1.  0.9 0.7 0.7 0.7 0.2 0.5\n",
      "  0.4 0.7 0.8 0.4 0.3 0.9 0.8 0.7 0.7 0.  0.  0.  0.4 0.6 0.1 0.8 0.8 0.8\n",
      "  0.4 0.4 0.8 0.4 0.6 0.2 0.8 0.3 1.  0.7]]\n"
     ]
    }
   ],
   "source": [
    "import sys\n",
    "x = np.random.uniform(size=[10,100])\n",
    "np.set_printoptions(precision=1, threshold=sys.maxsize, suppress=True)\n",
    "\n",
    "print(x)"
   ]
  },
  {
   "cell_type": "markdown",
   "id": "de0c33c4-620a-467d-97ae-a5a5428aab5f",
   "metadata": {},
   "source": [
    "# Base-n representations"
   ]
  },
  {
   "cell_type": "markdown",
   "id": "42ac866e-9494-4c2a-8a25-2ab18e50b2c4",
   "metadata": {},
   "source": [
    "### Q9. Convert 12 into a binary number in string format."
   ]
  },
  {
   "cell_type": "code",
   "execution_count": 36,
   "id": "7edac593-46d3-43f7-8941-bbe72a18e1b9",
   "metadata": {},
   "outputs": [
    {
     "name": "stdout",
     "output_type": "stream",
     "text": [
      "1100\n"
     ]
    }
   ],
   "source": [
    "x1 = np.binary_repr(12)\n",
    "x2 = np.base_repr(12,base = 2)\n",
    "\n",
    "assert  x1 == x2 \n",
    "print(x1)"
   ]
  },
  {
   "cell_type": "code",
   "execution_count": 37,
   "id": "4aaea5ae-46e7-4408-843e-e2a28c9cbe20",
   "metadata": {},
   "outputs": [
    {
     "data": {
      "text/plain": [
       "'44C'"
      ]
     },
     "execution_count": 37,
     "metadata": {},
     "output_type": "execute_result"
    }
   ],
   "source": [
    "### Q10. Convert 12 into a hexadecimal number in string format.\n",
    "np.base_repr(1100,base = 16)"
   ]
  },
  {
   "cell_type": "code",
   "execution_count": null,
   "id": "eaefd522-d2fe-4b69-9113-cf014ad1167c",
   "metadata": {},
   "outputs": [],
   "source": []
  }
 ],
 "metadata": {
  "kernelspec": {
   "display_name": "Python 3 (ipykernel)",
   "language": "python",
   "name": "python3"
  },
  "language_info": {
   "codemirror_mode": {
    "name": "ipython",
    "version": 3
   },
   "file_extension": ".py",
   "mimetype": "text/x-python",
   "name": "python",
   "nbconvert_exporter": "python",
   "pygments_lexer": "ipython3",
   "version": "3.11.5"
  }
 },
 "nbformat": 4,
 "nbformat_minor": 5
}

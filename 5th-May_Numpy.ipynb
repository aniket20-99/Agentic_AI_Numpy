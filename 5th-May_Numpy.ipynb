{
 "cells": [
  {
   "cell_type": "markdown",
   "id": "c732cd12-7b90-4101-8744-e31467316b42",
   "metadata": {},
   "source": [
    "# Complete NUMPY DOCUMENTATION\n",
    "\r\n"
   ]
  },
  {
   "cell_type": "markdown",
   "id": "e3238fa4-dc7f-48ed-bd75-f32a0903d741",
   "metadata": {},
   "source": [
    "# 1. Array Creation Functions"
   ]
  },
  {
   "cell_type": "code",
   "execution_count": 1,
   "id": "675aeb74-e436-42fd-abc6-dcf9f616d7ef",
   "metadata": {},
   "outputs": [],
   "source": [
    "import numpy as np"
   ]
  },
  {
   "cell_type": "code",
   "execution_count": 4,
   "id": "ca20f57e-08d7-40cf-b835-1debb577381a",
   "metadata": {},
   "outputs": [
    {
     "name": "stdout",
     "output_type": "stream",
     "text": [
      "Array a: [1 2 3 4 5]\n",
      "<class 'numpy.ndarray'>\n"
     ]
    }
   ],
   "source": [
    "# Create an array from a list\n",
    "a = np.array([1,2,3,4,5])\n",
    "print(\"Array a:\",a)\n",
    "print(type(a))"
   ]
  },
  {
   "cell_type": "code",
   "execution_count": 5,
   "id": "89b3e637-b037-4f1f-bd40-f869d235cde6",
   "metadata": {},
   "outputs": [
    {
     "name": "stdout",
     "output_type": "stream",
     "text": [
      "Array b: [0 2 4 6 8]\n"
     ]
    }
   ],
   "source": [
    "# Create an array with evenly spaced values\n",
    "b = np.arange(0,10,2) # values from 0 to 10 with step 2\n",
    "print(\"Array b:\",b)"
   ]
  },
  {
   "cell_type": "code",
   "execution_count": 6,
   "id": "9a444e78-a486-48be-a33e-08b6d3e0ebc8",
   "metadata": {},
   "outputs": [
    {
     "name": "stdout",
     "output_type": "stream",
     "text": [
      "Array c: [0.   0.25 0.5  0.75 1.  ]\n"
     ]
    }
   ],
   "source": [
    "# Create an array with linearly spaced values\n",
    "c = np.linspace(0,1,5) # 5 values evenly spaced between 0 and 1\n",
    "print(\"Array c:\",c)"
   ]
  },
  {
   "cell_type": "code",
   "execution_count": 10,
   "id": "ef2ffc2a-0bb3-4f84-84de-e939c6f2d1fe",
   "metadata": {},
   "outputs": [
    {
     "name": "stdout",
     "output_type": "stream",
     "text": [
      "Array c: [1.         1.11111111 1.22222222 1.33333333 1.44444444 1.55555556\n",
      " 1.66666667 1.77777778 1.88888889 2.        ]\n"
     ]
    }
   ],
   "source": [
    "c1 = np.linspace(1,2,10) # 10 values evenly spaced between 1 and 2\n",
    "print(\"Array c:\",c1)"
   ]
  },
  {
   "cell_type": "code",
   "execution_count": 13,
   "id": "1269afa1-b198-40c5-849b-21bd278eecdb",
   "metadata": {},
   "outputs": [
    {
     "name": "stdout",
     "output_type": "stream",
     "text": [
      "Array d: [[0. 0. 0. 0. 0.]\n",
      " [0. 0. 0. 0. 0.]\n",
      " [0. 0. 0. 0. 0.]\n",
      " [0. 0. 0. 0. 0.]]\n"
     ]
    }
   ],
   "source": [
    "# Create an array filled with zeros\n",
    "d = np.zeros((4,5)) # 4 x 5 arrays of zeros\n",
    "print(\"Array d:\",d)"
   ]
  },
  {
   "cell_type": "code",
   "execution_count": 16,
   "id": "3ae0f637-e660-4f6b-92d0-8c94406a9278",
   "metadata": {},
   "outputs": [
    {
     "name": "stdout",
     "output_type": "stream",
     "text": [
      "Array ones:\n",
      " [[1 1 1 1 1 1]\n",
      " [1 1 1 1 1 1]\n",
      " [1 1 1 1 1 1]\n",
      " [1 1 1 1 1 1]]\n"
     ]
    }
   ],
   "source": [
    "# Create an array filled with ones\n",
    "Ones = np.ones((4,6),dtype = int)\n",
    "print(\"Array ones:\\n\",Ones)"
   ]
  },
  {
   "cell_type": "code",
   "execution_count": 19,
   "id": "71276248-44af-4e8e-92ff-d643bde629d3",
   "metadata": {},
   "outputs": [
    {
     "name": "stdout",
     "output_type": "stream",
     "text": [
      "Identity Matrix I :\n",
      " [[1 0 0 0 0]\n",
      " [0 1 0 0 0]\n",
      " [0 0 1 0 0]\n",
      " [0 0 0 1 0]\n",
      " [0 0 0 0 1]]\n"
     ]
    }
   ],
   "source": [
    "# Create an Identity matrix\n",
    "I = np.eye(5,dtype = int) # 5 X 5 identity matrix(Diagonal element should be 1)\n",
    "print(\"Identity Matrix I:\\n\",I)"
   ]
  },
  {
   "cell_type": "markdown",
   "id": "5a02a475-fa99-4614-9116-a88d792e5e79",
   "metadata": {},
   "source": [
    "# 2. Array Manipulation Functions"
   ]
  },
  {
   "cell_type": "code",
   "execution_count": 22,
   "id": "855bf55d-b799-4e47-b2df-cc988e112180",
   "metadata": {},
   "outputs": [
    {
     "name": "stdout",
     "output_type": "stream",
     "text": [
      "Reshaped Array:\n",
      " [[1 2 3]\n",
      " [4 5 6]]\n"
     ]
    }
   ],
   "source": [
    "# Reshaping an Array\n",
    "arr = np.array([1,2,3,4,5,6])\n",
    "reshaped = np.reshape(arr,(2,3))\n",
    "print(\"Reshaped Array:\\n\",reshaped)"
   ]
  },
  {
   "cell_type": "code",
   "execution_count": 28,
   "id": "39b552e9-8076-4815-8a39-9d84f3ab715f",
   "metadata": {},
   "outputs": [
    {
     "name": "stdout",
     "output_type": "stream",
     "text": [
      "Flattend array: \n",
      " [1 2 3 4 5 6 7 8]\n"
     ]
    }
   ],
   "source": [
    "# Flatten an array\n",
    "f1 = np.array([[1,2,3,4],[5,6,7,8]])\n",
    "flattened = np.ravel(f1)\n",
    "print(\"Flattend array: \\n\",flattened)"
   ]
  },
  {
   "cell_type": "code",
   "execution_count": 31,
   "id": "c51f66aa-684c-4b4d-b89b-880afb755c46",
   "metadata": {},
   "outputs": [
    {
     "name": "stdout",
     "output_type": "stream",
     "text": [
      "Array T:\n",
      " [[1 2]\n",
      " [3 4]\n",
      " [5 6]]\n",
      "Transposed Array:\n",
      " [[1 3 5]\n",
      " [2 4 6]]\n"
     ]
    }
   ],
   "source": [
    "# Transpose an array\n",
    "T = np.array([[1,2],[3,4],[5,6]])\n",
    "transposed = np.transpose(T)\n",
    "print(\"Array T:\\n\",T)\n",
    "print(\"Transposed Array:\\n\",transposed)"
   ]
  },
  {
   "cell_type": "code",
   "execution_count": 32,
   "id": "38cf9133-1e65-4267-a1d8-c75575589d52",
   "metadata": {},
   "outputs": [
    {
     "name": "stdout",
     "output_type": "stream",
     "text": [
      "Vertical stacked:\n",
      " [[1 2]\n",
      " [3 4]]\n"
     ]
    }
   ],
   "source": [
    "# Stack array vertically\n",
    "a2 = np.array([1,2])\n",
    "b2 = np.array([3,4])\n",
    "stacked = np.vstack([a2,b2])\n",
    "print(\"Vertical stacked:\\n\",stacked)"
   ]
  },
  {
   "cell_type": "code",
   "execution_count": 35,
   "id": "63043906-c3d3-44c8-b993-0c6e527efdaf",
   "metadata": {},
   "outputs": [
    {
     "name": "stdout",
     "output_type": "stream",
     "text": [
      "Horizontal stacked:\n",
      " [1 2 3 4 5 6 7 8]\n"
     ]
    }
   ],
   "source": [
    "a3 = np.array([1,2,3,4])\n",
    "b3 = np.array([5,6,7,8])\n",
    "stacked = np.hstack([a3,b3])\n",
    "print(\"Horizontal stacked:\\n\",stacked)"
   ]
  },
  {
   "cell_type": "markdown",
   "id": "642a20a5-a970-40e4-a2e8-6755b7f5ddf2",
   "metadata": {},
   "source": [
    "# 3.Mathematical Functions"
   ]
  },
  {
   "cell_type": "code",
   "execution_count": 36,
   "id": "cb756c6e-4b8d-462e-b54d-f1981a2a409e",
   "metadata": {},
   "outputs": [
    {
     "name": "stdout",
     "output_type": "stream",
     "text": [
      "[ 6  8 10 12 14]\n"
     ]
    }
   ],
   "source": [
    "# Add two arrays\n",
    "arr1 = np.array([1,2,3,4,5])\n",
    "arr2 = np.array([5,6,7,8,9])\n",
    "\n",
    "add = np.add(arr1,arr2)\n",
    "print(add)"
   ]
  },
  {
   "cell_type": "code",
   "execution_count": 37,
   "id": "7da2ce1e-b193-42ca-841b-9f960c7c518a",
   "metadata": {},
   "outputs": [
    {
     "name": "stdout",
     "output_type": "stream",
     "text": [
      "Added 5 to arr3: [15 25 35 45]\n"
     ]
    }
   ],
   "source": [
    "arr3 = np.array([10,20,30,40])\n",
    "added = np.add(arr3,5)\n",
    "print(\"Added 5 to arr3:\",added)"
   ]
  },
  {
   "cell_type": "code",
   "execution_count": 38,
   "id": "5396484e-763f-429a-87dd-2a241128ade6",
   "metadata": {},
   "outputs": [
    {
     "name": "stdout",
     "output_type": "stream",
     "text": [
      "Sqaured arr3:\n",
      " [ 100  400  900 1600]\n"
     ]
    }
   ],
   "source": [
    "# Square of each element\n",
    "arr3 = np.array([10,20,30,40])\n",
    "sqr = np.power(arr3,2)\n",
    "print(\"Sqaured arr3:\\n\",sqr)"
   ]
  },
  {
   "cell_type": "code",
   "execution_count": 39,
   "id": "22869239-4d13-4105-8021-34588e50ac5c",
   "metadata": {},
   "outputs": [
    {
     "name": "stdout",
     "output_type": "stream",
     "text": [
      "Square root: [3.16227766 4.47213595 5.47722558 6.32455532]\n"
     ]
    }
   ],
   "source": [
    "# Squqre root of each element\n",
    "arr3 = np.array([10,20,30,40])\n",
    "squared_root = np.sqrt(arr3)\n",
    "print(\"Square root:\",squared_root)"
   ]
  },
  {
   "cell_type": "code",
   "execution_count": 43,
   "id": "f36c9f61-6449-4afa-8a05-5ae88da8ed02",
   "metadata": {},
   "outputs": [
    {
     "name": "stdout",
     "output_type": "stream",
     "text": [
      "Dot product of [10 20 30 40] and [2 3 4 5] is:400\n"
     ]
    }
   ],
   "source": [
    "# Dot product of two arrays\n",
    "arr4 = np.array([2,3,4,5])\n",
    "dot_product = np.dot(arr3,arr4)\n",
    "print(f\"Dot product of {arr3} and {arr4} is:{dot_product}\")"
   ]
  },
  {
   "cell_type": "markdown",
   "id": "39d13078-8a08-4669-9e4a-d64c3d1972d8",
   "metadata": {},
   "source": [
    "# 4. Statistical Functions"
   ]
  },
  {
   "cell_type": "code",
   "execution_count": 46,
   "id": "9a166fe6-a961-4ba5-b042-277ebfc4e925",
   "metadata": {},
   "outputs": [
    {
     "name": "stdout",
     "output_type": "stream",
     "text": [
      "Mean of array s is: 2.5\n"
     ]
    }
   ],
   "source": [
    "s = np.array([1,2,3,4])\n",
    "Mean = np.mean(s)\n",
    "print(\"Mean of array s is:\",Mean)"
   ]
  },
  {
   "cell_type": "code",
   "execution_count": 47,
   "id": "0b54d344-cfe9-4115-8f09-d545c3f3eb09",
   "metadata": {},
   "outputs": [
    {
     "name": "stdout",
     "output_type": "stream",
     "text": [
      "Standard deviation of s: 1.118033988749895\n"
     ]
    }
   ],
   "source": [
    "# Standard Deviation of an array\n",
    "std_dev = np.std(s)\n",
    "print(\"Standard deviation of s:\",std_dev)"
   ]
  },
  {
   "cell_type": "code",
   "execution_count": 49,
   "id": "33dbe3f0-5e2c-461b-8e9e-d4298c79b143",
   "metadata": {},
   "outputs": [
    {
     "name": "stdout",
     "output_type": "stream",
     "text": [
      "Minimum element of array [10 20 30 40] is:10\n"
     ]
    }
   ],
   "source": [
    "# Minimum element of an array\n",
    "min_element = np.min(arr3)\n",
    "print(f\"Minimum element of array {arr3} is:{min_element}\")"
   ]
  },
  {
   "cell_type": "markdown",
   "id": "fd925528-2f28-4326-ac57-a24cca2c68d7",
   "metadata": {},
   "source": [
    "# 5.Linear Algebra Functions"
   ]
  },
  {
   "cell_type": "code",
   "execution_count": 59,
   "id": "0583cfee-def9-4b71-986f-395ebc71b8b4",
   "metadata": {},
   "outputs": [],
   "source": [
    "# Creating a matrix\n",
    "mat = np.array([[2,5],[4,6]])"
   ]
  },
  {
   "cell_type": "code",
   "execution_count": 60,
   "id": "3e73ca94-16af-46c1-9dda-d1fce990871c",
   "metadata": {},
   "outputs": [
    {
     "name": "stdout",
     "output_type": "stream",
     "text": [
      "Determinant of a matrix is -7.999999999999998\n"
     ]
    }
   ],
   "source": [
    "# Determinant of a matrix\n",
    "determinant = np.linalg.det(mat)\n",
    "print(\"Determinant of a matrix is\",determinant)\n"
   ]
  },
  {
   "cell_type": "code",
   "execution_count": 62,
   "id": "40b92d11-8310-4d2f-86b4-1260eccec30a",
   "metadata": {},
   "outputs": [
    {
     "name": "stdout",
     "output_type": "stream",
     "text": [
      "Inverse of matrix:\n",
      " [[-0.75   0.625]\n",
      " [ 0.5   -0.25 ]]\n"
     ]
    }
   ],
   "source": [
    "# Inverse of a matrix\n",
    "inverse = np.linalg.inv(mat)\n",
    "print(\"Inverse of matrix:\\n\",inverse)"
   ]
  },
  {
   "cell_type": "markdown",
   "id": "7240508b-e889-4cd4-9330-4beaa49af076",
   "metadata": {},
   "source": [
    "# 6.Random Sampling Functions"
   ]
  },
  {
   "cell_type": "code",
   "execution_count": 64,
   "id": "c31d6462-f54f-4e24-aca1-311f766e51c5",
   "metadata": {},
   "outputs": [
    {
     "name": "stdout",
     "output_type": "stream",
     "text": [
      "Random values: [0.81889012 0.15028734 0.55931903]\n"
     ]
    }
   ],
   "source": [
    "# Genereate random values between 0 and 1\n",
    "random_val = np.random.rand(3)\n",
    "print(\"Random values:\",random_val)"
   ]
  },
  {
   "cell_type": "code",
   "execution_count": 75,
   "id": "3c7141a2-186f-4e4e-8088-59cb99d854af",
   "metadata": {},
   "outputs": [
    {
     "name": "stdout",
     "output_type": "stream",
     "text": [
      "Random values: [0.5488135  0.71518937 0.60276338 0.54488318 0.4236548 ]\n"
     ]
    }
   ],
   "source": [
    "# Set seed reproducibilty\n",
    "np.random.seed(0)\n",
    "# Generate random values between 0 and 1\n",
    "rand_val = np.random.rand(5)\n",
    "print(\"Random values:\",rand_val)"
   ]
  },
  {
   "cell_type": "code",
   "execution_count": 89,
   "id": "0979806b-ef24-429d-9faa-387bd3ccbb95",
   "metadata": {},
   "outputs": [
    {
     "name": "stdout",
     "output_type": "stream",
     "text": [
      "Random integers: [5 9 8 9 4 3 0 3 5 0]\n"
     ]
    }
   ],
   "source": [
    "# Generate random integers\n",
    "rand_ints = np.random.randint(0,10,size =10)\n",
    "print(\"Random integers:\",rand_ints)"
   ]
  },
  {
   "cell_type": "code",
   "execution_count": 93,
   "id": "f595e104-0ba7-43d7-af52-c04983fe5289",
   "metadata": {},
   "outputs": [
    {
     "name": "stdout",
     "output_type": "stream",
     "text": [
      "Random integers: [5 0 3 3 7 9 3 5 2 4]\n"
     ]
    }
   ],
   "source": [
    "np.random.seed(0)\n",
    "rand_ints = np.random.randint(0,10,size =10)\n",
    "print(\"Random integers:\",rand_ints)"
   ]
  },
  {
   "cell_type": "markdown",
   "id": "d3f273bf-e994-457b-bdb8-4916db912178",
   "metadata": {},
   "source": [
    "# 7. Boolean & Logical Functions"
   ]
  },
  {
   "cell_type": "code",
   "execution_count": 101,
   "id": "fde268af-948a-43bd-8060-9d937b9e7c4c",
   "metadata": {},
   "outputs": [
    {
     "name": "stdout",
     "output_type": "stream",
     "text": [
      "Is All elements are True?: False\n"
     ]
    }
   ],
   "source": [
    "# Check if all elements are True\n",
    "logical_test = np.array([True,False,False,True])\n",
    "all_true = np.all(logical_test)\n",
    "print(\"Is All elements are True?:\",all_true)"
   ]
  },
  {
   "cell_type": "code",
   "execution_count": 97,
   "id": "4099bd56-b12f-4018-9815-b5c752d1150e",
   "metadata": {},
   "outputs": [
    {
     "name": "stdout",
     "output_type": "stream",
     "text": [
      "True\n"
     ]
    }
   ],
   "source": [
    "logical_test = np.array([1,1,1,1,1])\n",
    "all_true = np.all(logical_test)\n",
    "print(all_true)"
   ]
  },
  {
   "cell_type": "code",
   "execution_count": 102,
   "id": "ecb8c90d-f949-45f6-bf45-960a9b7e9181",
   "metadata": {},
   "outputs": [
    {
     "name": "stdout",
     "output_type": "stream",
     "text": [
      "False\n"
     ]
    }
   ],
   "source": [
    "logical_test = np.array([0,0,0,0])\n",
    "all_true = np.all(logical_test)\n",
    "print(all_true)"
   ]
  },
  {
   "cell_type": "code",
   "execution_count": 105,
   "id": "3a96c168-0478-492d-8062-b9809459e46e",
   "metadata": {},
   "outputs": [
    {
     "name": "stdout",
     "output_type": "stream",
     "text": [
      "True\n"
     ]
    }
   ],
   "source": [
    "# Check if any elements is True\n",
    "\n",
    "logical_test = np.array([False,True,True,False])\n",
    "any_true = np.any(logical_test)\n",
    "print(any_true)"
   ]
  },
  {
   "cell_type": "markdown",
   "id": "ab46966e-3a4e-446a-8072-aa2bb4f43c8f",
   "metadata": {},
   "source": [
    "# Set Operations"
   ]
  },
  {
   "cell_type": "code",
   "execution_count": 108,
   "id": "8621ce32-ffc8-44bc-8646-62b01416c485",
   "metadata": {},
   "outputs": [
    {
     "name": "stdout",
     "output_type": "stream",
     "text": [
      "Intersection of a and b: [4 5]\n"
     ]
    }
   ],
   "source": [
    "# Intersection of two arrays\n",
    "seta = np.array([1,2,3,4,5])\n",
    "setb = np.array([4,5,6,7,8])\n",
    "intersection = np.intersect1d(seta,setb)\n",
    "print(\"Intersection of a and b:\", intersection) # It will returns the same elements from the 2 set"
   ]
  },
  {
   "cell_type": "code",
   "execution_count": 109,
   "id": "e6482341-a815-4380-82ab-8da47e1e11fa",
   "metadata": {},
   "outputs": [
    {
     "name": "stdout",
     "output_type": "stream",
     "text": [
      "Intersection of a and b: [1 2 3 4 5 6 7 8]\n"
     ]
    }
   ],
   "source": [
    "# Union of two arrays\n",
    "seta = np.array([1,2,3,4,5])\n",
    "setb = np.array([4,5,6,7,8])\n",
    "Union = np.union1d(seta,setb)\n",
    "print(\"Intersection of a and b:\", Union)"
   ]
  },
  {
   "cell_type": "markdown",
   "id": "cd323890-e6d8-4687-aa03-9cb5dac8f2cb",
   "metadata": {},
   "source": [
    "# 9. Array Attribute Functions"
   ]
  },
  {
   "cell_type": "code",
   "execution_count": 114,
   "id": "9c31134d-41f6-47eb-b994-7bf127f24425",
   "metadata": {},
   "outputs": [
    {
     "name": "stdout",
     "output_type": "stream",
     "text": [
      "Shape of a: (3,)\n",
      "Size of a: 3\n",
      "dimensions of a: 1\n",
      "type of a: int32\n"
     ]
    }
   ],
   "source": [
    "# Array atributes\n",
    "a = np.array([1,2,3])\n",
    "shape = a.shape\n",
    "size = a.size\n",
    "dimensions = a.ndim\n",
    "dtype = a.dtype\n",
    "\n",
    "print(\"Shape of a:\",shape)\n",
    "print(\"Size of a:\",size)\n",
    "print(\"dimensions of a:\",dimensions)\n",
    "print(\"type of a:\",dtype)"
   ]
  },
  {
   "cell_type": "markdown",
   "id": "89e213d1-6fe0-4f5f-8128-e364e1bfcb38",
   "metadata": {},
   "source": [
    "# 10. Other Functions"
   ]
  },
  {
   "cell_type": "code",
   "execution_count": 115,
   "id": "f2e33407-d05e-4473-a045-5755351243bc",
   "metadata": {},
   "outputs": [
    {
     "name": "stdout",
     "output_type": "stream",
     "text": [
      "Coppied array: [1 2 3 4]\n"
     ]
    }
   ],
   "source": [
    "# Create a copy of an array\n",
    "a = np.array([1,2,3,4])\n",
    "copy_arr = np.copy(a)\n",
    "print(\"Coppied array:\",copy_arr)"
   ]
  },
  {
   "cell_type": "code",
   "execution_count": 116,
   "id": "3313f636-ca88-4772-a588-6511ab3a1313",
   "metadata": {},
   "outputs": [
    {
     "data": {
      "text/plain": [
       "array([1, 2, 3, 4])"
      ]
     },
     "execution_count": 116,
     "metadata": {},
     "output_type": "execute_result"
    }
   ],
   "source": [
    "copy_arr"
   ]
  },
  {
   "cell_type": "code",
   "execution_count": 118,
   "id": "f3d35823-1f9e-469d-bba6-51c97e057b8e",
   "metadata": {},
   "outputs": [
    {
     "name": "stdout",
     "output_type": "stream",
     "text": [
      "16\n"
     ]
    }
   ],
   "source": [
    "# Size in bytes of an array\n",
    "array_size_in_bytes = a.nbytes\n",
    "print(array_size_in_bytes)"
   ]
  },
  {
   "cell_type": "code",
   "execution_count": 119,
   "id": "e22b15a0-60ef-4939-87f3-eeafdec5eeaa",
   "metadata": {},
   "outputs": [
    {
     "name": "stdout",
     "output_type": "stream",
     "text": [
      "False\n"
     ]
    }
   ],
   "source": [
    "# Check if two arrays share memory\n",
    "shared = np.shares_memory(a,copy_arr)\n",
    "print(shared)"
   ]
  },
  {
   "cell_type": "code",
   "execution_count": null,
   "id": "39884a67-8ca2-40e1-a5c4-5ea02800c0bd",
   "metadata": {},
   "outputs": [],
   "source": []
  },
  {
   "cell_type": "code",
   "execution_count": null,
   "id": "af3bac7f-e08d-4657-b1c9-75d77a05303c",
   "metadata": {},
   "outputs": [],
   "source": []
  }
 ],
 "metadata": {
  "kernelspec": {
   "display_name": "Python 3 (ipykernel)",
   "language": "python",
   "name": "python3"
  },
  "language_info": {
   "codemirror_mode": {
    "name": "ipython",
    "version": 3
   },
   "file_extension": ".py",
   "mimetype": "text/x-python",
   "name": "python",
   "nbconvert_exporter": "python",
   "pygments_lexer": "ipython3",
   "version": "3.11.5"
  }
 },
 "nbformat": 4,
 "nbformat_minor": 5
}
